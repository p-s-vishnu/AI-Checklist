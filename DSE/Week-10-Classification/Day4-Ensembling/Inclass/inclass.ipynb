{
 "cells": [
  {
   "cell_type": "code",
   "execution_count": 1,
   "metadata": {},
   "outputs": [],
   "source": [
    "import numpy as np \n",
    "import pandas as pd \n",
    "import matplotlib.pyplot as plt\n",
    "import seaborn as sns\n",
    "%matplotlib inline\n",
    "import warnings\n",
    "warnings.filterwarnings(\"ignore\")"
   ]
  },
  {
   "cell_type": "code",
   "execution_count": 11,
   "metadata": {},
   "outputs": [],
   "source": [
    "import pandas_profiling as pp\n",
    "# pd.set_option(\"\"display.height\"\", 10)\n",
    "pd.set_option('display.max_rows', 100000)\n",
    "# pd.set_option(\"\"display.max_columns\"\", 500)\n",
    "# pd.set_option(\"\"display.width\"\", 1000)"
   ]
  },
  {
   "cell_type": "code",
   "execution_count": 12,
   "metadata": {},
   "outputs": [
    {
     "data": {
      "text/plain": [
       "(9557, 143)"
      ]
     },
     "execution_count": 12,
     "metadata": {},
     "output_type": "execute_result"
    }
   ],
   "source": [
    "df = pd.read_csv('data1.csv')\n",
    "df.shape"
   ]
  },
  {
   "cell_type": "code",
   "execution_count": 29,
   "metadata": {},
   "outputs": [
    {
     "data": {
      "text/plain": [
       "['rez_esc', 'v18q1', 'v2a1']"
      ]
     },
     "execution_count": 29,
     "metadata": {},
     "output_type": "execute_result"
    }
   ],
   "source": [
    "null_list = df.isna().sum().sort_values(ascending=False)\n",
    "drop_cols = null_list[:3].index.tolist()\n",
    "drop_cols"
   ]
  },
  {
   "cell_type": "code",
   "execution_count": 36,
   "metadata": {},
   "outputs": [],
   "source": [
    "df.drop(columns=drop_cols + ['Id'],inplace=True)"
   ]
  },
  {
   "cell_type": "code",
   "execution_count": 40,
   "metadata": {},
   "outputs": [
    {
     "data": {
      "text/plain": [
       "hacdor               int64\n",
       "hogar_total          int64\n",
       "hogar_mayor          int64\n",
       "hogar_adul           int64\n",
       "hogar_nin            int64\n",
       "parentesco12         int64\n",
       "parentesco11         int64\n",
       "parentesco10         int64\n",
       "parentesco9          int64\n",
       "parentesco8          int64\n",
       "parentesco7          int64\n",
       "parentesco6          int64\n",
       "parentesco5          int64\n",
       "parentesco4          int64\n",
       "instlevel1           int64\n",
       "parentesco3          int64\n",
       "parentesco1          int64\n",
       "estadocivil7         int64\n",
       "estadocivil6         int64\n",
       "estadocivil5         int64\n",
       "estadocivil4         int64\n",
       "estadocivil3         int64\n",
       "estadocivil2         int64\n",
       "estadocivil1         int64\n",
       "female               int64\n",
       "male                 int64\n",
       "agesq                int64\n",
       "eviv3                int64\n",
       "eviv2                int64\n",
       "parentesco2          int64\n",
       "instlevel2           int64\n",
       "instlevel3           int64\n",
       "instlevel4           int64\n",
       "SQBhogar_nin         int64\n",
       "SQBedjefe            int64\n",
       "SQBhogar_total       int64\n",
       "SQBage               int64\n",
       "SQBescolari          int64\n",
       "age                  int64\n",
       "area2                int64\n",
       "area1                int64\n",
       "lugar6               int64\n",
       "lugar5               int64\n",
       "lugar4               int64\n",
       "lugar3               int64\n",
       "lugar2               int64\n",
       "lugar1               int64\n",
       "qmobilephone         int64\n",
       "mobilephone          int64\n",
       "television           int64\n",
       "computer             int64\n",
       "tipovivi5            int64\n",
       "tipovivi4            int64\n",
       "tipovivi3            int64\n",
       "tipovivi2            int64\n",
       "tipovivi1            int64\n",
       "bedrooms             int64\n",
       "instlevel9           int64\n",
       "instlevel8           int64\n",
       "instlevel7           int64\n",
       "instlevel6           int64\n",
       "instlevel5           int64\n",
       "eviv1                int64\n",
       "etecho3              int64\n",
       "dis                  int64\n",
       "etecho1              int64\n",
       "pisonotiene          int64\n",
       "pisonatur            int64\n",
       "pisoother            int64\n",
       "pisocemento          int64\n",
       "pisomoscer           int64\n",
       "paredother           int64\n",
       "paredfibras          int64\n",
       "paredzinc            int64\n",
       "paredmad             int64\n",
       "pareddes             int64\n",
       "paredpreb            int64\n",
       "paredzocalo          int64\n",
       "paredblolad          int64\n",
       "hhsize               int64\n",
       "escolari             int64\n",
       "tamviv               int64\n",
       "tamhog               int64\n",
       "rooms                int64\n",
       "hacapo               int64\n",
       "v14a                 int64\n",
       "refrig               int64\n",
       "v18q                 int64\n",
       "r4h1                 int64\n",
       "etecho2              int64\n",
       "r4h2                 int64\n",
       "r4m1                 int64\n",
       "r4m2                 int64\n",
       "r4m3                 int64\n",
       "r4t1                 int64\n",
       "r4t2                 int64\n",
       "r4t3                 int64\n",
       "r4h3                 int64\n",
       "techozinc            int64\n",
       "pisomadera           int64\n",
       "sanitario5           int64\n",
       "sanitario6           int64\n",
       "energcocinar1        int64\n",
       "energcocinar2        int64\n",
       "energcocinar3        int64\n",
       "energcocinar4        int64\n",
       "elimbasu1            int64\n",
       "sanitario3           int64\n",
       "elimbasu2            int64\n",
       "elimbasu4            int64\n",
       "elimbasu5            int64\n",
       "elimbasu6            int64\n",
       "epared1              int64\n",
       "epared2              int64\n",
       "epared3              int64\n",
       "elimbasu3            int64\n",
       "sanitario2           int64\n",
       "Target               int64\n",
       "coopele              int64\n",
       "techoentrepiso       int64\n",
       "techocane            int64\n",
       "techootro            int64\n",
       "sanitario1           int64\n",
       "abastaguadentro      int64\n",
       "abastaguafuera       int64\n",
       "cielorazo            int64\n",
       "abastaguano          int64\n",
       "public               int64\n",
       "planpri              int64\n",
       "noelec               int64\n",
       "meaneduc           float64\n",
       "SQBovercrowding    float64\n",
       "SQBdependency      float64\n",
       "SQBmeaned          float64\n",
       "overcrowding       float64\n",
       "idhogar             object\n",
       "dependency          object\n",
       "edjefe              object\n",
       "edjefa              object\n",
       "dtype: object"
      ]
     },
     "execution_count": 40,
     "metadata": {},
     "output_type": "execute_result"
    }
   ],
   "source": [
    "df.dtypes.sort_values()"
   ]
  },
  {
   "cell_type": "code",
   "execution_count": 42,
   "metadata": {},
   "outputs": [
    {
     "data": {
      "text/plain": [
       "Index(['idhogar', 'dependency', 'edjefe', 'edjefa'], dtype='object')"
      ]
     },
     "execution_count": 42,
     "metadata": {},
     "output_type": "execute_result"
    }
   ],
   "source": [
    "cat_cols = df.select_dtypes(include='object').columns\n",
    "cat_cols"
   ]
  },
  {
   "cell_type": "code",
   "execution_count": null,
   "metadata": {},
   "outputs": [],
   "source": []
  }
 ],
 "metadata": {
  "kernelspec": {
   "display_name": "Python 3",
   "language": "python",
   "name": "python3"
  },
  "language_info": {
   "codemirror_mode": {
    "name": "ipython",
    "version": 3
   },
   "file_extension": ".py",
   "mimetype": "text/x-python",
   "name": "python",
   "nbconvert_exporter": "python",
   "pygments_lexer": "ipython3",
   "version": "3.7.0"
  },
  "toc": {
   "base_numbering": 1,
   "nav_menu": {},
   "number_sections": true,
   "sideBar": true,
   "skip_h1_title": false,
   "title_cell": "Table of Contents",
   "title_sidebar": "Contents",
   "toc_cell": false,
   "toc_position": {},
   "toc_section_display": true,
   "toc_window_display": true
  }
 },
 "nbformat": 4,
 "nbformat_minor": 2
}
