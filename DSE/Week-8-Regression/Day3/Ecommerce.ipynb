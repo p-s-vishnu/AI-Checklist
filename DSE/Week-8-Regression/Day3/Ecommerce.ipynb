{
 "cells": [
  {
   "cell_type": "markdown",
   "metadata": {
    "toc": true
   },
   "source": [
    "<h1>Table of Contents<span class=\"tocSkip\"></span></h1>\n",
    "<div class=\"toc\"><ul class=\"toc-item\"><li><span><a href=\"#Import-libraries-and-load-data\" data-toc-modified-id=\"Import-libraries-and-load-data-1\"><span class=\"toc-item-num\">1&nbsp;&nbsp;</span>Import libraries and load data</a></span></li><li><span><a href=\"#Objective\" data-toc-modified-id=\"Objective-2\"><span class=\"toc-item-num\">2&nbsp;&nbsp;</span>Objective</a></span></li><li><span><a href=\"#EDA\" data-toc-modified-id=\"EDA-3\"><span class=\"toc-item-num\">3&nbsp;&nbsp;</span>EDA</a></span><ul class=\"toc-item\"><li><span><a href=\"#Dependent-variable\" data-toc-modified-id=\"Dependent-variable-3.1\"><span class=\"toc-item-num\">3.1&nbsp;&nbsp;</span>Dependent variable</a></span></li><li><span><a href=\"#Independent-variables\" data-toc-modified-id=\"Independent-variables-3.2\"><span class=\"toc-item-num\">3.2&nbsp;&nbsp;</span>Independent variables</a></span><ul class=\"toc-item\"><li><span><a href=\"#Drop-insignificant-variable\" data-toc-modified-id=\"Drop-insignificant-variable-3.2.1\"><span class=\"toc-item-num\">3.2.1&nbsp;&nbsp;</span>Drop insignificant variable</a></span></li><li><span><a href=\"#Add-dummy-variable\" data-toc-modified-id=\"Add-dummy-variable-3.2.2\"><span class=\"toc-item-num\">3.2.2&nbsp;&nbsp;</span>Add dummy variable</a></span></li></ul></li></ul></li><li><span><a href=\"#Modeling\" data-toc-modified-id=\"Modeling-4\"><span class=\"toc-item-num\">4&nbsp;&nbsp;</span>Modeling</a></span><ul class=\"toc-item\"><li><span><a href=\"#OLS-:-Linear-regression-(Statistics)\" data-toc-modified-id=\"OLS-:-Linear-regression-(Statistics)-4.1\"><span class=\"toc-item-num\">4.1&nbsp;&nbsp;</span>OLS : Linear regression (Statistics)</a></span><ul class=\"toc-item\"><li><span><a href=\"#VIF\" data-toc-modified-id=\"VIF-4.1.1\"><span class=\"toc-item-num\">4.1.1&nbsp;&nbsp;</span>VIF</a></span></li></ul></li><li><span><a href=\"#Linear-regression-(ML)\" data-toc-modified-id=\"Linear-regression-(ML)-4.2\"><span class=\"toc-item-num\">4.2&nbsp;&nbsp;</span>Linear regression (ML)</a></span></li></ul></li></ul></div>"
   ]
  },
  {
   "cell_type": "markdown",
   "metadata": {
    "heading_collapsed": true
   },
   "source": [
    "# Import libraries and load data"
   ]
  },
  {
   "cell_type": "code",
   "execution_count": 50,
   "metadata": {
    "hidden": true
   },
   "outputs": [],
   "source": [
    "import pandas as pd\n",
    "import numpy as np\n",
    "import seaborn as sns\n",
    "import matplotlib.pyplot as plt"
   ]
  },
  {
   "cell_type": "code",
   "execution_count": 51,
   "metadata": {
    "hidden": true
   },
   "outputs": [],
   "source": [
    "df = pd.read_csv('./Ecommerce Customers.csv')"
   ]
  },
  {
   "cell_type": "markdown",
   "metadata": {
    "heading_collapsed": true
   },
   "source": [
    "# Objective"
   ]
  },
  {
   "cell_type": "markdown",
   "metadata": {
    "hidden": true
   },
   "source": [
    "Predict `Yearly amount spent`"
   ]
  },
  {
   "cell_type": "markdown",
   "metadata": {},
   "source": [
    "# EDA"
   ]
  },
  {
   "cell_type": "code",
   "execution_count": 52,
   "metadata": {},
   "outputs": [
    {
     "data": {
      "text/plain": [
       "Index(['Email', 'Address', 'Avatar', 'Avg. Session Length', 'Time on App',\n",
       "       'Time on Website', 'Length of Membership', 'Yearly Amount Spent'],\n",
       "      dtype='object')"
      ]
     },
     "execution_count": 52,
     "metadata": {},
     "output_type": "execute_result"
    }
   ],
   "source": [
    "df.columns"
   ]
  },
  {
   "cell_type": "markdown",
   "metadata": {
    "heading_collapsed": true
   },
   "source": [
    "## Dependent variable "
   ]
  },
  {
   "cell_type": "code",
   "execution_count": 53,
   "metadata": {
    "hidden": true
   },
   "outputs": [
    {
     "data": {
      "image/png": "[encoded data removed]",
      "text/plain": [
       "<Figure size 432x288 with 1 Axes>"
      ]
     },
     "metadata": {
      "needs_background": "light"
     },
     "output_type": "display_data"
    }
   ],
   "source": [
    "# Yearly Amount Spent\n",
    "ax = sns.kdeplot(df['Yearly Amount Spent'],shade=True)"
   ]
  },
  {
   "cell_type": "markdown",
   "metadata": {},
   "source": [
    "## Independent variables"
   ]
  },
  {
   "cell_type": "code",
   "execution_count": 54,
   "metadata": {},
   "outputs": [
    {
     "data": {
      "text/plain": [
       "Index(['Email', 'Address', 'Avatar', 'Avg. Session Length', 'Time on App',\n",
       "       'Time on Website', 'Length of Membership', 'Yearly Amount Spent'],\n",
       "      dtype='object')"
      ]
     },
     "execution_count": 54,
     "metadata": {},
     "output_type": "execute_result"
    }
   ],
   "source": [
    "df.columns"
   ]
  },
  {
   "cell_type": "code",
   "execution_count": 55,
   "metadata": {},
   "outputs": [
    {
     "data": {
      "text/plain": [
       "Other      250\n",
       "gmail       87\n",
       "hotmail     87\n",
       "yahoo       76\n",
       "Name: domain, dtype: int64"
      ]
     },
     "execution_count": 55,
     "metadata": {},
     "output_type": "execute_result"
    }
   ],
   "source": [
    "df['domain'] = df['Email'].apply(lambda x: x.split('@')[1][:-4])\n",
    "top_3 = df['domain'].value_counts().nlargest(3).index\n",
    "df['domain'] = np.where(df['domain'].isin(top_3),df['domain'],'Other')\n",
    "df['domain'].value_counts().sort_index()"
   ]
  },
  {
   "cell_type": "markdown",
   "metadata": {
    "heading_collapsed": true
   },
   "source": [
    "### Drop insignificant variable"
   ]
  },
  {
   "cell_type": "code",
   "execution_count": 56,
   "metadata": {
    "hidden": true
   },
   "outputs": [],
   "source": [
    "# drop email and address now\n",
    "df.drop(columns=['Email','Address','Avatar'],inplace=True)"
   ]
  },
  {
   "cell_type": "code",
   "execution_count": 57,
   "metadata": {
    "hidden": true
   },
   "outputs": [
    {
     "data": {
      "text/plain": [
       "Index(['Avg. Session Length', 'Time on App', 'Time on Website',\n",
       "       'Length of Membership', 'Yearly Amount Spent', 'domain'],\n",
       "      dtype='object')"
      ]
     },
     "execution_count": 57,
     "metadata": {},
     "output_type": "execute_result"
    }
   ],
   "source": [
    "df.columns"
   ]
  },
  {
   "cell_type": "markdown",
   "metadata": {
    "heading_collapsed": true
   },
   "source": [
    "### Add dummy variable "
   ]
  },
  {
   "cell_type": "code",
   "execution_count": 58,
   "metadata": {
    "hidden": true
   },
   "outputs": [],
   "source": [
    "df = pd.get_dummies(data=df,columns=['domain'],drop_first=True)"
   ]
  },
  {
   "cell_type": "code",
   "execution_count": 85,
   "metadata": {
    "hidden": true
   },
   "outputs": [
    {
     "data": {
      "text/plain": [
       "<matplotlib.axes._subplots.AxesSubplot at 0x17b61190>"
      ]
     },
     "execution_count": 85,
     "metadata": {},
     "output_type": "execute_result"
    },
    {
     "data": {
      "image/png": "[encoded data removed]",
      "text/plain": [
       "<Figure size 432x288 with 2 Axes>"
      ]
     },
     "metadata": {
      "needs_background": "light"
     },
     "output_type": "display_data"
    }
   ],
   "source": [
    "sns.heatmap(df.corr(),cmap='coolwarm')"
   ]
  },
  {
   "cell_type": "markdown",
   "metadata": {},
   "source": [
    "# Modeling "
   ]
  },
  {
   "cell_type": "markdown",
   "metadata": {},
   "source": [
    "## OLS : Linear regression (Statistics)"
   ]
  },
  {
   "cell_type": "code",
   "execution_count": 59,
   "metadata": {},
   "outputs": [
    {
     "data": {
      "text/plain": [
       "Index(['Avg. Session Length', 'Time on App', 'Time on Website',\n",
       "       'Length of Membership', 'Yearly Amount Spent', 'domain_gmail',\n",
       "       'domain_hotmail', 'domain_yahoo'],\n",
       "      dtype='object')"
      ]
     },
     "execution_count": 59,
     "metadata": {},
     "output_type": "execute_result"
    }
   ],
   "source": [
    "df.columns"
   ]
  },
  {
   "cell_type": "code",
   "execution_count": 66,
   "metadata": {},
   "outputs": [],
   "source": [
    "from sklearn.model_selection import train_test_split\n",
    "import statsmodels.api as sm\n",
    "from statsmodels.stats.outliers_influence import variance_inflation_factor"
   ]
  },
  {
   "cell_type": "code",
   "execution_count": 74,
   "metadata": {},
   "outputs": [
    {
     "data": {
      "text/plain": [
       "Index(['Avg. Session Length', 'Time on App', 'Time on Website',\n",
       "       'Length of Membership', 'domain_gmail', 'domain_hotmail',\n",
       "       'domain_yahoo'],\n",
       "      dtype='object')"
      ]
     },
     "execution_count": 74,
     "metadata": {},
     "output_type": "execute_result"
    }
   ],
   "source": [
    "X.columns"
   ]
  },
  {
   "cell_type": "code",
   "execution_count": 86,
   "metadata": {},
   "outputs": [],
   "source": [
    "X = df.drop(columns=['Yearly Amount Spent','domain_gmail','domain_hotmail','domain_yahoo'])\n",
    "y = df['Yearly Amount Spent']"
   ]
  },
  {
   "cell_type": "code",
   "execution_count": 93,
   "metadata": {},
   "outputs": [],
   "source": [
    "# Xc = sm.add_constant(X)\n",
    "X_train,X_test,y_train,y_test = train_test_split(X,y,train_size=0.33,random_state=42)"
   ]
  },
  {
   "cell_type": "code",
   "execution_count": 94,
   "metadata": {
    "scrolled": true
   },
   "outputs": [
    {
     "data": {
      "text/html": [
       "<table class=\"simpletable\">\n",
       "<caption>OLS Regression Results</caption>\n",
       "<tr>\n",
       "  <th>Dep. Variable:</th>    <td>Yearly Amount Spent</td> <th>  R-squared (uncentered):</th>      <td>   0.998</td> \n",
       "</tr>\n",
       "<tr>\n",
       "  <th>Model:</th>                    <td>OLS</td>         <th>  Adj. R-squared (uncentered):</th> <td>   0.998</td> \n",
       "</tr>\n",
       "<tr>\n",
       "  <th>Method:</th>              <td>Least Squares</td>    <th>  F-statistic:       </th>          <td>1.936e+04</td>\n",
       "</tr>\n",
       "<tr>\n",
       "  <th>Date:</th>              <td>Thu, 10 Oct 2019</td>   <th>  Prob (F-statistic):</th>          <td>8.50e-215</td>\n",
       "</tr>\n",
       "<tr>\n",
       "  <th>Time:</th>                  <td>15:16:56</td>       <th>  Log-Likelihood:    </th>          <td> -752.53</td> \n",
       "</tr>\n",
       "<tr>\n",
       "  <th>No. Observations:</th>       <td>   165</td>        <th>  AIC:               </th>          <td>   1513.</td> \n",
       "</tr>\n",
       "<tr>\n",
       "  <th>Df Residuals:</th>           <td>   161</td>        <th>  BIC:               </th>          <td>   1525.</td> \n",
       "</tr>\n",
       "<tr>\n",
       "  <th>Df Model:</th>               <td>     4</td>        <th>                     </th>              <td> </td>    \n",
       "</tr>\n",
       "<tr>\n",
       "  <th>Covariance Type:</th>       <td>nonrobust</td>      <th>                     </th>              <td> </td>    \n",
       "</tr>\n",
       "</table>\n",
       "<table class=\"simpletable\">\n",
       "<tr>\n",
       "            <td></td>              <th>coef</th>     <th>std err</th>      <th>t</th>      <th>P>|t|</th>  <th>[0.025</th>    <th>0.975]</th>  \n",
       "</tr>\n",
       "<tr>\n",
       "  <th>Avg. Session Length</th>  <td>   10.6329</td> <td>    1.423</td> <td>    7.473</td> <td> 0.000</td> <td>    7.823</td> <td>   13.443</td>\n",
       "</tr>\n",
       "<tr>\n",
       "  <th>Time on App</th>          <td>   34.8549</td> <td>    1.821</td> <td>   19.143</td> <td> 0.000</td> <td>   31.259</td> <td>   38.450</td>\n",
       "</tr>\n",
       "<tr>\n",
       "  <th>Time on Website</th>      <td>  -13.1290</td> <td>    1.354</td> <td>   -9.698</td> <td> 0.000</td> <td>  -15.803</td> <td>  -10.455</td>\n",
       "</tr>\n",
       "<tr>\n",
       "  <th>Length of Membership</th> <td>   60.7237</td> <td>    1.871</td> <td>   32.458</td> <td> 0.000</td> <td>   57.029</td> <td>   64.418</td>\n",
       "</tr>\n",
       "</table>\n",
       "<table class=\"simpletable\">\n",
       "<tr>\n",
       "  <th>Omnibus:</th>       <td> 0.890</td> <th>  Durbin-Watson:     </th> <td>   2.234</td>\n",
       "</tr>\n",
       "<tr>\n",
       "  <th>Prob(Omnibus):</th> <td> 0.641</td> <th>  Jarque-Bera (JB):  </th> <td>   0.915</td>\n",
       "</tr>\n",
       "<tr>\n",
       "  <th>Skew:</th>          <td> 0.021</td> <th>  Prob(JB):          </th> <td>   0.633</td>\n",
       "</tr>\n",
       "<tr>\n",
       "  <th>Kurtosis:</th>      <td> 2.638</td> <th>  Cond. No.          </th> <td>    55.7</td>\n",
       "</tr>\n",
       "</table><br/><br/>Warnings:<br/>[1] Standard Errors assume that the covariance matrix of the errors is correctly specified."
      ],
      "text/plain": [
       "<class 'statsmodels.iolib.summary.Summary'>\n",
       "\"\"\"\n",
       "                                 OLS Regression Results                                 \n",
       "========================================================================================\n",
       "Dep. Variable:     Yearly Amount Spent   R-squared (uncentered):                   0.998\n",
       "Model:                             OLS   Adj. R-squared (uncentered):              0.998\n",
       "Method:                  Least Squares   F-statistic:                          1.936e+04\n",
       "Date:                 Thu, 10 Oct 2019   Prob (F-statistic):                   8.50e-215\n",
       "Time:                         15:16:56   Log-Likelihood:                         -752.53\n",
       "No. Observations:                  165   AIC:                                      1513.\n",
       "Df Residuals:                      161   BIC:                                      1525.\n",
       "Df Model:                            4                                                  \n",
       "Covariance Type:             nonrobust                                                  \n",
       "========================================================================================\n",
       "                           coef    std err          t      P>|t|      [0.025      0.975]\n",
       "----------------------------------------------------------------------------------------\n",
       "Avg. Session Length     10.6329      1.423      7.473      0.000       7.823      13.443\n",
       "Time on App             34.8549      1.821     19.143      0.000      31.259      38.450\n",
       "Time on Website        -13.1290      1.354     -9.698      0.000     -15.803     -10.455\n",
       "Length of Membership    60.7237      1.871     32.458      0.000      57.029      64.418\n",
       "==============================================================================\n",
       "Omnibus:                        0.890   Durbin-Watson:                   2.234\n",
       "Prob(Omnibus):                  0.641   Jarque-Bera (JB):                0.915\n",
       "Skew:                           0.021   Prob(JB):                        0.633\n",
       "Kurtosis:                       2.638   Cond. No.                         55.7\n",
       "==============================================================================\n",
       "\n",
       "Warnings:\n",
       "[1] Standard Errors assume that the covariance matrix of the errors is correctly specified.\n",
       "\"\"\""
      ]
     },
     "execution_count": 94,
     "metadata": {},
     "output_type": "execute_result"
    }
   ],
   "source": [
    "lin_reg = sm.OLS(y_train,X_train).fit()\n",
    "lin_reg.summary()"
   ]
  },
  {
   "cell_type": "markdown",
   "metadata": {},
   "source": [
    "### VIF"
   ]
  },
  {
   "cell_type": "code",
   "execution_count": 95,
   "metadata": {},
   "outputs": [
    {
     "data": {
      "text/html": [
       "<div>\n",
       "<style scoped>\n",
       "    .dataframe tbody tr th:only-of-type {\n",
       "        vertical-align: middle;\n",
       "    }\n",
       "\n",
       "    .dataframe tbody tr th {\n",
       "        vertical-align: top;\n",
       "    }\n",
       "\n",
       "    .dataframe thead th {\n",
       "        text-align: right;\n",
       "    }\n",
       "</style>\n",
       "<table border=\"1\" class=\"dataframe\">\n",
       "  <thead>\n",
       "    <tr style=\"text-align: right;\">\n",
       "      <th></th>\n",
       "      <th>vif</th>\n",
       "    </tr>\n",
       "  </thead>\n",
       "  <tbody>\n",
       "    <tr>\n",
       "      <td>Avg. Session Length</td>\n",
       "      <td>667.465394</td>\n",
       "    </tr>\n",
       "    <tr>\n",
       "      <td>Time on App</td>\n",
       "      <td>144.563561</td>\n",
       "    </tr>\n",
       "    <tr>\n",
       "      <td>Time on Website</td>\n",
       "      <td>752.745816</td>\n",
       "    </tr>\n",
       "    <tr>\n",
       "      <td>Length of Membership</td>\n",
       "      <td>14.489848</td>\n",
       "    </tr>\n",
       "  </tbody>\n",
       "</table>\n",
       "</div>"
      ],
      "text/plain": [
       "                             vif\n",
       "Avg. Session Length   667.465394\n",
       "Time on App           144.563561\n",
       "Time on Website       752.745816\n",
       "Length of Membership   14.489848"
      ]
     },
     "execution_count": 95,
     "metadata": {},
     "output_type": "execute_result"
    }
   ],
   "source": [
    "vif = [variance_inflation_factor(X_train.values,i) for i,_ in enumerate(X_train)]\n",
    "pd.DataFrame({'vif':vif},index=X_train.columns)"
   ]
  },
  {
   "cell_type": "markdown",
   "metadata": {},
   "source": [
    "## Linear regression (ML)"
   ]
  },
  {
   "cell_type": "code",
   "execution_count": 97,
   "metadata": {},
   "outputs": [
    {
     "data": {
      "text/plain": [
       "Index(['Avg. Session Length', 'Time on App', 'Time on Website',\n",
       "       'Length of Membership', 'Yearly Amount Spent', 'domain_gmail',\n",
       "       'domain_hotmail', 'domain_yahoo'],\n",
       "      dtype='object')"
      ]
     },
     "execution_count": 97,
     "metadata": {},
     "output_type": "execute_result"
    }
   ],
   "source": [
    "df.columns"
   ]
  },
  {
   "cell_type": "code",
   "execution_count": 103,
   "metadata": {},
   "outputs": [],
   "source": [
    "from sklearn.linear_model import LinearRegression\n",
    "from sklearn.feature_selection import RFE\n",
    "from sklearn.metrics import r2_score"
   ]
  },
  {
   "cell_type": "code",
   "execution_count": 102,
   "metadata": {},
   "outputs": [],
   "source": [
    "target = 'Yearly Amount Spent'\n",
    "X = df.drop(columns = [target])\n",
    "y = df[target]"
   ]
  },
  {
   "cell_type": "code",
   "execution_count": 99,
   "metadata": {},
   "outputs": [
    {
     "data": {
      "text/plain": [
       "((500, 7), (500,))"
      ]
     },
     "execution_count": 99,
     "metadata": {},
     "output_type": "execute_result"
    }
   ],
   "source": [
    "X.shape, y .shape"
   ]
  },
  {
   "cell_type": "code",
   "execution_count": 101,
   "metadata": {},
   "outputs": [],
   "source": [
    "X_train,X_test,y_train,y_test = train_test_split(X,y)"
   ]
  },
  {
   "cell_type": "code",
   "execution_count": 132,
   "metadata": {},
   "outputs": [
    {
     "data": {
      "image/png": "[encoded data removed]",
      "text/plain": [
       "<Figure size 432x288 with 1 Axes>"
      ]
     },
     "metadata": {
      "needs_background": "light"
     },
     "output_type": "display_data"
    }
   ],
   "source": [
    "lr = LinearRegression()\n",
    "n_features,scores = [],[]\n",
    "for i,_ in enumerate(X_train.columns,1):\n",
    "    rfe = RFE(lr,i)\n",
    "    rfe.fit(X_train,y_train)\n",
    "    y_pred = rfe.predict(X_test)\n",
    "    scores.append(r2_score(y_test,y_pred))\n",
    "    n_features.append(i)\n",
    "    \n",
    "plt.plot(n_features,scores)\n",
    "plt.xticks(range(1,8,1))\n",
    "plt.xlabel('Number of features')\n",
    "plt.ylabel('R2 score')\n",
    "plt.grid(True)\n",
    "plt.show()"
   ]
  },
  {
   "cell_type": "code",
   "execution_count": 134,
   "metadata": {},
   "outputs": [
    {
     "data": {
      "text/plain": [
       "0.9845189764565013"
      ]
     },
     "execution_count": 134,
     "metadata": {},
     "output_type": "execute_result"
    }
   ],
   "source": [
    "rfe = RFE(lr,3).fit(X_train,y_train)\n",
    "r2_score(y_test,rfe.predict(X_test))"
   ]
  },
  {
   "cell_type": "code",
   "execution_count": 129,
   "metadata": {},
   "outputs": [
    {
     "data": {
      "text/plain": [
       "array([1, 1, 5, 1, 4, 3, 2])"
      ]
     },
     "execution_count": 129,
     "metadata": {},
     "output_type": "execute_result"
    }
   ],
   "source": [
    "rfe.ranking_"
   ]
  }
 ],
 "metadata": {
  "kernelspec": {
   "display_name": "Python 3",
   "language": "python",
   "name": "python3"
  },
  "language_info": {
   "codemirror_mode": {
    "name": "ipython",
    "version": 3
   },
   "file_extension": ".py",
   "mimetype": "text/x-python",
   "name": "python",
   "nbconvert_exporter": "python",
   "pygments_lexer": "ipython3",
   "version": "3.7.0"
  },
  "latex_envs": {
   "LaTeX_envs_menu_present": true,
   "autoclose": false,
   "autocomplete": true,
   "bibliofile": "biblio.bib",
   "cite_by": "apalike",
   "current_citInitial": 1,
   "eqLabelWithNumbers": true,
   "eqNumInitial": 1,
   "hotkeys": {
    "equation": "Ctrl-E",
    "itemize": "Ctrl-I"
   },
   "labels_anchors": false,
   "latex_user_defs": false,
   "report_style_numbering": false,
   "user_envs_cfg": false
  },
  "toc": {
   "base_numbering": 1,
   "nav_menu": {},
   "number_sections": true,
   "sideBar": false,
   "skip_h1_title": false,
   "title_cell": "Table of Contents",
   "title_sidebar": "Contents",
   "toc_cell": true,
   "toc_position": {
    "height": "142.826px",
    "left": "1369.7px",
    "top": "110.573px",
    "width": "209.453px"
   },
   "toc_section_display": true,
   "toc_window_display": true
  }
 },
 "nbformat": 4,
 "nbformat_minor": 2
}
