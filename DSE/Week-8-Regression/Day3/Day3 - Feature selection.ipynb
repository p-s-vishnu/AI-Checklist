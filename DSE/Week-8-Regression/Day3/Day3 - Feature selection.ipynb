{
 "cells": [
  {
   "cell_type": "markdown",
   "metadata": {},
   "source": [
    "# Feature Selection"
   ]
  },
  {
   "cell_type": "code",
   "execution_count": 80,
   "metadata": {},
   "outputs": [],
   "source": [
    "import pandas as pd\n",
    "import numpy as np\n",
    "import matplotlib.pyplot as plt\n",
    "import seaborn as sns\n",
    "from warnings import filterwarnings\n",
    "\n",
    "from sklearn.linear_model import LinearRegression,Lasso\n",
    "from sklearn.feature_selection import RFE\n",
    "from sklearn.metrics import r2_score,mean_squared_error\n",
    "from sklearn.datasets import load_boston\n",
    "from sklearn.model_selection import KFold,cross_val_score,train_test_split\n",
    "\n",
    "filterwarnings('ignore')"
   ]
  },
  {
   "cell_type": "markdown",
   "metadata": {},
   "source": [
    "## Setting up"
   ]
  },
  {
   "cell_type": "code",
   "execution_count": 8,
   "metadata": {},
   "outputs": [
    {
     "data": {
      "text/plain": [
       "['DESCR', 'data', 'feature_names', 'filename', 'target']"
      ]
     },
     "execution_count": 8,
     "metadata": {},
     "output_type": "execute_result"
    }
   ],
   "source": [
    "boston = load_boston()\n",
    "dir(boston)"
   ]
  },
  {
   "cell_type": "code",
   "execution_count": 27,
   "metadata": {},
   "outputs": [],
   "source": [
    "X = pd.DataFrame(boston.data,columns=boston.feature_names)\n",
    "y = pd.DataFrame(boston.target,columns=['Price'])\n",
    "data = pd.concat((X,y),axis=1)"
   ]
  },
  {
   "cell_type": "code",
   "execution_count": 18,
   "metadata": {},
   "outputs": [
    {
     "data": {
      "text/plain": [
       "Index(['CRIM', 'ZN', 'INDUS', 'CHAS', 'NOX', 'RM', 'AGE', 'DIS', 'RAD', 'TAX',\n",
       "       'PTRATIO', 'B', 'LSTAT'],\n",
       "      dtype='object')"
      ]
     },
     "execution_count": 18,
     "metadata": {},
     "output_type": "execute_result"
    }
   ],
   "source": [
    "X.columns"
   ]
  },
  {
   "cell_type": "markdown",
   "metadata": {},
   "source": [
    "## 1. Using correlation "
   ]
  },
  {
   "cell_type": "code",
   "execution_count": 28,
   "metadata": {},
   "outputs": [
    {
     "data": {
      "text/plain": [
       "<matplotlib.axes._subplots.AxesSubplot at 0xe4940d0>"
      ]
     },
     "execution_count": 28,
     "metadata": {},
     "output_type": "execute_result"
    },
    {
     "data": {
      "image/png": "[encoded data removed]",
      "text/plain": [
       "<Figure size 432x288 with 2 Axes>"
      ]
     },
     "metadata": {
      "needs_background": "light"
     },
     "output_type": "display_data"
    }
   ],
   "source": [
    "cor = data.corr()\n",
    "sns.heatmap(cor)"
   ]
  },
  {
   "cell_type": "code",
   "execution_count": 30,
   "metadata": {},
   "outputs": [
    {
     "data": {
      "text/plain": [
       "CRIM      -0.388305\n",
       "ZN         0.360445\n",
       "INDUS     -0.483725\n",
       "CHAS       0.175260\n",
       "NOX       -0.427321\n",
       "RM         0.695360\n",
       "AGE       -0.376955\n",
       "DIS        0.249929\n",
       "RAD       -0.381626\n",
       "TAX       -0.468536\n",
       "PTRATIO   -0.507787\n",
       "B          0.333461\n",
       "LSTAT     -0.737663\n",
       "Price      1.000000\n",
       "Name: Price, dtype: float64"
      ]
     },
     "execution_count": 30,
     "metadata": {},
     "output_type": "execute_result"
    }
   ],
   "source": [
    "cor['Price']"
   ]
  },
  {
   "cell_type": "markdown",
   "metadata": {},
   "source": [
    "## 2. Recursive Feature Elimination"
   ]
  },
  {
   "cell_type": "code",
   "execution_count": 76,
   "metadata": {},
   "outputs": [
    {
     "data": {
      "text/html": [
       "<div>\n",
       "<style scoped>\n",
       "    .dataframe tbody tr th:only-of-type {\n",
       "        vertical-align: middle;\n",
       "    }\n",
       "\n",
       "    .dataframe tbody tr th {\n",
       "        vertical-align: top;\n",
       "    }\n",
       "\n",
       "    .dataframe thead th {\n",
       "        text-align: right;\n",
       "    }\n",
       "</style>\n",
       "<table border=\"1\" class=\"dataframe\">\n",
       "  <thead>\n",
       "    <tr style=\"text-align: right;\">\n",
       "      <th></th>\n",
       "      <th>Columns</th>\n",
       "      <th>Rankings</th>\n",
       "    </tr>\n",
       "  </thead>\n",
       "  <tbody>\n",
       "    <tr>\n",
       "      <td>0</td>\n",
       "      <td>CRIM</td>\n",
       "      <td>1</td>\n",
       "    </tr>\n",
       "    <tr>\n",
       "      <td>1</td>\n",
       "      <td>ZN</td>\n",
       "      <td>1</td>\n",
       "    </tr>\n",
       "    <tr>\n",
       "      <td>2</td>\n",
       "      <td>INDUS</td>\n",
       "      <td>1</td>\n",
       "    </tr>\n",
       "    <tr>\n",
       "      <td>3</td>\n",
       "      <td>CHAS</td>\n",
       "      <td>1</td>\n",
       "    </tr>\n",
       "    <tr>\n",
       "      <td>4</td>\n",
       "      <td>NOX</td>\n",
       "      <td>1</td>\n",
       "    </tr>\n",
       "    <tr>\n",
       "      <td>5</td>\n",
       "      <td>RM</td>\n",
       "      <td>1</td>\n",
       "    </tr>\n",
       "    <tr>\n",
       "      <td>6</td>\n",
       "      <td>AGE</td>\n",
       "      <td>4</td>\n",
       "    </tr>\n",
       "    <tr>\n",
       "      <td>7</td>\n",
       "      <td>DIS</td>\n",
       "      <td>1</td>\n",
       "    </tr>\n",
       "    <tr>\n",
       "      <td>8</td>\n",
       "      <td>RAD</td>\n",
       "      <td>1</td>\n",
       "    </tr>\n",
       "    <tr>\n",
       "      <td>9</td>\n",
       "      <td>TAX</td>\n",
       "      <td>2</td>\n",
       "    </tr>\n",
       "    <tr>\n",
       "      <td>10</td>\n",
       "      <td>PTRATIO</td>\n",
       "      <td>1</td>\n",
       "    </tr>\n",
       "    <tr>\n",
       "      <td>11</td>\n",
       "      <td>B</td>\n",
       "      <td>3</td>\n",
       "    </tr>\n",
       "    <tr>\n",
       "      <td>12</td>\n",
       "      <td>LSTAT</td>\n",
       "      <td>1</td>\n",
       "    </tr>\n",
       "  </tbody>\n",
       "</table>\n",
       "</div>"
      ],
      "text/plain": [
       "    Columns  Rankings\n",
       "0      CRIM         1\n",
       "1        ZN         1\n",
       "2     INDUS         1\n",
       "3      CHAS         1\n",
       "4       NOX         1\n",
       "5        RM         1\n",
       "6       AGE         4\n",
       "7       DIS         1\n",
       "8       RAD         1\n",
       "9       TAX         2\n",
       "10  PTRATIO         1\n",
       "11        B         3\n",
       "12    LSTAT         1"
      ]
     },
     "execution_count": 76,
     "metadata": {},
     "output_type": "execute_result"
    }
   ],
   "source": [
    "model = LinearRegression()\n",
    "\n",
    "## initialize \n",
    "# Select 10 features\n",
    "rfe = RFE(model,10)\n",
    "rfe.fit(X,y)\n",
    "# print(rfe.support_)\n",
    "# print(rfe.ranking_)\n",
    "pd.DataFrame({'Columns':X.columns,\n",
    "             'Rankings':rfe.ranking_})\n"
   ]
  },
  {
   "cell_type": "code",
   "execution_count": null,
   "metadata": {},
   "outputs": [],
   "source": [
    "KFold().fit(X)"
   ]
  },
  {
   "cell_type": "markdown",
   "metadata": {},
   "source": [
    "#### Plot a graph to see number of features v/s score"
   ]
  },
  {
   "cell_type": "code",
   "execution_count": 55,
   "metadata": {
    "collapsed": true
   },
   "outputs": [
    {
     "data": {
      "image/png": "[encoded data removed]",
      "text/plain": [
       "<Figure size 432x288 with 1 Axes>"
      ]
     },
     "metadata": {
      "needs_background": "light"
     },
     "output_type": "display_data"
    }
   ],
   "source": [
    "lasso = Lasso()\n",
    "n_features, scores = [],[]\n",
    "\n",
    "for i,_ in enumerate(X.columns,1):\n",
    "    rfe = RFE(lasso,i)\n",
    "    n_features.append(i)\n",
    "    scores.append(cross_val_score(rfe, X, y, cv=3))\n",
    "\n",
    "plt.plot(n_features,scores)\n",
    "plt.xticks(range(1,13,1))\n",
    "plt.xlabel('Number of features')\n",
    "plt.ylabel('Cross val score')\n",
    "plt.grid(True)\n",
    "plt.legend(['Cv1','Cv2','Cv3'])\n",
    "plt.show()"
   ]
  },
  {
   "cell_type": "markdown",
   "metadata": {},
   "source": [
    "## 3. Foward Selection"
   ]
  },
  {
   "cell_type": "code",
   "execution_count": 79,
   "metadata": {},
   "outputs": [],
   "source": [
    "from mlxtend.feature_selection import SequentialFeatureSelector as sfs\n",
    "from mlxtend.plotting import plot_sequential_feature_selection as plot_sfs"
   ]
  },
  {
   "cell_type": "code",
   "execution_count": 87,
   "metadata": {},
   "outputs": [],
   "source": [
    "model = LinearRegression()\n",
    "X_train,X_test,y_train,y_test = train_test_split(X,y,test_size=0.3,random_state=42)\n",
    "\n",
    "sfs1 = sfs(model,k_features=8,forward=True,scoring='r2',cv=3)"
   ]
  },
  {
   "cell_type": "code",
   "execution_count": 89,
   "metadata": {},
   "outputs": [
    {
     "data": {
      "text/plain": [
       "{1: {'feature_idx': (12,),\n",
       "  'cv_scores': array([0.57870519, 0.57385642, 0.47295326]),\n",
       "  'avg_score': 0.5418382883983724,\n",
       "  'feature_names': ('LSTAT',),\n",
       "  'ci_bound': 0.10970193133337351,\n",
       "  'std_dev': 0.048749277828372094,\n",
       "  'std_err': 0.03447094493038892},\n",
       " 2: {'feature_idx': (5, 12),\n",
       "  'cv_scores': array([0.60833469, 0.69220755, 0.58801071]),\n",
       "  'avg_score': 0.6295176486378864,\n",
       "  'feature_names': ('RM', 'LSTAT'),\n",
       "  'ci_bound': 0.10148600172997677,\n",
       "  'std_dev': 0.04509828800543824,\n",
       "  'std_err': 0.03188930526854932},\n",
       " 3: {'feature_idx': (5, 10, 12),\n",
       "  'cv_scores': array([0.65900325, 0.71644285, 0.63294139]),\n",
       "  'avg_score': 0.6694624937172645,\n",
       "  'feature_names': ('RM', 'PTRATIO', 'LSTAT'),\n",
       "  'ci_bound': 0.07849683752393774,\n",
       "  'std_dev': 0.034882377134037544,\n",
       "  'std_err': 0.024665565415384515},\n",
       " 4: {'feature_idx': (5, 10, 11, 12),\n",
       "  'cv_scores': array([0.6687113 , 0.7296148 , 0.64552979]),\n",
       "  'avg_score': 0.6812852957001474,\n",
       "  'feature_names': ('RM', 'PTRATIO', 'B', 'LSTAT'),\n",
       "  'ci_bound': 0.07979739626529962,\n",
       "  'std_dev': 0.03546031864011821,\n",
       "  'std_err': 0.025074231773463324},\n",
       " 5: {'feature_idx': (5, 7, 10, 11, 12),\n",
       "  'cv_scores': array([0.68160481, 0.75085683, 0.65670815]),\n",
       "  'avg_score': 0.6963899307108798,\n",
       "  'feature_names': ('RM', 'DIS', 'PTRATIO', 'B', 'LSTAT'),\n",
       "  'ci_bound': 0.08963626292337601,\n",
       "  'std_dev': 0.03983250824882529,\n",
       "  'std_err': 0.028165836694413453},\n",
       " 6: {'feature_idx': (4, 5, 7, 10, 11, 12),\n",
       "  'cv_scores': array([0.68269004, 0.76187458, 0.66742849]),\n",
       "  'avg_score': 0.7039977065621882,\n",
       "  'feature_names': ('NOX', 'RM', 'DIS', 'PTRATIO', 'B', 'LSTAT'),\n",
       "  'ci_bound': 0.09315617297842942,\n",
       "  'std_dev': 0.04139668374800793,\n",
       "  'std_err': 0.02927187579685135},\n",
       " 7: {'feature_idx': (3, 4, 5, 7, 10, 11, 12),\n",
       "  'cv_scores': array([0.67335156, 0.77424032, 0.67908783]),\n",
       "  'avg_score': 0.7088932361894887,\n",
       "  'feature_names': ('CHAS', 'NOX', 'RM', 'DIS', 'PTRATIO', 'B', 'LSTAT'),\n",
       "  'ci_bound': 0.10411525121167443,\n",
       "  'std_dev': 0.04626667229827147,\n",
       "  'std_err': 0.032715477725043546},\n",
       " 8: {'feature_idx': (0, 3, 4, 5, 7, 10, 11, 12),\n",
       "  'cv_scores': array([0.6775124 , 0.77897447, 0.67790655]),\n",
       "  'avg_score': 0.7114644720404052,\n",
       "  'feature_names': ('CRIM',\n",
       "   'CHAS',\n",
       "   'NOX',\n",
       "   'RM',\n",
       "   'DIS',\n",
       "   'PTRATIO',\n",
       "   'B',\n",
       "   'LSTAT'),\n",
       "  'ci_bound': 0.1074240813330097,\n",
       "  'std_dev': 0.047737048224303934,\n",
       "  'std_err': 0.03375519051323455}}"
      ]
     },
     "execution_count": 89,
     "metadata": {},
     "output_type": "execute_result"
    }
   ],
   "source": [
    "sfs1.get_metric_dict()"
   ]
  },
  {
   "cell_type": "code",
   "execution_count": 112,
   "metadata": {},
   "outputs": [
    {
     "data": {
      "image/png": "[encoded data removed]",
      "text/plain": [
       "<Figure size 432x288 with 1 Axes>"
      ]
     },
     "metadata": {
      "needs_background": "light"
     },
     "output_type": "display_data"
    }
   ],
   "source": [
    "sfs1.fit(X_train,y_train)\n",
    "fig = plot_sfs(sfs1.get_metric_dict())\n",
    "plt.title('Forward Selection')\n",
    "plt.yticks(np.linspace(0.5,0.75,7))\n",
    "plt.grid()\n",
    "plt.show()"
   ]
  },
  {
   "cell_type": "code",
   "execution_count": 101,
   "metadata": {},
   "outputs": [
    {
     "data": {
      "text/plain": [
       "(8, ('CRIM', 'CHAS', 'NOX', 'RM', 'DIS', 'PTRATIO', 'B', 'LSTAT'))"
      ]
     },
     "execution_count": 101,
     "metadata": {},
     "output_type": "execute_result"
    }
   ],
   "source": [
    "sfs1.k_features, sfs1.k_feature_names_"
   ]
  },
  {
   "cell_type": "code",
   "execution_count": 91,
   "metadata": {},
   "outputs": [
    {
     "data": {
      "text/plain": [
       "(0, 3, 4, 5, 7, 10, 11, 12)"
      ]
     },
     "execution_count": 91,
     "metadata": {},
     "output_type": "execute_result"
    }
   ],
   "source": [
    "sfs1.k_feature_idx_"
   ]
  },
  {
   "cell_type": "code",
   "execution_count": 98,
   "metadata": {
    "scrolled": true
   },
   "outputs": [
    {
     "data": {
      "text/plain": [
       "0.7114644720404052"
      ]
     },
     "execution_count": 98,
     "metadata": {},
     "output_type": "execute_result"
    }
   ],
   "source": [
    "sfs1.k_score_"
   ]
  },
  {
   "cell_type": "markdown",
   "metadata": {},
   "source": [
    "## 4. Backward Elimination"
   ]
  },
  {
   "cell_type": "code",
   "execution_count": 108,
   "metadata": {},
   "outputs": [
    {
     "data": {
      "text/plain": [
       "SequentialFeatureSelector(clone_estimator=True, cv=3,\n",
       "                          estimator=LinearRegression(copy_X=True,\n",
       "                                                     fit_intercept=True,\n",
       "                                                     n_jobs=None,\n",
       "                                                     normalize=False),\n",
       "                          floating=False, forward=False, k_features=1, n_jobs=1,\n",
       "                          pre_dispatch='2*n_jobs', scoring='r2', verbose=0)"
      ]
     },
     "execution_count": 108,
     "metadata": {},
     "output_type": "execute_result"
    }
   ],
   "source": [
    "model = LinearRegression()\n",
    "\n",
    "sbs = sfs(model,k_features=1,forward=False,scoring='r2',cv=3)\n",
    "sbs.fit(X_train,y_train)"
   ]
  },
  {
   "cell_type": "code",
   "execution_count": 113,
   "metadata": {},
   "outputs": [
    {
     "data": {
      "image/png": "[encoded data removed]",
      "text/plain": [
       "<Figure size 432x288 with 1 Axes>"
      ]
     },
     "metadata": {
      "needs_background": "light"
     },
     "output_type": "display_data"
    }
   ],
   "source": [
    "d = sbs.get_metric_dict()\n",
    "\n",
    "fig = plot_sfs(sbs.get_metric_dict())\n",
    "plt.title('Backward Elimination')\n",
    "plt.yticks(np.linspace(0.5,0.75,7))\n",
    "plt.grid()\n",
    "plt.show()"
   ]
  },
  {
   "cell_type": "code",
   "execution_count": 115,
   "metadata": {},
   "outputs": [
    {
     "data": {
      "image/png": "[encoded data removed]",
      "text/plain": [
       "<Figure size 432x288 with 1 Axes>"
      ]
     },
     "metadata": {
      "needs_background": "light"
     },
     "output_type": "display_data"
    }
   ],
   "source": [
    "model = LinearRegression()\n",
    "sbs = sfs(model,k_features=6,forward=False,scoring='r2',cv=3).fit(X_train,y_train)\n",
    "\n",
    "fig = plot_sfs(sbs.get_metric_dict())\n",
    "plt.title('Backward Elimination')\n",
    "plt.yticks(np.linspace(0.5,0.75,7))\n",
    "plt.grid()\n",
    "plt.show()"
   ]
  },
  {
   "cell_type": "markdown",
   "metadata": {},
   "source": [
    "### We can choose `n` = 9"
   ]
  },
  {
   "cell_type": "markdown",
   "metadata": {},
   "source": [
    "The R2-score is not increasing significantly post the features."
   ]
  },
  {
   "cell_type": "code",
   "execution_count": 118,
   "metadata": {},
   "outputs": [
    {
     "data": {
      "text/plain": [
       "array([1.00000000e-02, 2.33572147e-02, 5.45559478e-02, 1.27427499e-01,\n",
       "       2.97635144e-01, 6.95192796e-01, 1.62377674e+00, 3.79269019e+00,\n",
       "       8.85866790e+00, 2.06913808e+01, 4.83293024e+01, 1.12883789e+02,\n",
       "       2.63665090e+02, 6.15848211e+02, 1.43844989e+03, 3.35981829e+03,\n",
       "       7.84759970e+03, 1.83298071e+04, 4.28133240e+04, 1.00000000e+05])"
      ]
     },
     "execution_count": 118,
     "metadata": {},
     "output_type": "execute_result"
    }
   ],
   "source": [
    "np.logspace(-2,5,20)"
   ]
  }
 ],
 "metadata": {
  "kernelspec": {
   "display_name": "Python 3",
   "language": "python",
   "name": "python3"
  },
  "language_info": {
   "codemirror_mode": {
    "name": "ipython",
    "version": 3
   },
   "file_extension": ".py",
   "mimetype": "text/x-python",
   "name": "python",
   "nbconvert_exporter": "python",
   "pygments_lexer": "ipython3",
   "version": "3.7.0"
  },
  "latex_envs": {
   "LaTeX_envs_menu_present": true,
   "autoclose": false,
   "autocomplete": true,
   "bibliofile": "biblio.bib",
   "cite_by": "apalike",
   "current_citInitial": 1,
   "eqLabelWithNumbers": true,
   "eqNumInitial": 1,
   "hotkeys": {
    "equation": "Ctrl-E",
    "itemize": "Ctrl-I"
   },
   "labels_anchors": false,
   "latex_user_defs": false,
   "report_style_numbering": false,
   "user_envs_cfg": false
  },
  "toc": {
   "base_numbering": 1,
   "nav_menu": {},
   "number_sections": true,
   "sideBar": true,
   "skip_h1_title": false,
   "title_cell": "Table of Contents",
   "title_sidebar": "Contents",
   "toc_cell": false,
   "toc_position": {},
   "toc_section_display": true,
   "toc_window_display": true
  }
 },
 "nbformat": 4,
 "nbformat_minor": 2
}
