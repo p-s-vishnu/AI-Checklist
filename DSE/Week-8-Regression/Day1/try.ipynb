{
 "cells": [
  {
   "cell_type": "markdown",
   "metadata": {
    "toc": true
   },
   "source": [
    "<h1>Table of Contents<span class=\"tocSkip\"></span></h1>\n",
    "<div class=\"toc\"><ul class=\"toc-item\"><li><span><a href=\"#OLS---Ordinary-Least-Square\" data-toc-modified-id=\"OLS---Ordinary-Least-Square-1\"><span class=\"toc-item-num\">1&nbsp;&nbsp;</span>OLS - Ordinary Least Square</a></span></li><li><span><a href=\"#Statistical-assumptions-in-Linear-Regression\" data-toc-modified-id=\"Statistical-assumptions-in-Linear-Regression-2\"><span class=\"toc-item-num\">2&nbsp;&nbsp;</span>Statistical assumptions in Linear Regression</a></span></li><li><span><a href=\"#Feature-selection-techniques\" data-toc-modified-id=\"Feature-selection-techniques-3\"><span class=\"toc-item-num\">3&nbsp;&nbsp;</span>Feature selection techniques</a></span></li><li><span><a href=\"#Questions\" data-toc-modified-id=\"Questions-4\"><span class=\"toc-item-num\">4&nbsp;&nbsp;</span>Questions</a></span></li></ul></div>"
   ]
  },
  {
   "cell_type": "code",
   "execution_count": 2,
   "metadata": {},
   "outputs": [],
   "source": [
    "import pandas as pd\n",
    "import numpy as np\n",
    "import matplotlib.pyplot as plt\n",
    "import seaborn as sns\n",
    "import warnings\n",
    "from sklearn.datasets import load_boston\n",
    "\n",
    "warnings.filterwarnings('ignore')\n",
    "boston = load_boston()"
   ]
  },
  {
   "cell_type": "code",
   "execution_count": 21,
   "metadata": {},
   "outputs": [],
   "source": [
    "import statsmodels.api as sm\n",
    "from sklearn.model_selection import train_test_split"
   ]
  },
  {
   "cell_type": "code",
   "execution_count": 13,
   "metadata": {},
   "outputs": [],
   "source": [
    "X = pd.DataFrame(boston.data,columns=boston.feature_names)\n",
    "y = boston.target"
   ]
  },
  {
   "cell_type": "code",
   "execution_count": 56,
   "metadata": {},
   "outputs": [],
   "source": [
    "X_train,X_test,y_train,y_test = train_test_split(X,y)"
   ]
  },
  {
   "cell_type": "markdown",
   "metadata": {},
   "source": [
    "##    OLS - Ordinary Least Square"
   ]
  },
  {
   "cell_type": "code",
   "execution_count": 36,
   "metadata": {
    "scrolled": false
   },
   "outputs": [
    {
     "data": {
      "text/html": [
       "<table class=\"simpletable\">\n",
       "<caption>OLS Regression Results</caption>\n",
       "<tr>\n",
       "  <th>Dep. Variable:</th>            <td>y</td>        <th>  R-squared:         </th> <td>   0.753</td> \n",
       "</tr>\n",
       "<tr>\n",
       "  <th>Model:</th>                   <td>OLS</td>       <th>  Adj. R-squared:    </th> <td>   0.744</td> \n",
       "</tr>\n",
       "<tr>\n",
       "  <th>Method:</th>             <td>Least Squares</td>  <th>  F-statistic:       </th> <td>   85.54</td> \n",
       "</tr>\n",
       "<tr>\n",
       "  <th>Date:</th>             <td>Mon, 14 Oct 2019</td> <th>  Prob (F-statistic):</th> <td>3.55e-102</td>\n",
       "</tr>\n",
       "<tr>\n",
       "  <th>Time:</th>                 <td>19:30:49</td>     <th>  Log-Likelihood:    </th> <td> -1104.2</td> \n",
       "</tr>\n",
       "<tr>\n",
       "  <th>No. Observations:</th>      <td>   379</td>      <th>  AIC:               </th> <td>   2236.</td> \n",
       "</tr>\n",
       "<tr>\n",
       "  <th>Df Residuals:</th>          <td>   365</td>      <th>  BIC:               </th> <td>   2291.</td> \n",
       "</tr>\n",
       "<tr>\n",
       "  <th>Df Model:</th>              <td>    13</td>      <th>                     </th>     <td> </td>    \n",
       "</tr>\n",
       "<tr>\n",
       "  <th>Covariance Type:</th>      <td>nonrobust</td>    <th>                     </th>     <td> </td>    \n",
       "</tr>\n",
       "</table>\n",
       "<table class=\"simpletable\">\n",
       "<tr>\n",
       "     <td></td>        <th>coef</th>     <th>std err</th>      <th>t</th>      <th>P>|t|</th>  <th>[0.025</th>    <th>0.975]</th>  \n",
       "</tr>\n",
       "<tr>\n",
       "  <th>const</th>   <td>   31.8546</td> <td>    5.714</td> <td>    5.575</td> <td> 0.000</td> <td>   20.618</td> <td>   43.091</td>\n",
       "</tr>\n",
       "<tr>\n",
       "  <th>CRIM</th>    <td>   -0.1276</td> <td>    0.033</td> <td>   -3.885</td> <td> 0.000</td> <td>   -0.192</td> <td>   -0.063</td>\n",
       "</tr>\n",
       "<tr>\n",
       "  <th>ZN</th>      <td>    0.0504</td> <td>    0.016</td> <td>    3.215</td> <td> 0.001</td> <td>    0.020</td> <td>    0.081</td>\n",
       "</tr>\n",
       "<tr>\n",
       "  <th>INDUS</th>   <td>   -0.0302</td> <td>    0.067</td> <td>   -0.449</td> <td> 0.654</td> <td>   -0.163</td> <td>    0.102</td>\n",
       "</tr>\n",
       "<tr>\n",
       "  <th>CHAS</th>    <td>    2.3118</td> <td>    0.972</td> <td>    2.378</td> <td> 0.018</td> <td>    0.400</td> <td>    4.223</td>\n",
       "</tr>\n",
       "<tr>\n",
       "  <th>NOX</th>     <td>  -16.5501</td> <td>    4.190</td> <td>   -3.950</td> <td> 0.000</td> <td>  -24.789</td> <td>   -8.311</td>\n",
       "</tr>\n",
       "<tr>\n",
       "  <th>RM</th>      <td>    4.1519</td> <td>    0.488</td> <td>    8.501</td> <td> 0.000</td> <td>    3.191</td> <td>    5.112</td>\n",
       "</tr>\n",
       "<tr>\n",
       "  <th>AGE</th>     <td>   -0.0062</td> <td>    0.015</td> <td>   -0.402</td> <td> 0.688</td> <td>   -0.037</td> <td>    0.024</td>\n",
       "</tr>\n",
       "<tr>\n",
       "  <th>DIS</th>     <td>   -1.4913</td> <td>    0.217</td> <td>   -6.868</td> <td> 0.000</td> <td>   -1.918</td> <td>   -1.064</td>\n",
       "</tr>\n",
       "<tr>\n",
       "  <th>RAD</th>     <td>    0.2996</td> <td>    0.073</td> <td>    4.108</td> <td> 0.000</td> <td>    0.156</td> <td>    0.443</td>\n",
       "</tr>\n",
       "<tr>\n",
       "  <th>TAX</th>     <td>   -0.0129</td> <td>    0.004</td> <td>   -3.118</td> <td> 0.002</td> <td>   -0.021</td> <td>   -0.005</td>\n",
       "</tr>\n",
       "<tr>\n",
       "  <th>PTRATIO</th> <td>   -0.8212</td> <td>    0.143</td> <td>   -5.745</td> <td> 0.000</td> <td>   -1.102</td> <td>   -0.540</td>\n",
       "</tr>\n",
       "<tr>\n",
       "  <th>B</th>       <td>    0.0087</td> <td>    0.003</td> <td>    2.981</td> <td> 0.003</td> <td>    0.003</td> <td>    0.014</td>\n",
       "</tr>\n",
       "<tr>\n",
       "  <th>LSTAT</th>   <td>   -0.4585</td> <td>    0.059</td> <td>   -7.757</td> <td> 0.000</td> <td>   -0.575</td> <td>   -0.342</td>\n",
       "</tr>\n",
       "</table>\n",
       "<table class=\"simpletable\">\n",
       "<tr>\n",
       "  <th>Omnibus:</th>       <td>144.502</td> <th>  Durbin-Watson:     </th> <td>   1.895</td> \n",
       "</tr>\n",
       "<tr>\n",
       "  <th>Prob(Omnibus):</th> <td> 0.000</td>  <th>  Jarque-Bera (JB):  </th> <td> 798.261</td> \n",
       "</tr>\n",
       "<tr>\n",
       "  <th>Skew:</th>          <td> 1.521</td>  <th>  Prob(JB):          </th> <td>4.57e-174</td>\n",
       "</tr>\n",
       "<tr>\n",
       "  <th>Kurtosis:</th>      <td> 9.426</td>  <th>  Cond. No.          </th> <td>1.51e+04</td> \n",
       "</tr>\n",
       "</table><br/><br/>Warnings:<br/>[1] Standard Errors assume that the covariance matrix of the errors is correctly specified.<br/>[2] The condition number is large, 1.51e+04. This might indicate that there are<br/>strong multicollinearity or other numerical problems."
      ],
      "text/plain": [
       "<class 'statsmodels.iolib.summary.Summary'>\n",
       "\"\"\"\n",
       "                            OLS Regression Results                            \n",
       "==============================================================================\n",
       "Dep. Variable:                      y   R-squared:                       0.753\n",
       "Model:                            OLS   Adj. R-squared:                  0.744\n",
       "Method:                 Least Squares   F-statistic:                     85.54\n",
       "Date:                Mon, 14 Oct 2019   Prob (F-statistic):          3.55e-102\n",
       "Time:                        19:30:49   Log-Likelihood:                -1104.2\n",
       "No. Observations:                 379   AIC:                             2236.\n",
       "Df Residuals:                     365   BIC:                             2291.\n",
       "Df Model:                          13                                         \n",
       "Covariance Type:            nonrobust                                         \n",
       "==============================================================================\n",
       "                 coef    std err          t      P>|t|      [0.025      0.975]\n",
       "------------------------------------------------------------------------------\n",
       "const         31.8546      5.714      5.575      0.000      20.618      43.091\n",
       "CRIM          -0.1276      0.033     -3.885      0.000      -0.192      -0.063\n",
       "ZN             0.0504      0.016      3.215      0.001       0.020       0.081\n",
       "INDUS         -0.0302      0.067     -0.449      0.654      -0.163       0.102\n",
       "CHAS           2.3118      0.972      2.378      0.018       0.400       4.223\n",
       "NOX          -16.5501      4.190     -3.950      0.000     -24.789      -8.311\n",
       "RM             4.1519      0.488      8.501      0.000       3.191       5.112\n",
       "AGE           -0.0062      0.015     -0.402      0.688      -0.037       0.024\n",
       "DIS           -1.4913      0.217     -6.868      0.000      -1.918      -1.064\n",
       "RAD            0.2996      0.073      4.108      0.000       0.156       0.443\n",
       "TAX           -0.0129      0.004     -3.118      0.002      -0.021      -0.005\n",
       "PTRATIO       -0.8212      0.143     -5.745      0.000      -1.102      -0.540\n",
       "B              0.0087      0.003      2.981      0.003       0.003       0.014\n",
       "LSTAT         -0.4585      0.059     -7.757      0.000      -0.575      -0.342\n",
       "==============================================================================\n",
       "Omnibus:                      144.502   Durbin-Watson:                   1.895\n",
       "Prob(Omnibus):                  0.000   Jarque-Bera (JB):              798.261\n",
       "Skew:                           1.521   Prob(JB):                    4.57e-174\n",
       "Kurtosis:                       9.426   Cond. No.                     1.51e+04\n",
       "==============================================================================\n",
       "\n",
       "Warnings:\n",
       "[1] Standard Errors assume that the covariance matrix of the errors is correctly specified.\n",
       "[2] The condition number is large, 1.51e+04. This might indicate that there are\n",
       "strong multicollinearity or other numerical problems.\n",
       "\"\"\""
      ]
     },
     "execution_count": 36,
     "metadata": {},
     "output_type": "execute_result"
    }
   ],
   "source": [
    "xc = sm.add_constant(X_train)\n",
    "lin_reg = sm.OLS(y_train,xc).fit()\n",
    "lin_reg.summary()"
   ]
  },
  {
   "cell_type": "markdown",
   "metadata": {},
   "source": [
    "**P>|t| >  alpha**\n",
    "- Which means we failed to reject(accept) the NULL hypothesis.\n",
    "\n",
    "\n",
    "**$Prob (F-statistic):\t3.55e-102 < \\alpha$**\n",
    "\n",
    "- It shows that Regression line is valid."
   ]
  },
  {
   "cell_type": "code",
   "execution_count": 55,
   "metadata": {
    "scrolled": false
   },
   "outputs": [
    {
     "data": {
      "image/png": "[encoded data removed]",
      "text/plain": [
       "<Figure size 432x288 with 1 Axes>"
      ]
     },
     "metadata": {
      "needs_background": "light"
     },
     "output_type": "display_data"
    }
   ],
   "source": [
    "xc_test = sm.add_constant(X_test)\n",
    "y_pred = lin_reg.predict(xc_test)\n",
    "\n",
    "# print(y_pred)\n",
    "sns.scatterplot(y_test,y_pred)\n",
    "plt.plot(y_test,y_test,color='red')\n",
    "plt.show()"
   ]
  },
  {
   "cell_type": "markdown",
   "metadata": {},
   "source": [
    "## Statistical assumptions in Linear Regression"
   ]
  },
  {
   "cell_type": "code",
   "execution_count": null,
   "metadata": {},
   "outputs": [],
   "source": []
  },
  {
   "cell_type": "markdown",
   "metadata": {},
   "source": [
    "## Feature selection techniques"
   ]
  },
  {
   "cell_type": "code",
   "execution_count": null,
   "metadata": {},
   "outputs": [],
   "source": []
  },
  {
   "cell_type": "markdown",
   "metadata": {},
   "source": [
    "## Regularization techniques"
   ]
  },
  {
   "cell_type": "markdown",
   "metadata": {},
   "source": [
    "## Gradient descent"
   ]
  },
  {
   "cell_type": "markdown",
   "metadata": {},
   "source": [
    "## Data transformation "
   ]
  },
  {
   "cell_type": "markdown",
   "metadata": {},
   "source": [
    "## Cross validation methods"
   ]
  },
  {
   "cell_type": "markdown",
   "metadata": {
    "heading_collapsed": true
   },
   "source": [
    "## Questions"
   ]
  },
  {
   "cell_type": "code",
   "execution_count": null,
   "metadata": {
    "hidden": true
   },
   "outputs": [],
   "source": [
    "- What various components in linear regression summary indicates?\n",
    "- "
   ]
  }
 ],
 "metadata": {
  "kernelspec": {
   "display_name": "Python 3",
   "language": "python",
   "name": "python3"
  },
  "language_info": {
   "codemirror_mode": {
    "name": "ipython",
    "version": 3
   },
   "file_extension": ".py",
   "mimetype": "text/x-python",
   "name": "python",
   "nbconvert_exporter": "python",
   "pygments_lexer": "ipython3",
   "version": "3.7.0"
  },
  "latex_envs": {
   "LaTeX_envs_menu_present": true,
   "autoclose": false,
   "autocomplete": true,
   "bibliofile": "biblio.bib",
   "cite_by": "apalike",
   "current_citInitial": 1,
   "eqLabelWithNumbers": true,
   "eqNumInitial": 1,
   "hotkeys": {
    "equation": "Ctrl-E",
    "itemize": "Ctrl-I"
   },
   "labels_anchors": false,
   "latex_user_defs": false,
   "report_style_numbering": false,
   "user_envs_cfg": false
  },
  "toc": {
   "base_numbering": 1,
   "nav_menu": {},
   "number_sections": true,
   "sideBar": true,
   "skip_h1_title": false,
   "title_cell": "Table of Contents",
   "title_sidebar": "Contents",
   "toc_cell": true,
   "toc_position": {},
   "toc_section_display": true,
   "toc_window_display": true
  }
 },
 "nbformat": 4,
 "nbformat_minor": 2
}
