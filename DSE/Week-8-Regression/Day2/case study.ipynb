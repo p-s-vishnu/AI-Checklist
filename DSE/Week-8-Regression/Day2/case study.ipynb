{
 "cells": [
  {
   "cell_type": "code",
   "execution_count": 1,
   "metadata": {},
   "outputs": [],
   "source": [
    "import pandas as pd\n",
    "import numpy as np\n",
    "import matplotlib.pyplot as plt\n",
    "import seaborn as sns\n",
    "import warnings\n",
    "import statsmodels.api as sm\n",
    "import statsmodels.stats.api as sms\n",
    "from sklearn.model_selection import train_test_split\n",
    "from sklearn.linear_model import LinearRegression\n",
    "from sklearn.metrics import mean_squared_error,r2_score\n",
    "\n",
    "\n",
    "warnings.filterwarnings('ignore')"
   ]
  },
  {
   "cell_type": "code",
   "execution_count": 2,
   "metadata": {},
   "outputs": [],
   "source": [
    "df = pd.read_csv('./MFGEmployees4.csv')"
   ]
  },
  {
   "cell_type": "code",
   "execution_count": 3,
   "metadata": {},
   "outputs": [
    {
     "data": {
      "text/plain": [
       "Index(['EmployeeNumber', 'Surname', 'GivenName', 'Gender', 'City', 'JobTitle',\n",
       "       'DepartmentName', 'StoreLocation', 'Division', 'Age', 'LengthService',\n",
       "       'AbsentHours', 'BusinessUnit'],\n",
       "      dtype='object')"
      ]
     },
     "execution_count": 3,
     "metadata": {},
     "output_type": "execute_result"
    }
   ],
   "source": [
    "df.columns"
   ]
  },
  {
   "cell_type": "code",
   "execution_count": 5,
   "metadata": {},
   "outputs": [],
   "source": [
    "mask1 = df['AbsentHours'] >= 94.28 \n",
    "mask2 = df['AbsentHours'] == 0\n",
    "\n",
    "df['MostAbsent'] = mask1\n",
    "df['NoAbsent'] = mask2"
   ]
  },
  {
   "cell_type": "code",
   "execution_count": 6,
   "metadata": {},
   "outputs": [
    {
     "data": {
      "text/plain": [
       "<matplotlib.axes._subplots.AxesSubplot at 0x12180b50>"
      ]
     },
     "execution_count": 6,
     "metadata": {},
     "output_type": "execute_result"
    },
    {
     "data": {
      "image/png": "[encoded data removed]",
      "text/plain": [
       "<Figure size 432x288 with 1 Axes>"
      ]
     },
     "metadata": {
      "needs_background": "light"
     },
     "output_type": "display_data"
    }
   ],
   "source": [
    "sns.distplot(df['AbsentHours'],bins=50)"
   ]
  },
  {
   "cell_type": "code",
   "execution_count": 7,
   "metadata": {},
   "outputs": [
    {
     "data": {
      "text/plain": [
       "EmployeeNumber    8336\n",
       "LengthService     8301\n",
       "Age               8298\n",
       "AbsentHours       7016\n",
       "Surname           4051\n",
       "GivenName         1625\n",
       "City               243\n",
       "JobTitle            47\n",
       "StoreLocation       40\n",
       "DepartmentName      21\n",
       "Division             6\n",
       "NoAbsent             2\n",
       "MostAbsent           2\n",
       "BusinessUnit         2\n",
       "Gender               2\n",
       "dtype: int64"
      ]
     },
     "execution_count": 7,
     "metadata": {},
     "output_type": "execute_result"
    }
   ],
   "source": [
    "df.nunique().sort_values(ascending=False)"
   ]
  },
  {
   "cell_type": "markdown",
   "metadata": {},
   "source": [
    "#### Job"
   ]
  },
  {
   "cell_type": "code",
   "execution_count": 8,
   "metadata": {},
   "outputs": [],
   "source": [
    "jt = df['JobTitle'].value_counts()\n",
    "jt = jt.head(6).index\n",
    "\n",
    "df['Job'] = np.where(df['JobTitle'].isin(jt),df['JobTitle'],'Other')"
   ]
  },
  {
   "cell_type": "code",
   "execution_count": 9,
   "metadata": {},
   "outputs": [
    {
     "data": {
      "text/plain": [
       "Baker            1404\n",
       "Cashier          1703\n",
       "Dairy Person     1514\n",
       "Meat Cutter      1480\n",
       "Other             394\n",
       "Produce Clerk    1129\n",
       "Shelf Stocker     712\n",
       "Name: Job, dtype: int64"
      ]
     },
     "execution_count": 9,
     "metadata": {},
     "output_type": "execute_result"
    }
   ],
   "source": [
    "df['Job'].value_counts().sort_index()"
   ]
  },
  {
   "cell_type": "markdown",
   "metadata": {},
   "source": [
    "#### Department"
   ]
  },
  {
   "cell_type": "code",
   "execution_count": 12,
   "metadata": {},
   "outputs": [],
   "source": [
    "dn = df['DepartmentName'].value_counts().head(5).index\n",
    "df['Department'] = np.where(df['DepartmentName'].isin(dn),df['DepartmentName'],'Other')"
   ]
  },
  {
   "cell_type": "markdown",
   "metadata": {},
   "source": [
    "#### Drop unwanted columns"
   ]
  },
  {
   "cell_type": "code",
   "execution_count": 13,
   "metadata": {
    "scrolled": true
   },
   "outputs": [
    {
     "data": {
      "text/plain": [
       "EmployeeNumber    8336\n",
       "LengthService     8301\n",
       "Age               8298\n",
       "AbsentHours       7016\n",
       "Surname           4051\n",
       "GivenName         1625\n",
       "City               243\n",
       "JobTitle            47\n",
       "StoreLocation       40\n",
       "DepartmentName      21\n",
       "Job                  7\n",
       "Department           6\n",
       "Division             6\n",
       "BusinessUnit         2\n",
       "Gender               2\n",
       "MostAbsent           2\n",
       "NoAbsent             2\n",
       "dtype: int64"
      ]
     },
     "execution_count": 13,
     "metadata": {},
     "output_type": "execute_result"
    }
   ],
   "source": [
    "df.nunique().sort_values(ascending=False)"
   ]
  },
  {
   "cell_type": "code",
   "execution_count": 14,
   "metadata": {},
   "outputs": [],
   "source": [
    "df = df.drop(columns=['JobTitle','City','Surname','StoreLocation','GivenName','DepartmentName'])"
   ]
  },
  {
   "cell_type": "code",
   "execution_count": 15,
   "metadata": {},
   "outputs": [
    {
     "data": {
      "text/plain": [
       "Index(['Gender', 'Division', 'BusinessUnit', 'MostAbsent', 'NoAbsent', 'Job',\n",
       "       'Department'],\n",
       "      dtype='object')"
      ]
     },
     "execution_count": 15,
     "metadata": {},
     "output_type": "execute_result"
    }
   ],
   "source": [
    "cat_cols = df.select_dtypes(exclude='number').columns\n",
    "cat_cols"
   ]
  },
  {
   "cell_type": "code",
   "execution_count": 16,
   "metadata": {},
   "outputs": [
    {
     "data": {
      "text/plain": [
       "Index(['EmployeeNumber', 'Age', 'LengthService', 'AbsentHours', 'Gender_M',\n",
       "       'Division_FinanceAndAccounting', 'Division_HumanResources',\n",
       "       'Division_InfoTech', 'Division_Legal', 'Division_Stores',\n",
       "       'BusinessUnit_Stores', 'MostAbsent_True', 'NoAbsent_True',\n",
       "       'Job_Cashier', 'Job_Dairy Person', 'Job_Meat Cutter', 'Job_Other',\n",
       "       'Job_Produce Clerk', 'Job_Shelf Stocker', 'Department_Customer Service',\n",
       "       'Department_Dairy', 'Department_Meats', 'Department_Other',\n",
       "       'Department_Produce'],\n",
       "      dtype='object')"
      ]
     },
     "execution_count": 16,
     "metadata": {},
     "output_type": "execute_result"
    }
   ],
   "source": [
    "df = pd.get_dummies(df,columns=cat_cols,drop_first=True)\n",
    "df.columns"
   ]
  },
  {
   "cell_type": "code",
   "execution_count": 17,
   "metadata": {},
   "outputs": [],
   "source": [
    "X = df.drop('AbsentHours',axis=1)\n",
    "y = df['AbsentHours']"
   ]
  },
  {
   "cell_type": "code",
   "execution_count": 18,
   "metadata": {},
   "outputs": [],
   "source": [
    "from statsmodels.stats.outliers_influence import variance_inflation_factor"
   ]
  },
  {
   "cell_type": "code",
   "execution_count": 19,
   "metadata": {
    "scrolled": true
   },
   "outputs": [
    {
     "data": {
      "text/html": [
       "<div>\n",
       "<style scoped>\n",
       "    .dataframe tbody tr th:only-of-type {\n",
       "        vertical-align: middle;\n",
       "    }\n",
       "\n",
       "    .dataframe tbody tr th {\n",
       "        vertical-align: top;\n",
       "    }\n",
       "\n",
       "    .dataframe thead th {\n",
       "        text-align: right;\n",
       "    }\n",
       "</style>\n",
       "<table border=\"1\" class=\"dataframe\">\n",
       "  <thead>\n",
       "    <tr style=\"text-align: right;\">\n",
       "      <th></th>\n",
       "      <th>vif</th>\n",
       "    </tr>\n",
       "  </thead>\n",
       "  <tbody>\n",
       "    <tr>\n",
       "      <td>EmployeeNumber</td>\n",
       "      <td>5.151232</td>\n",
       "    </tr>\n",
       "    <tr>\n",
       "      <td>Age</td>\n",
       "      <td>44.450459</td>\n",
       "    </tr>\n",
       "    <tr>\n",
       "      <td>LengthService</td>\n",
       "      <td>7.581929</td>\n",
       "    </tr>\n",
       "    <tr>\n",
       "      <td>Gender_M</td>\n",
       "      <td>2.123064</td>\n",
       "    </tr>\n",
       "    <tr>\n",
       "      <td>Division_FinanceAndAccounting</td>\n",
       "      <td>2.432353</td>\n",
       "    </tr>\n",
       "    <tr>\n",
       "      <td>Division_HumanResources</td>\n",
       "      <td>2.974516</td>\n",
       "    </tr>\n",
       "    <tr>\n",
       "      <td>Division_InfoTech</td>\n",
       "      <td>1.194473</td>\n",
       "    </tr>\n",
       "    <tr>\n",
       "      <td>Division_Legal</td>\n",
       "      <td>1.055151</td>\n",
       "    </tr>\n",
       "    <tr>\n",
       "      <td>Division_Stores</td>\n",
       "      <td>inf</td>\n",
       "    </tr>\n",
       "    <tr>\n",
       "      <td>BusinessUnit_Stores</td>\n",
       "      <td>inf</td>\n",
       "    </tr>\n",
       "    <tr>\n",
       "      <td>MostAbsent_True</td>\n",
       "      <td>2.328421</td>\n",
       "    </tr>\n",
       "    <tr>\n",
       "      <td>NoAbsent_True</td>\n",
       "      <td>1.806927</td>\n",
       "    </tr>\n",
       "    <tr>\n",
       "      <td>Job_Cashier</td>\n",
       "      <td>90.208976</td>\n",
       "    </tr>\n",
       "    <tr>\n",
       "      <td>Job_Dairy Person</td>\n",
       "      <td>1550.975123</td>\n",
       "    </tr>\n",
       "    <tr>\n",
       "      <td>Job_Meat Cutter</td>\n",
       "      <td>78.498845</td>\n",
       "    </tr>\n",
       "    <tr>\n",
       "      <td>Job_Other</td>\n",
       "      <td>9.073038</td>\n",
       "    </tr>\n",
       "    <tr>\n",
       "      <td>Job_Produce Clerk</td>\n",
       "      <td>60.120803</td>\n",
       "    </tr>\n",
       "    <tr>\n",
       "      <td>Job_Shelf Stocker</td>\n",
       "      <td>26.142735</td>\n",
       "    </tr>\n",
       "    <tr>\n",
       "      <td>Department_Customer Service</td>\n",
       "      <td>89.722429</td>\n",
       "    </tr>\n",
       "    <tr>\n",
       "      <td>Department_Dairy</td>\n",
       "      <td>1549.894611</td>\n",
       "    </tr>\n",
       "    <tr>\n",
       "      <td>Department_Meats</td>\n",
       "      <td>78.202486</td>\n",
       "    </tr>\n",
       "    <tr>\n",
       "      <td>Department_Other</td>\n",
       "      <td>32.845970</td>\n",
       "    </tr>\n",
       "    <tr>\n",
       "      <td>Department_Produce</td>\n",
       "      <td>60.065863</td>\n",
       "    </tr>\n",
       "  </tbody>\n",
       "</table>\n",
       "</div>"
      ],
      "text/plain": [
       "                                       vif\n",
       "EmployeeNumber                    5.151232\n",
       "Age                              44.450459\n",
       "LengthService                     7.581929\n",
       "Gender_M                          2.123064\n",
       "Division_FinanceAndAccounting     2.432353\n",
       "Division_HumanResources           2.974516\n",
       "Division_InfoTech                 1.194473\n",
       "Division_Legal                    1.055151\n",
       "Division_Stores                        inf\n",
       "BusinessUnit_Stores                    inf\n",
       "MostAbsent_True                   2.328421\n",
       "NoAbsent_True                     1.806927\n",
       "Job_Cashier                      90.208976\n",
       "Job_Dairy Person               1550.975123\n",
       "Job_Meat Cutter                  78.498845\n",
       "Job_Other                         9.073038\n",
       "Job_Produce Clerk                60.120803\n",
       "Job_Shelf Stocker                26.142735\n",
       "Department_Customer Service      89.722429\n",
       "Department_Dairy               1549.894611\n",
       "Department_Meats                 78.202486\n",
       "Department_Other                 32.845970\n",
       "Department_Produce               60.065863"
      ]
     },
     "execution_count": 19,
     "metadata": {},
     "output_type": "execute_result"
    }
   ],
   "source": [
    "vif = [variance_inflation_factor(X.values,i) for i,_ in enumerate(X)]\n",
    "pd.DataFrame({'vif':vif},index=X.columns)"
   ]
  },
  {
   "cell_type": "code",
   "execution_count": 20,
   "metadata": {},
   "outputs": [],
   "source": [
    "X.drop(columns=['Division_Stores'],inplace=True)"
   ]
  },
  {
   "cell_type": "code",
   "execution_count": 21,
   "metadata": {
    "scrolled": true
   },
   "outputs": [
    {
     "data": {
      "text/html": [
       "<div>\n",
       "<style scoped>\n",
       "    .dataframe tbody tr th:only-of-type {\n",
       "        vertical-align: middle;\n",
       "    }\n",
       "\n",
       "    .dataframe tbody tr th {\n",
       "        vertical-align: top;\n",
       "    }\n",
       "\n",
       "    .dataframe thead th {\n",
       "        text-align: right;\n",
       "    }\n",
       "</style>\n",
       "<table border=\"1\" class=\"dataframe\">\n",
       "  <thead>\n",
       "    <tr style=\"text-align: right;\">\n",
       "      <th></th>\n",
       "      <th>vif</th>\n",
       "    </tr>\n",
       "  </thead>\n",
       "  <tbody>\n",
       "    <tr>\n",
       "      <td>EmployeeNumber</td>\n",
       "      <td>5.151232</td>\n",
       "    </tr>\n",
       "    <tr>\n",
       "      <td>Age</td>\n",
       "      <td>44.450459</td>\n",
       "    </tr>\n",
       "    <tr>\n",
       "      <td>LengthService</td>\n",
       "      <td>7.581929</td>\n",
       "    </tr>\n",
       "    <tr>\n",
       "      <td>Gender_M</td>\n",
       "      <td>2.123064</td>\n",
       "    </tr>\n",
       "    <tr>\n",
       "      <td>Division_FinanceAndAccounting</td>\n",
       "      <td>2.432353</td>\n",
       "    </tr>\n",
       "    <tr>\n",
       "      <td>Division_HumanResources</td>\n",
       "      <td>2.974516</td>\n",
       "    </tr>\n",
       "    <tr>\n",
       "      <td>Division_InfoTech</td>\n",
       "      <td>1.194473</td>\n",
       "    </tr>\n",
       "    <tr>\n",
       "      <td>Division_Legal</td>\n",
       "      <td>1.055151</td>\n",
       "    </tr>\n",
       "    <tr>\n",
       "      <td>BusinessUnit_Stores</td>\n",
       "      <td>48.199884</td>\n",
       "    </tr>\n",
       "    <tr>\n",
       "      <td>MostAbsent_True</td>\n",
       "      <td>2.328421</td>\n",
       "    </tr>\n",
       "    <tr>\n",
       "      <td>NoAbsent_True</td>\n",
       "      <td>1.806927</td>\n",
       "    </tr>\n",
       "    <tr>\n",
       "      <td>Job_Cashier</td>\n",
       "      <td>90.208976</td>\n",
       "    </tr>\n",
       "    <tr>\n",
       "      <td>Job_Dairy Person</td>\n",
       "      <td>1550.975123</td>\n",
       "    </tr>\n",
       "    <tr>\n",
       "      <td>Job_Meat Cutter</td>\n",
       "      <td>78.498845</td>\n",
       "    </tr>\n",
       "    <tr>\n",
       "      <td>Job_Other</td>\n",
       "      <td>9.073038</td>\n",
       "    </tr>\n",
       "    <tr>\n",
       "      <td>Job_Produce Clerk</td>\n",
       "      <td>60.120803</td>\n",
       "    </tr>\n",
       "    <tr>\n",
       "      <td>Job_Shelf Stocker</td>\n",
       "      <td>26.142735</td>\n",
       "    </tr>\n",
       "    <tr>\n",
       "      <td>Department_Customer Service</td>\n",
       "      <td>89.722429</td>\n",
       "    </tr>\n",
       "    <tr>\n",
       "      <td>Department_Dairy</td>\n",
       "      <td>1549.894611</td>\n",
       "    </tr>\n",
       "    <tr>\n",
       "      <td>Department_Meats</td>\n",
       "      <td>78.202486</td>\n",
       "    </tr>\n",
       "    <tr>\n",
       "      <td>Department_Other</td>\n",
       "      <td>32.845970</td>\n",
       "    </tr>\n",
       "    <tr>\n",
       "      <td>Department_Produce</td>\n",
       "      <td>60.065863</td>\n",
       "    </tr>\n",
       "  </tbody>\n",
       "</table>\n",
       "</div>"
      ],
      "text/plain": [
       "                                       vif\n",
       "EmployeeNumber                    5.151232\n",
       "Age                              44.450459\n",
       "LengthService                     7.581929\n",
       "Gender_M                          2.123064\n",
       "Division_FinanceAndAccounting     2.432353\n",
       "Division_HumanResources           2.974516\n",
       "Division_InfoTech                 1.194473\n",
       "Division_Legal                    1.055151\n",
       "BusinessUnit_Stores              48.199884\n",
       "MostAbsent_True                   2.328421\n",
       "NoAbsent_True                     1.806927\n",
       "Job_Cashier                      90.208976\n",
       "Job_Dairy Person               1550.975123\n",
       "Job_Meat Cutter                  78.498845\n",
       "Job_Other                         9.073038\n",
       "Job_Produce Clerk                60.120803\n",
       "Job_Shelf Stocker                26.142735\n",
       "Department_Customer Service      89.722429\n",
       "Department_Dairy               1549.894611\n",
       "Department_Meats                 78.202486\n",
       "Department_Other                 32.845970\n",
       "Department_Produce               60.065863"
      ]
     },
     "execution_count": 21,
     "metadata": {},
     "output_type": "execute_result"
    }
   ],
   "source": [
    "vif = [variance_inflation_factor(X.values,i) for i,_ in enumerate(X)]\n",
    "pd.DataFrame({'vif':vif},index=X.columns)"
   ]
  },
  {
   "cell_type": "code",
   "execution_count": 22,
   "metadata": {},
   "outputs": [],
   "source": [
    "xc = sm.add_constant(X)\n",
    "lin_reg = sm.OLS(y,xc).fit()\n",
    "# print(lin_reg.params)\n",
    "y_pred = lin_reg.predict()\n",
    "# y_pred"
   ]
  },
  {
   "cell_type": "code",
   "execution_count": 23,
   "metadata": {},
   "outputs": [
    {
     "data": {
      "text/plain": [
       "0.8427890687786813"
      ]
     },
     "execution_count": 23,
     "metadata": {},
     "output_type": "execute_result"
    }
   ],
   "source": [
    "r2_score(y,y_pred)"
   ]
  },
  {
   "cell_type": "code",
   "execution_count": 24,
   "metadata": {},
   "outputs": [
    {
     "data": {
      "text/plain": [
       "0        36.577306\n",
       "1        30.165072\n",
       "2        83.807798\n",
       "3        70.020165\n",
       "4         0.000000\n",
       "           ...    \n",
       "8331     93.665111\n",
       "8332      0.000000\n",
       "8333    176.356940\n",
       "8334     60.321917\n",
       "8335    112.023389\n",
       "Name: AbsentHours, Length: 8336, dtype: float64"
      ]
     },
     "execution_count": 24,
     "metadata": {},
     "output_type": "execute_result"
    }
   ],
   "source": [
    "y"
   ]
  },
  {
   "cell_type": "code",
   "execution_count": 25,
   "metadata": {},
   "outputs": [
    {
     "data": {
      "text/html": [
       "<table class=\"simpletable\">\n",
       "<caption>OLS Regression Results</caption>\n",
       "<tr>\n",
       "  <th>Dep. Variable:</th>       <td>AbsentHours</td>   <th>  R-squared:         </th> <td>   0.843</td> \n",
       "</tr>\n",
       "<tr>\n",
       "  <th>Model:</th>                   <td>OLS</td>       <th>  Adj. R-squared:    </th> <td>   0.842</td> \n",
       "</tr>\n",
       "<tr>\n",
       "  <th>Method:</th>             <td>Least Squares</td>  <th>  F-statistic:       </th> <td>   2026.</td> \n",
       "</tr>\n",
       "<tr>\n",
       "  <th>Date:</th>             <td>Wed, 09 Oct 2019</td> <th>  Prob (F-statistic):</th>  <td>  0.00</td>  \n",
       "</tr>\n",
       "<tr>\n",
       "  <th>Time:</th>                 <td>12:56:13</td>     <th>  Log-Likelihood:    </th> <td> -36565.</td> \n",
       "</tr>\n",
       "<tr>\n",
       "  <th>No. Observations:</th>      <td>  8336</td>      <th>  AIC:               </th> <td>7.318e+04</td>\n",
       "</tr>\n",
       "<tr>\n",
       "  <th>Df Residuals:</th>          <td>  8313</td>      <th>  BIC:               </th> <td>7.334e+04</td>\n",
       "</tr>\n",
       "<tr>\n",
       "  <th>Df Model:</th>              <td>    22</td>      <th>                     </th>     <td> </td>    \n",
       "</tr>\n",
       "<tr>\n",
       "  <th>Covariance Type:</th>      <td>nonrobust</td>    <th>                     </th>     <td> </td>    \n",
       "</tr>\n",
       "</table>\n",
       "<table class=\"simpletable\">\n",
       "<tr>\n",
       "                <td></td>                   <th>coef</th>     <th>std err</th>      <th>t</th>      <th>P>|t|</th>  <th>[0.025</th>    <th>0.975]</th>  \n",
       "</tr>\n",
       "<tr>\n",
       "  <th>const</th>                         <td>  -37.1308</td> <td>    6.613</td> <td>   -5.615</td> <td> 0.000</td> <td>  -50.094</td> <td>  -24.168</td>\n",
       "</tr>\n",
       "<tr>\n",
       "  <th>EmployeeNumber</th>                <td>-2.353e-05</td> <td>    0.000</td> <td>   -0.234</td> <td> 0.815</td> <td>   -0.000</td> <td>    0.000</td>\n",
       "</tr>\n",
       "<tr>\n",
       "  <th>Age</th>                           <td>    2.3461</td> <td>    0.034</td> <td>   69.471</td> <td> 0.000</td> <td>    2.280</td> <td>    2.412</td>\n",
       "</tr>\n",
       "<tr>\n",
       "  <th>LengthService</th>                 <td>   -0.4706</td> <td>    0.111</td> <td>   -4.247</td> <td> 0.000</td> <td>   -0.688</td> <td>   -0.253</td>\n",
       "</tr>\n",
       "<tr>\n",
       "  <th>Gender_M</th>                      <td>   -9.8934</td> <td>    0.437</td> <td>  -22.643</td> <td> 0.000</td> <td>  -10.750</td> <td>   -9.037</td>\n",
       "</tr>\n",
       "<tr>\n",
       "  <th>Division_FinanceAndAccounting</th> <td>  -15.9020</td> <td>    6.299</td> <td>   -2.525</td> <td> 0.012</td> <td>  -28.249</td> <td>   -3.555</td>\n",
       "</tr>\n",
       "<tr>\n",
       "  <th>Division_HumanResources</th>       <td>  -14.4895</td> <td>    6.337</td> <td>   -2.287</td> <td> 0.022</td> <td>  -26.911</td> <td>   -2.068</td>\n",
       "</tr>\n",
       "<tr>\n",
       "  <th>Division_InfoTech</th>             <td>   -3.0796</td> <td>    8.508</td> <td>   -0.362</td> <td> 0.717</td> <td>  -19.758</td> <td>   13.599</td>\n",
       "</tr>\n",
       "<tr>\n",
       "  <th>Division_Legal</th>                <td>    1.6591</td> <td>   12.683</td> <td>    0.131</td> <td> 0.896</td> <td>  -23.204</td> <td>   26.522</td>\n",
       "</tr>\n",
       "<tr>\n",
       "  <th>BusinessUnit_Stores</th>           <td>   -1.6915</td> <td>    6.341</td> <td>   -0.267</td> <td> 0.790</td> <td>  -14.121</td> <td>   10.738</td>\n",
       "</tr>\n",
       "<tr>\n",
       "  <th>MostAbsent_True</th>               <td>   49.9832</td> <td>    0.656</td> <td>   76.230</td> <td> 0.000</td> <td>   48.698</td> <td>   51.269</td>\n",
       "</tr>\n",
       "<tr>\n",
       "  <th>NoAbsent_True</th>                 <td>  -21.2798</td> <td>    0.727</td> <td>  -29.262</td> <td> 0.000</td> <td>  -22.705</td> <td>  -19.854</td>\n",
       "</tr>\n",
       "<tr>\n",
       "  <th>Job_Cashier</th>                   <td>   -2.9875</td> <td>    4.481</td> <td>   -0.667</td> <td> 0.505</td> <td>  -11.772</td> <td>    5.796</td>\n",
       "</tr>\n",
       "<tr>\n",
       "  <th>Job_Dairy Person</th>              <td>  -41.6320</td> <td>   19.706</td> <td>   -2.113</td> <td> 0.035</td> <td>  -80.261</td> <td>   -3.003</td>\n",
       "</tr>\n",
       "<tr>\n",
       "  <th>Job_Meat Cutter</th>               <td>   -1.0281</td> <td>    4.484</td> <td>   -0.229</td> <td> 0.819</td> <td>   -9.818</td> <td>    7.762</td>\n",
       "</tr>\n",
       "<tr>\n",
       "  <th>Job_Other</th>                     <td>   -4.8518</td> <td>    2.955</td> <td>   -1.642</td> <td> 0.101</td> <td>  -10.644</td> <td>    0.940</td>\n",
       "</tr>\n",
       "<tr>\n",
       "  <th>Job_Produce Clerk</th>             <td>   -4.0203</td> <td>    4.493</td> <td>   -0.895</td> <td> 0.371</td> <td>  -12.828</td> <td>    4.787</td>\n",
       "</tr>\n",
       "<tr>\n",
       "  <th>Job_Shelf Stocker</th>             <td>   -6.5619</td> <td>    3.808</td> <td>   -1.723</td> <td> 0.085</td> <td>  -14.026</td> <td>    0.902</td>\n",
       "</tr>\n",
       "<tr>\n",
       "  <th>Department_Customer Service</th>   <td>    3.2305</td> <td>    4.425</td> <td>    0.730</td> <td> 0.465</td> <td>   -5.443</td> <td>   11.904</td>\n",
       "</tr>\n",
       "<tr>\n",
       "  <th>Department_Dairy</th>              <td>   42.3999</td> <td>   19.692</td> <td>    2.153</td> <td> 0.031</td> <td>    3.798</td> <td>   81.002</td>\n",
       "</tr>\n",
       "<tr>\n",
       "  <th>Department_Meats</th>              <td>    0.5980</td> <td>    4.425</td> <td>    0.135</td> <td> 0.893</td> <td>   -8.076</td> <td>    9.272</td>\n",
       "</tr>\n",
       "<tr>\n",
       "  <th>Department_Other</th>              <td>    6.3723</td> <td>    3.690</td> <td>    1.727</td> <td> 0.084</td> <td>   -0.862</td> <td>   13.606</td>\n",
       "</tr>\n",
       "<tr>\n",
       "  <th>Department_Produce</th>            <td>    3.4649</td> <td>    4.425</td> <td>    0.783</td> <td> 0.434</td> <td>   -5.208</td> <td>   12.138</td>\n",
       "</tr>\n",
       "</table>\n",
       "<table class=\"simpletable\">\n",
       "<tr>\n",
       "  <th>Omnibus:</th>       <td>140.755</td> <th>  Durbin-Watson:     </th> <td>   2.028</td>\n",
       "</tr>\n",
       "<tr>\n",
       "  <th>Prob(Omnibus):</th> <td> 0.000</td>  <th>  Jarque-Bera (JB):  </th> <td> 164.758</td>\n",
       "</tr>\n",
       "<tr>\n",
       "  <th>Skew:</th>          <td> 0.265</td>  <th>  Prob(JB):          </th> <td>1.67e-36</td>\n",
       "</tr>\n",
       "<tr>\n",
       "  <th>Kurtosis:</th>      <td> 3.441</td>  <th>  Cond. No.          </th> <td>6.30e+05</td>\n",
       "</tr>\n",
       "</table><br/><br/>Warnings:<br/>[1] Standard Errors assume that the covariance matrix of the errors is correctly specified.<br/>[2] The condition number is large, 6.3e+05. This might indicate that there are<br/>strong multicollinearity or other numerical problems."
      ],
      "text/plain": [
       "<class 'statsmodels.iolib.summary.Summary'>\n",
       "\"\"\"\n",
       "                            OLS Regression Results                            \n",
       "==============================================================================\n",
       "Dep. Variable:            AbsentHours   R-squared:                       0.843\n",
       "Model:                            OLS   Adj. R-squared:                  0.842\n",
       "Method:                 Least Squares   F-statistic:                     2026.\n",
       "Date:                Wed, 09 Oct 2019   Prob (F-statistic):               0.00\n",
       "Time:                        12:56:13   Log-Likelihood:                -36565.\n",
       "No. Observations:                8336   AIC:                         7.318e+04\n",
       "Df Residuals:                    8313   BIC:                         7.334e+04\n",
       "Df Model:                          22                                         \n",
       "Covariance Type:            nonrobust                                         \n",
       "=================================================================================================\n",
       "                                    coef    std err          t      P>|t|      [0.025      0.975]\n",
       "-------------------------------------------------------------------------------------------------\n",
       "const                           -37.1308      6.613     -5.615      0.000     -50.094     -24.168\n",
       "EmployeeNumber                -2.353e-05      0.000     -0.234      0.815      -0.000       0.000\n",
       "Age                               2.3461      0.034     69.471      0.000       2.280       2.412\n",
       "LengthService                    -0.4706      0.111     -4.247      0.000      -0.688      -0.253\n",
       "Gender_M                         -9.8934      0.437    -22.643      0.000     -10.750      -9.037\n",
       "Division_FinanceAndAccounting   -15.9020      6.299     -2.525      0.012     -28.249      -3.555\n",
       "Division_HumanResources         -14.4895      6.337     -2.287      0.022     -26.911      -2.068\n",
       "Division_InfoTech                -3.0796      8.508     -0.362      0.717     -19.758      13.599\n",
       "Division_Legal                    1.6591     12.683      0.131      0.896     -23.204      26.522\n",
       "BusinessUnit_Stores              -1.6915      6.341     -0.267      0.790     -14.121      10.738\n",
       "MostAbsent_True                  49.9832      0.656     76.230      0.000      48.698      51.269\n",
       "NoAbsent_True                   -21.2798      0.727    -29.262      0.000     -22.705     -19.854\n",
       "Job_Cashier                      -2.9875      4.481     -0.667      0.505     -11.772       5.796\n",
       "Job_Dairy Person                -41.6320     19.706     -2.113      0.035     -80.261      -3.003\n",
       "Job_Meat Cutter                  -1.0281      4.484     -0.229      0.819      -9.818       7.762\n",
       "Job_Other                        -4.8518      2.955     -1.642      0.101     -10.644       0.940\n",
       "Job_Produce Clerk                -4.0203      4.493     -0.895      0.371     -12.828       4.787\n",
       "Job_Shelf Stocker                -6.5619      3.808     -1.723      0.085     -14.026       0.902\n",
       "Department_Customer Service       3.2305      4.425      0.730      0.465      -5.443      11.904\n",
       "Department_Dairy                 42.3999     19.692      2.153      0.031       3.798      81.002\n",
       "Department_Meats                  0.5980      4.425      0.135      0.893      -8.076       9.272\n",
       "Department_Other                  6.3723      3.690      1.727      0.084      -0.862      13.606\n",
       "Department_Produce                3.4649      4.425      0.783      0.434      -5.208      12.138\n",
       "==============================================================================\n",
       "Omnibus:                      140.755   Durbin-Watson:                   2.028\n",
       "Prob(Omnibus):                  0.000   Jarque-Bera (JB):              164.758\n",
       "Skew:                           0.265   Prob(JB):                     1.67e-36\n",
       "Kurtosis:                       3.441   Cond. No.                     6.30e+05\n",
       "==============================================================================\n",
       "\n",
       "Warnings:\n",
       "[1] Standard Errors assume that the covariance matrix of the errors is correctly specified.\n",
       "[2] The condition number is large, 6.3e+05. This might indicate that there are\n",
       "strong multicollinearity or other numerical problems.\n",
       "\"\"\""
      ]
     },
     "execution_count": 25,
     "metadata": {},
     "output_type": "execute_result"
    }
   ],
   "source": [
    "lin_reg.summary()"
   ]
  },
  {
   "cell_type": "markdown",
   "metadata": {},
   "source": [
    "## Linear regression Machine learning"
   ]
  },
  {
   "cell_type": "code",
   "execution_count": 26,
   "metadata": {},
   "outputs": [],
   "source": [
    "# X_train,X_test,y_train,y_test = train_test_split(X,y,test_split())"
   ]
  },
  {
   "cell_type": "code",
   "execution_count": null,
   "metadata": {},
   "outputs": [],
   "source": []
  }
 ],
 "metadata": {
  "kernelspec": {
   "display_name": "Python 3",
   "language": "python",
   "name": "python3"
  },
  "language_info": {
   "codemirror_mode": {
    "name": "ipython",
    "version": 3
   },
   "file_extension": ".py",
   "mimetype": "text/x-python",
   "name": "python",
   "nbconvert_exporter": "python",
   "pygments_lexer": "ipython3",
   "version": "3.7.0"
  },
  "latex_envs": {
   "LaTeX_envs_menu_present": true,
   "autoclose": false,
   "autocomplete": true,
   "bibliofile": "biblio.bib",
   "cite_by": "apalike",
   "current_citInitial": 1,
   "eqLabelWithNumbers": true,
   "eqNumInitial": 1,
   "hotkeys": {
    "equation": "Ctrl-E",
    "itemize": "Ctrl-I"
   },
   "labels_anchors": false,
   "latex_user_defs": false,
   "report_style_numbering": false,
   "user_envs_cfg": false
  },
  "toc": {
   "base_numbering": 1,
   "nav_menu": {},
   "number_sections": true,
   "sideBar": true,
   "skip_h1_title": false,
   "title_cell": "Table of Contents",
   "title_sidebar": "Contents",
   "toc_cell": false,
   "toc_position": {},
   "toc_section_display": true,
   "toc_window_display": true
  }
 },
 "nbformat": 4,
 "nbformat_minor": 2
}
