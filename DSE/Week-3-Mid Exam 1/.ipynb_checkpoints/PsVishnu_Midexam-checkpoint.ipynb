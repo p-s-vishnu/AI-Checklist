{
 "cells": [
  {
   "cell_type": "markdown",
   "metadata": {},
   "source": [
    "# Mid Exam"
   ]
  },
  {
   "cell_type": "markdown",
   "metadata": {},
   "source": [
    "## Section A\n",
    "2 * 4 = 8 Marks"
   ]
  },
  {
   "cell_type": "markdown",
   "metadata": {},
   "source": [
    "### 1. List the difference between Tuple and List ?\n"
   ]
  },
  {
   "cell_type": "markdown",
   "metadata": {},
   "source": [
    "Tuple are comma separated values enclosed within '(' and ')' brackets, whereas a list is a comman separated value enclosed by '[' and ']' square brackets."
   ]
  },
  {
   "cell_type": "code",
   "execution_count": 1,
   "metadata": {},
   "outputs": [
    {
     "name": "stdout",
     "output_type": "stream",
     "text": [
      "(1, 2, 3)\n",
      "[1, 2, 3]\n"
     ]
    }
   ],
   "source": [
    "tup = (1,2,3)\n",
    "print(tup)\n",
    "\n",
    "lst = [1,2,3]\n",
    "print(lst)"
   ]
  },
  {
   "cell_type": "markdown",
   "metadata": {},
   "source": [
    "The most important difference between Tuple and List is that Tuples are `immutable` whereas lists are `mutable`. \n",
    "Which means once tuples are initialized they cannot be modified further.\n",
    "\n",
    "Example "
   ]
  },
  {
   "cell_type": "code",
   "execution_count": 2,
   "metadata": {},
   "outputs": [
    {
     "name": "stdout",
     "output_type": "stream",
     "text": [
      "Before edit [1, 2, 3]\n",
      "[10, 2, 3]\n"
     ]
    }
   ],
   "source": [
    "print('Before edit',lst)\n",
    "lst[0] = 10 \n",
    "print(lst)"
   ]
  },
  {
   "cell_type": "code",
   "execution_count": 3,
   "metadata": {},
   "outputs": [
    {
     "name": "stdout",
     "output_type": "stream",
     "text": [
      "Before edit (1, 2, 3)\n"
     ]
    },
    {
     "ename": "TypeError",
     "evalue": "'tuple' object does not support item assignment",
     "output_type": "error",
     "traceback": [
      "\u001b[1;31m---------------------------------------------------------------------------\u001b[0m",
      "\u001b[1;31mTypeError\u001b[0m                                 Traceback (most recent call last)",
      "\u001b[1;32m<ipython-input-3-87e0db5152f4>\u001b[0m in \u001b[0;36m<module>\u001b[1;34m\u001b[0m\n\u001b[0;32m      1\u001b[0m \u001b[1;31m# This will throw up an error\u001b[0m\u001b[1;33m\u001b[0m\u001b[1;33m\u001b[0m\u001b[0m\n\u001b[0;32m      2\u001b[0m \u001b[0mprint\u001b[0m\u001b[1;33m(\u001b[0m\u001b[1;34m'Before edit'\u001b[0m\u001b[1;33m,\u001b[0m\u001b[0mtup\u001b[0m\u001b[1;33m)\u001b[0m\u001b[1;33m\u001b[0m\u001b[0m\n\u001b[1;32m----> 3\u001b[1;33m \u001b[0mtup\u001b[0m\u001b[1;33m[\u001b[0m\u001b[1;36m0\u001b[0m\u001b[1;33m]\u001b[0m \u001b[1;33m=\u001b[0m \u001b[1;36m10\u001b[0m\u001b[1;33m\u001b[0m\u001b[0m\n\u001b[0m\u001b[0;32m      4\u001b[0m \u001b[0mprint\u001b[0m\u001b[1;33m(\u001b[0m\u001b[0mtup\u001b[0m\u001b[1;33m)\u001b[0m\u001b[1;33m\u001b[0m\u001b[0m\n",
      "\u001b[1;31mTypeError\u001b[0m: 'tuple' object does not support item assignment"
     ]
    }
   ],
   "source": [
    "# This will throw up an error\n",
    "print('Before edit',tup)\n",
    "tup[0] = 10 \n",
    "print(tup)"
   ]
  },
  {
   "cell_type": "markdown",
   "metadata": {},
   "source": [
    "### 2.What is a dictionary in Python and  write a syntax to create a dictionary ?"
   ]
  },
  {
   "cell_type": "markdown",
   "metadata": {},
   "source": [
    "- A dictionary in python is an advanced data type.\n",
    "- It stores value in the key value format"
   ]
  },
  {
   "cell_type": "code",
   "execution_count": 5,
   "metadata": {},
   "outputs": [
    {
     "name": "stdout",
     "output_type": "stream",
     "text": [
      "{'Name': 'Ram', 'Age': 24}\n"
     ]
    }
   ],
   "source": [
    "d = {\n",
    "    \"Name\":\"Ram\",\n",
    "    \"Age\":24\n",
    "}\n",
    "print(d)"
   ]
  },
  {
   "cell_type": "markdown",
   "metadata": {},
   "source": [
    "### 3. For the give List, print all the elements in reverse without the keyword reverse.\n",
    "Lst  = [ 10,20,30,40]"
   ]
  },
  {
   "cell_type": "code",
   "execution_count": 6,
   "metadata": {},
   "outputs": [
    {
     "name": "stdout",
     "output_type": "stream",
     "text": [
      "[10, 20, 30, 40]\n",
      "Reverse\n",
      "[40, 30, 20, 10]\n"
     ]
    }
   ],
   "source": [
    "lst = [ 10,20,30,40]\n",
    "\n",
    "print(lst)\n",
    "print(\"Reverse\")\n",
    "print(lst[::-1])"
   ]
  },
  {
   "cell_type": "markdown",
   "metadata": {},
   "source": [
    "### 4. Write a code to print the current system date ?"
   ]
  },
  {
   "cell_type": "code",
   "execution_count": 32,
   "metadata": {
    "scrolled": true
   },
   "outputs": [
    {
     "name": "stdout",
     "output_type": "stream",
     "text": [
      "3 / 9 / 2019\n"
     ]
    }
   ],
   "source": [
    "# Since the current format was not mentioned in the question, \n",
    "# I am using the date.localtime format \n",
    "\n",
    "import time\n",
    "\n",
    "# tm_year, current year\n",
    "# tm_mon, current month\n",
    "# tm_mday, current day\n",
    "tim = list(time.localtime(time.time()))\n",
    "print(tim[2],\"/\",tim[1],\"/\",tim[0])"
   ]
  },
  {
   "cell_type": "markdown",
   "metadata": {},
   "source": [
    "## Section B\n",
    "5 * 3 = 15 Marks"
   ]
  },
  {
   "cell_type": "markdown",
   "metadata": {},
   "source": [
    "### 1. Write a Python program to find those numbers which are divisible by 7 and multiple of 5, between 1500 and 2700 (both included)."
   ]
  },
  {
   "cell_type": "code",
   "execution_count": 8,
   "metadata": {},
   "outputs": [
    {
     "name": "stdout",
     "output_type": "stream",
     "text": [
      "[1505, 1540, 1575, 1610, 1645, 1680, 1715, 1750, 1785, 1820, 1855, 1890, 1925, 1960, 1995, 2030, 2065, 2100, 2135, 2170, 2205, 2240, 2275, 2310, 2345, 2380, 2415, 2450, 2485, 2520, 2555, 2590, 2625, 2660, 2695]\n"
     ]
    }
   ],
   "source": [
    "out = [i for i in range(1500,2700 + 1) if i % 7 == 0 and i % 5 == 0]\n",
    "\n",
    "print(out)\n",
    "# print('Total elements:',len(out))"
   ]
  },
  {
   "cell_type": "markdown",
   "metadata": {},
   "source": [
    "### 2. Get sum of squares of all even and odd numbers between 334 and 667 (include both) in separate list."
   ]
  },
  {
   "cell_type": "code",
   "execution_count": 9,
   "metadata": {
    "scrolled": true
   },
   "outputs": [
    {
     "name": "stdout",
     "output_type": "stream",
     "text": [
      "Sum of square of Even list: 43302432\n",
      "Sum of square of Odd list: 43469599\n"
     ]
    }
   ],
   "source": [
    "start = 334\n",
    "stop = 667\n",
    "\n",
    "even = [i**2 for i in range(start,stop+1) if i%2==0]\n",
    "odd = [i**2 for i in range(start,stop+1) if i%2!=0]\n",
    "\n",
    "print(\"Sum of square of Even list:\",sum(even))\n",
    "print(\"Sum of square of Odd list:\",sum(odd))"
   ]
  },
  {
   "cell_type": "markdown",
   "metadata": {},
   "source": [
    "### 3. Create a 3 column array with variables ‘Item’ with string datatype, ‘Count’ – int datatype, ‘Amount’ – float datatype.\n",
    "\n",
    "    Load 4 records with sample data—vegetable,3,454.2; almond,15,762.1; cake,5,200; cashew,20,1400.4\n",
    "    i) Display all the data\n",
    "    ii) Display only the ‘Count’ column\n",
    "    iii) Display only the first 2 values of the ‘Count’ column\n"
   ]
  },
  {
   "cell_type": "code",
   "execution_count": 10,
   "metadata": {},
   "outputs": [
    {
     "name": "stdout",
     "output_type": "stream",
     "text": [
      "[['vegetable', 3, 454.2], ['almond', 15, 762.1], ['cake', 5, 200], ['cashew', 20, 1400.4]]\n",
      "\n",
      "Count of  vegetable: 3\n",
      "Count of  almond: 15\n",
      "Count of  cake: 5\n",
      "Count of  cashew: 20\n",
      "\n",
      "Count of  vegetable: 3\n",
      "Count of  almond: 15\n",
      "\n"
     ]
    }
   ],
   "source": [
    "# List of list\n",
    "# col = 3 \n",
    "# row = 4 \n",
    "# lst 'string', int, float\n",
    "# Item, Count, Amount\n",
    "veg_list = [\n",
    "    [\"vegetable\",3,454.2],\n",
    "    [\"almond\",15,762.1],\n",
    "    [\"cake\",5,200],\n",
    "    [\"cashew\",20,1400.4]\n",
    "]\n",
    "\n",
    "# Question 1\n",
    "print(veg_list);print()\n",
    "\n",
    "# Question 2\n",
    "for elem in veg_list:\n",
    "    print(f'Count of  {elem[0]}:',elem[1])\n",
    "print()\n",
    "    \n",
    "# Question 3\n",
    "for elem in veg_list[:2]:\n",
    "    print(f'Count of  {elem[0]}:',elem[1])\n",
    "print()    "
   ]
  },
  {
   "cell_type": "markdown",
   "metadata": {},
   "source": [
    "### 4. Calculate sum of 30 natural numbers using while loop (output: 465). Allow only if the loop is positive else throw an error"
   ]
  },
  {
   "cell_type": "code",
   "execution_count": 34,
   "metadata": {},
   "outputs": [
    {
     "name": "stdout",
     "output_type": "stream",
     "text": [
      "465\n"
     ]
    }
   ],
   "source": [
    "sum = 0 \n",
    "i = 1\n",
    "n = 30\n",
    "\n",
    "if i < 0:\n",
    "    print(\"Error\")\n",
    "else:\n",
    "    while i <= n:\n",
    "        sum += i\n",
    "        i+=1\n",
    "    \n",
    "print(sum)"
   ]
  },
  {
   "cell_type": "markdown",
   "metadata": {},
   "source": [
    "### 5. Check if the run time input value is a prime number or not"
   ]
  },
  {
   "cell_type": "code",
   "execution_count": 12,
   "metadata": {},
   "outputs": [
    {
     "name": "stdout",
     "output_type": "stream",
     "text": [
      "Enter the integer:21\n",
      "The entered number is Not Prime\n"
     ]
    }
   ],
   "source": [
    "from math import sqrt\n",
    "\n",
    "def is_prime(n):\n",
    "    n = abs(n)\n",
    "    for i in range(2,int(sqrt(n)+1)):\n",
    "        if n % i == 0:\n",
    "            return False\n",
    "    return True\n",
    "\n",
    "inp = int(input(\"Enter the integer:\"))\n",
    "\n",
    "print(\"The entered number is\",\"Prime\" if is_prime(inp) else \"Not Prime\")"
   ]
  },
  {
   "cell_type": "markdown",
   "metadata": {},
   "source": [
    "## Section C\n",
    "\n",
    "7 marks : 1 * 7 = 7 marks"
   ]
  },
  {
   "cell_type": "markdown",
   "metadata": {},
   "source": [
    "### Created a nested dictionary with 2 records with below data  and do data slice to get  name, age and gender alone in each statement"
   ]
  },
  {
   "cell_type": "code",
   "execution_count": 13,
   "metadata": {},
   "outputs": [],
   "source": [
    "#helper functions\n",
    "def display(di):\n",
    "    for k,v in di.items():\n",
    "        print(k,\":\",v)"
   ]
  },
  {
   "cell_type": "markdown",
   "metadata": {},
   "source": [
    "### Step1"
   ]
  },
  {
   "cell_type": "raw",
   "metadata": {},
   "source": [
    "Name : john\n",
    "Age 27\n",
    "Sex – male\n",
    "Ans :\n",
    "Name : Marie\n",
    "Age 22\n",
    "Sex – female"
   ]
  },
  {
   "cell_type": "code",
   "execution_count": 14,
   "metadata": {},
   "outputs": [],
   "source": [
    "# Since the keys are not specified for the outer dictionary \n",
    "# Im choosing the keys as indexes"
   ]
  },
  {
   "cell_type": "code",
   "execution_count": 43,
   "metadata": {},
   "outputs": [
    {
     "name": "stdout",
     "output_type": "stream",
     "text": [
      "Name : john\n",
      "Age : 27\n",
      "Sex : male\n",
      "Name : Marie\n",
      "Age : 22\n",
      "Sex : female\n"
     ]
    }
   ],
   "source": [
    "d = {\n",
    "    \n",
    "    1:{\n",
    "       \"Name\":\"john\",\n",
    "        \"Age\":27,\n",
    "        \"Sex\":\"male\"\n",
    "    },\n",
    "    \n",
    "    2:{\n",
    "        \"Name\":\"Marie\",\n",
    "        \"Age\":22,\n",
    "        \"Sex\":\"female\"\n",
    "    }\n",
    "}\n",
    "# d\n",
    "\n",
    "for elem in d.values():\n",
    "    for k,v in elem.items():\n",
    "        print(k,\":\",v)"
   ]
  },
  {
   "cell_type": "markdown",
   "metadata": {},
   "source": [
    "### Step 2 : add 3 rd element to the nest dictionary"
   ]
  },
  {
   "cell_type": "raw",
   "metadata": {},
   "source": [
    "name : Luna\n",
    "age = 34\n",
    "gender = female"
   ]
  },
  {
   "cell_type": "code",
   "execution_count": 44,
   "metadata": {},
   "outputs": [
    {
     "data": {
      "text/plain": [
       "{1: {'Name': 'john', 'Age': 27, 'Sex': 'male'},\n",
       " 2: {'Name': 'Marie', 'Age': 22, 'Sex': 'female'},\n",
       " 3: {'Name': 'Luna', 'Age': 34, 'Sex': 'female'}}"
      ]
     },
     "execution_count": 44,
     "metadata": {},
     "output_type": "execute_result"
    }
   ],
   "source": [
    "new_d = {\n",
    "    'Name': 'Luna', 'Age': 34, 'Sex': 'female'\n",
    "}\n",
    "\n",
    "d.update({3:new_d})\n",
    "d"
   ]
  },
  {
   "cell_type": "markdown",
   "metadata": {},
   "source": [
    "### Step 3: Add an element from the nested dictionary"
   ]
  },
  {
   "cell_type": "raw",
   "metadata": {},
   "source": [
    "Luna , married - no\n",
    "Peter.29,male, married - yes"
   ]
  },
  {
   "cell_type": "code",
   "execution_count": 45,
   "metadata": {},
   "outputs": [
    {
     "name": "stdout",
     "output_type": "stream",
     "text": [
      "{'Name': 'Luna', 'Age': 34, 'Sex': 'female', 'married': 'no'} \n",
      "\n",
      "1 : {'Name': 'john', 'Age': 27, 'Sex': 'male'}\n",
      "2 : {'Name': 'Marie', 'Age': 22, 'Sex': 'female'}\n",
      "3 : {'Name': 'Luna', 'Age': 34, 'Sex': 'female', 'married': 'no'}\n",
      "4 : {'Name': 'Peter', 'Age': 29, 'Sex': 'male', 'married': 'yes'}\n"
     ]
    }
   ],
   "source": [
    "# find Luna in the nested dictionary and add a new attribute to him\n",
    "luna = {}\n",
    "for elem in d.values():\n",
    "    if elem['Name'] == 'Luna':\n",
    "        luna = elem\n",
    "        break\n",
    "\n",
    "luna['married'] = \"no\"\n",
    "print(luna,'\\n')\n",
    "\n",
    "# Since peter is a new entry update his details to the list\n",
    "peter = {\"Name\":\"Peter\",\"Age\":29,\"Sex\":\"male\",\"married\":\"yes\"}\n",
    "d.update({4:peter})\n",
    "display(d)"
   ]
  },
  {
   "cell_type": "markdown",
   "metadata": {},
   "source": [
    "### Step 4  :\n",
    "Delete the element 3 which is married  from the nested dict\n"
   ]
  },
  {
   "cell_type": "code",
   "execution_count": 46,
   "metadata": {},
   "outputs": [
    {
     "name": "stdout",
     "output_type": "stream",
     "text": [
      "Deleted... \n",
      "\n",
      "1 : {'Name': 'john', 'Age': 27, 'Sex': 'male'}\n",
      "2 : {'Name': 'Marie', 'Age': 22, 'Sex': 'female'}\n",
      "3 : {'Name': 'Luna', 'Age': 34, 'Sex': 'female', 'married': 'no'}\n"
     ]
    }
   ],
   "source": [
    "# delete elem 3 who is married\n",
    "d.pop(4)\n",
    "print('Deleted...','\\n')\n",
    "display(d)"
   ]
  },
  {
   "cell_type": "markdown",
   "metadata": {},
   "source": [
    "### Step 5 :\n",
    "How to delete the dictionary from the nested dict "
   ]
  },
  {
   "cell_type": "markdown",
   "metadata": {},
   "source": [
    "Elements  in a dictionary can be removed using `pop()` `del`.\n",
    "\n",
    "However in order to delete the whole dictionary `clear()` can be used."
   ]
  },
  {
   "cell_type": "code",
   "execution_count": 47,
   "metadata": {},
   "outputs": [
    {
     "name": "stdout",
     "output_type": "stream",
     "text": [
      "Before clearing\n",
      "1 : {'Name': 'john', 'Age': 27, 'Sex': 'male'}\n",
      "2 : {'Name': 'Marie', 'Age': 22, 'Sex': 'female'}\n",
      "3 : {'Name': 'Luna', 'Age': 34, 'Sex': 'female', 'married': 'no'}\n",
      "After clearning\n"
     ]
    }
   ],
   "source": [
    "d1 = d.copy()\n",
    "print(\"Before clearing\")\n",
    "display(d1)\n",
    "d1.clear()\n",
    "print(\"After clearning\")\n",
    "display(d1)"
   ]
  },
  {
   "cell_type": "markdown",
   "metadata": {},
   "source": [
    "### Step 6 :  \n",
    "Iterate through  nested dic and get the output in the below format"
   ]
  },
  {
   "cell_type": "raw",
   "metadata": {},
   "source": [
    "Person ID: 1\n",
    "Name: John\n",
    "Age: 27\n",
    "Sex: Male\n",
    "\n",
    "Person ID: 2\n",
    "Name: Marie\n",
    "Age: 22\n",
    "Sex: Female"
   ]
  },
  {
   "cell_type": "code",
   "execution_count": 49,
   "metadata": {},
   "outputs": [
    {
     "name": "stdout",
     "output_type": "stream",
     "text": [
      "Person ID: 1\n",
      "Name : john\n",
      "Age : 27\n",
      "Sex : male\n",
      "\n",
      "Person ID: 2\n",
      "Name : Marie\n",
      "Age : 22\n",
      "Sex : female\n",
      "\n",
      "Person ID: 3\n",
      "Name : Luna\n",
      "Age : 34\n",
      "Sex : female\n",
      "married : no\n",
      "\n"
     ]
    }
   ],
   "source": [
    "for key, val in d.items():\n",
    "    print(\"Person ID:\",key)\n",
    "    for k,v in val.items():\n",
    "        print(k,\":\",v)\n",
    "    print()"
   ]
  }
 ],
 "metadata": {
  "kernelspec": {
   "display_name": "Python 3",
   "language": "python",
   "name": "python3"
  },
  "language_info": {
   "codemirror_mode": {
    "name": "ipython",
    "version": 3
   },
   "file_extension": ".py",
   "mimetype": "text/x-python",
   "name": "python",
   "nbconvert_exporter": "python",
   "pygments_lexer": "ipython3",
   "version": "3.7.0"
  }
 },
 "nbformat": 4,
 "nbformat_minor": 2
}
