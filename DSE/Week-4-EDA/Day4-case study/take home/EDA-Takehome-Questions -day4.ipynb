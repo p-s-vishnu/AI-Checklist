{
 "cells": [
  {
   "cell_type": "markdown",
   "metadata": {},
   "source": [
    "## Case Study 1(Cervical Cancer Risk Classification)    \n",
    "    \n",
    "   \n",
    "    Age\n",
    "    Number of sexual partners\n",
    "    First sexual intercourse\n",
    "    Num of pregnancies\n",
    "    Smokes\n",
    "    Smokes (years)\n",
    "    Smokes (packs/year)\n",
    "    Hormonal Contraceptives\n",
    "    Hormonal Contraceptives (years)\n",
    "    IUD\n",
    "    IUD (years)\n",
    "    STDs\n",
    "    STDs (number)\n",
    "    STDs:condylomatosis\n",
    "    STDs:cervical condylomatosis\n",
    "    STDs:vaginal condylomatosis\n",
    "    STDs:vulvo-perineal condylomatosis\n",
    "    STDs:syphilis\n",
    "    STDs:pelvic inflammatory disease\n",
    "    STDs:genital herpes\n",
    "    STDs:molluscum contagiosum\n",
    "    STDs:AIDS\n",
    "    STDs:HIV\n",
    "    STDs:Hepatitis B\n",
    "    STDs:HPV\n",
    "    STDs: Number of diagnosis\n",
    "    STDs: Time since first diagnosis\n",
    "    STDs: Time since last diagnosis\n",
    "    Dx:Cancer\n",
    "    Dx:CIN\n",
    "    Dx:HPV\n",
    "    Dx\n",
    "    Hinselmann\n",
    "    Schiller\n",
    "    Citology\n",
    "    Biopsy"
   ]
  },
  {
   "cell_type": "markdown",
   "metadata": {
    "colab_type": "text",
    "id": "mwxBZ0MqOH6A"
   },
   "source": [
    "### 1.1 import some necessary librairies"
   ]
  },
  {
   "cell_type": "code",
   "execution_count": 1,
   "metadata": {},
   "outputs": [],
   "source": [
    "import pandas as pd\n",
    "import numpy as np\n",
    "import matplotlib.pyplot as plt\n",
    "import seaborn as sns\n",
    "from statistics import mode"
   ]
  },
  {
   "cell_type": "markdown",
   "metadata": {
    "colab_type": "text",
    "id": "Ypt-ibyqOXWX"
   },
   "source": [
    "### 1.2 import and put the train and test datasets in  pandas dataframe"
   ]
  },
  {
   "cell_type": "code",
   "execution_count": 2,
   "metadata": {},
   "outputs": [
    {
     "name": "stdout",
     "output_type": "stream",
     "text": [
      "(858, 36) \n",
      "\n",
      "\n"
     ]
    },
    {
     "data": {
      "text/html": [
       "<div>\n",
       "<style scoped>\n",
       "    .dataframe tbody tr th:only-of-type {\n",
       "        vertical-align: middle;\n",
       "    }\n",
       "\n",
       "    .dataframe tbody tr th {\n",
       "        vertical-align: top;\n",
       "    }\n",
       "\n",
       "    .dataframe thead th {\n",
       "        text-align: right;\n",
       "    }\n",
       "</style>\n",
       "<table border=\"1\" class=\"dataframe\">\n",
       "  <thead>\n",
       "    <tr style=\"text-align: right;\">\n",
       "      <th></th>\n",
       "      <th>Age</th>\n",
       "      <th>Number of sexual partners</th>\n",
       "      <th>First sexual intercourse</th>\n",
       "      <th>Num of pregnancies</th>\n",
       "      <th>Smokes</th>\n",
       "      <th>Smokes (years)</th>\n",
       "      <th>Smokes (packs/year)</th>\n",
       "      <th>Hormonal Contraceptives</th>\n",
       "      <th>Hormonal Contraceptives (years)</th>\n",
       "      <th>IUD</th>\n",
       "      <th>...</th>\n",
       "      <th>STDs: Time since first diagnosis</th>\n",
       "      <th>STDs: Time since last diagnosis</th>\n",
       "      <th>Dx:Cancer</th>\n",
       "      <th>Dx:CIN</th>\n",
       "      <th>Dx:HPV</th>\n",
       "      <th>Dx</th>\n",
       "      <th>Hinselmann</th>\n",
       "      <th>Schiller</th>\n",
       "      <th>Citology</th>\n",
       "      <th>Biopsy</th>\n",
       "    </tr>\n",
       "  </thead>\n",
       "  <tbody>\n",
       "    <tr>\n",
       "      <td>0</td>\n",
       "      <td>18</td>\n",
       "      <td>4.0</td>\n",
       "      <td>15.0</td>\n",
       "      <td>1.0</td>\n",
       "      <td>0.0</td>\n",
       "      <td>0.0</td>\n",
       "      <td>0.0</td>\n",
       "      <td>0.0</td>\n",
       "      <td>0.0</td>\n",
       "      <td>0.0</td>\n",
       "      <td>...</td>\n",
       "      <td>?</td>\n",
       "      <td>?</td>\n",
       "      <td>0</td>\n",
       "      <td>0</td>\n",
       "      <td>0</td>\n",
       "      <td>0</td>\n",
       "      <td>0</td>\n",
       "      <td>0</td>\n",
       "      <td>0</td>\n",
       "      <td>0</td>\n",
       "    </tr>\n",
       "    <tr>\n",
       "      <td>1</td>\n",
       "      <td>15</td>\n",
       "      <td>1.0</td>\n",
       "      <td>14.0</td>\n",
       "      <td>1.0</td>\n",
       "      <td>0.0</td>\n",
       "      <td>0.0</td>\n",
       "      <td>0.0</td>\n",
       "      <td>0.0</td>\n",
       "      <td>0.0</td>\n",
       "      <td>0.0</td>\n",
       "      <td>...</td>\n",
       "      <td>?</td>\n",
       "      <td>?</td>\n",
       "      <td>0</td>\n",
       "      <td>0</td>\n",
       "      <td>0</td>\n",
       "      <td>0</td>\n",
       "      <td>0</td>\n",
       "      <td>0</td>\n",
       "      <td>0</td>\n",
       "      <td>0</td>\n",
       "    </tr>\n",
       "    <tr>\n",
       "      <td>2</td>\n",
       "      <td>34</td>\n",
       "      <td>1.0</td>\n",
       "      <td>?</td>\n",
       "      <td>1.0</td>\n",
       "      <td>0.0</td>\n",
       "      <td>0.0</td>\n",
       "      <td>0.0</td>\n",
       "      <td>0.0</td>\n",
       "      <td>0.0</td>\n",
       "      <td>0.0</td>\n",
       "      <td>...</td>\n",
       "      <td>?</td>\n",
       "      <td>?</td>\n",
       "      <td>0</td>\n",
       "      <td>0</td>\n",
       "      <td>0</td>\n",
       "      <td>0</td>\n",
       "      <td>0</td>\n",
       "      <td>0</td>\n",
       "      <td>0</td>\n",
       "      <td>0</td>\n",
       "    </tr>\n",
       "    <tr>\n",
       "      <td>3</td>\n",
       "      <td>52</td>\n",
       "      <td>5.0</td>\n",
       "      <td>16.0</td>\n",
       "      <td>4.0</td>\n",
       "      <td>1.0</td>\n",
       "      <td>37.0</td>\n",
       "      <td>37.0</td>\n",
       "      <td>1.0</td>\n",
       "      <td>3.0</td>\n",
       "      <td>0.0</td>\n",
       "      <td>...</td>\n",
       "      <td>?</td>\n",
       "      <td>?</td>\n",
       "      <td>1</td>\n",
       "      <td>0</td>\n",
       "      <td>1</td>\n",
       "      <td>0</td>\n",
       "      <td>0</td>\n",
       "      <td>0</td>\n",
       "      <td>0</td>\n",
       "      <td>0</td>\n",
       "    </tr>\n",
       "    <tr>\n",
       "      <td>4</td>\n",
       "      <td>46</td>\n",
       "      <td>3.0</td>\n",
       "      <td>21.0</td>\n",
       "      <td>4.0</td>\n",
       "      <td>0.0</td>\n",
       "      <td>0.0</td>\n",
       "      <td>0.0</td>\n",
       "      <td>1.0</td>\n",
       "      <td>15.0</td>\n",
       "      <td>0.0</td>\n",
       "      <td>...</td>\n",
       "      <td>?</td>\n",
       "      <td>?</td>\n",
       "      <td>0</td>\n",
       "      <td>0</td>\n",
       "      <td>0</td>\n",
       "      <td>0</td>\n",
       "      <td>0</td>\n",
       "      <td>0</td>\n",
       "      <td>0</td>\n",
       "      <td>0</td>\n",
       "    </tr>\n",
       "  </tbody>\n",
       "</table>\n",
       "<p>5 rows × 36 columns</p>\n",
       "</div>"
      ],
      "text/plain": [
       "   Age Number of sexual partners First sexual intercourse Num of pregnancies  \\\n",
       "0   18                       4.0                     15.0                1.0   \n",
       "1   15                       1.0                     14.0                1.0   \n",
       "2   34                       1.0                        ?                1.0   \n",
       "3   52                       5.0                     16.0                4.0   \n",
       "4   46                       3.0                     21.0                4.0   \n",
       "\n",
       "  Smokes Smokes (years) Smokes (packs/year) Hormonal Contraceptives  \\\n",
       "0    0.0            0.0                 0.0                     0.0   \n",
       "1    0.0            0.0                 0.0                     0.0   \n",
       "2    0.0            0.0                 0.0                     0.0   \n",
       "3    1.0           37.0                37.0                     1.0   \n",
       "4    0.0            0.0                 0.0                     1.0   \n",
       "\n",
       "  Hormonal Contraceptives (years)  IUD  ... STDs: Time since first diagnosis  \\\n",
       "0                             0.0  0.0  ...                                ?   \n",
       "1                             0.0  0.0  ...                                ?   \n",
       "2                             0.0  0.0  ...                                ?   \n",
       "3                             3.0  0.0  ...                                ?   \n",
       "4                            15.0  0.0  ...                                ?   \n",
       "\n",
       "  STDs: Time since last diagnosis Dx:Cancer Dx:CIN Dx:HPV Dx Hinselmann  \\\n",
       "0                               ?         0      0      0  0          0   \n",
       "1                               ?         0      0      0  0          0   \n",
       "2                               ?         0      0      0  0          0   \n",
       "3                               ?         1      0      1  0          0   \n",
       "4                               ?         0      0      0  0          0   \n",
       "\n",
       "  Schiller Citology Biopsy  \n",
       "0        0        0      0  \n",
       "1        0        0      0  \n",
       "2        0        0      0  \n",
       "3        0        0      0  \n",
       "4        0        0      0  \n",
       "\n",
       "[5 rows x 36 columns]"
      ]
     },
     "execution_count": 2,
     "metadata": {},
     "output_type": "execute_result"
    }
   ],
   "source": [
    "df = pd.read_csv('./cervicalcancer.csv')\n",
    "print(df.shape,'\\n\\n')\n",
    "df.head()"
   ]
  },
  {
   "cell_type": "code",
   "execution_count": 3,
   "metadata": {},
   "outputs": [
    {
     "name": "stdout",
     "output_type": "stream",
     "text": [
      "<class 'pandas.core.frame.DataFrame'>\n",
      "RangeIndex: 858 entries, 0 to 857\n",
      "Data columns (total 36 columns):\n",
      "Age                                   858 non-null int64\n",
      "Number of sexual partners             858 non-null object\n",
      "First sexual intercourse              858 non-null object\n",
      "Num of pregnancies                    858 non-null object\n",
      "Smokes                                858 non-null object\n",
      "Smokes (years)                        858 non-null object\n",
      "Smokes (packs/year)                   858 non-null object\n",
      "Hormonal Contraceptives               858 non-null object\n",
      "Hormonal Contraceptives (years)       858 non-null object\n",
      "IUD                                   858 non-null object\n",
      "IUD (years)                           858 non-null object\n",
      "STDs                                  858 non-null object\n",
      "STDs (number)                         858 non-null object\n",
      "STDs:condylomatosis                   858 non-null object\n",
      "STDs:cervical condylomatosis          858 non-null object\n",
      "STDs:vaginal condylomatosis           858 non-null object\n",
      "STDs:vulvo-perineal condylomatosis    858 non-null object\n",
      "STDs:syphilis                         858 non-null object\n",
      "STDs:pelvic inflammatory disease      858 non-null object\n",
      "STDs:genital herpes                   858 non-null object\n",
      "STDs:molluscum contagiosum            858 non-null object\n",
      "STDs:AIDS                             858 non-null object\n",
      "STDs:HIV                              858 non-null object\n",
      "STDs:Hepatitis B                      858 non-null object\n",
      "STDs:HPV                              858 non-null object\n",
      "STDs: Number of diagnosis             858 non-null int64\n",
      "STDs: Time since first diagnosis      858 non-null object\n",
      "STDs: Time since last diagnosis       858 non-null object\n",
      "Dx:Cancer                             858 non-null int64\n",
      "Dx:CIN                                858 non-null int64\n",
      "Dx:HPV                                858 non-null int64\n",
      "Dx                                    858 non-null int64\n",
      "Hinselmann                            858 non-null int64\n",
      "Schiller                              858 non-null int64\n",
      "Citology                              858 non-null int64\n",
      "Biopsy                                858 non-null int64\n",
      "dtypes: int64(10), object(26)\n",
      "memory usage: 154.2+ KB\n"
     ]
    }
   ],
   "source": [
    "df.info()"
   ]
  },
  {
   "cell_type": "markdown",
   "metadata": {},
   "source": [
    "### 1.3 check the data.describe()"
   ]
  },
  {
   "cell_type": "code",
   "execution_count": 4,
   "metadata": {},
   "outputs": [
    {
     "data": {
      "text/html": [
       "<div>\n",
       "<style scoped>\n",
       "    .dataframe tbody tr th:only-of-type {\n",
       "        vertical-align: middle;\n",
       "    }\n",
       "\n",
       "    .dataframe tbody tr th {\n",
       "        vertical-align: top;\n",
       "    }\n",
       "\n",
       "    .dataframe thead th {\n",
       "        text-align: right;\n",
       "    }\n",
       "</style>\n",
       "<table border=\"1\" class=\"dataframe\">\n",
       "  <thead>\n",
       "    <tr style=\"text-align: right;\">\n",
       "      <th></th>\n",
       "      <th>Age</th>\n",
       "      <th>STDs: Number of diagnosis</th>\n",
       "      <th>Dx:Cancer</th>\n",
       "      <th>Dx:CIN</th>\n",
       "      <th>Dx:HPV</th>\n",
       "      <th>Dx</th>\n",
       "      <th>Hinselmann</th>\n",
       "      <th>Schiller</th>\n",
       "      <th>Citology</th>\n",
       "      <th>Biopsy</th>\n",
       "    </tr>\n",
       "  </thead>\n",
       "  <tbody>\n",
       "    <tr>\n",
       "      <td>count</td>\n",
       "      <td>858.000000</td>\n",
       "      <td>858.000000</td>\n",
       "      <td>858.000000</td>\n",
       "      <td>858.000000</td>\n",
       "      <td>858.000000</td>\n",
       "      <td>858.000000</td>\n",
       "      <td>858.000000</td>\n",
       "      <td>858.000000</td>\n",
       "      <td>858.000000</td>\n",
       "      <td>858.000000</td>\n",
       "    </tr>\n",
       "    <tr>\n",
       "      <td>mean</td>\n",
       "      <td>26.820513</td>\n",
       "      <td>0.087413</td>\n",
       "      <td>0.020979</td>\n",
       "      <td>0.010490</td>\n",
       "      <td>0.020979</td>\n",
       "      <td>0.027972</td>\n",
       "      <td>0.040793</td>\n",
       "      <td>0.086247</td>\n",
       "      <td>0.051282</td>\n",
       "      <td>0.064103</td>\n",
       "    </tr>\n",
       "    <tr>\n",
       "      <td>std</td>\n",
       "      <td>8.497948</td>\n",
       "      <td>0.302545</td>\n",
       "      <td>0.143398</td>\n",
       "      <td>0.101939</td>\n",
       "      <td>0.143398</td>\n",
       "      <td>0.164989</td>\n",
       "      <td>0.197925</td>\n",
       "      <td>0.280892</td>\n",
       "      <td>0.220701</td>\n",
       "      <td>0.245078</td>\n",
       "    </tr>\n",
       "    <tr>\n",
       "      <td>min</td>\n",
       "      <td>13.000000</td>\n",
       "      <td>0.000000</td>\n",
       "      <td>0.000000</td>\n",
       "      <td>0.000000</td>\n",
       "      <td>0.000000</td>\n",
       "      <td>0.000000</td>\n",
       "      <td>0.000000</td>\n",
       "      <td>0.000000</td>\n",
       "      <td>0.000000</td>\n",
       "      <td>0.000000</td>\n",
       "    </tr>\n",
       "    <tr>\n",
       "      <td>25%</td>\n",
       "      <td>20.000000</td>\n",
       "      <td>0.000000</td>\n",
       "      <td>0.000000</td>\n",
       "      <td>0.000000</td>\n",
       "      <td>0.000000</td>\n",
       "      <td>0.000000</td>\n",
       "      <td>0.000000</td>\n",
       "      <td>0.000000</td>\n",
       "      <td>0.000000</td>\n",
       "      <td>0.000000</td>\n",
       "    </tr>\n",
       "    <tr>\n",
       "      <td>50%</td>\n",
       "      <td>25.000000</td>\n",
       "      <td>0.000000</td>\n",
       "      <td>0.000000</td>\n",
       "      <td>0.000000</td>\n",
       "      <td>0.000000</td>\n",
       "      <td>0.000000</td>\n",
       "      <td>0.000000</td>\n",
       "      <td>0.000000</td>\n",
       "      <td>0.000000</td>\n",
       "      <td>0.000000</td>\n",
       "    </tr>\n",
       "    <tr>\n",
       "      <td>75%</td>\n",
       "      <td>32.000000</td>\n",
       "      <td>0.000000</td>\n",
       "      <td>0.000000</td>\n",
       "      <td>0.000000</td>\n",
       "      <td>0.000000</td>\n",
       "      <td>0.000000</td>\n",
       "      <td>0.000000</td>\n",
       "      <td>0.000000</td>\n",
       "      <td>0.000000</td>\n",
       "      <td>0.000000</td>\n",
       "    </tr>\n",
       "    <tr>\n",
       "      <td>max</td>\n",
       "      <td>84.000000</td>\n",
       "      <td>3.000000</td>\n",
       "      <td>1.000000</td>\n",
       "      <td>1.000000</td>\n",
       "      <td>1.000000</td>\n",
       "      <td>1.000000</td>\n",
       "      <td>1.000000</td>\n",
       "      <td>1.000000</td>\n",
       "      <td>1.000000</td>\n",
       "      <td>1.000000</td>\n",
       "    </tr>\n",
       "  </tbody>\n",
       "</table>\n",
       "</div>"
      ],
      "text/plain": [
       "              Age  STDs: Number of diagnosis   Dx:Cancer      Dx:CIN  \\\n",
       "count  858.000000                 858.000000  858.000000  858.000000   \n",
       "mean    26.820513                   0.087413    0.020979    0.010490   \n",
       "std      8.497948                   0.302545    0.143398    0.101939   \n",
       "min     13.000000                   0.000000    0.000000    0.000000   \n",
       "25%     20.000000                   0.000000    0.000000    0.000000   \n",
       "50%     25.000000                   0.000000    0.000000    0.000000   \n",
       "75%     32.000000                   0.000000    0.000000    0.000000   \n",
       "max     84.000000                   3.000000    1.000000    1.000000   \n",
       "\n",
       "           Dx:HPV          Dx  Hinselmann    Schiller    Citology      Biopsy  \n",
       "count  858.000000  858.000000  858.000000  858.000000  858.000000  858.000000  \n",
       "mean     0.020979    0.027972    0.040793    0.086247    0.051282    0.064103  \n",
       "std      0.143398    0.164989    0.197925    0.280892    0.220701    0.245078  \n",
       "min      0.000000    0.000000    0.000000    0.000000    0.000000    0.000000  \n",
       "25%      0.000000    0.000000    0.000000    0.000000    0.000000    0.000000  \n",
       "50%      0.000000    0.000000    0.000000    0.000000    0.000000    0.000000  \n",
       "75%      0.000000    0.000000    0.000000    0.000000    0.000000    0.000000  \n",
       "max      1.000000    1.000000    1.000000    1.000000    1.000000    1.000000  "
      ]
     },
     "execution_count": 4,
     "metadata": {},
     "output_type": "execute_result"
    }
   ],
   "source": [
    "df.describe()"
   ]
  },
  {
   "cell_type": "markdown",
   "metadata": {},
   "source": [
    "### 1.4 Replacing ;?' with null values in each column?\n"
   ]
  },
  {
   "cell_type": "code",
   "execution_count": 5,
   "metadata": {},
   "outputs": [],
   "source": [
    "df.replace('?',np.NaN,inplace=True)"
   ]
  },
  {
   "cell_type": "markdown",
   "metadata": {},
   "source": [
    "### 1.5 Check count of 0 means not cancer affected and 1 means cancer affected cell\n"
   ]
  },
  {
   "cell_type": "code",
   "execution_count": 6,
   "metadata": {},
   "outputs": [
    {
     "data": {
      "text/plain": [
       "0    840\n",
       "1     18\n",
       "Name: Dx:Cancer, dtype: int64"
      ]
     },
     "execution_count": 6,
     "metadata": {},
     "output_type": "execute_result"
    }
   ],
   "source": [
    "df['Dx:Cancer'].value_counts()"
   ]
  },
  {
   "cell_type": "markdown",
   "metadata": {},
   "source": [
    "#### observation:\n",
    "   \n"
   ]
  },
  {
   "cell_type": "markdown",
   "metadata": {},
   "source": [
    "- Most of the data in the dataset is related to -ve cancer cases."
   ]
  },
  {
   "cell_type": "markdown",
   "metadata": {
    "colab_type": "text",
    "id": "IW6pRz0A8p0t"
   },
   "source": [
    "### 1.6 Check Correlation Plot. And your observations?"
   ]
  },
  {
   "cell_type": "code",
   "execution_count": 7,
   "metadata": {
    "colab": {
     "base_uri": "https://localhost:8080/",
     "height": 653
    },
    "colab_type": "code",
    "id": "dOHHlCYD82ei",
    "outputId": "35c1963e-1638-4dfc-a12a-d3582fdbf1e7",
    "scrolled": true
   },
   "outputs": [
    {
     "data": {
      "text/html": [
       "<div>\n",
       "<style scoped>\n",
       "    .dataframe tbody tr th:only-of-type {\n",
       "        vertical-align: middle;\n",
       "    }\n",
       "\n",
       "    .dataframe tbody tr th {\n",
       "        vertical-align: top;\n",
       "    }\n",
       "\n",
       "    .dataframe thead th {\n",
       "        text-align: right;\n",
       "    }\n",
       "</style>\n",
       "<table border=\"1\" class=\"dataframe\">\n",
       "  <thead>\n",
       "    <tr style=\"text-align: right;\">\n",
       "      <th></th>\n",
       "      <th>Age</th>\n",
       "      <th>STDs: Number of diagnosis</th>\n",
       "      <th>Dx:Cancer</th>\n",
       "      <th>Dx:CIN</th>\n",
       "      <th>Dx:HPV</th>\n",
       "      <th>Dx</th>\n",
       "      <th>Hinselmann</th>\n",
       "      <th>Schiller</th>\n",
       "      <th>Citology</th>\n",
       "      <th>Biopsy</th>\n",
       "    </tr>\n",
       "  </thead>\n",
       "  <tbody>\n",
       "    <tr>\n",
       "      <td>Age</td>\n",
       "      <td>1.000000</td>\n",
       "      <td>-0.001606</td>\n",
       "      <td>0.110340</td>\n",
       "      <td>0.061443</td>\n",
       "      <td>0.101722</td>\n",
       "      <td>0.092635</td>\n",
       "      <td>-0.003967</td>\n",
       "      <td>0.103283</td>\n",
       "      <td>-0.016862</td>\n",
       "      <td>0.055956</td>\n",
       "    </tr>\n",
       "    <tr>\n",
       "      <td>STDs: Number of diagnosis</td>\n",
       "      <td>-0.001606</td>\n",
       "      <td>1.000000</td>\n",
       "      <td>-0.015423</td>\n",
       "      <td>0.008070</td>\n",
       "      <td>-0.015423</td>\n",
       "      <td>-0.002289</td>\n",
       "      <td>0.076787</td>\n",
       "      <td>0.130873</td>\n",
       "      <td>0.055114</td>\n",
       "      <td>0.097449</td>\n",
       "    </tr>\n",
       "    <tr>\n",
       "      <td>Dx:Cancer</td>\n",
       "      <td>0.110340</td>\n",
       "      <td>-0.015423</td>\n",
       "      <td>1.000000</td>\n",
       "      <td>-0.015072</td>\n",
       "      <td>0.886508</td>\n",
       "      <td>0.665647</td>\n",
       "      <td>0.134264</td>\n",
       "      <td>0.157812</td>\n",
       "      <td>0.113446</td>\n",
       "      <td>0.160905</td>\n",
       "    </tr>\n",
       "    <tr>\n",
       "      <td>Dx:CIN</td>\n",
       "      <td>0.061443</td>\n",
       "      <td>0.008070</td>\n",
       "      <td>-0.015072</td>\n",
       "      <td>1.000000</td>\n",
       "      <td>-0.015072</td>\n",
       "      <td>0.606939</td>\n",
       "      <td>-0.021233</td>\n",
       "      <td>0.009119</td>\n",
       "      <td>-0.023938</td>\n",
       "      <td>0.113172</td>\n",
       "    </tr>\n",
       "    <tr>\n",
       "      <td>Dx:HPV</td>\n",
       "      <td>0.101722</td>\n",
       "      <td>-0.015423</td>\n",
       "      <td>0.886508</td>\n",
       "      <td>-0.015072</td>\n",
       "      <td>1.000000</td>\n",
       "      <td>0.616327</td>\n",
       "      <td>0.134264</td>\n",
       "      <td>0.157812</td>\n",
       "      <td>0.113446</td>\n",
       "      <td>0.160905</td>\n",
       "    </tr>\n",
       "    <tr>\n",
       "      <td>Dx</td>\n",
       "      <td>0.092635</td>\n",
       "      <td>-0.002289</td>\n",
       "      <td>0.665647</td>\n",
       "      <td>0.606939</td>\n",
       "      <td>0.616327</td>\n",
       "      <td>1.000000</td>\n",
       "      <td>0.072215</td>\n",
       "      <td>0.098952</td>\n",
       "      <td>0.088740</td>\n",
       "      <td>0.157607</td>\n",
       "    </tr>\n",
       "    <tr>\n",
       "      <td>Hinselmann</td>\n",
       "      <td>-0.003967</td>\n",
       "      <td>0.076787</td>\n",
       "      <td>0.134264</td>\n",
       "      <td>-0.021233</td>\n",
       "      <td>0.134264</td>\n",
       "      <td>0.072215</td>\n",
       "      <td>1.000000</td>\n",
       "      <td>0.650249</td>\n",
       "      <td>0.192467</td>\n",
       "      <td>0.547417</td>\n",
       "    </tr>\n",
       "    <tr>\n",
       "      <td>Schiller</td>\n",
       "      <td>0.103283</td>\n",
       "      <td>0.130873</td>\n",
       "      <td>0.157812</td>\n",
       "      <td>0.009119</td>\n",
       "      <td>0.157812</td>\n",
       "      <td>0.098952</td>\n",
       "      <td>0.650249</td>\n",
       "      <td>1.000000</td>\n",
       "      <td>0.361486</td>\n",
       "      <td>0.733204</td>\n",
       "    </tr>\n",
       "    <tr>\n",
       "      <td>Citology</td>\n",
       "      <td>-0.016862</td>\n",
       "      <td>0.055114</td>\n",
       "      <td>0.113446</td>\n",
       "      <td>-0.023938</td>\n",
       "      <td>0.113446</td>\n",
       "      <td>0.088740</td>\n",
       "      <td>0.192467</td>\n",
       "      <td>0.361486</td>\n",
       "      <td>1.000000</td>\n",
       "      <td>0.327466</td>\n",
       "    </tr>\n",
       "    <tr>\n",
       "      <td>Biopsy</td>\n",
       "      <td>0.055956</td>\n",
       "      <td>0.097449</td>\n",
       "      <td>0.160905</td>\n",
       "      <td>0.113172</td>\n",
       "      <td>0.160905</td>\n",
       "      <td>0.157607</td>\n",
       "      <td>0.547417</td>\n",
       "      <td>0.733204</td>\n",
       "      <td>0.327466</td>\n",
       "      <td>1.000000</td>\n",
       "    </tr>\n",
       "  </tbody>\n",
       "</table>\n",
       "</div>"
      ],
      "text/plain": [
       "                                Age  STDs: Number of diagnosis  Dx:Cancer  \\\n",
       "Age                        1.000000                  -0.001606   0.110340   \n",
       "STDs: Number of diagnosis -0.001606                   1.000000  -0.015423   \n",
       "Dx:Cancer                  0.110340                  -0.015423   1.000000   \n",
       "Dx:CIN                     0.061443                   0.008070  -0.015072   \n",
       "Dx:HPV                     0.101722                  -0.015423   0.886508   \n",
       "Dx                         0.092635                  -0.002289   0.665647   \n",
       "Hinselmann                -0.003967                   0.076787   0.134264   \n",
       "Schiller                   0.103283                   0.130873   0.157812   \n",
       "Citology                  -0.016862                   0.055114   0.113446   \n",
       "Biopsy                     0.055956                   0.097449   0.160905   \n",
       "\n",
       "                             Dx:CIN    Dx:HPV        Dx  Hinselmann  Schiller  \\\n",
       "Age                        0.061443  0.101722  0.092635   -0.003967  0.103283   \n",
       "STDs: Number of diagnosis  0.008070 -0.015423 -0.002289    0.076787  0.130873   \n",
       "Dx:Cancer                 -0.015072  0.886508  0.665647    0.134264  0.157812   \n",
       "Dx:CIN                     1.000000 -0.015072  0.606939   -0.021233  0.009119   \n",
       "Dx:HPV                    -0.015072  1.000000  0.616327    0.134264  0.157812   \n",
       "Dx                         0.606939  0.616327  1.000000    0.072215  0.098952   \n",
       "Hinselmann                -0.021233  0.134264  0.072215    1.000000  0.650249   \n",
       "Schiller                   0.009119  0.157812  0.098952    0.650249  1.000000   \n",
       "Citology                  -0.023938  0.113446  0.088740    0.192467  0.361486   \n",
       "Biopsy                     0.113172  0.160905  0.157607    0.547417  0.733204   \n",
       "\n",
       "                           Citology    Biopsy  \n",
       "Age                       -0.016862  0.055956  \n",
       "STDs: Number of diagnosis  0.055114  0.097449  \n",
       "Dx:Cancer                  0.113446  0.160905  \n",
       "Dx:CIN                    -0.023938  0.113172  \n",
       "Dx:HPV                     0.113446  0.160905  \n",
       "Dx                         0.088740  0.157607  \n",
       "Hinselmann                 0.192467  0.547417  \n",
       "Schiller                   0.361486  0.733204  \n",
       "Citology                   1.000000  0.327466  \n",
       "Biopsy                     0.327466  1.000000  "
      ]
     },
     "execution_count": 7,
     "metadata": {},
     "output_type": "execute_result"
    }
   ],
   "source": [
    "# correlation plot\n",
    "cor = df.corr()\n",
    "cor"
   ]
  },
  {
   "cell_type": "markdown",
   "metadata": {},
   "source": [
    "#### observation:\n",
    "    "
   ]
  },
  {
   "cell_type": "markdown",
   "metadata": {},
   "source": [
    "### 1.6a) list the heatmap of top correlation\n"
   ]
  },
  {
   "cell_type": "code",
   "execution_count": 8,
   "metadata": {
    "colab": {
     "base_uri": "https://localhost:8080/",
     "height": 780
    },
    "colab_type": "code",
    "id": "-Kt6vShDNH-y",
    "outputId": "1394ff8c-9ae4-4850-c5bc-5449b51af957",
    "scrolled": true
   },
   "outputs": [
    {
     "data": {
      "image/png": "[encoded data removed]",
      "text/plain": [
       "<Figure size 720x576 with 2 Axes>"
      ]
     },
     "metadata": {},
     "output_type": "display_data"
    },
    {
     "name": "stdout",
     "output_type": "stream",
     "text": [
      "10\n"
     ]
    }
   ],
   "source": [
    "# list the heatmap of top correlation\n",
    "sns.set()\n",
    "\n",
    "plt.figure(figsize=(10,8))\n",
    "sns.heatmap(cor,annot=True,cmap='YlGnBu')\n",
    "plt.show()\n",
    "\n",
    "# number of variables for heatmap\n",
    "\n",
    "\n",
    "print(len(cor.index))"
   ]
  },
  {
   "cell_type": "markdown",
   "metadata": {},
   "source": [
    "#### observation:\n",
    "    "
   ]
  },
  {
   "cell_type": "markdown",
   "metadata": {},
   "source": [
    "From the above figure, it can be observed that the columns Dx:HPV and Dx are strongly correlated to cancer."
   ]
  },
  {
   "cell_type": "markdown",
   "metadata": {},
   "source": [
    "### 1.7 Imputing the missing values from the given dataset?"
   ]
  },
  {
   "cell_type": "code",
   "execution_count": 9,
   "metadata": {},
   "outputs": [
    {
     "data": {
      "text/plain": [
       "Index(['Age', 'Number of sexual partners', 'First sexual intercourse',\n",
       "       'Num of pregnancies', 'Smokes', 'Smokes (years)', 'Smokes (packs/year)',\n",
       "       'Hormonal Contraceptives', 'Hormonal Contraceptives (years)', 'IUD',\n",
       "       'IUD (years)', 'STDs', 'STDs (number)', 'STDs:condylomatosis',\n",
       "       'STDs:cervical condylomatosis', 'STDs:vaginal condylomatosis',\n",
       "       'STDs:vulvo-perineal condylomatosis', 'STDs:syphilis',\n",
       "       'STDs:pelvic inflammatory disease', 'STDs:genital herpes',\n",
       "       'STDs:molluscum contagiosum', 'STDs:AIDS', 'STDs:HIV',\n",
       "       'STDs:Hepatitis B', 'STDs:HPV', 'STDs: Number of diagnosis',\n",
       "       'STDs: Time since first diagnosis', 'STDs: Time since last diagnosis',\n",
       "       'Dx:Cancer', 'Dx:CIN', 'Dx:HPV', 'Dx', 'Hinselmann', 'Schiller',\n",
       "       'Citology', 'Biopsy'],\n",
       "      dtype='object')"
      ]
     },
     "execution_count": 9,
     "metadata": {},
     "output_type": "execute_result"
    }
   ],
   "source": [
    "df.columns"
   ]
  },
  {
   "cell_type": "code",
   "execution_count": 10,
   "metadata": {},
   "outputs": [
    {
     "data": {
      "text/plain": [
       "0    15.0\n",
       "1    14.0\n",
       "2     NaN\n",
       "3    16.0\n",
       "4    21.0\n",
       "Name: First sexual intercourse, dtype: object"
      ]
     },
     "execution_count": 10,
     "metadata": {},
     "output_type": "execute_result"
    }
   ],
   "source": [
    "df['First sexual intercourse'].head()"
   ]
  },
  {
   "cell_type": "markdown",
   "metadata": {
    "colab": {
     "base_uri": "https://localhost:8080/",
     "height": 36
    },
    "colab_type": "code",
    "id": "Lx6bKJbf92cM",
    "outputId": "bb8aa747-fa0b-45cb-da77-869284ff0666"
   },
   "source": [
    "## we will impute the categorical variables with 0 or 1 and continuous variables with median value"
   ]
  },
  {
   "cell_type": "code",
   "execution_count": 11,
   "metadata": {
    "colab": {
     "base_uri": "https://localhost:8080/",
     "height": 36
    },
    "colab_type": "code",
    "id": "Lx6bKJbf92cM",
    "outputId": "bb8aa747-fa0b-45cb-da77-869284ff0666"
   },
   "outputs": [],
   "source": [
    "# The below code can be used to remove outliers in a categorical column\n",
    "# def replace_with_iqr:\n",
    "# col_name = \n",
    "# q1 = data[col_name].quantile(q=0.25)\n",
    "# q3 = data[col_name].quantile(q=0.75)\n",
    "\n",
    "# iqr = q3 - q1\n",
    "# upper_limit = q3 + 1.5*iqr\n",
    "# lower_limit = q1 - 1.5*iqr\n",
    "\n",
    "# data.apply(lambda x: x if ((x>=lower_limit) & (x<=upper_limit)))"
   ]
  },
  {
   "cell_type": "code",
   "execution_count": 12,
   "metadata": {},
   "outputs": [],
   "source": [
    "def fill_col(col_name,val):\n",
    "    print(df[[col_name]].isna().sum())\n",
    "    df[col_name].fillna(val,inplace=True)\n",
    "    print(df[[col_name]].isna().sum())\n",
    "    \n",
    "def define_col(col_name,n=10):\n",
    "    print(df[col_name].head(n),'\\n\\n')\n",
    "    print(df[col_name].describe(),'\\n\\n')\n",
    "    print(df[col_name].value_counts().sort_index(),'\\n\\n')"
   ]
  },
  {
   "cell_type": "code",
   "execution_count": 13,
   "metadata": {},
   "outputs": [
    {
     "name": "stdout",
     "output_type": "stream",
     "text": [
      "0    15.0\n",
      "1    14.0\n",
      "2     NaN\n",
      "3    16.0\n",
      "4    21.0\n",
      "5    23.0\n",
      "6    17.0\n",
      "7    26.0\n",
      "8    20.0\n",
      "9    15.0\n",
      "Name: First sexual intercourse, dtype: object \n",
      "\n",
      "\n",
      "count      851\n",
      "unique      21\n",
      "top       15.0\n",
      "freq       163\n",
      "Name: First sexual intercourse, dtype: object \n",
      "\n",
      "\n",
      "10.0      2\n",
      "11.0      2\n",
      "12.0      6\n",
      "13.0     25\n",
      "14.0     79\n",
      "15.0    163\n",
      "16.0    121\n",
      "17.0    151\n",
      "18.0    137\n",
      "19.0     60\n",
      "20.0     37\n",
      "21.0     20\n",
      "22.0      9\n",
      "23.0      9\n",
      "24.0      6\n",
      "25.0      2\n",
      "26.0      7\n",
      "27.0      6\n",
      "28.0      3\n",
      "29.0      5\n",
      "32.0      1\n",
      "Name: First sexual intercourse, dtype: int64 \n",
      "\n",
      "\n"
     ]
    }
   ],
   "source": [
    "col_name = \"First sexual intercourse\"\n",
    "define_col(col_name)"
   ]
  },
  {
   "cell_type": "code",
   "execution_count": 14,
   "metadata": {},
   "outputs": [
    {
     "name": "stdout",
     "output_type": "stream",
     "text": [
      "First sexual intercourse    7\n",
      "dtype: int64\n",
      "First sexual intercourse    0\n",
      "dtype: int64\n"
     ]
    }
   ],
   "source": [
    "fill_col(col_name,mode(df[col_name]))"
   ]
  },
  {
   "cell_type": "code",
   "execution_count": 16,
   "metadata": {
    "colab": {
     "base_uri": "https://localhost:8080/",
     "height": 36
    },
    "colab_type": "code",
    "id": "ps9j9lvrIt8X",
    "outputId": "00e40813-6fb1-4425-cf1d-a229f00a2e89"
   },
   "outputs": [
    {
     "name": "stdout",
     "output_type": "stream",
     "text": [
      "Num of pregnancies    56\n",
      "dtype: int64\n",
      "Num of pregnancies    0\n",
      "dtype: int64\n"
     ]
    }
   ],
   "source": [
    "# Imputing the missing values from Num of pregnancies\n",
    "col_name = 'Num of pregnancies'\n",
    "print(df[[col_name]].isna().sum())\n",
    "df[col_name].fillna(0,inplace=True)\n",
    "print(df[[col_name]].isna().sum())"
   ]
  },
  {
   "cell_type": "code",
   "execution_count": 17,
   "metadata": {
    "colab": {
     "base_uri": "https://localhost:8080/",
     "height": 36
    },
    "colab_type": "code",
    "id": "coSfHzp-JAeY",
    "outputId": "baafdd81-1d51-49e4-83eb-f90f65a902e1"
   },
   "outputs": [
    {
     "name": "stdout",
     "output_type": "stream",
     "text": [
      "0      0.0\n",
      "1      0.0\n",
      "2      0.0\n",
      "3      1.0\n",
      "4      0.0\n",
      "      ... \n",
      "853    0.0\n",
      "854    0.0\n",
      "855    0.0\n",
      "856    0.0\n",
      "857    0.0\n",
      "Name: Smokes, Length: 858, dtype: object\n"
     ]
    }
   ],
   "source": [
    "# Imputing the missing values from Smokes\n",
    "print(df['Smokes'])"
   ]
  },
  {
   "cell_type": "code",
   "execution_count": 18,
   "metadata": {
    "colab": {
     "base_uri": "https://localhost:8080/",
     "height": 36
    },
    "colab_type": "code",
    "id": "coSfHzp-JAeY",
    "outputId": "baafdd81-1d51-49e4-83eb-f90f65a902e1"
   },
   "outputs": [
    {
     "name": "stdout",
     "output_type": "stream",
     "text": [
      "Smokes    13\n",
      "dtype: int64\n",
      "Smokes    0\n",
      "dtype: int64\n"
     ]
    }
   ],
   "source": [
    "fill_col('Smokes',mode(df['Smokes']))"
   ]
  },
  {
   "cell_type": "code",
   "execution_count": 19,
   "metadata": {
    "colab": {
     "base_uri": "https://localhost:8080/",
     "height": 36
    },
    "colab_type": "code",
    "id": "uS5muTzuJV09",
    "outputId": "cdd9c805-41ac-41c2-aa79-69bc01d9f021"
   },
   "outputs": [
    {
     "data": {
      "text/plain": [
       "0.0            722\n",
       "1.266972909     15\n",
       "9.0              9\n",
       "5.0              9\n",
       "1.0              8\n",
       "2.0              7\n",
       "3.0              7\n",
       "7.0              6\n",
       "8.0              6\n",
       "16.0             6\n",
       "11.0             5\n",
       "4.0              5\n",
       "10.0             5\n",
       "15.0             4\n",
       "6.0              4\n",
       "14.0             4\n",
       "0.5              3\n",
       "19.0             3\n",
       "13.0             3\n",
       "12.0             3\n",
       "22.0             2\n",
       "18.0             1\n",
       "0.16             1\n",
       "20.0             1\n",
       "21.0             1\n",
       "32.0             1\n",
       "24.0             1\n",
       "37.0             1\n",
       "28.0             1\n",
       "34.0             1\n",
       "Name: Smokes (years), dtype: int64"
      ]
     },
     "execution_count": 19,
     "metadata": {},
     "output_type": "execute_result"
    }
   ],
   "source": [
    "# Imputing the missing values from Smokes (years)\n",
    "df['Smokes (years)'].value_counts()"
   ]
  },
  {
   "cell_type": "code",
   "execution_count": 20,
   "metadata": {
    "colab": {
     "base_uri": "https://localhost:8080/",
     "height": 36
    },
    "colab_type": "code",
    "id": "uS5muTzuJV09",
    "outputId": "cdd9c805-41ac-41c2-aa79-69bc01d9f021"
   },
   "outputs": [
    {
     "name": "stdout",
     "output_type": "stream",
     "text": [
      "Smokes    0\n",
      "dtype: int64\n",
      "Smokes    0\n",
      "dtype: int64\n"
     ]
    }
   ],
   "source": [
    "fill_col('Smokes',mode(df['Smokes (years)']))"
   ]
  },
  {
   "cell_type": "code",
   "execution_count": 21,
   "metadata": {
    "colab": {
     "base_uri": "https://localhost:8080/",
     "height": 36
    },
    "colab_type": "code",
    "id": "i_5I_XXAJrRu",
    "outputId": "1e1c62f8-ea2d-403b-8e23-0181cc2febf9"
   },
   "outputs": [
    {
     "name": "stdout",
     "output_type": "stream",
     "text": [
      "0     0.0\n",
      "1     0.0\n",
      "2     0.0\n",
      "3    37.0\n",
      "4     0.0\n",
      "5     0.0\n",
      "6     3.4\n",
      "7     0.0\n",
      "8     0.0\n",
      "9     2.8\n",
      "Name: Smokes (packs/year), dtype: object \n",
      "\n",
      "\n",
      "count     845\n",
      "unique     62\n",
      "top       0.0\n",
      "freq      722\n",
      "Name: Smokes (packs/year), dtype: object \n",
      "\n",
      "\n",
      "0.0      722\n",
      "0.001      1\n",
      "0.003      1\n",
      "0.025      1\n",
      "0.04       2\n",
      "        ... \n",
      "7.0        2\n",
      "7.5        1\n",
      "7.6        1\n",
      "8.0        2\n",
      "9.0        2\n",
      "Name: Smokes (packs/year), Length: 62, dtype: int64 \n",
      "\n",
      "\n"
     ]
    }
   ],
   "source": [
    "# Imputing the missing values from Smokes (packs/year)\n",
    "define_col('Smokes (packs/year)')"
   ]
  },
  {
   "cell_type": "code",
   "execution_count": 22,
   "metadata": {
    "colab": {
     "base_uri": "https://localhost:8080/",
     "height": 36
    },
    "colab_type": "code",
    "id": "i_5I_XXAJrRu",
    "outputId": "1e1c62f8-ea2d-403b-8e23-0181cc2febf9"
   },
   "outputs": [
    {
     "name": "stdout",
     "output_type": "stream",
     "text": [
      "Smokes (packs/year)    13\n",
      "dtype: int64\n",
      "Smokes (packs/year)    0\n",
      "dtype: int64\n"
     ]
    }
   ],
   "source": [
    "col_name = 'Smokes (packs/year)'\n",
    "fill_col(col_name,mode(df[col_name]))"
   ]
  },
  {
   "cell_type": "code",
   "execution_count": 23,
   "metadata": {
    "colab": {
     "base_uri": "https://localhost:8080/",
     "height": 36
    },
    "colab_type": "code",
    "id": "uGSV8fHeKAg7",
    "outputId": "9d15c5a4-379e-4a41-b510-62fd2615008c"
   },
   "outputs": [
    {
     "name": "stdout",
     "output_type": "stream",
     "text": [
      "0    0.0\n",
      "1    0.0\n",
      "2    0.0\n",
      "3    1.0\n",
      "4    1.0\n",
      "5    0.0\n",
      "6    0.0\n",
      "7    1.0\n",
      "8    0.0\n",
      "9    0.0\n",
      "Name: Hormonal Contraceptives, dtype: object \n",
      "\n",
      "\n",
      "count     750\n",
      "unique      2\n",
      "top       1.0\n",
      "freq      481\n",
      "Name: Hormonal Contraceptives, dtype: object \n",
      "\n",
      "\n",
      "0.0    269\n",
      "1.0    481\n",
      "Name: Hormonal Contraceptives, dtype: int64 \n",
      "\n",
      "\n"
     ]
    }
   ],
   "source": [
    "# Imputing the missing values from Hormonal Contraceptives\n",
    "col_name = 'Hormonal Contraceptives'\n",
    "define_col(col_name)"
   ]
  },
  {
   "cell_type": "code",
   "execution_count": 24,
   "metadata": {
    "colab": {
     "base_uri": "https://localhost:8080/",
     "height": 36
    },
    "colab_type": "code",
    "id": "uGSV8fHeKAg7",
    "outputId": "9d15c5a4-379e-4a41-b510-62fd2615008c"
   },
   "outputs": [
    {
     "name": "stdout",
     "output_type": "stream",
     "text": [
      "Hormonal Contraceptives    108\n",
      "dtype: int64\n",
      "Hormonal Contraceptives    0\n",
      "dtype: int64\n"
     ]
    }
   ],
   "source": [
    "fill_col(col_name,mode(df[col_name]))"
   ]
  },
  {
   "cell_type": "code",
   "execution_count": 25,
   "metadata": {
    "colab": {
     "base_uri": "https://localhost:8080/",
     "height": 36
    },
    "colab_type": "code",
    "id": "cH_ayTrCKl1U",
    "outputId": "cfbdc514-8d41-4ae8-b4d9-149020e8dcd5"
   },
   "outputs": [
    {
     "name": "stdout",
     "output_type": "stream",
     "text": [
      "0     0.0\n",
      "1     0.0\n",
      "2     0.0\n",
      "3     3.0\n",
      "4    15.0\n",
      "5     0.0\n",
      "6     0.0\n",
      "7     2.0\n",
      "8     0.0\n",
      "9     0.0\n",
      "Name: Hormonal Contraceptives (years), dtype: object \n",
      "\n",
      "\n",
      "count     750\n",
      "unique     40\n",
      "top       0.0\n",
      "freq      269\n",
      "Name: Hormonal Contraceptives (years), dtype: object \n",
      "\n",
      "\n",
      "0.0            269\n",
      "0.08            25\n",
      "0.16            16\n",
      "0.17             1\n",
      "0.25            41\n",
      "0.33             9\n",
      "0.41             1\n",
      "0.42             8\n",
      "0.5             25\n",
      "0.58             6\n",
      "0.66             6\n",
      "0.67             2\n",
      "0.75             7\n",
      "1.0             77\n",
      "1.5              3\n",
      "10.0            11\n",
      "11.0             2\n",
      "12.0             4\n",
      "13.0             2\n",
      "14.0             2\n",
      "15.0             6\n",
      "16.0             2\n",
      "17.0             1\n",
      "19.0             2\n",
      "2.0             40\n",
      "2.282200521      2\n",
      "2.5              1\n",
      "20.0             4\n",
      "22.0             1\n",
      "3.0             39\n",
      "3.5              1\n",
      "30.0             1\n",
      "4.0             22\n",
      "4.5              1\n",
      "5.0             34\n",
      "6.0             24\n",
      "6.5              1\n",
      "7.0             21\n",
      "8.0             18\n",
      "9.0             12\n",
      "Name: Hormonal Contraceptives (years), dtype: int64 \n",
      "\n",
      "\n"
     ]
    }
   ],
   "source": [
    "# Imputing the missing values from Hormonal Contraceptives (years)\n",
    "col_name = 'Hormonal Contraceptives (years)'\n",
    "define_col(col_name)"
   ]
  },
  {
   "cell_type": "code",
   "execution_count": 26,
   "metadata": {
    "colab": {
     "base_uri": "https://localhost:8080/",
     "height": 36
    },
    "colab_type": "code",
    "id": "cH_ayTrCKl1U",
    "outputId": "cfbdc514-8d41-4ae8-b4d9-149020e8dcd5"
   },
   "outputs": [
    {
     "name": "stdout",
     "output_type": "stream",
     "text": [
      "Hormonal Contraceptives (years)    108\n",
      "dtype: int64\n",
      "Hormonal Contraceptives (years)    0\n",
      "dtype: int64\n"
     ]
    }
   ],
   "source": [
    "fill_col(col_name,mode(df[col_name]))"
   ]
  },
  {
   "cell_type": "code",
   "execution_count": 27,
   "metadata": {
    "colab": {
     "base_uri": "https://localhost:8080/",
     "height": 36
    },
    "colab_type": "code",
    "id": "PU-i5dpiLsC6",
    "outputId": "3b9a596d-b8db-46b8-f858-83ee0ce182e1"
   },
   "outputs": [
    {
     "name": "stdout",
     "output_type": "stream",
     "text": [
      "0    0.0\n",
      "1    0.0\n",
      "2    0.0\n",
      "3    0.0\n",
      "4    0.0\n",
      "5    0.0\n",
      "6    1.0\n",
      "7    1.0\n",
      "8    0.0\n",
      "9    NaN\n",
      "Name: IUD, dtype: object \n",
      "\n",
      "\n",
      "count     741\n",
      "unique      2\n",
      "top       0.0\n",
      "freq      658\n",
      "Name: IUD, dtype: object \n",
      "\n",
      "\n",
      "0.0    658\n",
      "1.0     83\n",
      "Name: IUD, dtype: int64 \n",
      "\n",
      "\n"
     ]
    }
   ],
   "source": [
    "# Imputing the missing values from IUD\n",
    "col_name = 'IUD'\n",
    "define_col(col_name)"
   ]
  },
  {
   "cell_type": "code",
   "execution_count": 28,
   "metadata": {
    "colab": {
     "base_uri": "https://localhost:8080/",
     "height": 36
    },
    "colab_type": "code",
    "id": "PU-i5dpiLsC6",
    "outputId": "3b9a596d-b8db-46b8-f858-83ee0ce182e1"
   },
   "outputs": [
    {
     "name": "stdout",
     "output_type": "stream",
     "text": [
      "IUD    117\n",
      "dtype: int64\n",
      "IUD    0\n",
      "dtype: int64\n"
     ]
    }
   ],
   "source": [
    "fill_col(col_name,mode(df[col_name]))"
   ]
  },
  {
   "cell_type": "markdown",
   "metadata": {},
   "source": [
    "#### Similary, for the below values we can impute based on whether it is a category or numeric value."
   ]
  },
  {
   "cell_type": "code",
   "execution_count": 29,
   "metadata": {
    "colab": {
     "base_uri": "https://localhost:8080/",
     "height": 36
    },
    "colab_type": "code",
    "id": "avn6NVpRMM80",
    "outputId": "4358eb26-e604-4b24-9641-c0a4b2ac22e7"
   },
   "outputs": [],
   "source": [
    "# Imputing the missing values from IUD (years)\n",
    "\n"
   ]
  },
  {
   "cell_type": "code",
   "execution_count": 30,
   "metadata": {
    "colab": {
     "base_uri": "https://localhost:8080/",
     "height": 36
    },
    "colab_type": "code",
    "id": "CrCUMMDuM_Fw",
    "outputId": "4463563c-3057-477d-f0f2-94a4ab61e6c3"
   },
   "outputs": [],
   "source": [
    "# Imputing the missing values from STDs\n",
    "\n"
   ]
  },
  {
   "cell_type": "code",
   "execution_count": 31,
   "metadata": {
    "colab": {
     "base_uri": "https://localhost:8080/",
     "height": 36
    },
    "colab_type": "code",
    "id": "UCWtZJVRNShk",
    "outputId": "beeedea6-0087-41ec-b493-8488562a992b"
   },
   "outputs": [],
   "source": [
    "# Imputing the missing values from STDs (number)\n",
    "\n"
   ]
  },
  {
   "cell_type": "code",
   "execution_count": 32,
   "metadata": {
    "colab": {
     "base_uri": "https://localhost:8080/",
     "height": 36
    },
    "colab_type": "code",
    "id": "dPBhs9gENzF8",
    "outputId": "c2b341ac-d05b-408e-cc59-5aa3928ef279"
   },
   "outputs": [],
   "source": [
    "# Imputing the missing values from STDs:condylomatosis\n",
    "\n"
   ]
  },
  {
   "cell_type": "code",
   "execution_count": 33,
   "metadata": {
    "colab": {
     "base_uri": "https://localhost:8080/",
     "height": 36
    },
    "colab_type": "code",
    "id": "MI5vXM88OLG_",
    "outputId": "697c5afb-1a8d-488b-dce0-c48a64c7ab67"
   },
   "outputs": [],
   "source": [
    "# Imputing the missing values from STDs:cervical condylomatosis\n",
    "\n"
   ]
  },
  {
   "cell_type": "code",
   "execution_count": 34,
   "metadata": {
    "colab": {
     "base_uri": "https://localhost:8080/",
     "height": 36
    },
    "colab_type": "code",
    "id": "UHrPEly5OrEm",
    "outputId": "ece52d69-1a34-441a-ed08-94cebd756d0d"
   },
   "outputs": [],
   "source": [
    "# Imputing the missing values from STDs:vaginal condylomatosis\n",
    "\n"
   ]
  },
  {
   "cell_type": "code",
   "execution_count": 35,
   "metadata": {
    "colab": {
     "base_uri": "https://localhost:8080/",
     "height": 36
    },
    "colab_type": "code",
    "id": "D6YgmMYFPJDs",
    "outputId": "4c75e773-2c62-4eaa-bfec-6f2bdcc34916"
   },
   "outputs": [],
   "source": [
    "# Imputing the missing values from STDs:vulvo-perineal condylomatosis\n",
    "\n"
   ]
  },
  {
   "cell_type": "code",
   "execution_count": 36,
   "metadata": {
    "colab": {
     "base_uri": "https://localhost:8080/",
     "height": 36
    },
    "colab_type": "code",
    "id": "lT4D4QfDPl0y",
    "outputId": "bcf0f94e-0b40-4ce2-f1bc-3b7766dfcd0a"
   },
   "outputs": [],
   "source": [
    "# Imputing the missing values from STDs:syphilis\n",
    "\n"
   ]
  },
  {
   "cell_type": "code",
   "execution_count": 37,
   "metadata": {
    "colab": {
     "base_uri": "https://localhost:8080/",
     "height": 36
    },
    "colab_type": "code",
    "id": "YjcYUtopTags",
    "outputId": "82a106f8-082b-4fc0-8dde-e556a23389ce"
   },
   "outputs": [],
   "source": [
    "# Imputing the missing values from STDs:pelvic inflammatory diseases\n",
    "\n"
   ]
  },
  {
   "cell_type": "code",
   "execution_count": 38,
   "metadata": {
    "colab": {
     "base_uri": "https://localhost:8080/",
     "height": 36
    },
    "colab_type": "code",
    "id": "IuK9Mki5UQhX",
    "outputId": "1c884dc3-410c-4740-ec61-2fee6b9f9687"
   },
   "outputs": [],
   "source": [
    "# Imputing the missing values from STDs:genital herpes\n",
    "\n"
   ]
  },
  {
   "cell_type": "code",
   "execution_count": 39,
   "metadata": {
    "colab": {
     "base_uri": "https://localhost:8080/",
     "height": 36
    },
    "colab_type": "code",
    "id": "K-A6KKPVUwL0",
    "outputId": "cfb6a856-4fc7-4496-a770-98235d4e37e5"
   },
   "outputs": [],
   "source": [
    "# Imputing the missing values from STDs:molluscum contagiosum\n"
   ]
  },
  {
   "cell_type": "code",
   "execution_count": 40,
   "metadata": {
    "colab": {
     "base_uri": "https://localhost:8080/",
     "height": 36
    },
    "colab_type": "code",
    "id": "mclCNR8bVgAP",
    "outputId": "80bcc1ac-5db0-49d2-c222-bd45890fbe83"
   },
   "outputs": [],
   "source": [
    "# Imputing the missing values from STDs:AIDS\n",
    "\n"
   ]
  },
  {
   "cell_type": "code",
   "execution_count": 41,
   "metadata": {
    "colab": {
     "base_uri": "https://localhost:8080/",
     "height": 36
    },
    "colab_type": "code",
    "id": "EuDCWr5fWYZL",
    "outputId": "14a426be-4029-4247-bd49-513a47e6a9aa"
   },
   "outputs": [],
   "source": [
    "# Imputing the missing values from STDs:HIV\n"
   ]
  },
  {
   "cell_type": "code",
   "execution_count": 42,
   "metadata": {
    "colab": {
     "base_uri": "https://localhost:8080/",
     "height": 36
    },
    "colab_type": "code",
    "id": "xQ_mzWeOW17D",
    "outputId": "6061d020-8089-4682-9f33-1c70b561e59a"
   },
   "outputs": [],
   "source": [
    "# Imputing the missing values from STDs:Hepatitis B\n"
   ]
  },
  {
   "cell_type": "code",
   "execution_count": 43,
   "metadata": {
    "colab": {
     "base_uri": "https://localhost:8080/",
     "height": 36
    },
    "colab_type": "code",
    "id": "zONJZ9-pXhmj",
    "outputId": "ac6eed8f-6271-4971-abef-99d20b341e52"
   },
   "outputs": [],
   "source": [
    "# Imputing the missing values from STDs:HPV\n",
    "\n"
   ]
  },
  {
   "cell_type": "code",
   "execution_count": 44,
   "metadata": {
    "colab": {
     "base_uri": "https://localhost:8080/",
     "height": 36
    },
    "colab_type": "code",
    "id": "uApuugCuYLTX",
    "outputId": "2d919c52-e66d-4d15-af26-839152697ff0"
   },
   "outputs": [],
   "source": [
    "# Imputing the missing values from STDs: Time since first diagnosis\n",
    "\n"
   ]
  },
  {
   "cell_type": "code",
   "execution_count": 45,
   "metadata": {
    "colab": {
     "base_uri": "https://localhost:8080/",
     "height": 36
    },
    "colab_type": "code",
    "id": "0aufaFATYlU7",
    "outputId": "753df7ca-4453-4397-80e4-fc25aba84eb9"
   },
   "outputs": [],
   "source": [
    "# Imputing the missing values from STDs: Time since last diagnosis\n",
    "\n"
   ]
  },
  {
   "cell_type": "markdown",
   "metadata": {},
   "source": [
    "###  1.8 Imputing null values for categorical variables for get_dummies"
   ]
  },
  {
   "cell_type": "code",
   "execution_count": 46,
   "metadata": {},
   "outputs": [],
   "source": [
    "col_name = 'IUD'\n",
    "\n",
    "df1 = pd.get_dummies(df[col_name],drop_first=True,dummy_na=True,prefix=col_name)\n",
    "df[df1.columns.values] = df1"
   ]
  },
  {
   "cell_type": "code",
   "execution_count": 47,
   "metadata": {},
   "outputs": [
    {
     "data": {
      "text/plain": [
       "38"
      ]
     },
     "execution_count": 47,
     "metadata": {},
     "output_type": "execute_result"
    }
   ],
   "source": [
    "len(df.columns)"
   ]
  },
  {
   "cell_type": "markdown",
   "metadata": {
    "colab_type": "text",
    "id": "tet9wPZa2sZ4"
   },
   "source": [
    "### 1.10 Data Visualization for checking any categorical variables or not using count plot?"
   ]
  },
  {
   "cell_type": "code",
   "execution_count": 48,
   "metadata": {},
   "outputs": [
    {
     "data": {
      "text/plain": [
       "count      858\n",
       "unique      21\n",
       "top       15.0\n",
       "freq       170\n",
       "Name: First sexual intercourse, dtype: object"
      ]
     },
     "execution_count": 48,
     "metadata": {},
     "output_type": "execute_result"
    }
   ],
   "source": [
    "df['First sexual intercourse'].describe()"
   ]
  },
  {
   "cell_type": "code",
   "execution_count": 56,
   "metadata": {},
   "outputs": [
    {
     "data": {
      "text/plain": [
       "147    10.0\n",
       "467    10.0\n",
       "96     11.0\n",
       "410    11.0\n",
       "111    12.0\n",
       "       ... \n",
       "607    29.0\n",
       "500    29.0\n",
       "681    29.0\n",
       "128    29.0\n",
       "89     32.0\n",
       "Name: First sexual intercourse, Length: 858, dtype: object"
      ]
     },
     "execution_count": 56,
     "metadata": {},
     "output_type": "execute_result"
    }
   ],
   "source": [
    "fsi = df['First sexual intercourse'].sort_values()\n",
    "fsi"
   ]
  },
  {
   "cell_type": "code",
   "execution_count": 50,
   "metadata": {},
   "outputs": [
    {
     "data": {
      "text/plain": [
       "<matplotlib.axes._subplots.AxesSubplot at 0x129dc1d0>"
      ]
     },
     "execution_count": 50,
     "metadata": {},
     "output_type": "execute_result"
    },
    {
     "data": {
      "image/png": "[encoded data removed]",
      "text/plain": [
       "<Figure size 720x576 with 1 Axes>"
      ]
     },
     "metadata": {},
     "output_type": "display_data"
    }
   ],
   "source": [
    "plt.figure(figsize=(10,8)) \n",
    "sns.countplot(df['First sexual intercourse'].sort_values())"
   ]
  },
  {
   "cell_type": "markdown",
   "metadata": {},
   "source": [
    "### 1.11 splitting the dataset into dependent and independent variables?"
   ]
  },
  {
   "cell_type": "code",
   "execution_count": 51,
   "metadata": {
    "scrolled": true
   },
   "outputs": [
    {
     "data": {
      "text/plain": [
       "38"
      ]
     },
     "execution_count": 51,
     "metadata": {},
     "output_type": "execute_result"
    }
   ],
   "source": [
    "len(df.columns)"
   ]
  },
  {
   "cell_type": "code",
   "execution_count": 52,
   "metadata": {},
   "outputs": [
    {
     "data": {
      "text/plain": [
       "37"
      ]
     },
     "execution_count": 52,
     "metadata": {},
     "output_type": "execute_result"
    }
   ],
   "source": [
    "y = df['Dx:Cancer']\n",
    "X = df.drop('Dx:Cancer',axis=1)\n",
    "len(X.columns)"
   ]
  },
  {
   "cell_type": "markdown",
   "metadata": {},
   "source": [
    "### 1.12 splitting the dataset into  training and test set?"
   ]
  },
  {
   "cell_type": "code",
   "execution_count": 53,
   "metadata": {},
   "outputs": [],
   "source": [
    "from sklearn.model_selection import train_test_split\n",
    "\n",
    "X_train,X_test,y_train,y_test = train_test_split(X,y)"
   ]
  },
  {
   "cell_type": "markdown",
   "metadata": {},
   "source": [
    "# The End"
   ]
  }
 ],
 "metadata": {
  "colab": {
   "collapsed_sections": [],
   "include_colab_link": true,
   "name": "CevicalCancer.ipynb",
   "provenance": [],
   "version": "0.3.2"
  },
  "kernelspec": {
   "display_name": "Python 3",
   "language": "python",
   "name": "python3"
  },
  "language_info": {
   "codemirror_mode": {
    "name": "ipython",
    "version": 3
   },
   "file_extension": ".py",
   "mimetype": "text/x-python",
   "name": "python",
   "nbconvert_exporter": "python",
   "pygments_lexer": "ipython3",
   "version": "3.7.0"
  }
 },
 "nbformat": 4,
 "nbformat_minor": 1
}
