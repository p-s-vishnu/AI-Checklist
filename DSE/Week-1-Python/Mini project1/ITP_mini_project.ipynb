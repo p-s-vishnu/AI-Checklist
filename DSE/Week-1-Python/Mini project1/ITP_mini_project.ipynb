{
 "cells": [
  {
   "cell_type": "markdown",
   "metadata": {},
   "source": [
    "# <center>PGP Data Science Engineering</center>\n",
    "## <center>Introduction to Programming – Mini Project:</center>\n"
   ]
  },
  {
   "cell_type": "markdown",
   "metadata": {},
   "source": [
    "### Problem 1:\n",
    "\n",
    "1. Write a program to calculate area of shapes. Your program should be capable of calculating the area of a square, rectangle, triangle and a circle. The user should be presented with options to select the shape. Based on which shape is chosed by the user, the program should ask for the appropriate input and print the resulting area on the screen.\n",
    "\n",
    "When the program is run, the screen should display something like this:\n",
    "\n",
    "**Which shape would you like to calculate the area for? Please enter the option number-**<br>\n",
    "**1. Square**<br>\n",
    "**2. Rectangle**<br>\n",
    "**3. Triangle**<br>\n",
    "**4. Circle**<br>\n",
    "**Enter Option: _**\n",
    "\n",
    "Say the user enters the option 1.\n",
    "\n",
    "**Please enter the length of a side: _**\n",
    "\n",
    "If the user enters a value of 5. The output should be:\n",
    "\n",
    "**The area of the square is 25**\n",
    "\n",
    "This program should indicate that the input is invalid if the user enters a character instead of a number as input. For instance if the user enters a value of ‘a’ instead of 5 in the previous example the program should prompt:\n",
    "\n",
    "**Invalid input, please enter a number: _**\n",
    "d"
   ]
  },
  {
   "cell_type": "code",
   "execution_count": 1,
   "metadata": {},
   "outputs": [
    {
     "name": "stdout",
     "output_type": "stream",
     "text": [
      "Which shape woud you like to calculate the areas for?Please enter the option number:\n",
      "1.Square\n",
      "2.Rectangle\n",
      "3.Triangle\n",
      "4.Circle:4\n",
      "Enter radius of a circle5\n",
      "Area : 78.5\n"
     ]
    }
   ],
   "source": [
    "def validate_inp(n):\n",
    "    # send True if valid input\n",
    "    return str(n).isdecimal()\n",
    "\n",
    "def validation_txt():\n",
    "    print(\"Invalid input, please enter an integer\")\n",
    "    return 0\n",
    "    \n",
    "def area_sq(a):\n",
    "    if not validate_inp(a):\n",
    "        return validation_txt()\n",
    "    return int(a)**2\n",
    "\n",
    "def area_rect(x,y):\n",
    "    if not validate_inp(x) or not validate_inp(y):\n",
    "        return validation_txt()\n",
    "    return int(x)*int(y)\n",
    "\n",
    "def area_tri(b,h):\n",
    "    if not validate_inp(b) or not validate_inp(h):\n",
    "        return validation_txt()\n",
    "    return 0.5 * int(b) * int(h)\n",
    "\n",
    "def area_circ(r):\n",
    "    if not validate_inp(r):\n",
    "        return validation_txt()\n",
    "    return 3.14*int(r)*int(r)\n",
    "\n",
    "shape = input(\"Which shape woud you like to calculate the areas for?\"\"Please enter the option number:\"\\\n",
    "              \"\\n1.Square\"\"\\n2.Rectangle\"\"\\n3.Triangle\"\"\\n4.Circle:\")\n",
    "\n",
    "area = 0\n",
    "if(not validate_inp(shape)):\n",
    "    validation_txt()\n",
    "else:\n",
    "    if shape == \"1\":\n",
    "        area = area_sq(input(\"Enter square side:\"))\n",
    "    elif shape == \"2\":\n",
    "        area = area_rect(input(\"Enter Len of a rectangle:\"),\n",
    "                        input(\"Enter breadth of a rectangle:\"))\n",
    "    elif shape == \"3\":\n",
    "        area = area_tri(input(\"Enter base of triangle\"),\n",
    "                       input(\"Enter heigh of triangle\"))\n",
    "    elif shape == \"4\":\n",
    "        area = area_circ(input(\"Enter radius of a circle\"))\n",
    "    else:\n",
    "        print(\"Invalid Selection! Pick a shape given in the list\")\n",
    "    print(\"Area :\",area)"
   ]
  },
  {
   "cell_type": "markdown",
   "metadata": {},
   "source": [
    "### Problem 2:\n",
    "\n",
    "Create and encrypter in python based on the ceaser cipher. It is a substitution cipher where each character of the original text is shifted a certain number characters in the alphabet. Write a function that would require 2 arguments – the input text to be encrypted and a key. For eg: Given the input text ‘hello’ and the key 3, the resulting encryted text would be ‘khoor’. Here you can see that every character in the string hello is shifted by 3 characters. ‘h’ has shifted to ‘k’, ‘e’ has shifted to ‘h’ and so on. If a key of 5 were used, the resulting string would be ‘mjqqt’. This function should be capable of ignoring any characters which are not alphabets. Th2 character ‘z’ entered b\n",
    "y the user for a key of 3 would result in ‘c’.\n",
    "\n",
    "Usage:<br>\n",
    "**encrypt(‘hello world!’, 3)**<br>\n",
    "**‘khoor zruog!’**\n",
    "\n",
    "Similarly create decrypter which can decode the encryted text when provided the input text and key\n",
    "\n",
    "Usage:<br>\n",
    "**decrypt(‘khoor zruog!’, 3)**<br>\n",
    "**‘hello world!’**\n",
    "\n",
    "For the sake of simplicity you can assume that input solely consists of lowercase alphabets, spaces and punctuation symbols. Numbers in the input text would also be ignored similar to symbols."
   ]
  },
  {
   "cell_type": "code",
   "execution_count": 2,
   "metadata": {
    "scrolled": true
   },
   "outputs": [
    {
     "name": "stdout",
     "output_type": "stream",
     "text": [
      "Encrypted : khoor zruog!\n",
      "Decrypted : hello world!\n",
      "Different key : xubbe mehbt!\n"
     ]
    }
   ],
   "source": [
    "from string import ascii_lowercase\n",
    "\n",
    "alpha = list(ascii_lowercase)\n",
    "\n",
    "def shift_letter(k, key):\n",
    "    if not k.isalpha():\n",
    "        return k\n",
    "    offset = alpha.index(k)\n",
    "    return alpha[(offset + key) % 26]\n",
    "    \n",
    "def encrypt(m, k):\n",
    "    return \"\".join([shift_letter(letter, k) for letter in m])\n",
    "\n",
    "def decrypt(m, k):\n",
    "    return encrypt(m, -k)\n",
    "\n",
    "# get key and msg from user\n",
    "# key  = int(input(\"Enter your secret number key:\"))\n",
    "# msg = input(\"Enter the message you want to encrypt:\")\n",
    "\n",
    "# Test case 1\n",
    "key = 3\n",
    "msg = \"hello world!\"\n",
    "en_msg = encrypt(msg, key)\n",
    "print('Encrypted :',en_msg)\n",
    "\n",
    "# decrypt using the key\n",
    "print('Decrypted :', decrypt(en_msg, key))\n",
    "\n",
    "# # Try to decrypt using different key\n",
    "print('Different key :', decrypt(en_msg, 13))"
   ]
  },
  {
   "cell_type": "code",
   "execution_count": 3,
   "metadata": {},
   "outputs": [
    {
     "name": "stdout",
     "output_type": "stream",
     "text": [
      "wklv fdq eh f#doohqjlqj..\n",
      "this can be c#allenging..\n"
     ]
    }
   ],
   "source": [
    "# Test case 2\n",
    "key = 29\n",
    "msg = \"this can be c#allenging..\"\n",
    "\n",
    "print(encrypt(msg, key))\n",
    "print(decrypt(encrypt(msg, key), key))"
   ]
  },
  {
   "cell_type": "markdown",
   "metadata": {},
   "source": [
    "**Note:** Does not support uppercase encryption."
   ]
  }
 ],
 "metadata": {
  "kernelspec": {
   "display_name": "Python 3",
   "language": "python",
   "name": "python3"
  },
  "language_info": {
   "codemirror_mode": {
    "name": "ipython",
    "version": 3
   },
   "file_extension": ".py",
   "mimetype": "text/x-python",
   "name": "python",
   "nbconvert_exporter": "python",
   "pygments_lexer": "ipython3",
   "version": "3.7.0"
  }
 },
 "nbformat": 4,
 "nbformat_minor": 2
}
