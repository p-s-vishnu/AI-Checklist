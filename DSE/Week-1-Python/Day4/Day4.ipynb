{
 "cells": [
  {
   "cell_type": "markdown",
   "metadata": {},
   "source": [
    "<h1><center>Day 4</center></h1>"
   ]
  },
  {
   "cell_type": "markdown",
   "metadata": {},
   "source": [
    "**Quiz**"
   ]
  },
  {
   "cell_type": "code",
   "execution_count": 8,
   "metadata": {},
   "outputs": [
    {
     "name": "stdout",
     "output_type": "stream",
     "text": [
      "[0, 1, 4, 9, 16, 25, 36, 49, 64, 81, 100, 121, 144]\n"
     ]
    }
   ],
   "source": [
    "x = [i**+2 for i in range(0,13)]; print(x);"
   ]
  },
  {
   "cell_type": "code",
   "execution_count": 3,
   "metadata": {},
   "outputs": [
    {
     "name": "stdout",
     "output_type": "stream",
     "text": [
      "0\n",
      "1\n",
      "2\n"
     ]
    }
   ],
   "source": [
    "d = {0: 'hello', 1: 'great', 2: 'learning'}\n",
    "\n",
    "for i in d:\n",
    "\n",
    "    print(i)"
   ]
  },
  {
   "cell_type": "code",
   "execution_count": 9,
   "metadata": {},
   "outputs": [
    {
     "ename": "SyntaxError",
     "evalue": "invalid syntax (<ipython-input-9-1c4c46c624fa>, line 11)",
     "output_type": "error",
     "traceback": [
      "\u001b[1;36m  File \u001b[1;32m\"<ipython-input-9-1c4c46c624fa>\"\u001b[1;36m, line \u001b[1;32m11\u001b[0m\n\u001b[1;33m    i+ = 1\u001b[0m\n\u001b[1;37m       ^\u001b[0m\n\u001b[1;31mSyntaxError\u001b[0m\u001b[1;31m:\u001b[0m invalid syntax\n"
     ]
    }
   ],
   "source": [
    "i = 1\n",
    "\n",
    "while True:\n",
    "\n",
    "    if i%28 == 0:\n",
    "\n",
    "        break\n",
    "\n",
    "    print(i)\n",
    "\n",
    "    i+ = 1"
   ]
  },
  {
   "cell_type": "markdown",
   "metadata": {},
   "source": [
    "# Functions"
   ]
  },
  {
   "cell_type": "markdown",
   "metadata": {},
   "source": [
    "**Default parameter**"
   ]
  },
  {
   "cell_type": "markdown",
   "metadata": {},
   "source": [
    "**Note**\n",
    "- non default arguments should not follow the `DEFAULT arguments`."
   ]
  },
  {
   "cell_type": "code",
   "execution_count": 11,
   "metadata": {},
   "outputs": [
    {
     "name": "stdout",
     "output_type": "stream",
     "text": [
      "Welcome Vishnu\n",
      "Welcome User\n"
     ]
    }
   ],
   "source": [
    "def hello(name = \"User\"):\n",
    "    print(\"Welcome\", name)\n",
    "    \n",
    "hello(\"Vishnu\")\n",
    "hello()"
   ]
  },
  {
   "cell_type": "code",
   "execution_count": 13,
   "metadata": {},
   "outputs": [
    {
     "name": "stdout",
     "output_type": "stream",
     "text": [
      "Number 2\n"
     ]
    },
    {
     "data": {
      "text/plain": [
       "4"
      ]
     },
     "execution_count": 13,
     "metadata": {},
     "output_type": "execute_result"
    }
   ],
   "source": [
    "def square(i):\n",
    "    return i*i\n",
    "\n",
    "square(int(input(\"Number \")))"
   ]
  },
  {
   "cell_type": "code",
   "execution_count": 15,
   "metadata": {},
   "outputs": [
    {
     "name": "stdout",
     "output_type": "stream",
     "text": [
      "Input 1:3\n",
      "Input 2:0\n",
      "3\n",
      "3\n",
      "0\n",
      "0\n"
     ]
    }
   ],
   "source": [
    "from operator import add, sub, mul\n",
    "div = lambda x,y : x/y if y!=0 else 0\n",
    "\n",
    "a = int(input(\"Input 1:\"))\n",
    "b = int(input(\"Input 2:\"))\n",
    "\n",
    "print(add(a,b))\n",
    "print(sub(a,b))\n",
    "print(mul(a,b))\n",
    "print(div(a,b))"
   ]
  },
  {
   "cell_type": "markdown",
   "metadata": {},
   "source": [
    "**Arbitary arguments**"
   ]
  },
  {
   "cell_type": "code",
   "execution_count": 19,
   "metadata": {},
   "outputs": [
    {
     "name": "stdout",
     "output_type": "stream",
     "text": [
      "<class 'tuple'>\n",
      "<class 'tuple'>\n"
     ]
    }
   ],
   "source": [
    "def something(*args):\n",
    "    print(type(args))\n",
    "    \n",
    "something(\"This\", \"is\", \"different\")\n",
    "something([\"This\", \"is\", \"also\", \"different\"])"
   ]
  },
  {
   "cell_type": "markdown",
   "metadata": {},
   "source": [
    "**Observation**\n",
    "- Default type of the arbitary argument is TUPLE."
   ]
  },
  {
   "cell_type": "markdown",
   "metadata": {},
   "source": [
    "**Keyword argument**"
   ]
  },
  {
   "cell_type": "code",
   "execution_count": 22,
   "metadata": {},
   "outputs": [],
   "source": [
    "def get_dictionary(**kwargs):\n",
    "    return kwargs"
   ]
  },
  {
   "cell_type": "code",
   "execution_count": 27,
   "metadata": {},
   "outputs": [
    {
     "data": {
      "text/plain": [
       "{'a': 'a', 'b': 'b', 'c': 'c'}"
      ]
     },
     "execution_count": 27,
     "metadata": {},
     "output_type": "execute_result"
    }
   ],
   "source": [
    "get_dictionary(a = \"a\", b = \"b\", c = \"c\")"
   ]
  },
  {
   "cell_type": "code",
   "execution_count": 23,
   "metadata": {
    "scrolled": true
   },
   "outputs": [
    {
     "ename": "TypeError",
     "evalue": "get_dictionary() takes 0 positional arguments but 3 were given",
     "output_type": "error",
     "traceback": [
      "\u001b[1;31m---------------------------------------------------------------------------\u001b[0m",
      "\u001b[1;31mTypeError\u001b[0m                                 Traceback (most recent call last)",
      "\u001b[1;32m<ipython-input-23-8f6789ae75c3>\u001b[0m in \u001b[0;36m<module>\u001b[1;34m\u001b[0m\n\u001b[1;32m----> 1\u001b[1;33m \u001b[0mget_dictionary\u001b[0m\u001b[1;33m(\u001b[0m\u001b[1;34m\"a\"\u001b[0m\u001b[1;33m,\u001b[0m \u001b[1;34m\"b\"\u001b[0m\u001b[1;33m,\u001b[0m \u001b[1;34m\"c\"\u001b[0m\u001b[1;33m)\u001b[0m\u001b[1;33m\u001b[0m\u001b[0m\n\u001b[0m",
      "\u001b[1;31mTypeError\u001b[0m: get_dictionary() takes 0 positional arguments but 3 were given"
     ]
    }
   ],
   "source": [
    "get_dictionary(\"a\", \"b\", \"c\")"
   ]
  },
  {
   "cell_type": "code",
   "execution_count": 29,
   "metadata": {},
   "outputs": [
    {
     "data": {
      "text/plain": [
       "{'first_name': 'John', 'last_name': 'Newman'}"
      ]
     },
     "execution_count": 29,
     "metadata": {},
     "output_type": "execute_result"
    }
   ],
   "source": [
    "get_dictionary(first_name=\"John\", last_name=\"Newman\")"
   ]
  },
  {
   "cell_type": "markdown",
   "metadata": {},
   "source": [
    "**Observation**\n",
    "- Default type of the keyword argument is DICTIONARY.\n",
    "- Without the keys in the function call it would throw an error.\n",
    "    - The keys can only be strings, rest types will throw an error.\n",
    "- General syntax of parameters "
   ]
  },
  {
   "cell_type": "code",
   "execution_count": 31,
   "metadata": {},
   "outputs": [
    {
     "data": {
      "text/plain": [
       "72.68"
      ]
     },
     "execution_count": 31,
     "metadata": {},
     "output_type": "execute_result"
    }
   ],
   "source": [
    "# Celsius\n",
    "#  c = (T_in_celsius * 9 / 5) + 32 \n",
    "\n",
    "def get_farenheit(c):\n",
    "    return c * (9/5) + 32\n",
    "\n",
    "get_farenheit(22.6)"
   ]
  },
  {
   "cell_type": "code",
   "execution_count": 34,
   "metadata": {},
   "outputs": [
    {
     "name": "stdout",
     "output_type": "stream",
     "text": [
      "22.6 : 72.68\n",
      "25.8 : 78.44\n",
      "27.3 : 81.14\n",
      "29.8 : 85.64\n"
     ]
    }
   ],
   "source": [
    "lst = [22.6, 25.8, 27.3, 29.8]\n",
    "\n",
    "out = list(map(get_farenheit, lst))\n",
    "\n",
    "for x,y in zip(lst, out):\n",
    "    print(x,\":\",y)"
   ]
  },
  {
   "cell_type": "code",
   "execution_count": 35,
   "metadata": {
    "scrolled": true
   },
   "outputs": [
    {
     "name": "stdout",
     "output_type": "stream",
     "text": [
      "22.6 : 72.68\n",
      "25.8 : 78.44\n",
      "27.3 : 81.14\n",
      "29.8 : 85.64\n"
     ]
    }
   ],
   "source": [
    "# Another approach\n",
    "for temp in lst:\n",
    "    print(temp,':',get_farenheit(temp))"
   ]
  },
  {
   "cell_type": "code",
   "execution_count": 41,
   "metadata": {},
   "outputs": [
    {
     "name": "stdout",
     "output_type": "stream",
     "text": [
      "Halo Vargese\n"
     ]
    }
   ],
   "source": [
    "def _greet(name, language=\"english\"):\n",
    "    greet = \"\"\n",
    "    \n",
    "    if language == \"german\":\n",
    "        greet = \"Halo\"\n",
    "    elif language == \"french\":\n",
    "        greet = \"Bonjour\"\n",
    "    elif language == \"spanish\":\n",
    "        greet = \"Holla\"\n",
    "    else:\n",
    "        greet = \"Hello\"\n",
    "        \n",
    "    print(greet,name)\n",
    "    \n",
    "_greet(\"Vargese\", \"german\")"
   ]
  },
  {
   "cell_type": "code",
   "execution_count": 61,
   "metadata": {},
   "outputs": [
    {
     "name": "stdout",
     "output_type": "stream",
     "text": [
      "([], [0])\n",
      "([13], [10, 12])\n"
     ]
    }
   ],
   "source": [
    "# Separate odd and even list\n",
    "def separate(*l):\n",
    "    l = [0]\n",
    "    return [odd for odd in l if odd%2 == 1 ], [even for even in l if even%2 == 0]\n",
    "\n",
    "def separate1(*l):\n",
    "    return [odd for odd in l if odd%2 == 1 ], [even for even in l if even%2 == 0]\n",
    "\n",
    "lst = [i for i in range(1,10)]\n",
    "\n",
    "print(separate(lst))\n",
    "\n",
    "print(separate1(10,12,13))"
   ]
  },
  {
   "cell_type": "code",
   "execution_count": 56,
   "metadata": {},
   "outputs": [
    {
     "data": {
      "text/plain": [
       "(2, 1)"
      ]
     },
     "execution_count": 56,
     "metadata": {},
     "output_type": "execute_result"
    }
   ],
   "source": [
    "def swap(a, b):\n",
    "    a, b = b, a\n",
    "    return a, b\n",
    "    \n",
    "a=1 \n",
    "b=2\n",
    "swap(a, b)"
   ]
  },
  {
   "cell_type": "code",
   "execution_count": 67,
   "metadata": {},
   "outputs": [
    {
     "data": {
      "text/plain": [
       "(2, 1)"
      ]
     },
     "execution_count": 67,
     "metadata": {},
     "output_type": "execute_result"
    }
   ],
   "source": [
    "def swap(**vals):\n",
    "    a, b = vals.values()\n",
    "    return b, a\n",
    "\n",
    "a=1 \n",
    "b=2\n",
    "swap(a=a, b=b)"
   ]
  },
  {
   "cell_type": "markdown",
   "metadata": {},
   "source": [
    "## Scope of variables"
   ]
  },
  {
   "cell_type": "code",
   "execution_count": 72,
   "metadata": {},
   "outputs": [
    {
     "name": "stdout",
     "output_type": "stream",
     "text": [
      "0 12\n"
     ]
    }
   ],
   "source": [
    "c = 10\n",
    "\n",
    "def test():\n",
    "    c = 0\n",
    "    d = 12\n",
    "    print(c, d)\n",
    "    \n",
    "test()"
   ]
  },
  {
   "cell_type": "markdown",
   "metadata": {},
   "source": [
    "**Referencing global variable**"
   ]
  },
  {
   "cell_type": "markdown",
   "metadata": {},
   "source": [
    "> How to update a global variable inside a function with same variable_name "
   ]
  },
  {
   "cell_type": "code",
   "execution_count": 75,
   "metadata": {},
   "outputs": [
    {
     "name": "stdout",
     "output_type": "stream",
     "text": [
      "['False', 'None', 'True', 'and', 'as', 'assert', 'async', 'await', 'break', 'class', 'continue', 'def', 'del', 'elif', 'else', 'except', 'finally', 'for', 'from', 'global', 'if', 'import', 'in', 'is', 'lambda', 'nonlocal', 'not', 'or', 'pass', 'raise', 'return', 'try', 'while', 'with', 'yield']\n"
     ]
    }
   ],
   "source": [
    "from keyword import kwlist\n",
    "\n",
    "print(kwlist)"
   ]
  },
  {
   "cell_type": "code",
   "execution_count": 76,
   "metadata": {},
   "outputs": [
    {
     "name": "stdout",
     "output_type": "stream",
     "text": [
      "Before 10\n",
      "After 1\n"
     ]
    }
   ],
   "source": [
    "a = 10\n",
    "\n",
    "def test_global():\n",
    "    global a    # this will refer the global variable\n",
    "    a = 1\n",
    "\n",
    "print('Before',a)    \n",
    "test_global()\n",
    "print('After',a)"
   ]
  },
  {
   "cell_type": "markdown",
   "metadata": {},
   "source": [
    "**Lambda function**"
   ]
  },
  {
   "cell_type": "code",
   "execution_count": 80,
   "metadata": {},
   "outputs": [
    {
     "name": "stdout",
     "output_type": "stream",
     "text": [
      "Tada\n"
     ]
    }
   ],
   "source": [
    "pri = lambda  : print('Tada')\n",
    "pri()"
   ]
  },
  {
   "cell_type": "code",
   "execution_count": 88,
   "metadata": {},
   "outputs": [
    {
     "name": "stdout",
     "output_type": "stream",
     "text": [
      "(1, 4, 5, 6)\n"
     ]
    }
   ],
   "source": [
    "args = lambda *arg : print(arg)\n",
    "args(1,4,5,6)"
   ]
  },
  {
   "cell_type": "code",
   "execution_count": 92,
   "metadata": {},
   "outputs": [
    {
     "name": "stdout",
     "output_type": "stream",
     "text": [
      "(1, 2, 3)\n"
     ]
    }
   ],
   "source": [
    "(lambda *arg : print(arg))(1,2,3)"
   ]
  },
  {
   "cell_type": "code",
   "execution_count": 95,
   "metadata": {},
   "outputs": [
    {
     "name": "stdout",
     "output_type": "stream",
     "text": [
      "{'a': 1, 'b': 2, 'c': 99}\n"
     ]
    }
   ],
   "source": [
    "(lambda **d: print(d))(a=1, b=2, c=99)"
   ]
  },
  {
   "cell_type": "code",
   "execution_count": 96,
   "metadata": {
    "scrolled": true
   },
   "outputs": [
    {
     "name": "stdout",
     "output_type": "stream",
     "text": [
      "15\n"
     ]
    }
   ],
   "source": [
    "multi_call = lambda a=1,b=2,c=3 : print(a+b+c)\n",
    "\n",
    "multi_call(10)"
   ]
  },
  {
   "cell_type": "markdown",
   "metadata": {},
   "source": [
    "**Observations**\n",
    "- no argument lambda is possible\n",
    "- arbitary arguments and keyword arguments are supported\n",
    "- default parameters supported\n",
    "- Everything supported by a normal method can be extended here."
   ]
  },
  {
   "cell_type": "code",
   "execution_count": 98,
   "metadata": {},
   "outputs": [
    {
     "data": {
      "text/plain": [
       "[5, 10, 15, 20, 25, 30, 35, 40, 45, 50]"
      ]
     },
     "execution_count": 98,
     "metadata": {},
     "output_type": "execute_result"
    }
   ],
   "source": [
    "# tables using lambda\n",
    "\n",
    "def table_of(n):\n",
    "    return lambda x : n*x\n",
    "\n",
    "table_iter = table_of(5)\n",
    "\n",
    "[table_iter(i) for i in range(1,11)]"
   ]
  },
  {
   "cell_type": "markdown",
   "metadata": {},
   "source": [
    "**Map, filter, reduce and accumulate**"
   ]
  },
  {
   "cell_type": "code",
   "execution_count": null,
   "metadata": {},
   "outputs": [],
   "source": [
    "# Map, iterative process"
   ]
  },
  {
   "cell_type": "code",
   "execution_count": 108,
   "metadata": {
    "scrolled": true
   },
   "outputs": [
    {
     "name": "stdout",
     "output_type": "stream",
     "text": [
      "[1, 2, 3, 4, 5, 6, 7, 8, 9, 10]\n",
      "[5, 10, 15, 20, 25, 30, 35, 40, 45, 50]\n",
      "[7, 14, 21, 28, 35, 42, 49, 56, 63, 70]\n",
      "[9, 18, 27, 36, 45, 54, 63, 72, 81, 90]\n",
      "\n",
      "\n",
      "[[1, 2, 3, 4, 5, 6, 7, 8, 9, 10], [5, 10, 15, 20, 25, 30, 35, 40, 45, 50], [7, 14, 21, 28, 35, 42, 49, 56, 63, 70], [9, 18, 27, 36, 45, 54, 63, 72, 81, 90]]\n"
     ]
    }
   ],
   "source": [
    "# Table of the below numbers\n",
    "lst = [1, 5, 7, 9]\n",
    "\n",
    "table_iters = list(map(table_of, lst))\n",
    "\n",
    "# Clean version\n",
    "for table in table_iters:\n",
    "    print(list(map(table, [i for i in range(1,11)])))\n",
    "    \n",
    "print('\\n')\n",
    "# one liner \n",
    "print([list(map(table, [i for i in range(1,11)])) for table in table_iters])\n",
    "\n",
    "# list(map(table_iters, [i for i in range(1,11)]))"
   ]
  },
  {
   "cell_type": "code",
   "execution_count": 109,
   "metadata": {},
   "outputs": [
    {
     "data": {
      "text/plain": [
       "[5, 7, 9]"
      ]
     },
     "execution_count": 109,
     "metadata": {},
     "output_type": "execute_result"
    }
   ],
   "source": [
    "# Filter\n",
    "\n",
    "list(filter(lambda x: x > 3, lst))"
   ]
  },
  {
   "cell_type": "markdown",
   "metadata": {},
   "source": [
    "> Can map be used as a filter?"
   ]
  },
  {
   "cell_type": "markdown",
   "metadata": {},
   "source": [
    "        NO, map can return boolean but it doesnt remove elements which are false. "
   ]
  },
  {
   "cell_type": "code",
   "execution_count": 115,
   "metadata": {},
   "outputs": [
    {
     "name": "stdout",
     "output_type": "stream",
     "text": [
      "[1, 5, 7, 9]\n",
      "10\n"
     ]
    }
   ],
   "source": [
    "# Reduce\n",
    "from functools import reduce\n",
    "\n",
    "# XOR of all\n",
    "print(lst)\n",
    "print(reduce(lambda x,y : x^y, lst))"
   ]
  },
  {
   "cell_type": "code",
   "execution_count": 117,
   "metadata": {},
   "outputs": [
    {
     "name": "stdout",
     "output_type": "stream",
     "text": [
      "9\n"
     ]
    }
   ],
   "source": [
    "# find the min/max in the list\n",
    "\n",
    "print(reduce(lambda x, y: x if x > y else y, lst))"
   ]
  },
  {
   "cell_type": "code",
   "execution_count": 118,
   "metadata": {},
   "outputs": [
    {
     "data": {
      "text/plain": [
       "315"
      ]
     },
     "execution_count": 118,
     "metadata": {},
     "output_type": "execute_result"
    }
   ],
   "source": [
    "import operator\n",
    "\n",
    "reduce(operator.mul, lst)"
   ]
  },
  {
   "cell_type": "code",
   "execution_count": 123,
   "metadata": {},
   "outputs": [
    {
     "name": "stdout",
     "output_type": "stream",
     "text": [
      "[1, 5, 7, 9]\n",
      "[1, 6, 13, 22]\n"
     ]
    }
   ],
   "source": [
    "# accumulate\n",
    "# cumulative output\n",
    "\n",
    "import itertools\n",
    "print(lst)\n",
    "print(list(itertools.accumulate(lst, lambda x,y: x+y )))"
   ]
  },
  {
   "attachments": {},
   "cell_type": "markdown",
   "metadata": {},
   "source": [
    "> is it possible to write fibonacci series using `accumulate` ?\n",
    "```python\n",
    "[0 1 1 2 3 5 8 13 21 34 ...]\n",
    "```"
   ]
  },
  {
   "cell_type": "code",
   "execution_count": 126,
   "metadata": {},
   "outputs": [
    {
     "data": {
      "text/plain": [
       "[0, 1, 1, 1, 1, 1, 1, 1]"
      ]
     },
     "execution_count": 126,
     "metadata": {},
     "output_type": "execute_result"
    }
   ],
   "source": [
    "from itertools import accumulate\n",
    "\n",
    "list(accumulate([0, 1, 0, 0, 0, 0, 0, 0], operator.add))"
   ]
  },
  {
   "cell_type": "markdown",
   "metadata": {},
   "source": [
    "> Find whether a number is floating point number?"
   ]
  },
  {
   "cell_type": "code",
   "execution_count": null,
   "metadata": {},
   "outputs": [],
   "source": []
  }
 ],
 "metadata": {
  "kernelspec": {
   "display_name": "Python 3",
   "language": "python",
   "name": "python3"
  },
  "language_info": {
   "codemirror_mode": {
    "name": "ipython",
    "version": 3
   },
   "file_extension": ".py",
   "mimetype": "text/x-python",
   "name": "python",
   "nbconvert_exporter": "python",
   "pygments_lexer": "ipython3",
   "version": "3.7.0"
  }
 },
 "nbformat": 4,
 "nbformat_minor": 2
}
