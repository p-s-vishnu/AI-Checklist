{
 "cells": [
  {
   "cell_type": "markdown",
   "metadata": {},
   "source": [
    "<h1><center>Day 3</center></h1>"
   ]
  },
  {
   "cell_type": "markdown",
   "metadata": {},
   "source": [
    "# Loops"
   ]
  },
  {
   "cell_type": "markdown",
   "metadata": {},
   "source": [
    "## For"
   ]
  },
  {
   "cell_type": "code",
   "execution_count": 1,
   "metadata": {},
   "outputs": [
    {
     "data": {
      "text/plain": [
       "[[1, 2, 3], ['a', 'b', 'c']]"
      ]
     },
     "execution_count": 1,
     "metadata": {},
     "output_type": "execute_result"
    }
   ],
   "source": [
    "ls = [\n",
    "    [1,2,3],\n",
    "    ['a', 'b', 'c']\n",
    "     ]\n",
    "ls"
   ]
  },
  {
   "cell_type": "code",
   "execution_count": 3,
   "metadata": {
    "scrolled": true
   },
   "outputs": [
    {
     "name": "stdout",
     "output_type": "stream",
     "text": [
      "1\n",
      "2\n",
      "3\n",
      "a\n",
      "b\n",
      "c\n"
     ]
    }
   ],
   "source": [
    "for l in ls:\n",
    "    for i in l:\n",
    "        print(i)"
   ]
  },
  {
   "cell_type": "code",
   "execution_count": 13,
   "metadata": {},
   "outputs": [],
   "source": [
    "def shape(lst):\n",
    "    return (f\"row {len(lst)} column {len(lst[0])}\")\n"
   ]
  },
  {
   "cell_type": "code",
   "execution_count": 15,
   "metadata": {},
   "outputs": [
    {
     "name": "stdout",
     "output_type": "stream",
     "text": [
      "[[1, 2, 3], ['a', 'b', 'c']]\n",
      "row 2 column 3\n"
     ]
    }
   ],
   "source": [
    "print(ls,shape(ls),sep='\\n')"
   ]
  },
  {
   "cell_type": "markdown",
   "metadata": {},
   "source": [
    "> Find the Transpose of a nx2 list? \n"
   ]
  },
  {
   "cell_type": "code",
   "execution_count": 41,
   "metadata": {},
   "outputs": [],
   "source": [
    "# output \n",
    "# [[1,'a'], [2,'b'], [3,'c']]\n",
    "\n",
    "\n",
    "\n",
    "\n"
   ]
  },
  {
   "cell_type": "markdown",
   "metadata": {},
   "source": [
    "**Sum**"
   ]
  },
  {
   "cell_type": "code",
   "execution_count": 18,
   "metadata": {},
   "outputs": [],
   "source": [
    "a = [ 12, 2, 4, 12, 20, 32, 3]"
   ]
  },
  {
   "cell_type": "code",
   "execution_count": null,
   "metadata": {},
   "outputs": [],
   "source": [
    "# Sum using\n",
    "# in-built function\n",
    "sum(a)"
   ]
  },
  {
   "cell_type": "code",
   "execution_count": 21,
   "metadata": {},
   "outputs": [
    {
     "name": "stdout",
     "output_type": "stream",
     "text": [
      "85\n"
     ]
    }
   ],
   "source": [
    "# For loop\n",
    "sum = 0\n",
    "for i in a:\n",
    "    sum += i\n",
    "print(sum)"
   ]
  },
  {
   "cell_type": "code",
   "execution_count": 29,
   "metadata": {},
   "outputs": [
    {
     "data": {
      "text/plain": [
       "85"
      ]
     },
     "execution_count": 29,
     "metadata": {},
     "output_type": "execute_result"
    }
   ],
   "source": [
    "# use reduce\n",
    "# def add(a, b):\n",
    "#     return a + b\n",
    "\n",
    "from functools import reduce\n",
    "\n",
    "reduce(lambda x1, x2: x1 + x2 , a)\n",
    "# reduce(add, [10, 20 ,23])"
   ]
  },
  {
   "cell_type": "markdown",
   "metadata": {},
   "source": [
    "**Squaring the nums**"
   ]
  },
  {
   "cell_type": "markdown",
   "metadata": {},
   "source": [
    "*ljust, center(width, character), rjust*"
   ]
  },
  {
   "cell_type": "code",
   "execution_count": 76,
   "metadata": {
    "scrolled": false
   },
   "outputs": [
    {
     "name": "stdout",
     "output_type": "stream",
     "text": [
      "1   - 1\n",
      "2   - 4\n",
      "3   - 9\n",
      "4   - 16\n",
      "5   - 25\n",
      "6   - 36\n",
      "7   - 49\n",
      "8   - 64\n",
      "9   - 81\n",
      "10  - 100\n"
     ]
    }
   ],
   "source": [
    "# for i in range(1,11):\n",
    "#     print((str(i)+'-'+str(i**2)).center(15,'_'))\n",
    "    \n",
    "for i in range(1,11):\n",
    "    print( str(i).ljust(4, ' ') + '-'.center(2, ' ') + str(i**2))"
   ]
  },
  {
   "cell_type": "code",
   "execution_count": 10,
   "metadata": {},
   "outputs": [
    {
     "data": {
      "text/plain": [
       "'help:(lstrip):'"
      ]
     },
     "execution_count": 10,
     "metadata": {},
     "output_type": "execute_result"
    }
   ],
   "source": [
    "\":help:(lstrip):\".lstrip(':')"
   ]
  },
  {
   "cell_type": "code",
   "execution_count": 44,
   "metadata": {},
   "outputs": [
    {
     "name": "stdout",
     "output_type": "stream",
     "text": [
      "1 4 9 16 25 36 49 64 81 100 "
     ]
    }
   ],
   "source": [
    "for i in range(1,11):\n",
    "    print(i**2, end=' ')"
   ]
  },
  {
   "cell_type": "markdown",
   "metadata": {},
   "source": [
    "**Dictionary**"
   ]
  },
  {
   "cell_type": "code",
   "execution_count": 45,
   "metadata": {},
   "outputs": [],
   "source": [
    "f_dict = { \n",
    "    \"name\"  :\"apple\",\n",
    "    \"colour\":\"red\",\n",
    "    \"wt\"    : \"140g\"\n",
    "}"
   ]
  },
  {
   "cell_type": "markdown",
   "metadata": {},
   "source": [
    "> Dictionary comprehension?"
   ]
  },
  {
   "cell_type": "code",
   "execution_count": 48,
   "metadata": {},
   "outputs": [
    {
     "data": {
      "text/plain": [
       "{'apple': 'name', 'red': 'colour', '140g': 'wt'}"
      ]
     },
     "execution_count": 48,
     "metadata": {},
     "output_type": "execute_result"
    }
   ],
   "source": [
    "# inverse dictionary using comprehension\n",
    "{v:k for k,v in f_dict.items()}"
   ]
  },
  {
   "cell_type": "code",
   "execution_count": 53,
   "metadata": {
    "scrolled": true
   },
   "outputs": [
    {
     "name": "stdout",
     "output_type": "stream",
     "text": [
      "wt 140g\n"
     ]
    }
   ],
   "source": [
    "k,v = f_dict.popitem()\n",
    "print(k,v)\n",
    "\n",
    "f_dict[k] = v"
   ]
  },
  {
   "cell_type": "code",
   "execution_count": 55,
   "metadata": {},
   "outputs": [
    {
     "data": {
      "text/plain": [
       "dict_items"
      ]
     },
     "execution_count": 55,
     "metadata": {},
     "output_type": "execute_result"
    }
   ],
   "source": [
    "type(f_dict.items())"
   ]
  },
  {
   "cell_type": "markdown",
   "metadata": {},
   "source": [
    "**round**"
   ]
  },
  {
   "cell_type": "code",
   "execution_count": 61,
   "metadata": {},
   "outputs": [],
   "source": [
    "prices = {\n",
    "    \"apple\": 23.90,\n",
    "    \"banana\": 40.7,\n",
    "    \"avacado\": 80\n",
    "}"
   ]
  },
  {
   "cell_type": "code",
   "execution_count": 68,
   "metadata": {},
   "outputs": [
    {
     "name": "stdout",
     "output_type": "stream",
     "text": [
      "{'apple': 21.27, 'banana': 36.22, 'avacado': 71.2}\n"
     ]
    }
   ],
   "source": [
    "# apply discount of 11%\n",
    "disc_price = {}\n",
    "\n",
    "for k,v in prices.items():\n",
    "    disc_price[k] = round(v * (1 - 0.11), 2)\n",
    "    \n",
    "print(disc_price)"
   ]
  },
  {
   "cell_type": "code",
   "execution_count": 78,
   "metadata": {},
   "outputs": [
    {
     "data": {
      "text/plain": [
       "{'name': 'apple', 'colour': 'red', 'wt': '140g'}"
      ]
     },
     "execution_count": 78,
     "metadata": {},
     "output_type": "execute_result"
    }
   ],
   "source": [
    "f_dict"
   ]
  },
  {
   "cell_type": "code",
   "execution_count": 80,
   "metadata": {
    "scrolled": true
   },
   "outputs": [
    {
     "name": "stdout",
     "output_type": "stream",
     "text": [
      "name\n",
      "apple\n",
      "colour\n",
      "banana\n",
      "wt\n",
      "avacado\n"
     ]
    }
   ],
   "source": [
    "for x, y in zip(f_dict, disc_price):\n",
    "    print(x, y,sep='\\n')"
   ]
  },
  {
   "cell_type": "markdown",
   "metadata": {},
   "source": [
    "*Multiplication table*"
   ]
  },
  {
   "cell_type": "code",
   "execution_count": 90,
   "metadata": {},
   "outputs": [
    {
     "name": "stdout",
     "output_type": "stream",
     "text": [
      "Table of n 5\n",
      "1 x 5 = 5\n",
      "2 x 5 = 10\n",
      "3 x 5 = 15\n",
      "4 x 5 = 20\n",
      "5 x 5 = 25\n",
      "6 x 5 = 30\n",
      "7 x 5 = 35\n",
      "8 x 5 = 40\n",
      "9 x 5 = 45\n",
      "10 x 5 = 50\n"
     ]
    }
   ],
   "source": [
    "n = int(input('Table of n '))\n",
    "\n",
    "for i in range(1, 11):\n",
    "    print(i,'x',n,'=', n*i)"
   ]
  },
  {
   "cell_type": "code",
   "execution_count": 94,
   "metadata": {},
   "outputs": [
    {
     "name": "stdout",
     "output_type": "stream",
     "text": [
      "Sequence [1, 2, 3, 4, 5]\n",
      "Power:6\n",
      "1 64 729 4096 15625 "
     ]
    }
   ],
   "source": [
    "inp = [ i for i in range(1,6)]\n",
    "print(\"Sequence\", inp)\n",
    "\n",
    "power = int(input(\"Power:\"))\n",
    "\n",
    "for i in inp:\n",
    "    print(i ** power, end=' ')"
   ]
  },
  {
   "cell_type": "code",
   "execution_count": 98,
   "metadata": {},
   "outputs": [
    {
     "name": "stdout",
     "output_type": "stream",
     "text": [
      "1 odd\n",
      "2 even\n",
      "3 odd\n",
      "4 even\n",
      "5 odd\n",
      "6 even\n",
      "7 odd\n",
      "8 even\n",
      "9 odd\n",
      "10 even\n"
     ]
    }
   ],
   "source": [
    "start, end = 1, 10\n",
    "# start, end = int(input(\"Start:\")), int(input(\"End:\"))\n",
    "\n",
    "for i in range(start, end + 1):\n",
    "    print(i, \"even\" if i&1 == 0 else \"odd\")"
   ]
  },
  {
   "cell_type": "code",
   "execution_count": 101,
   "metadata": {
    "scrolled": false
   },
   "outputs": [
    {
     "name": "stdout",
     "output_type": "stream",
     "text": [
      "[1, 3, 5, 7, 9]\n",
      "[2, 4, 6, 8, 10]\n"
     ]
    }
   ],
   "source": [
    "odd_list = [i for i in range(start, end+1) if i&1 != 0]\n",
    "even_list = [i for i in range(start, end+1) if i&1 == 0]\n",
    "\n",
    "print(odd_list)\n",
    "print(even_list)"
   ]
  },
  {
   "cell_type": "markdown",
   "metadata": {},
   "source": [
    "> What are `any` and `all` in python ?"
   ]
  },
  {
   "cell_type": "code",
   "execution_count": null,
   "metadata": {},
   "outputs": [],
   "source": [
    "# All and Any are the shorthand for All True and Any \n",
    "print(any([True, True, False]))\n",
    "\n",
    "print(all([True, True, False]))"
   ]
  },
  {
   "cell_type": "markdown",
   "metadata": {},
   "source": [
    "> Which all datatypes share references when initialized in single line ?"
   ]
  },
  {
   "cell_type": "markdown",
   "metadata": {},
   "source": [
    "- Lists \n",
    "- Dictionary\n",
    "- Set\n",
    "\n",
    "**note:** methods like append() will modify the common reference however, when you are reassigning the variable a new memory block is created and the reference is pointed leaving the other reference *INTACT*."
   ]
  },
  {
   "cell_type": "code",
   "execution_count": 143,
   "metadata": {},
   "outputs": [
    {
     "name": "stdout",
     "output_type": "stream",
     "text": [
      "{'a': 12, 'b': 67}\n",
      "[]\n",
      "{1, 2, 3, 5}\n",
      "(1, 2, 3)\n"
     ]
    }
   ],
   "source": [
    "# Dictionary\n",
    "a = b = {\"a\":12, \"b\":67}\n",
    "b = {}\n",
    "\n",
    "print(a)\n",
    "\n",
    "# List\n",
    "a = b = [1,2,3]\n",
    "b.clear()\n",
    "\n",
    "print(a)\n",
    "\n",
    "# Set\n",
    "a = b = {1, 2, 3}\n",
    "# b = {5}\n",
    "b.add(5)\n",
    "print(a)\n",
    "\n",
    "# Tuple\n",
    "a = b = (1, 2, 3)\n",
    "b = (5)\n",
    "\n",
    "print(a)"
   ]
  },
  {
   "cell_type": "code",
   "execution_count": 194,
   "metadata": {},
   "outputs": [
    {
     "name": "stdout",
     "output_type": "stream",
     "text": [
      "Complete div_5 [5, 10, 15, 20, 25, 30, 35, 40, 45, 50, 55, 60, 65, 70, 75, 80, 85, 90, 95, 100]\n",
      "Complete div_7 [7, 14, 21, 28, 35, 42, 49, 56, 63, 70, 77, 84, 91, 98]\n"
     ]
    }
   ],
   "source": [
    "div_5 = []\n",
    "div_7 = []    \n",
    "\n",
    "for i in range(1, 101):\n",
    "    if i%5 == 0:\n",
    "        div_5.append(i)\n",
    "#         print('div_5 :',div_5)\n",
    "    if i%7 == 0:\n",
    "        div_7.append(i)\n",
    "#         print('div_7 :',div_7)\n",
    "        \n",
    "print('Complete div_5', div_5)\n",
    "print('Complete div_7', div_7)"
   ]
  },
  {
   "cell_type": "markdown",
   "metadata": {},
   "source": [
    "**Observation**\n",
    "- Single line initialization of lists do share the reference while appending."
   ]
  },
  {
   "cell_type": "code",
   "execution_count": 121,
   "metadata": {},
   "outputs": [
    {
     "name": "stdout",
     "output_type": "stream",
     "text": [
      "plaindrome list: ['mom']\n",
      "non palindrome list['wonderful', 'tea', 'always']\n"
     ]
    }
   ],
   "source": [
    "# palindrome check\n",
    "lst = [\"mom\", \"wonderful\", \"tea\", \"always\"]\n",
    "\n",
    "palin_lst = []\n",
    "non_palin_lst = []\n",
    "\n",
    "for l  in lst:\n",
    "    if l == l[::-1]:\n",
    "        palin_lst.append(l)\n",
    "        \n",
    "    else:\n",
    "        non_palin_lst.append(l)\n",
    "        \n",
    "print(f\"plaindrome list: {palin_lst}\")\n",
    "\n",
    "print(f\"non palindrome list{non_palin_lst}\")"
   ]
  },
  {
   "cell_type": "markdown",
   "metadata": {},
   "source": [
    "> Difference between `is` and `==`?"
   ]
  },
  {
   "cell_type": "code",
   "execution_count": null,
   "metadata": {},
   "outputs": [],
   "source": []
  },
  {
   "cell_type": "code",
   "execution_count": 131,
   "metadata": {},
   "outputs": [
    {
     "name": "stdout",
     "output_type": "stream",
     "text": [
      "3628800\n"
     ]
    }
   ],
   "source": [
    "# factorial \n",
    "\n",
    "n = 10\n",
    "fact = 1\n",
    "for i in range(1, n+1):\n",
    "    fact *= i\n",
    "print(fact)"
   ]
  },
  {
   "cell_type": "markdown",
   "metadata": {},
   "source": [
    "**Break and continue**"
   ]
  },
  {
   "cell_type": "code",
   "execution_count": 138,
   "metadata": {},
   "outputs": [
    {
     "name": "stdout",
     "output_type": "stream",
     "text": [
      "Match found\n",
      "This is outermost text....\n"
     ]
    }
   ],
   "source": [
    "for i in range(110, 130):\n",
    "    if i == 124:\n",
    "        print(\"Match found\")\n",
    "        break\n",
    "else:\n",
    "    print(\"This will print if not interrupted\")\n",
    "print(\"This is outermost text....\")"
   ]
  },
  {
   "cell_type": "code",
   "execution_count": 141,
   "metadata": {},
   "outputs": [
    {
     "name": "stdout",
     "output_type": "stream",
     "text": [
      "The below instructions will be skipped...\n",
      "This will print if not interrupted\n",
      "This is outermost text....\n"
     ]
    }
   ],
   "source": [
    "for i in range(110, 130):\n",
    "    if i == 124:\n",
    "        print(\"The below instructions will be skipped...\")\n",
    "        continue\n",
    "        print(\"Match found\")\n",
    "else:\n",
    "    print(\"This will print if not interrupted\")\n",
    "print(\"This is outermost text....\")"
   ]
  },
  {
   "cell_type": "markdown",
   "metadata": {},
   "source": [
    "**while loop**"
   ]
  },
  {
   "cell_type": "code",
   "execution_count": 145,
   "metadata": {
    "collapsed": true
   },
   "outputs": [
    {
     "name": "stdout",
     "output_type": "stream",
     "text": [
      "1\n",
      "2\n",
      "3\n",
      "4\n",
      "5\n",
      "6\n",
      "7\n",
      "8\n",
      "9\n",
      "10\n"
     ]
    }
   ],
   "source": [
    "i = 0\n",
    "while i <10:\n",
    "    i+=1\n",
    "    print(i)"
   ]
  },
  {
   "cell_type": "code",
   "execution_count": 152,
   "metadata": {
    "collapsed": true
   },
   "outputs": [
    {
     "name": "stdout",
     "output_type": "stream",
     "text": [
      "         10\n",
      "         9\n",
      "        8\n",
      "       7\n",
      "      6\n",
      "     5\n",
      "    4\n",
      "   3\n",
      "  2\n",
      " 1\n",
      "0\n"
     ]
    }
   ],
   "source": [
    "# reverse sequence\n",
    "i = 10\n",
    "\n",
    "while i >= 0:\n",
    "    print(str(i).rjust(i+1,' '))\n",
    "    i -= 1"
   ]
  },
  {
   "cell_type": "code",
   "execution_count": 159,
   "metadata": {
    "collapsed": true
   },
   "outputs": [
    {
     "name": "stdout",
     "output_type": "stream",
     "text": [
      "Enter Limit :12\n",
      "1    = 1\n",
      "2    = 4\n",
      "3    = 9\n",
      "4    = 16\n",
      "5    = 25\n",
      "6    = 36\n",
      "7    = 49\n",
      "8    = 64\n",
      "9    = 81\n",
      "10   = 100\n",
      "11   = 121\n",
      "12   = 144\n"
     ]
    }
   ],
   "source": [
    "i = 1\n",
    "n = int(input(\"Enter Limit :\"))\n",
    "\n",
    "while i <= n:\n",
    "    print(str(i).ljust(4,' '), '=', i**2)\n",
    "    i += 1"
   ]
  },
  {
   "cell_type": "markdown",
   "metadata": {},
   "source": [
    "> Magic commands supported in jupyter notebook ?"
   ]
  },
  {
   "cell_type": "code",
   "execution_count": null,
   "metadata": {},
   "outputs": [],
   "source": [
    "%colors"
   ]
  },
  {
   "cell_type": "code",
   "execution_count": 164,
   "metadata": {},
   "outputs": [
    {
     "name": "stdout",
     "output_type": "stream",
     "text": [
      "3 4 6 7 8 "
     ]
    }
   ],
   "source": [
    "lst = [ 3, 4, 6, 7, 8]\n",
    "i = 0\n",
    "\n",
    "while i < len(lst):\n",
    "    print(lst[i], end=\" \")\n",
    "    i += 1"
   ]
  },
  {
   "cell_type": "markdown",
   "metadata": {},
   "source": [
    "**Time the execution**"
   ]
  },
  {
   "cell_type": "code",
   "execution_count": 195,
   "metadata": {},
   "outputs": [
    {
     "name": "stdout",
     "output_type": "stream",
     "text": [
      "1566446914.569038\n"
     ]
    }
   ],
   "source": [
    "from time import time \n",
    "\n",
    "print(time())"
   ]
  },
  {
   "cell_type": "code",
   "execution_count": 169,
   "metadata": {},
   "outputs": [
    {
     "name": "stdout",
     "output_type": "stream",
     "text": [
      "Method 1 15\n",
      "Method 2 15.0\n"
     ]
    }
   ],
   "source": [
    "# Sum of n \n",
    "n = 5\n",
    "\n",
    "# method 1 \n",
    "i = 1\n",
    "n_sum = 0\n",
    "\n",
    "%timeit\n",
    "while i <= n:\n",
    "    n_sum += i\n",
    "    i += 1\n",
    "print(\"Method 1\", n_sum)\n",
    "\n",
    "# method 2 - direct formula\n",
    "print(\"Method 2\", n * (n+1) / 2)"
   ]
  },
  {
   "cell_type": "code",
   "execution_count": 178,
   "metadata": {},
   "outputs": [
    {
     "name": "stdout",
     "output_type": "stream",
     "text": [
      "1 Jai hanuman\n",
      "2 Jai hanuman\n",
      "3 Jai hanuman\n",
      "5 Jai hanuman\n",
      "No interruptions .....\n"
     ]
    }
   ],
   "source": [
    "# Else in a while loop \n",
    "n = 6\n",
    "i = 1\n",
    "\n",
    "while i < n:\n",
    "    if i == 4:\n",
    "        i+=1\n",
    "        continue\n",
    "    print(i, \"Jai hanuman\")\n",
    "    i += 1\n",
    "else:\n",
    "    print(\"No interruptions .....\")\n"
   ]
  },
  {
   "cell_type": "markdown",
   "metadata": {},
   "source": [
    "**List/Dict/Set/Tuple Comprehension**"
   ]
  },
  {
   "cell_type": "markdown",
   "metadata": {},
   "source": [
    "**Observarions/Note:**\n",
    "- [You can have tuple comprehension by type casting a generator](https://stackoverflow.com/questions/16940293/why-is-there-no-tuple-comprehension-in-python)\n",
    "- [While loop wont work in comprehension however, itertools can be used](https://stackoverflow.com/questions/42707435/using-while-loops-in-list-comprehension)"
   ]
  },
  {
   "cell_type": "code",
   "execution_count": 190,
   "metadata": {
    "scrolled": true
   },
   "outputs": [
    {
     "data": {
      "text/plain": [
       "(0, 1, 2, 3, 4, 5, 6, 7, 8, 9)"
      ]
     },
     "execution_count": 190,
     "metadata": {},
     "output_type": "execute_result"
    }
   ],
   "source": [
    "tuple(i for i in range(10))"
   ]
  },
  {
   "cell_type": "code",
   "execution_count": 189,
   "metadata": {
    "scrolled": true
   },
   "outputs": [
    {
     "data": {
      "text/plain": [
       "[35, 70]"
      ]
     },
     "execution_count": 189,
     "metadata": {},
     "output_type": "execute_result"
    }
   ],
   "source": [
    "[i for i in range(1, 101) if i%5==0 and i % 7 == 0]"
   ]
  },
  {
   "cell_type": "markdown",
   "metadata": {},
   "source": [
    "> What are Generators?"
   ]
  },
  {
   "cell_type": "code",
   "execution_count": null,
   "metadata": {},
   "outputs": [],
   "source": []
  },
  {
   "cell_type": "markdown",
   "metadata": {},
   "source": [
    "**List of primes**"
   ]
  },
  {
   "cell_type": "code",
   "execution_count": 192,
   "metadata": {},
   "outputs": [],
   "source": [
    "# 1 to n, find the primes\n",
    "n = 50\n",
    "\n",
    "# layman approach\n",
    "def is_prime(num):\n",
    "    for i in range(2, int(num**0.5 + 1)):\n",
    "        if num%i == 0:\n",
    "            return False\n",
    "    return True\n",
    "\n",
    "primes = [i for i in range(2, n+1) if is_prime(i)]"
   ]
  },
  {
   "cell_type": "code",
   "execution_count": 193,
   "metadata": {},
   "outputs": [
    {
     "data": {
      "text/plain": [
       "[2, 3, 5, 7, 11, 13, 17, 19, 23, 29, 31, 37, 41, 43, 47]"
      ]
     },
     "execution_count": 193,
     "metadata": {},
     "output_type": "execute_result"
    }
   ],
   "source": [
    "primes"
   ]
  }
 ],
 "metadata": {
  "kernelspec": {
   "display_name": "Python 3",
   "language": "python",
   "name": "python3"
  },
  "language_info": {
   "codemirror_mode": {
    "name": "ipython",
    "version": 3
   },
   "file_extension": ".py",
   "mimetype": "text/x-python",
   "name": "python",
   "nbconvert_exporter": "python",
   "pygments_lexer": "ipython3",
   "version": "3.7.0"
  }
 },
 "nbformat": 4,
 "nbformat_minor": 2
}
