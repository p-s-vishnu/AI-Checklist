{
 "cells": [
  {
   "cell_type": "markdown",
   "metadata": {},
   "source": [
    "# TAKE HOME LAB-EXERCISE - 02"
   ]
  },
  {
   "cell_type": "markdown",
   "metadata": {},
   "source": [
    "(Kaggle games Dataset)\n",
    "\n",
    " We will be using the [games Dataset](https://www.kaggle.com/gutsyrobot/games-data/data) from Kaggle. \n",
    "\n",
    "**TAKE HOME LAB EXERCISE** answer below question. "
   ]
  },
  {
   "cell_type": "code",
   "execution_count": 1,
   "metadata": {},
   "outputs": [],
   "source": [
    "import pandas as pd\n",
    "import os"
   ]
  },
  {
   "cell_type": "markdown",
   "metadata": {},
   "source": [
    "**Q.no(1). load the Data 'games.csv' as games.** "
   ]
  },
  {
   "cell_type": "code",
   "execution_count": 3,
   "metadata": {},
   "outputs": [
    {
     "data": {
      "text/plain": [
       "Index(['id', 'type', 'name', 'yearpublished', 'minplayers', 'maxplayers',\n",
       "       'playingtime', 'minplaytime', 'maxplaytime', 'minage', 'users_rated',\n",
       "       'average_rating', 'bayes_average_rating', 'total_owners',\n",
       "       'total_traders', 'total_wanters', 'total_wishers', 'total_comments',\n",
       "       'total_weights', 'average_weight'],\n",
       "      dtype='object')"
      ]
     },
     "execution_count": 3,
     "metadata": {},
     "output_type": "execute_result"
    }
   ],
   "source": [
    "games = pd.read_csv('games.csv')\n",
    "games.columns"
   ]
  },
  {
   "cell_type": "markdown",
   "metadata": {},
   "source": [
    "-----"
   ]
  },
  {
   "cell_type": "markdown",
   "metadata": {},
   "source": [
    "**Q.no(2). Check the head of the DataFrame.**"
   ]
  },
  {
   "cell_type": "code",
   "execution_count": 4,
   "metadata": {
    "collapsed": true
   },
   "outputs": [
    {
     "data": {
      "text/html": [
       "<div>\n",
       "<style scoped>\n",
       "    .dataframe tbody tr th:only-of-type {\n",
       "        vertical-align: middle;\n",
       "    }\n",
       "\n",
       "    .dataframe tbody tr th {\n",
       "        vertical-align: top;\n",
       "    }\n",
       "\n",
       "    .dataframe thead th {\n",
       "        text-align: right;\n",
       "    }\n",
       "</style>\n",
       "<table border=\"1\" class=\"dataframe\">\n",
       "  <thead>\n",
       "    <tr style=\"text-align: right;\">\n",
       "      <th></th>\n",
       "      <th>id</th>\n",
       "      <th>type</th>\n",
       "      <th>name</th>\n",
       "      <th>yearpublished</th>\n",
       "      <th>minplayers</th>\n",
       "      <th>maxplayers</th>\n",
       "      <th>playingtime</th>\n",
       "      <th>minplaytime</th>\n",
       "      <th>maxplaytime</th>\n",
       "      <th>minage</th>\n",
       "      <th>users_rated</th>\n",
       "      <th>average_rating</th>\n",
       "      <th>bayes_average_rating</th>\n",
       "      <th>total_owners</th>\n",
       "      <th>total_traders</th>\n",
       "      <th>total_wanters</th>\n",
       "      <th>total_wishers</th>\n",
       "      <th>total_comments</th>\n",
       "      <th>total_weights</th>\n",
       "      <th>average_weight</th>\n",
       "    </tr>\n",
       "  </thead>\n",
       "  <tbody>\n",
       "    <tr>\n",
       "      <td>0</td>\n",
       "      <td>12333</td>\n",
       "      <td>boardgame</td>\n",
       "      <td>Twilight Struggle</td>\n",
       "      <td>2005.0</td>\n",
       "      <td>2.0</td>\n",
       "      <td>2.0</td>\n",
       "      <td>180.0</td>\n",
       "      <td>180.0</td>\n",
       "      <td>180.0</td>\n",
       "      <td>13.0</td>\n",
       "      <td>20113</td>\n",
       "      <td>8.33774</td>\n",
       "      <td>8.22186</td>\n",
       "      <td>26647</td>\n",
       "      <td>372</td>\n",
       "      <td>1219</td>\n",
       "      <td>5865</td>\n",
       "      <td>5347</td>\n",
       "      <td>2562</td>\n",
       "      <td>3.4785</td>\n",
       "    </tr>\n",
       "    <tr>\n",
       "      <td>1</td>\n",
       "      <td>120677</td>\n",
       "      <td>boardgame</td>\n",
       "      <td>Terra Mystica</td>\n",
       "      <td>2012.0</td>\n",
       "      <td>2.0</td>\n",
       "      <td>5.0</td>\n",
       "      <td>150.0</td>\n",
       "      <td>60.0</td>\n",
       "      <td>150.0</td>\n",
       "      <td>12.0</td>\n",
       "      <td>14383</td>\n",
       "      <td>8.28798</td>\n",
       "      <td>8.14232</td>\n",
       "      <td>16519</td>\n",
       "      <td>132</td>\n",
       "      <td>1586</td>\n",
       "      <td>6277</td>\n",
       "      <td>2526</td>\n",
       "      <td>1423</td>\n",
       "      <td>3.8939</td>\n",
       "    </tr>\n",
       "    <tr>\n",
       "      <td>2</td>\n",
       "      <td>102794</td>\n",
       "      <td>boardgame</td>\n",
       "      <td>Caverna: The Cave Farmers</td>\n",
       "      <td>2013.0</td>\n",
       "      <td>1.0</td>\n",
       "      <td>7.0</td>\n",
       "      <td>210.0</td>\n",
       "      <td>30.0</td>\n",
       "      <td>210.0</td>\n",
       "      <td>12.0</td>\n",
       "      <td>9262</td>\n",
       "      <td>8.28994</td>\n",
       "      <td>8.06886</td>\n",
       "      <td>12230</td>\n",
       "      <td>99</td>\n",
       "      <td>1476</td>\n",
       "      <td>5600</td>\n",
       "      <td>1700</td>\n",
       "      <td>777</td>\n",
       "      <td>3.7761</td>\n",
       "    </tr>\n",
       "    <tr>\n",
       "      <td>3</td>\n",
       "      <td>25613</td>\n",
       "      <td>boardgame</td>\n",
       "      <td>Through the Ages: A Story of Civilization</td>\n",
       "      <td>2006.0</td>\n",
       "      <td>2.0</td>\n",
       "      <td>4.0</td>\n",
       "      <td>240.0</td>\n",
       "      <td>240.0</td>\n",
       "      <td>240.0</td>\n",
       "      <td>12.0</td>\n",
       "      <td>13294</td>\n",
       "      <td>8.20407</td>\n",
       "      <td>8.05804</td>\n",
       "      <td>14343</td>\n",
       "      <td>362</td>\n",
       "      <td>1084</td>\n",
       "      <td>5075</td>\n",
       "      <td>3378</td>\n",
       "      <td>1642</td>\n",
       "      <td>4.1590</td>\n",
       "    </tr>\n",
       "    <tr>\n",
       "      <td>4</td>\n",
       "      <td>3076</td>\n",
       "      <td>boardgame</td>\n",
       "      <td>Puerto Rico</td>\n",
       "      <td>2002.0</td>\n",
       "      <td>2.0</td>\n",
       "      <td>5.0</td>\n",
       "      <td>150.0</td>\n",
       "      <td>90.0</td>\n",
       "      <td>150.0</td>\n",
       "      <td>12.0</td>\n",
       "      <td>39883</td>\n",
       "      <td>8.14261</td>\n",
       "      <td>8.04524</td>\n",
       "      <td>44362</td>\n",
       "      <td>795</td>\n",
       "      <td>861</td>\n",
       "      <td>5414</td>\n",
       "      <td>9173</td>\n",
       "      <td>5213</td>\n",
       "      <td>3.2943</td>\n",
       "    </tr>\n",
       "  </tbody>\n",
       "</table>\n",
       "</div>"
      ],
      "text/plain": [
       "       id       type                                       name  \\\n",
       "0   12333  boardgame                          Twilight Struggle   \n",
       "1  120677  boardgame                              Terra Mystica   \n",
       "2  102794  boardgame                  Caverna: The Cave Farmers   \n",
       "3   25613  boardgame  Through the Ages: A Story of Civilization   \n",
       "4    3076  boardgame                                Puerto Rico   \n",
       "\n",
       "   yearpublished  minplayers  maxplayers  playingtime  minplaytime  \\\n",
       "0         2005.0         2.0         2.0        180.0        180.0   \n",
       "1         2012.0         2.0         5.0        150.0         60.0   \n",
       "2         2013.0         1.0         7.0        210.0         30.0   \n",
       "3         2006.0         2.0         4.0        240.0        240.0   \n",
       "4         2002.0         2.0         5.0        150.0         90.0   \n",
       "\n",
       "   maxplaytime  minage  users_rated  average_rating  bayes_average_rating  \\\n",
       "0        180.0    13.0        20113         8.33774               8.22186   \n",
       "1        150.0    12.0        14383         8.28798               8.14232   \n",
       "2        210.0    12.0         9262         8.28994               8.06886   \n",
       "3        240.0    12.0        13294         8.20407               8.05804   \n",
       "4        150.0    12.0        39883         8.14261               8.04524   \n",
       "\n",
       "   total_owners  total_traders  total_wanters  total_wishers  total_comments  \\\n",
       "0         26647            372           1219           5865            5347   \n",
       "1         16519            132           1586           6277            2526   \n",
       "2         12230             99           1476           5600            1700   \n",
       "3         14343            362           1084           5075            3378   \n",
       "4         44362            795            861           5414            9173   \n",
       "\n",
       "   total_weights  average_weight  \n",
       "0           2562          3.4785  \n",
       "1           1423          3.8939  \n",
       "2            777          3.7761  \n",
       "3           1642          4.1590  \n",
       "4           5213          3.2943  "
      ]
     },
     "execution_count": 4,
     "metadata": {},
     "output_type": "execute_result"
    }
   ],
   "source": [
    "games.head()"
   ]
  },
  {
   "cell_type": "markdown",
   "metadata": {},
   "source": [
    "-----"
   ]
  },
  {
   "cell_type": "markdown",
   "metadata": {},
   "source": [
    "**Q.no(3)How many rows and columns are there.**"
   ]
  },
  {
   "cell_type": "code",
   "execution_count": 10,
   "metadata": {
    "collapsed": true
   },
   "outputs": [
    {
     "data": {
      "text/html": [
       "<div>\n",
       "<style scoped>\n",
       "    .dataframe tbody tr th:only-of-type {\n",
       "        vertical-align: middle;\n",
       "    }\n",
       "\n",
       "    .dataframe tbody tr th {\n",
       "        vertical-align: top;\n",
       "    }\n",
       "\n",
       "    .dataframe thead th {\n",
       "        text-align: right;\n",
       "    }\n",
       "</style>\n",
       "<table border=\"1\" class=\"dataframe\">\n",
       "  <thead>\n",
       "    <tr style=\"text-align: right;\">\n",
       "      <th></th>\n",
       "      <th>id</th>\n",
       "      <th>yearpublished</th>\n",
       "      <th>minplayers</th>\n",
       "      <th>maxplayers</th>\n",
       "      <th>playingtime</th>\n",
       "      <th>minplaytime</th>\n",
       "      <th>maxplaytime</th>\n",
       "      <th>minage</th>\n",
       "      <th>users_rated</th>\n",
       "      <th>average_rating</th>\n",
       "      <th>bayes_average_rating</th>\n",
       "      <th>total_owners</th>\n",
       "      <th>total_traders</th>\n",
       "      <th>total_wanters</th>\n",
       "      <th>total_wishers</th>\n",
       "      <th>total_comments</th>\n",
       "      <th>total_weights</th>\n",
       "      <th>average_weight</th>\n",
       "    </tr>\n",
       "  </thead>\n",
       "  <tbody>\n",
       "    <tr>\n",
       "      <td>count</td>\n",
       "      <td>81312.000000</td>\n",
       "      <td>81309.000000</td>\n",
       "      <td>81309.000000</td>\n",
       "      <td>81309.000000</td>\n",
       "      <td>81309.000000</td>\n",
       "      <td>81309.000000</td>\n",
       "      <td>81309.000000</td>\n",
       "      <td>81309.000000</td>\n",
       "      <td>81312.000000</td>\n",
       "      <td>81312.000000</td>\n",
       "      <td>81312.000000</td>\n",
       "      <td>81312.000000</td>\n",
       "      <td>81312.000000</td>\n",
       "      <td>81312.000000</td>\n",
       "      <td>81312.000000</td>\n",
       "      <td>81312.000000</td>\n",
       "      <td>81312.000000</td>\n",
       "      <td>81312.000000</td>\n",
       "    </tr>\n",
       "    <tr>\n",
       "      <td>mean</td>\n",
       "      <td>72278.150138</td>\n",
       "      <td>1806.630668</td>\n",
       "      <td>1.992018</td>\n",
       "      <td>5.637703</td>\n",
       "      <td>51.634788</td>\n",
       "      <td>49.276833</td>\n",
       "      <td>51.634788</td>\n",
       "      <td>6.983975</td>\n",
       "      <td>161.886585</td>\n",
       "      <td>4.212144</td>\n",
       "      <td>1.157632</td>\n",
       "      <td>262.502509</td>\n",
       "      <td>9.236423</td>\n",
       "      <td>12.688890</td>\n",
       "      <td>42.719144</td>\n",
       "      <td>49.290031</td>\n",
       "      <td>16.488009</td>\n",
       "      <td>0.908083</td>\n",
       "    </tr>\n",
       "    <tr>\n",
       "      <td>std</td>\n",
       "      <td>58818.237742</td>\n",
       "      <td>588.517834</td>\n",
       "      <td>0.931034</td>\n",
       "      <td>56.076890</td>\n",
       "      <td>345.699969</td>\n",
       "      <td>334.483934</td>\n",
       "      <td>345.699969</td>\n",
       "      <td>5.035138</td>\n",
       "      <td>1145.978126</td>\n",
       "      <td>3.056551</td>\n",
       "      <td>2.340033</td>\n",
       "      <td>1504.536693</td>\n",
       "      <td>39.757408</td>\n",
       "      <td>60.764207</td>\n",
       "      <td>239.292628</td>\n",
       "      <td>284.862853</td>\n",
       "      <td>115.980285</td>\n",
       "      <td>1.176002</td>\n",
       "    </tr>\n",
       "    <tr>\n",
       "      <td>min</td>\n",
       "      <td>1.000000</td>\n",
       "      <td>-3500.000000</td>\n",
       "      <td>0.000000</td>\n",
       "      <td>0.000000</td>\n",
       "      <td>0.000000</td>\n",
       "      <td>0.000000</td>\n",
       "      <td>0.000000</td>\n",
       "      <td>0.000000</td>\n",
       "      <td>0.000000</td>\n",
       "      <td>0.000000</td>\n",
       "      <td>0.000000</td>\n",
       "      <td>0.000000</td>\n",
       "      <td>0.000000</td>\n",
       "      <td>0.000000</td>\n",
       "      <td>0.000000</td>\n",
       "      <td>0.000000</td>\n",
       "      <td>0.000000</td>\n",
       "      <td>0.000000</td>\n",
       "    </tr>\n",
       "    <tr>\n",
       "      <td>25%</td>\n",
       "      <td>21339.750000</td>\n",
       "      <td>1984.000000</td>\n",
       "      <td>2.000000</td>\n",
       "      <td>2.000000</td>\n",
       "      <td>8.000000</td>\n",
       "      <td>10.000000</td>\n",
       "      <td>8.000000</td>\n",
       "      <td>0.000000</td>\n",
       "      <td>0.000000</td>\n",
       "      <td>0.000000</td>\n",
       "      <td>0.000000</td>\n",
       "      <td>1.000000</td>\n",
       "      <td>0.000000</td>\n",
       "      <td>0.000000</td>\n",
       "      <td>0.000000</td>\n",
       "      <td>0.000000</td>\n",
       "      <td>0.000000</td>\n",
       "      <td>0.000000</td>\n",
       "    </tr>\n",
       "    <tr>\n",
       "      <td>50%</td>\n",
       "      <td>43258.000000</td>\n",
       "      <td>2003.000000</td>\n",
       "      <td>2.000000</td>\n",
       "      <td>4.000000</td>\n",
       "      <td>30.000000</td>\n",
       "      <td>30.000000</td>\n",
       "      <td>30.000000</td>\n",
       "      <td>8.000000</td>\n",
       "      <td>2.000000</td>\n",
       "      <td>5.265620</td>\n",
       "      <td>0.000000</td>\n",
       "      <td>7.000000</td>\n",
       "      <td>0.000000</td>\n",
       "      <td>0.000000</td>\n",
       "      <td>1.000000</td>\n",
       "      <td>1.000000</td>\n",
       "      <td>0.000000</td>\n",
       "      <td>0.000000</td>\n",
       "    </tr>\n",
       "    <tr>\n",
       "      <td>75%</td>\n",
       "      <td>128836.500000</td>\n",
       "      <td>2010.000000</td>\n",
       "      <td>2.000000</td>\n",
       "      <td>6.000000</td>\n",
       "      <td>60.000000</td>\n",
       "      <td>60.000000</td>\n",
       "      <td>60.000000</td>\n",
       "      <td>12.000000</td>\n",
       "      <td>16.000000</td>\n",
       "      <td>6.718777</td>\n",
       "      <td>0.000000</td>\n",
       "      <td>51.000000</td>\n",
       "      <td>2.000000</td>\n",
       "      <td>3.000000</td>\n",
       "      <td>7.000000</td>\n",
       "      <td>9.000000</td>\n",
       "      <td>2.000000</td>\n",
       "      <td>1.916700</td>\n",
       "    </tr>\n",
       "    <tr>\n",
       "      <td>max</td>\n",
       "      <td>184451.000000</td>\n",
       "      <td>2018.000000</td>\n",
       "      <td>99.000000</td>\n",
       "      <td>11299.000000</td>\n",
       "      <td>60120.000000</td>\n",
       "      <td>60120.000000</td>\n",
       "      <td>60120.000000</td>\n",
       "      <td>120.000000</td>\n",
       "      <td>53680.000000</td>\n",
       "      <td>10.000000</td>\n",
       "      <td>8.221860</td>\n",
       "      <td>73188.000000</td>\n",
       "      <td>1395.000000</td>\n",
       "      <td>1586.000000</td>\n",
       "      <td>6402.000000</td>\n",
       "      <td>11798.000000</td>\n",
       "      <td>5996.000000</td>\n",
       "      <td>5.000000</td>\n",
       "    </tr>\n",
       "  </tbody>\n",
       "</table>\n",
       "</div>"
      ],
      "text/plain": [
       "                  id  yearpublished    minplayers    maxplayers   playingtime  \\\n",
       "count   81312.000000   81309.000000  81309.000000  81309.000000  81309.000000   \n",
       "mean    72278.150138    1806.630668      1.992018      5.637703     51.634788   \n",
       "std     58818.237742     588.517834      0.931034     56.076890    345.699969   \n",
       "min         1.000000   -3500.000000      0.000000      0.000000      0.000000   \n",
       "25%     21339.750000    1984.000000      2.000000      2.000000      8.000000   \n",
       "50%     43258.000000    2003.000000      2.000000      4.000000     30.000000   \n",
       "75%    128836.500000    2010.000000      2.000000      6.000000     60.000000   \n",
       "max    184451.000000    2018.000000     99.000000  11299.000000  60120.000000   \n",
       "\n",
       "        minplaytime   maxplaytime        minage   users_rated  average_rating  \\\n",
       "count  81309.000000  81309.000000  81309.000000  81312.000000    81312.000000   \n",
       "mean      49.276833     51.634788      6.983975    161.886585        4.212144   \n",
       "std      334.483934    345.699969      5.035138   1145.978126        3.056551   \n",
       "min        0.000000      0.000000      0.000000      0.000000        0.000000   \n",
       "25%       10.000000      8.000000      0.000000      0.000000        0.000000   \n",
       "50%       30.000000     30.000000      8.000000      2.000000        5.265620   \n",
       "75%       60.000000     60.000000     12.000000     16.000000        6.718777   \n",
       "max    60120.000000  60120.000000    120.000000  53680.000000       10.000000   \n",
       "\n",
       "       bayes_average_rating  total_owners  total_traders  total_wanters  \\\n",
       "count          81312.000000  81312.000000   81312.000000   81312.000000   \n",
       "mean               1.157632    262.502509       9.236423      12.688890   \n",
       "std                2.340033   1504.536693      39.757408      60.764207   \n",
       "min                0.000000      0.000000       0.000000       0.000000   \n",
       "25%                0.000000      1.000000       0.000000       0.000000   \n",
       "50%                0.000000      7.000000       0.000000       0.000000   \n",
       "75%                0.000000     51.000000       2.000000       3.000000   \n",
       "max                8.221860  73188.000000    1395.000000    1586.000000   \n",
       "\n",
       "       total_wishers  total_comments  total_weights  average_weight  \n",
       "count   81312.000000    81312.000000   81312.000000    81312.000000  \n",
       "mean       42.719144       49.290031      16.488009        0.908083  \n",
       "std       239.292628      284.862853     115.980285        1.176002  \n",
       "min         0.000000        0.000000       0.000000        0.000000  \n",
       "25%         0.000000        0.000000       0.000000        0.000000  \n",
       "50%         1.000000        1.000000       0.000000        0.000000  \n",
       "75%         7.000000        9.000000       2.000000        1.916700  \n",
       "max      6402.000000    11798.000000    5996.000000        5.000000  "
      ]
     },
     "execution_count": 10,
     "metadata": {},
     "output_type": "execute_result"
    }
   ],
   "source": [
    "games.describe()"
   ]
  },
  {
   "cell_type": "code",
   "execution_count": 17,
   "metadata": {},
   "outputs": [
    {
     "name": "stdout",
     "output_type": "stream",
     "text": [
      "Rows 81312 and Cols 20\n"
     ]
    }
   ],
   "source": [
    "print('Rows {} and Cols {}'.format(*games.shape))"
   ]
  },
  {
   "cell_type": "markdown",
   "metadata": {},
   "source": [
    "-----"
   ]
  },
  {
   "cell_type": "markdown",
   "metadata": {},
   "source": [
    "**Q.no(4). What is the average Playingtime of all the players in the dataset.**"
   ]
  },
  {
   "cell_type": "code",
   "execution_count": 22,
   "metadata": {},
   "outputs": [
    {
     "name": "stdout",
     "output_type": "stream",
     "text": [
      "51.63478827682052\n"
     ]
    }
   ],
   "source": [
    "print(games['playingtime'].mean())"
   ]
  },
  {
   "cell_type": "markdown",
   "metadata": {},
   "source": [
    "-------------------"
   ]
  },
  {
   "cell_type": "markdown",
   "metadata": {},
   "source": [
    "**Q.no(5).What is the highest number of comments received for a game.**"
   ]
  },
  {
   "cell_type": "code",
   "execution_count": 24,
   "metadata": {},
   "outputs": [
    {
     "data": {
      "text/plain": [
       "11798"
      ]
     },
     "execution_count": 24,
     "metadata": {},
     "output_type": "execute_result"
    }
   ],
   "source": [
    "games['total_comments'].max()"
   ]
  },
  {
   "cell_type": "code",
   "execution_count": 23,
   "metadata": {
    "scrolled": true
   },
   "outputs": [
    {
     "data": {
      "text/html": [
       "<div>\n",
       "<style scoped>\n",
       "    .dataframe tbody tr th:only-of-type {\n",
       "        vertical-align: middle;\n",
       "    }\n",
       "\n",
       "    .dataframe tbody tr th {\n",
       "        vertical-align: top;\n",
       "    }\n",
       "\n",
       "    .dataframe thead th {\n",
       "        text-align: right;\n",
       "    }\n",
       "</style>\n",
       "<table border=\"1\" class=\"dataframe\">\n",
       "  <thead>\n",
       "    <tr style=\"text-align: right;\">\n",
       "      <th></th>\n",
       "      <th>id</th>\n",
       "      <th>type</th>\n",
       "      <th>name</th>\n",
       "      <th>yearpublished</th>\n",
       "      <th>minplayers</th>\n",
       "      <th>maxplayers</th>\n",
       "      <th>playingtime</th>\n",
       "      <th>minplaytime</th>\n",
       "      <th>maxplaytime</th>\n",
       "      <th>minage</th>\n",
       "      <th>users_rated</th>\n",
       "      <th>average_rating</th>\n",
       "      <th>bayes_average_rating</th>\n",
       "      <th>total_owners</th>\n",
       "      <th>total_traders</th>\n",
       "      <th>total_wanters</th>\n",
       "      <th>total_wishers</th>\n",
       "      <th>total_comments</th>\n",
       "      <th>total_weights</th>\n",
       "      <th>average_weight</th>\n",
       "    </tr>\n",
       "  </thead>\n",
       "  <tbody>\n",
       "    <tr>\n",
       "      <td>165</td>\n",
       "      <td>13</td>\n",
       "      <td>boardgame</td>\n",
       "      <td>Catan</td>\n",
       "      <td>1995.0</td>\n",
       "      <td>3.0</td>\n",
       "      <td>4.0</td>\n",
       "      <td>90.0</td>\n",
       "      <td>90.0</td>\n",
       "      <td>90.0</td>\n",
       "      <td>10.0</td>\n",
       "      <td>53680</td>\n",
       "      <td>7.34303</td>\n",
       "      <td>7.21171</td>\n",
       "      <td>73188</td>\n",
       "      <td>1071</td>\n",
       "      <td>391</td>\n",
       "      <td>3201</td>\n",
       "      <td>11798</td>\n",
       "      <td>5996</td>\n",
       "      <td>2.3712</td>\n",
       "    </tr>\n",
       "    <tr>\n",
       "      <td>1965</td>\n",
       "      <td>13</td>\n",
       "      <td>boardgame</td>\n",
       "      <td>Catan</td>\n",
       "      <td>1995.0</td>\n",
       "      <td>3.0</td>\n",
       "      <td>4.0</td>\n",
       "      <td>90.0</td>\n",
       "      <td>90.0</td>\n",
       "      <td>90.0</td>\n",
       "      <td>10.0</td>\n",
       "      <td>53680</td>\n",
       "      <td>7.34303</td>\n",
       "      <td>7.21171</td>\n",
       "      <td>73188</td>\n",
       "      <td>1071</td>\n",
       "      <td>391</td>\n",
       "      <td>3201</td>\n",
       "      <td>11798</td>\n",
       "      <td>5996</td>\n",
       "      <td>2.3712</td>\n",
       "    </tr>\n",
       "  </tbody>\n",
       "</table>\n",
       "</div>"
      ],
      "text/plain": [
       "      id       type   name  yearpublished  minplayers  maxplayers  \\\n",
       "165   13  boardgame  Catan         1995.0         3.0         4.0   \n",
       "1965  13  boardgame  Catan         1995.0         3.0         4.0   \n",
       "\n",
       "      playingtime  minplaytime  maxplaytime  minage  users_rated  \\\n",
       "165          90.0         90.0         90.0    10.0        53680   \n",
       "1965         90.0         90.0         90.0    10.0        53680   \n",
       "\n",
       "      average_rating  bayes_average_rating  total_owners  total_traders  \\\n",
       "165          7.34303               7.21171         73188           1071   \n",
       "1965         7.34303               7.21171         73188           1071   \n",
       "\n",
       "      total_wanters  total_wishers  total_comments  total_weights  \\\n",
       "165             391           3201           11798           5996   \n",
       "1965            391           3201           11798           5996   \n",
       "\n",
       "      average_weight  \n",
       "165           2.3712  \n",
       "1965          2.3712  "
      ]
     },
     "execution_count": 23,
     "metadata": {},
     "output_type": "execute_result"
    }
   ],
   "source": [
    "games[ games['total_comments'] == games['total_comments'].max() ]"
   ]
  },
  {
   "cell_type": "markdown",
   "metadata": {},
   "source": [
    "-------"
   ]
  },
  {
   "cell_type": "markdown",
   "metadata": {},
   "source": [
    "**Q.no(6).What is the name of the game with id 1500.**"
   ]
  },
  {
   "cell_type": "code",
   "execution_count": 25,
   "metadata": {},
   "outputs": [
    {
     "data": {
      "text/plain": [
       "10592    Zocken\n",
       "Name: name, dtype: object"
      ]
     },
     "execution_count": 25,
     "metadata": {},
     "output_type": "execute_result"
    }
   ],
   "source": [
    "games[games['id'] == 1500]['name']"
   ]
  },
  {
   "cell_type": "markdown",
   "metadata": {},
   "source": [
    "------"
   ]
  },
  {
   "cell_type": "markdown",
   "metadata": {},
   "source": [
    "**Q.no(7).which year was game with id 1600 was published.**"
   ]
  },
  {
   "cell_type": "code",
   "execution_count": 27,
   "metadata": {},
   "outputs": [
    {
     "data": {
      "text/plain": [
       "13270    1986.0\n",
       "Name: yearpublished, dtype: float64"
      ]
     },
     "execution_count": 27,
     "metadata": {},
     "output_type": "execute_result"
    }
   ],
   "source": [
    "games[games['id'] == 1600]['yearpublished']"
   ]
  },
  {
   "cell_type": "markdown",
   "metadata": {},
   "source": [
    "-----"
   ]
  },
  {
   "cell_type": "markdown",
   "metadata": {},
   "source": [
    "**Q.no(8).Which game has received highest number of comments.**"
   ]
  },
  {
   "cell_type": "code",
   "execution_count": 34,
   "metadata": {},
   "outputs": [
    {
     "data": {
      "text/html": [
       "<div>\n",
       "<style scoped>\n",
       "    .dataframe tbody tr th:only-of-type {\n",
       "        vertical-align: middle;\n",
       "    }\n",
       "\n",
       "    .dataframe tbody tr th {\n",
       "        vertical-align: top;\n",
       "    }\n",
       "\n",
       "    .dataframe thead th {\n",
       "        text-align: right;\n",
       "    }\n",
       "</style>\n",
       "<table border=\"1\" class=\"dataframe\">\n",
       "  <thead>\n",
       "    <tr style=\"text-align: right;\">\n",
       "      <th></th>\n",
       "      <th>id</th>\n",
       "      <th>type</th>\n",
       "      <th>name</th>\n",
       "      <th>yearpublished</th>\n",
       "      <th>minplayers</th>\n",
       "      <th>maxplayers</th>\n",
       "      <th>playingtime</th>\n",
       "      <th>minplaytime</th>\n",
       "      <th>maxplaytime</th>\n",
       "      <th>minage</th>\n",
       "      <th>users_rated</th>\n",
       "      <th>average_rating</th>\n",
       "      <th>bayes_average_rating</th>\n",
       "      <th>total_owners</th>\n",
       "      <th>total_traders</th>\n",
       "      <th>total_wanters</th>\n",
       "      <th>total_wishers</th>\n",
       "      <th>total_comments</th>\n",
       "      <th>total_weights</th>\n",
       "      <th>average_weight</th>\n",
       "    </tr>\n",
       "  </thead>\n",
       "  <tbody>\n",
       "    <tr>\n",
       "      <td>165</td>\n",
       "      <td>13</td>\n",
       "      <td>boardgame</td>\n",
       "      <td>Catan</td>\n",
       "      <td>1995.0</td>\n",
       "      <td>3.0</td>\n",
       "      <td>4.0</td>\n",
       "      <td>90.0</td>\n",
       "      <td>90.0</td>\n",
       "      <td>90.0</td>\n",
       "      <td>10.0</td>\n",
       "      <td>53680</td>\n",
       "      <td>7.34303</td>\n",
       "      <td>7.21171</td>\n",
       "      <td>73188</td>\n",
       "      <td>1071</td>\n",
       "      <td>391</td>\n",
       "      <td>3201</td>\n",
       "      <td>11798</td>\n",
       "      <td>5996</td>\n",
       "      <td>2.3712</td>\n",
       "    </tr>\n",
       "    <tr>\n",
       "      <td>1965</td>\n",
       "      <td>13</td>\n",
       "      <td>boardgame</td>\n",
       "      <td>Catan</td>\n",
       "      <td>1995.0</td>\n",
       "      <td>3.0</td>\n",
       "      <td>4.0</td>\n",
       "      <td>90.0</td>\n",
       "      <td>90.0</td>\n",
       "      <td>90.0</td>\n",
       "      <td>10.0</td>\n",
       "      <td>53680</td>\n",
       "      <td>7.34303</td>\n",
       "      <td>7.21171</td>\n",
       "      <td>73188</td>\n",
       "      <td>1071</td>\n",
       "      <td>391</td>\n",
       "      <td>3201</td>\n",
       "      <td>11798</td>\n",
       "      <td>5996</td>\n",
       "      <td>2.3712</td>\n",
       "    </tr>\n",
       "  </tbody>\n",
       "</table>\n",
       "</div>"
      ],
      "text/plain": [
       "      id       type   name  yearpublished  minplayers  maxplayers  \\\n",
       "165   13  boardgame  Catan         1995.0         3.0         4.0   \n",
       "1965  13  boardgame  Catan         1995.0         3.0         4.0   \n",
       "\n",
       "      playingtime  minplaytime  maxplaytime  minage  users_rated  \\\n",
       "165          90.0         90.0         90.0    10.0        53680   \n",
       "1965         90.0         90.0         90.0    10.0        53680   \n",
       "\n",
       "      average_rating  bayes_average_rating  total_owners  total_traders  \\\n",
       "165          7.34303               7.21171         73188           1071   \n",
       "1965         7.34303               7.21171         73188           1071   \n",
       "\n",
       "      total_wanters  total_wishers  total_comments  total_weights  \\\n",
       "165             391           3201           11798           5996   \n",
       "1965            391           3201           11798           5996   \n",
       "\n",
       "      average_weight  \n",
       "165           2.3712  \n",
       "1965          2.3712  "
      ]
     },
     "execution_count": 34,
     "metadata": {},
     "output_type": "execute_result"
    }
   ],
   "source": [
    "games[games['total_comments'] == games['total_comments'].max()]"
   ]
  },
  {
   "cell_type": "markdown",
   "metadata": {},
   "source": [
    "-----"
   ]
  },
  {
   "cell_type": "markdown",
   "metadata": {},
   "source": [
    "**Q.no(9).Which games have received least number of comments**"
   ]
  },
  {
   "cell_type": "code",
   "execution_count": 43,
   "metadata": {},
   "outputs": [
    {
     "name": "stdout",
     "output_type": "stream",
     "text": [
      "Total number of games: 29001\n",
      "['Looney Leo' 'Dump' 'Field of Fire' ... 'BEARanoia' 'Freight'\n",
      " 'Bingo Animal Kids']\n"
     ]
    }
   ],
   "source": [
    "print(f\"Total number of games: {len(games[games['total_comments'] == games['total_comments'].min()]['name'].values)}\")\n",
    "print(games[games['total_comments'] == games['total_comments'].min()]['name'].values)"
   ]
  },
  {
   "cell_type": "markdown",
   "metadata": {},
   "source": [
    "-----"
   ]
  },
  {
   "cell_type": "markdown",
   "metadata": {},
   "source": [
    "**Q.no(10).How many unique games are there in the dataset.**"
   ]
  },
  {
   "cell_type": "code",
   "execution_count": 47,
   "metadata": {},
   "outputs": [
    {
     "name": "stdout",
     "output_type": "stream",
     "text": [
      "Total unique games: 76036\n",
      "['Twilight Struggle' 'Terra Mystica' 'Caverna: The Cave Farmers' ...\n",
      " 'BEARanoia' 'Freight' 'Bingo Animal Kids']\n"
     ]
    }
   ],
   "source": [
    "print(f\"Total unique games: {len(pd.unique(games['name'].values))}\")\n",
    "print(pd.unique(games['name'].values))"
   ]
  },
  {
   "cell_type": "markdown",
   "metadata": {},
   "source": [
    "----"
   ]
  },
  {
   "cell_type": "markdown",
   "metadata": {},
   "source": [
    "**Q.no(11).How many boardgames and boardgameexpansions are there in the dataset.**"
   ]
  },
  {
   "cell_type": "code",
   "execution_count": 65,
   "metadata": {},
   "outputs": [
    {
     "data": {
      "text/plain": [
       "0                 boardgame\n",
       "1                 boardgame\n",
       "2                 boardgame\n",
       "3                 boardgame\n",
       "4                 boardgame\n",
       "                ...        \n",
       "81307    boardgameexpansion\n",
       "81308             boardgame\n",
       "81309             boardgame\n",
       "81310             boardgame\n",
       "81311             boardgame\n",
       "Name: type, Length: 81312, dtype: object"
      ]
     },
     "execution_count": 65,
     "metadata": {},
     "output_type": "execute_result"
    }
   ],
   "source": [
    "games[\"type\"]"
   ]
  },
  {
   "cell_type": "code",
   "execution_count": 58,
   "metadata": {
    "scrolled": true
   },
   "outputs": [],
   "source": [
    "count_board = games['type'] == \"boardgame\"\n",
    "count_board_expansion = games['type'] == \"boardgameexpansion\""
   ]
  },
  {
   "cell_type": "code",
   "execution_count": 62,
   "metadata": {},
   "outputs": [
    {
     "name": "stdout",
     "output_type": "stream",
     "text": [
      "70820\n"
     ]
    }
   ],
   "source": [
    "print(sum(count_board))"
   ]
  },
  {
   "cell_type": "code",
   "execution_count": 18,
   "metadata": {
    "scrolled": true
   },
   "outputs": [
    {
     "data": {
      "text/plain": [
       "Index(['id', 'type', 'name', 'yearpublished', 'minplayers', 'maxplayers',\n",
       "       'playingtime', 'minplaytime', 'maxplaytime', 'minage', 'users_rated',\n",
       "       'average_rating', 'bayes_average_rating', 'total_owners',\n",
       "       'total_traders', 'total_wanters', 'total_wishers', 'total_comments',\n",
       "       'total_weights', 'average_weight'],\n",
       "      dtype='object')"
      ]
     },
     "execution_count": 18,
     "metadata": {},
     "output_type": "execute_result"
    }
   ],
   "source": [
    "games.columns"
   ]
  },
  {
   "cell_type": "markdown",
   "metadata": {},
   "source": [
    "----"
   ]
  },
  {
   "cell_type": "markdown",
   "metadata": {},
   "source": [
    "**Q.no(12) Show the average ratings of games in ascending order.**"
   ]
  },
  {
   "cell_type": "code",
   "execution_count": null,
   "metadata": {},
   "outputs": [],
   "source": []
  },
  {
   "cell_type": "markdown",
   "metadata": {},
   "source": [
    "----"
   ]
  },
  {
   "cell_type": "markdown",
   "metadata": {},
   "source": [
    "**Q.no(13) Show the average ratings of games in ascending order.**"
   ]
  },
  {
   "cell_type": "code",
   "execution_count": null,
   "metadata": {},
   "outputs": [],
   "source": []
  },
  {
   "cell_type": "markdown",
   "metadata": {},
   "source": [
    "----"
   ]
  },
  {
   "cell_type": "markdown",
   "metadata": {},
   "source": [
    "**Q.no(14).What is the dense rank order of the games as per there average rating.**"
   ]
  },
  {
   "cell_type": "code",
   "execution_count": null,
   "metadata": {},
   "outputs": [],
   "source": []
  },
  {
   "cell_type": "markdown",
   "metadata": {},
   "source": [
    "------"
   ]
  },
  {
   "cell_type": "markdown",
   "metadata": {},
   "source": [
    "# --------------------------------HAPPY LEARNING---------------------------------------"
   ]
  },
  {
   "cell_type": "markdown",
   "metadata": {},
   "source": [
    "-------"
   ]
  }
 ],
 "metadata": {
  "kernelspec": {
   "display_name": "Python 3",
   "language": "python",
   "name": "python3"
  },
  "language_info": {
   "codemirror_mode": {
    "name": "ipython",
    "version": 3
   },
   "file_extension": ".py",
   "mimetype": "text/x-python",
   "name": "python",
   "nbconvert_exporter": "python",
   "pygments_lexer": "ipython3",
   "version": "3.7.0"
  }
 },
 "nbformat": 4,
 "nbformat_minor": 2
}
