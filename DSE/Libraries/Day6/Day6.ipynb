{
 "cells": [
  {
   "cell_type": "markdown",
   "metadata": {},
   "source": [
    "# <center>Day 6</center> "
   ]
  },
  {
   "cell_type": "markdown",
   "metadata": {},
   "source": [
    "## Pandas"
   ]
  },
  {
   "cell_type": "markdown",
   "metadata": {},
   "source": [
    "### Series"
   ]
  },
  {
   "cell_type": "code",
   "execution_count": 1,
   "metadata": {},
   "outputs": [],
   "source": [
    "import pandas as pd"
   ]
  },
  {
   "cell_type": "code",
   "execution_count": 2,
   "metadata": {},
   "outputs": [
    {
     "data": {
      "text/plain": [
       "[111, 211, 311, 411]"
      ]
     },
     "execution_count": 2,
     "metadata": {},
     "output_type": "execute_result"
    }
   ],
   "source": [
    "mylist = list(range(111,445,100))\n",
    "mylist"
   ]
  },
  {
   "cell_type": "code",
   "execution_count": 4,
   "metadata": {
    "scrolled": true
   },
   "outputs": [
    {
     "data": {
      "text/plain": [
       "maths      111\n",
       "science    211\n",
       "physics    311\n",
       "english    411\n",
       "dtype: int64"
      ]
     },
     "execution_count": 4,
     "metadata": {},
     "output_type": "execute_result"
    }
   ],
   "source": [
    "ps1 = pd.Series(data = mylist, index= ['maths', 'science', 'physics', 'english'])\n",
    "ps1"
   ]
  },
  {
   "cell_type": "code",
   "execution_count": 5,
   "metadata": {},
   "outputs": [
    {
     "data": {
      "text/plain": [
       "111"
      ]
     },
     "execution_count": 5,
     "metadata": {},
     "output_type": "execute_result"
    }
   ],
   "source": [
    "ps1[0]"
   ]
  },
  {
   "cell_type": "code",
   "execution_count": 8,
   "metadata": {
    "scrolled": true
   },
   "outputs": [
    {
     "name": "stdout",
     "output_type": "stream",
     "text": [
      "111 <class 'numpy.int64'>\n"
     ]
    }
   ],
   "source": [
    "print(ps1['maths'], type(ps1['maths']))"
   ]
  },
  {
   "cell_type": "code",
   "execution_count": 10,
   "metadata": {},
   "outputs": [
    {
     "name": "stdout",
     "output_type": "stream",
     "text": [
      "111 <class 'pandas.core.series.Series'>\n"
     ]
    }
   ],
   "source": [
    "print(ps1['maths'], type(ps1[['maths']]))"
   ]
  },
  {
   "cell_type": "code",
   "execution_count": 11,
   "metadata": {},
   "outputs": [
    {
     "data": {
      "text/plain": [
       "4"
      ]
     },
     "execution_count": 11,
     "metadata": {},
     "output_type": "execute_result"
    }
   ],
   "source": [
    "ps1.count()"
   ]
  },
  {
   "cell_type": "code",
   "execution_count": 17,
   "metadata": {},
   "outputs": [
    {
     "data": {
      "text/plain": [
       "(maths      111\n",
       " science    211\n",
       " physics    311\n",
       " english    411\n",
       " dtype: int64, pandas.core.series.Series)"
      ]
     },
     "execution_count": 17,
     "metadata": {},
     "output_type": "execute_result"
    }
   ],
   "source": [
    "ps1, type(ps1)"
   ]
  },
  {
   "cell_type": "code",
   "execution_count": 31,
   "metadata": {},
   "outputs": [
    {
     "name": "stdout",
     "output_type": "stream",
     "text": [
      "4\n",
      "maths      111\n",
      "physics    311\n",
      "dtype: int64\n"
     ]
    }
   ],
   "source": [
    "print(ps1.count())\n",
    "print(ps1[[True, False]*2])"
   ]
  },
  {
   "cell_type": "code",
   "execution_count": 36,
   "metadata": {
    "scrolled": false
   },
   "outputs": [
    {
     "data": {
      "text/plain": [
       "A      1\n",
       "B      4\n",
       "C      9\n",
       "D     16\n",
       "E     25\n",
       "F     36\n",
       "G     49\n",
       "H     64\n",
       "I     81\n",
       "J    100\n",
       "dtype: int64"
      ]
     },
     "execution_count": 36,
     "metadata": {},
     "output_type": "execute_result"
    }
   ],
   "source": [
    "ps2 = pd.Series(data=[i**2 for i in range(1,11)], index=\"A B C D E F G H I J\".split())\n",
    "ps2"
   ]
  },
  {
   "cell_type": "code",
   "execution_count": 37,
   "metadata": {},
   "outputs": [
    {
     "data": {
      "text/plain": [
       "Index(['A', 'B', 'C', 'D', 'E', 'F', 'G', 'H', 'I', 'J'], dtype='object')"
      ]
     },
     "execution_count": 37,
     "metadata": {},
     "output_type": "execute_result"
    }
   ],
   "source": [
    "ps2.index"
   ]
  },
  {
   "cell_type": "code",
   "execution_count": 40,
   "metadata": {},
   "outputs": [
    {
     "data": {
      "text/plain": [
       "array([  1,   4,   9,  16,  25,  36,  49,  64,  81, 100], dtype=int64)"
      ]
     },
     "execution_count": 40,
     "metadata": {},
     "output_type": "execute_result"
    }
   ],
   "source": [
    "ps2.values"
   ]
  },
  {
   "cell_type": "code",
   "execution_count": 42,
   "metadata": {
    "scrolled": false
   },
   "outputs": [
    {
     "name": "stdout",
     "output_type": "stream",
     "text": [
      "{'Tata': 1000, 'Birla': 2000, 'Baja': 3000}\n"
     ]
    },
    {
     "data": {
      "text/plain": [
       "Tata     1000\n",
       "Birla    2000\n",
       "Baja     3000\n",
       "dtype: int64"
      ]
     },
     "execution_count": 42,
     "metadata": {},
     "output_type": "execute_result"
    }
   ],
   "source": [
    "di = {k:v for k,v in zip(\"Tata Birla Baja\".split(), [1000, 2000, 3000])}\n",
    "print(di)\n",
    "pd.Series(di)"
   ]
  },
  {
   "cell_type": "markdown",
   "metadata": {},
   "source": [
    "### DataFrame"
   ]
  },
  {
   "cell_type": "code",
   "execution_count": 266,
   "metadata": {},
   "outputs": [],
   "source": [
    "di1 = {k:[j for j in range(100*i, 100*i + 10)] for i,k in enumerate(di)}"
   ]
  },
  {
   "cell_type": "code",
   "execution_count": 267,
   "metadata": {},
   "outputs": [
    {
     "data": {
      "text/plain": [
       "{'Tata': 1000, 'Birla': 2000, 'Baja': 3000}"
      ]
     },
     "execution_count": 267,
     "metadata": {},
     "output_type": "execute_result"
    }
   ],
   "source": [
    "di"
   ]
  },
  {
   "cell_type": "code",
   "execution_count": 268,
   "metadata": {
    "scrolled": true
   },
   "outputs": [
    {
     "data": {
      "text/html": [
       "<div>\n",
       "<style scoped>\n",
       "    .dataframe tbody tr th:only-of-type {\n",
       "        vertical-align: middle;\n",
       "    }\n",
       "\n",
       "    .dataframe tbody tr th {\n",
       "        vertical-align: top;\n",
       "    }\n",
       "\n",
       "    .dataframe thead th {\n",
       "        text-align: right;\n",
       "    }\n",
       "</style>\n",
       "<table border=\"1\" class=\"dataframe\">\n",
       "  <thead>\n",
       "    <tr style=\"text-align: right;\">\n",
       "      <th></th>\n",
       "      <th>Tata</th>\n",
       "      <th>Birla</th>\n",
       "      <th>Baja</th>\n",
       "    </tr>\n",
       "  </thead>\n",
       "  <tbody>\n",
       "    <tr>\n",
       "      <td>Infra</td>\n",
       "      <td>0</td>\n",
       "      <td>100</td>\n",
       "      <td>200</td>\n",
       "    </tr>\n",
       "    <tr>\n",
       "      <td>Energy</td>\n",
       "      <td>1</td>\n",
       "      <td>101</td>\n",
       "      <td>201</td>\n",
       "    </tr>\n",
       "    <tr>\n",
       "      <td>Auto</td>\n",
       "      <td>2</td>\n",
       "      <td>102</td>\n",
       "      <td>202</td>\n",
       "    </tr>\n",
       "    <tr>\n",
       "      <td>Medical</td>\n",
       "      <td>3</td>\n",
       "      <td>103</td>\n",
       "      <td>203</td>\n",
       "    </tr>\n",
       "    <tr>\n",
       "      <td>Finance</td>\n",
       "      <td>4</td>\n",
       "      <td>104</td>\n",
       "      <td>204</td>\n",
       "    </tr>\n",
       "    <tr>\n",
       "      <td>FMCG</td>\n",
       "      <td>5</td>\n",
       "      <td>105</td>\n",
       "      <td>205</td>\n",
       "    </tr>\n",
       "    <tr>\n",
       "      <td>Petrol</td>\n",
       "      <td>6</td>\n",
       "      <td>106</td>\n",
       "      <td>206</td>\n",
       "    </tr>\n",
       "    <tr>\n",
       "      <td>Electricity</td>\n",
       "      <td>7</td>\n",
       "      <td>107</td>\n",
       "      <td>207</td>\n",
       "    </tr>\n",
       "    <tr>\n",
       "      <td>Defence</td>\n",
       "      <td>8</td>\n",
       "      <td>108</td>\n",
       "      <td>208</td>\n",
       "    </tr>\n",
       "    <tr>\n",
       "      <td>Others</td>\n",
       "      <td>9</td>\n",
       "      <td>109</td>\n",
       "      <td>209</td>\n",
       "    </tr>\n",
       "  </tbody>\n",
       "</table>\n",
       "</div>"
      ],
      "text/plain": [
       "             Tata  Birla  Baja\n",
       "Infra           0    100   200\n",
       "Energy          1    101   201\n",
       "Auto            2    102   202\n",
       "Medical         3    103   203\n",
       "Finance         4    104   204\n",
       "FMCG            5    105   205\n",
       "Petrol          6    106   206\n",
       "Electricity     7    107   207\n",
       "Defence         8    108   208\n",
       "Others          9    109   209"
      ]
     },
     "execution_count": 268,
     "metadata": {},
     "output_type": "execute_result"
    }
   ],
   "source": [
    "df1 = pd.DataFrame(di1, index=\"Infra Energy Auto Medical Finance FMCG Petrol Electricity Defence Others\".split())\n",
    "df1"
   ]
  },
  {
   "cell_type": "code",
   "execution_count": 273,
   "metadata": {},
   "outputs": [
    {
     "data": {
      "text/plain": [
       "201"
      ]
     },
     "execution_count": 273,
     "metadata": {},
     "output_type": "execute_result"
    }
   ],
   "source": [
    "# row 1 and row 2\n",
    "# column 0 and column 2\n",
    "df1.iloc[[1,2],[0,2]]"
   ]
  },
  {
   "cell_type": "code",
   "execution_count": 63,
   "metadata": {
    "scrolled": true
   },
   "outputs": [],
   "source": [
    "d3 = {\n",
    "    \"Tech1\": [131, 192, 125, 100, 133, 166, 192, 158, 174],\n",
    "    \"Infra1\": [163, 117, 139, 174, 181, 105, 121, 163, 133],\n",
    "    \"Energy1\": [105, 172, 115, 176, 150, 195, 165, 108, 109],\n",
    "    \"Group\": [\"G5\",\"G5\",\"G10\", \"G5\", \"G20\", \"G5\", \"G5\", \"G10\", \"G20\" ],\n",
    "    \"Defense1\": [176, 23, 434, 123, 42, 123, 123,5345, 434]\n",
    "}\n",
    "df2 = pd.DataFrame(d3, index=['Tata1', 'Reliance1', 'Wipro1', 'Birla1', 'Adani1', 'Brit1', 'Univ1', 'Mahindra1', 'MArico1'])"
   ]
  },
  {
   "cell_type": "code",
   "execution_count": 69,
   "metadata": {
    "scrolled": true
   },
   "outputs": [
    {
     "data": {
      "text/html": [
       "<div>\n",
       "<style scoped>\n",
       "    .dataframe tbody tr th:only-of-type {\n",
       "        vertical-align: middle;\n",
       "    }\n",
       "\n",
       "    .dataframe tbody tr th {\n",
       "        vertical-align: top;\n",
       "    }\n",
       "\n",
       "    .dataframe thead th {\n",
       "        text-align: right;\n",
       "    }\n",
       "</style>\n",
       "<table border=\"1\" class=\"dataframe\">\n",
       "  <thead>\n",
       "    <tr style=\"text-align: right;\">\n",
       "      <th></th>\n",
       "      <th>Tech1</th>\n",
       "      <th>Infra1</th>\n",
       "      <th>Energy1</th>\n",
       "      <th>Group</th>\n",
       "      <th>Defense1</th>\n",
       "    </tr>\n",
       "  </thead>\n",
       "  <tbody>\n",
       "    <tr>\n",
       "      <td>Tata1</td>\n",
       "      <td>131</td>\n",
       "      <td>163</td>\n",
       "      <td>105</td>\n",
       "      <td>G5</td>\n",
       "      <td>176</td>\n",
       "    </tr>\n",
       "    <tr>\n",
       "      <td>Reliance1</td>\n",
       "      <td>192</td>\n",
       "      <td>117</td>\n",
       "      <td>172</td>\n",
       "      <td>G5</td>\n",
       "      <td>23</td>\n",
       "    </tr>\n",
       "    <tr>\n",
       "      <td>Wipro1</td>\n",
       "      <td>125</td>\n",
       "      <td>139</td>\n",
       "      <td>115</td>\n",
       "      <td>G10</td>\n",
       "      <td>434</td>\n",
       "    </tr>\n",
       "    <tr>\n",
       "      <td>Birla1</td>\n",
       "      <td>100</td>\n",
       "      <td>174</td>\n",
       "      <td>176</td>\n",
       "      <td>G5</td>\n",
       "      <td>123</td>\n",
       "    </tr>\n",
       "    <tr>\n",
       "      <td>Adani1</td>\n",
       "      <td>133</td>\n",
       "      <td>181</td>\n",
       "      <td>150</td>\n",
       "      <td>G20</td>\n",
       "      <td>42</td>\n",
       "    </tr>\n",
       "    <tr>\n",
       "      <td>Brit1</td>\n",
       "      <td>166</td>\n",
       "      <td>105</td>\n",
       "      <td>195</td>\n",
       "      <td>G5</td>\n",
       "      <td>123</td>\n",
       "    </tr>\n",
       "    <tr>\n",
       "      <td>Univ1</td>\n",
       "      <td>192</td>\n",
       "      <td>121</td>\n",
       "      <td>165</td>\n",
       "      <td>G5</td>\n",
       "      <td>123</td>\n",
       "    </tr>\n",
       "    <tr>\n",
       "      <td>Mahindra1</td>\n",
       "      <td>158</td>\n",
       "      <td>163</td>\n",
       "      <td>108</td>\n",
       "      <td>G10</td>\n",
       "      <td>5345</td>\n",
       "    </tr>\n",
       "    <tr>\n",
       "      <td>MArico1</td>\n",
       "      <td>174</td>\n",
       "      <td>133</td>\n",
       "      <td>109</td>\n",
       "      <td>G20</td>\n",
       "      <td>434</td>\n",
       "    </tr>\n",
       "  </tbody>\n",
       "</table>\n",
       "</div>"
      ],
      "text/plain": [
       "           Tech1  Infra1  Energy1 Group  Defense1\n",
       "Tata1        131     163      105    G5       176\n",
       "Reliance1    192     117      172    G5        23\n",
       "Wipro1       125     139      115   G10       434\n",
       "Birla1       100     174      176    G5       123\n",
       "Adani1       133     181      150   G20        42\n",
       "Brit1        166     105      195    G5       123\n",
       "Univ1        192     121      165    G5       123\n",
       "Mahindra1    158     163      108   G10      5345\n",
       "MArico1      174     133      109   G20       434"
      ]
     },
     "execution_count": 69,
     "metadata": {},
     "output_type": "execute_result"
    }
   ],
   "source": [
    "df2"
   ]
  },
  {
   "cell_type": "code",
   "execution_count": 75,
   "metadata": {
    "scrolled": true
   },
   "outputs": [
    {
     "data": {
      "text/plain": [
       "pandas.core.frame.DataFrame"
      ]
     },
     "execution_count": 75,
     "metadata": {},
     "output_type": "execute_result"
    }
   ],
   "source": [
    "type(df2[['Tech1']])"
   ]
  },
  {
   "cell_type": "code",
   "execution_count": 76,
   "metadata": {},
   "outputs": [
    {
     "name": "stdout",
     "output_type": "stream",
     "text": [
      "['.ipynb_checkpoints', 'Day6.ipynb', 'profit.csv']\n"
     ]
    }
   ],
   "source": [
    "from os import listdir\n",
    "\n",
    "print(listdir())"
   ]
  },
  {
   "cell_type": "code",
   "execution_count": 80,
   "metadata": {
    "scrolled": true
   },
   "outputs": [],
   "source": [
    "d4 = pd.read_csv('profit.csv')"
   ]
  },
  {
   "cell_type": "code",
   "execution_count": 82,
   "metadata": {},
   "outputs": [
    {
     "name": "stdout",
     "output_type": "stream",
     "text": [
      "<class 'pandas.core.frame.DataFrame'>\n",
      "Index: 9 entries, Tata1 to Marico1\n",
      "Data columns (total 5 columns):\n",
      "Tech1       9 non-null int64\n",
      "Infra1      9 non-null int64\n",
      "Energy1     9 non-null int64\n",
      "Group       9 non-null object\n",
      "Defense1    9 non-null int64\n",
      "dtypes: int64(4), object(1)\n",
      "memory usage: 360.0+ bytes\n"
     ]
    }
   ],
   "source": [
    "d4.info()"
   ]
  },
  {
   "cell_type": "code",
   "execution_count": 81,
   "metadata": {
    "scrolled": false
   },
   "outputs": [
    {
     "data": {
      "text/html": [
       "<div>\n",
       "<style scoped>\n",
       "    .dataframe tbody tr th:only-of-type {\n",
       "        vertical-align: middle;\n",
       "    }\n",
       "\n",
       "    .dataframe tbody tr th {\n",
       "        vertical-align: top;\n",
       "    }\n",
       "\n",
       "    .dataframe thead th {\n",
       "        text-align: right;\n",
       "    }\n",
       "</style>\n",
       "<table border=\"1\" class=\"dataframe\">\n",
       "  <thead>\n",
       "    <tr style=\"text-align: right;\">\n",
       "      <th></th>\n",
       "      <th>Tech1</th>\n",
       "      <th>Infra1</th>\n",
       "      <th>Energy1</th>\n",
       "      <th>Defense1</th>\n",
       "    </tr>\n",
       "  </thead>\n",
       "  <tbody>\n",
       "    <tr>\n",
       "      <td>count</td>\n",
       "      <td>9.000000</td>\n",
       "      <td>9.000000</td>\n",
       "      <td>9.000000</td>\n",
       "      <td>9.000000</td>\n",
       "    </tr>\n",
       "    <tr>\n",
       "      <td>mean</td>\n",
       "      <td>152.333333</td>\n",
       "      <td>144.000000</td>\n",
       "      <td>144.111111</td>\n",
       "      <td>143.666667</td>\n",
       "    </tr>\n",
       "    <tr>\n",
       "      <td>std</td>\n",
       "      <td>31.917863</td>\n",
       "      <td>27.193749</td>\n",
       "      <td>35.151260</td>\n",
       "      <td>24.279621</td>\n",
       "    </tr>\n",
       "    <tr>\n",
       "      <td>min</td>\n",
       "      <td>100.000000</td>\n",
       "      <td>105.000000</td>\n",
       "      <td>105.000000</td>\n",
       "      <td>115.000000</td>\n",
       "    </tr>\n",
       "    <tr>\n",
       "      <td>25%</td>\n",
       "      <td>131.000000</td>\n",
       "      <td>121.000000</td>\n",
       "      <td>109.000000</td>\n",
       "      <td>130.000000</td>\n",
       "    </tr>\n",
       "    <tr>\n",
       "      <td>50%</td>\n",
       "      <td>158.000000</td>\n",
       "      <td>139.000000</td>\n",
       "      <td>150.000000</td>\n",
       "      <td>137.000000</td>\n",
       "    </tr>\n",
       "    <tr>\n",
       "      <td>75%</td>\n",
       "      <td>174.000000</td>\n",
       "      <td>163.000000</td>\n",
       "      <td>174.000000</td>\n",
       "      <td>154.000000</td>\n",
       "    </tr>\n",
       "    <tr>\n",
       "      <td>max</td>\n",
       "      <td>192.000000</td>\n",
       "      <td>181.000000</td>\n",
       "      <td>195.000000</td>\n",
       "      <td>193.000000</td>\n",
       "    </tr>\n",
       "  </tbody>\n",
       "</table>\n",
       "</div>"
      ],
      "text/plain": [
       "            Tech1      Infra1     Energy1    Defense1\n",
       "count    9.000000    9.000000    9.000000    9.000000\n",
       "mean   152.333333  144.000000  144.111111  143.666667\n",
       "std     31.917863   27.193749   35.151260   24.279621\n",
       "min    100.000000  105.000000  105.000000  115.000000\n",
       "25%    131.000000  121.000000  109.000000  130.000000\n",
       "50%    158.000000  139.000000  150.000000  137.000000\n",
       "75%    174.000000  163.000000  174.000000  154.000000\n",
       "max    192.000000  181.000000  195.000000  193.000000"
      ]
     },
     "execution_count": 81,
     "metadata": {},
     "output_type": "execute_result"
    }
   ],
   "source": [
    "d4.describe()"
   ]
  },
  {
   "cell_type": "code",
   "execution_count": 83,
   "metadata": {},
   "outputs": [
    {
     "data": {
      "text/plain": [
       "Tech1       9\n",
       "Infra1      9\n",
       "Energy1     9\n",
       "Group       9\n",
       "Defense1    9\n",
       "dtype: int64"
      ]
     },
     "execution_count": 83,
     "metadata": {},
     "output_type": "execute_result"
    }
   ],
   "source": [
    "df4.count()"
   ]
  },
  {
   "cell_type": "markdown",
   "metadata": {},
   "source": [
    "**Frequency of each category in a column**"
   ]
  },
  {
   "cell_type": "code",
   "execution_count": 87,
   "metadata": {},
   "outputs": [
    {
     "data": {
      "text/plain": [
       "G5     5\n",
       "G20    2\n",
       "G10    2\n",
       "Name: Group, dtype: int64"
      ]
     },
     "execution_count": 87,
     "metadata": {},
     "output_type": "execute_result"
    }
   ],
   "source": [
    "df4['Group'].value_counts()"
   ]
  },
  {
   "cell_type": "code",
   "execution_count": 91,
   "metadata": {},
   "outputs": [
    {
     "data": {
      "text/html": [
       "<div>\n",
       "<style scoped>\n",
       "    .dataframe tbody tr th:only-of-type {\n",
       "        vertical-align: middle;\n",
       "    }\n",
       "\n",
       "    .dataframe tbody tr th {\n",
       "        vertical-align: top;\n",
       "    }\n",
       "\n",
       "    .dataframe thead th {\n",
       "        text-align: right;\n",
       "    }\n",
       "</style>\n",
       "<table border=\"1\" class=\"dataframe\">\n",
       "  <thead>\n",
       "    <tr style=\"text-align: right;\">\n",
       "      <th></th>\n",
       "      <th>Tech1</th>\n",
       "      <th>Infra1</th>\n",
       "      <th>Energy1</th>\n",
       "      <th>Group</th>\n",
       "      <th>Defense1</th>\n",
       "    </tr>\n",
       "  </thead>\n",
       "  <tbody>\n",
       "    <tr>\n",
       "      <td>Tata1</td>\n",
       "      <td>131</td>\n",
       "      <td>163</td>\n",
       "      <td>105</td>\n",
       "      <td>G5</td>\n",
       "      <td>193</td>\n",
       "    </tr>\n",
       "    <tr>\n",
       "      <td>Reliance1</td>\n",
       "      <td>192</td>\n",
       "      <td>117</td>\n",
       "      <td>174</td>\n",
       "      <td>G5</td>\n",
       "      <td>144</td>\n",
       "    </tr>\n",
       "    <tr>\n",
       "      <td>Wipro1</td>\n",
       "      <td>125</td>\n",
       "      <td>139</td>\n",
       "      <td>115</td>\n",
       "      <td>G10</td>\n",
       "      <td>154</td>\n",
       "    </tr>\n",
       "    <tr>\n",
       "      <td>Birla1</td>\n",
       "      <td>100</td>\n",
       "      <td>174</td>\n",
       "      <td>176</td>\n",
       "      <td>G5</td>\n",
       "      <td>137</td>\n",
       "    </tr>\n",
       "    <tr>\n",
       "      <td>Adani1</td>\n",
       "      <td>133</td>\n",
       "      <td>181</td>\n",
       "      <td>150</td>\n",
       "      <td>G20</td>\n",
       "      <td>136</td>\n",
       "    </tr>\n",
       "  </tbody>\n",
       "</table>\n",
       "</div>"
      ],
      "text/plain": [
       "           Tech1  Infra1  Energy1 Group  Defense1\n",
       "Tata1        131     163      105    G5       193\n",
       "Reliance1    192     117      174    G5       144\n",
       "Wipro1       125     139      115   G10       154\n",
       "Birla1       100     174      176    G5       137\n",
       "Adani1       133     181      150   G20       136"
      ]
     },
     "execution_count": 91,
     "metadata": {},
     "output_type": "execute_result"
    }
   ],
   "source": [
    "df4.head()"
   ]
  },
  {
   "cell_type": "markdown",
   "metadata": {},
   "source": [
    "#### Individual, Slice and Vector selection"
   ]
  },
  {
   "cell_type": "code",
   "execution_count": 90,
   "metadata": {
    "collapsed": true
   },
   "outputs": [
    {
     "data": {
      "text/html": [
       "<div>\n",
       "<style scoped>\n",
       "    .dataframe tbody tr th:only-of-type {\n",
       "        vertical-align: middle;\n",
       "    }\n",
       "\n",
       "    .dataframe tbody tr th {\n",
       "        vertical-align: top;\n",
       "    }\n",
       "\n",
       "    .dataframe thead th {\n",
       "        text-align: right;\n",
       "    }\n",
       "</style>\n",
       "<table border=\"1\" class=\"dataframe\">\n",
       "  <thead>\n",
       "    <tr style=\"text-align: right;\">\n",
       "      <th></th>\n",
       "      <th>Tech1</th>\n",
       "      <th>Infra1</th>\n",
       "      <th>Energy1</th>\n",
       "      <th>Group</th>\n",
       "      <th>Defense1</th>\n",
       "    </tr>\n",
       "  </thead>\n",
       "  <tbody>\n",
       "    <tr>\n",
       "      <td>Tata1</td>\n",
       "      <td>131</td>\n",
       "      <td>163</td>\n",
       "      <td>105</td>\n",
       "      <td>G5</td>\n",
       "      <td>193</td>\n",
       "    </tr>\n",
       "    <tr>\n",
       "      <td>Reliance1</td>\n",
       "      <td>192</td>\n",
       "      <td>117</td>\n",
       "      <td>174</td>\n",
       "      <td>G5</td>\n",
       "      <td>144</td>\n",
       "    </tr>\n",
       "    <tr>\n",
       "      <td>Wipro1</td>\n",
       "      <td>125</td>\n",
       "      <td>139</td>\n",
       "      <td>115</td>\n",
       "      <td>G10</td>\n",
       "      <td>154</td>\n",
       "    </tr>\n",
       "  </tbody>\n",
       "</table>\n",
       "</div>"
      ],
      "text/plain": [
       "           Tech1  Infra1  Energy1 Group  Defense1\n",
       "Tata1        131     163      105    G5       193\n",
       "Reliance1    192     117      174    G5       144\n",
       "Wipro1       125     139      115   G10       154"
      ]
     },
     "execution_count": 90,
     "metadata": {},
     "output_type": "execute_result"
    }
   ],
   "source": [
    "# Slice based, no double [[]] required\n",
    "df4.iloc[0:3]"
   ]
  },
  {
   "cell_type": "code",
   "execution_count": 92,
   "metadata": {
    "scrolled": false
   },
   "outputs": [
    {
     "data": {
      "text/html": [
       "<div>\n",
       "<style scoped>\n",
       "    .dataframe tbody tr th:only-of-type {\n",
       "        vertical-align: middle;\n",
       "    }\n",
       "\n",
       "    .dataframe tbody tr th {\n",
       "        vertical-align: top;\n",
       "    }\n",
       "\n",
       "    .dataframe thead th {\n",
       "        text-align: right;\n",
       "    }\n",
       "</style>\n",
       "<table border=\"1\" class=\"dataframe\">\n",
       "  <thead>\n",
       "    <tr style=\"text-align: right;\">\n",
       "      <th></th>\n",
       "      <th>Tech1</th>\n",
       "      <th>Infra1</th>\n",
       "      <th>Energy1</th>\n",
       "      <th>Group</th>\n",
       "      <th>Defense1</th>\n",
       "    </tr>\n",
       "  </thead>\n",
       "  <tbody>\n",
       "    <tr>\n",
       "      <td>Reliance1</td>\n",
       "      <td>192</td>\n",
       "      <td>117</td>\n",
       "      <td>174</td>\n",
       "      <td>G5</td>\n",
       "      <td>144</td>\n",
       "    </tr>\n",
       "    <tr>\n",
       "      <td>Birla1</td>\n",
       "      <td>100</td>\n",
       "      <td>174</td>\n",
       "      <td>176</td>\n",
       "      <td>G5</td>\n",
       "      <td>137</td>\n",
       "    </tr>\n",
       "  </tbody>\n",
       "</table>\n",
       "</div>"
      ],
      "text/plain": [
       "           Tech1  Infra1  Energy1 Group  Defense1\n",
       "Reliance1    192     117      174    G5       144\n",
       "Birla1       100     174      176    G5       137"
      ]
     },
     "execution_count": 92,
     "metadata": {},
     "output_type": "execute_result"
    }
   ],
   "source": [
    "df4.iloc[[1,3]]"
   ]
  },
  {
   "cell_type": "markdown",
   "metadata": {},
   "source": [
    "#### Mixing"
   ]
  },
  {
   "cell_type": "code",
   "execution_count": 94,
   "metadata": {
    "scrolled": true
   },
   "outputs": [
    {
     "data": {
      "text/html": [
       "<div>\n",
       "<style scoped>\n",
       "    .dataframe tbody tr th:only-of-type {\n",
       "        vertical-align: middle;\n",
       "    }\n",
       "\n",
       "    .dataframe tbody tr th {\n",
       "        vertical-align: top;\n",
       "    }\n",
       "\n",
       "    .dataframe thead th {\n",
       "        text-align: right;\n",
       "    }\n",
       "</style>\n",
       "<table border=\"1\" class=\"dataframe\">\n",
       "  <thead>\n",
       "    <tr style=\"text-align: right;\">\n",
       "      <th></th>\n",
       "      <th>Infra1</th>\n",
       "      <th>Group</th>\n",
       "    </tr>\n",
       "  </thead>\n",
       "  <tbody>\n",
       "    <tr>\n",
       "      <td>Wipro1</td>\n",
       "      <td>139</td>\n",
       "      <td>G10</td>\n",
       "    </tr>\n",
       "    <tr>\n",
       "      <td>Birla1</td>\n",
       "      <td>174</td>\n",
       "      <td>G5</td>\n",
       "    </tr>\n",
       "    <tr>\n",
       "      <td>Brittania1</td>\n",
       "      <td>105</td>\n",
       "      <td>G5</td>\n",
       "    </tr>\n",
       "  </tbody>\n",
       "</table>\n",
       "</div>"
      ],
      "text/plain": [
       "            Infra1 Group\n",
       "Wipro1         139   G10\n",
       "Birla1         174    G5\n",
       "Brittania1     105    G5"
      ]
     },
     "execution_count": 94,
     "metadata": {},
     "output_type": "execute_result"
    }
   ],
   "source": [
    "df4.iloc[[2,3,5], 1:4:2]"
   ]
  },
  {
   "cell_type": "code",
   "execution_count": 96,
   "metadata": {},
   "outputs": [
    {
     "data": {
      "text/html": [
       "<div>\n",
       "<style scoped>\n",
       "    .dataframe tbody tr th:only-of-type {\n",
       "        vertical-align: middle;\n",
       "    }\n",
       "\n",
       "    .dataframe tbody tr th {\n",
       "        vertical-align: top;\n",
       "    }\n",
       "\n",
       "    .dataframe thead th {\n",
       "        text-align: right;\n",
       "    }\n",
       "</style>\n",
       "<table border=\"1\" class=\"dataframe\">\n",
       "  <thead>\n",
       "    <tr style=\"text-align: right;\">\n",
       "      <th></th>\n",
       "      <th>Tech1</th>\n",
       "      <th>Infra1</th>\n",
       "      <th>Energy1</th>\n",
       "      <th>Group</th>\n",
       "      <th>Defense1</th>\n",
       "    </tr>\n",
       "  </thead>\n",
       "  <tbody>\n",
       "    <tr>\n",
       "      <td>Reliance1</td>\n",
       "      <td>192</td>\n",
       "      <td>117</td>\n",
       "      <td>174</td>\n",
       "      <td>G5</td>\n",
       "      <td>144</td>\n",
       "    </tr>\n",
       "  </tbody>\n",
       "</table>\n",
       "</div>"
      ],
      "text/plain": [
       "           Tech1  Infra1  Energy1 Group  Defense1\n",
       "Reliance1    192     117      174    G5       144"
      ]
     },
     "execution_count": 96,
     "metadata": {},
     "output_type": "execute_result"
    }
   ],
   "source": [
    "df4[1:2]"
   ]
  },
  {
   "cell_type": "code",
   "execution_count": 102,
   "metadata": {},
   "outputs": [
    {
     "data": {
      "text/html": [
       "<div>\n",
       "<style scoped>\n",
       "    .dataframe tbody tr th:only-of-type {\n",
       "        vertical-align: middle;\n",
       "    }\n",
       "\n",
       "    .dataframe tbody tr th {\n",
       "        vertical-align: top;\n",
       "    }\n",
       "\n",
       "    .dataframe thead th {\n",
       "        text-align: right;\n",
       "    }\n",
       "</style>\n",
       "<table border=\"1\" class=\"dataframe\">\n",
       "  <thead>\n",
       "    <tr style=\"text-align: right;\">\n",
       "      <th></th>\n",
       "      <th>Tech1</th>\n",
       "      <th>Infra1</th>\n",
       "      <th>Energy1</th>\n",
       "      <th>Group</th>\n",
       "      <th>Defense1</th>\n",
       "    </tr>\n",
       "  </thead>\n",
       "  <tbody>\n",
       "    <tr>\n",
       "      <td>Tata1</td>\n",
       "      <td>131</td>\n",
       "      <td>163</td>\n",
       "      <td>105</td>\n",
       "      <td>G5</td>\n",
       "      <td>193</td>\n",
       "    </tr>\n",
       "    <tr>\n",
       "      <td>Reliance1</td>\n",
       "      <td>192</td>\n",
       "      <td>117</td>\n",
       "      <td>174</td>\n",
       "      <td>G5</td>\n",
       "      <td>144</td>\n",
       "    </tr>\n",
       "    <tr>\n",
       "      <td>Wipro1</td>\n",
       "      <td>125</td>\n",
       "      <td>139</td>\n",
       "      <td>115</td>\n",
       "      <td>G10</td>\n",
       "      <td>154</td>\n",
       "    </tr>\n",
       "    <tr>\n",
       "      <td>Birla1</td>\n",
       "      <td>100</td>\n",
       "      <td>174</td>\n",
       "      <td>176</td>\n",
       "      <td>G5</td>\n",
       "      <td>137</td>\n",
       "    </tr>\n",
       "    <tr>\n",
       "      <td>Adani1</td>\n",
       "      <td>133</td>\n",
       "      <td>181</td>\n",
       "      <td>150</td>\n",
       "      <td>G20</td>\n",
       "      <td>136</td>\n",
       "    </tr>\n",
       "  </tbody>\n",
       "</table>\n",
       "</div>"
      ],
      "text/plain": [
       "           Tech1  Infra1  Energy1 Group  Defense1\n",
       "Tata1        131     163      105    G5       193\n",
       "Reliance1    192     117      174    G5       144\n",
       "Wipro1       125     139      115   G10       154\n",
       "Birla1       100     174      176    G5       137\n",
       "Adani1       133     181      150   G20       136"
      ]
     },
     "execution_count": 102,
     "metadata": {},
     "output_type": "execute_result"
    }
   ],
   "source": [
    "df4.head()"
   ]
  },
  {
   "cell_type": "code",
   "execution_count": 97,
   "metadata": {},
   "outputs": [
    {
     "data": {
      "text/plain": [
       "Index(['Tata1', 'Reliance1', 'Wipro1', 'Birla1', 'Adani1', 'Brittania1',\n",
       "       'Unilever1', 'Mahindra1', 'Marico1'],\n",
       "      dtype='object')"
      ]
     },
     "execution_count": 97,
     "metadata": {},
     "output_type": "execute_result"
    }
   ],
   "source": [
    "df4.index"
   ]
  },
  {
   "cell_type": "code",
   "execution_count": 101,
   "metadata": {
    "scrolled": true
   },
   "outputs": [
    {
     "data": {
      "text/html": [
       "<div>\n",
       "<style scoped>\n",
       "    .dataframe tbody tr th:only-of-type {\n",
       "        vertical-align: middle;\n",
       "    }\n",
       "\n",
       "    .dataframe tbody tr th {\n",
       "        vertical-align: top;\n",
       "    }\n",
       "\n",
       "    .dataframe thead th {\n",
       "        text-align: right;\n",
       "    }\n",
       "</style>\n",
       "<table border=\"1\" class=\"dataframe\">\n",
       "  <thead>\n",
       "    <tr style=\"text-align: right;\">\n",
       "      <th></th>\n",
       "      <th>Tech1</th>\n",
       "    </tr>\n",
       "  </thead>\n",
       "  <tbody>\n",
       "    <tr>\n",
       "      <td>Tata1</td>\n",
       "      <td>131</td>\n",
       "    </tr>\n",
       "    <tr>\n",
       "      <td>Reliance1</td>\n",
       "      <td>192</td>\n",
       "    </tr>\n",
       "    <tr>\n",
       "      <td>Wipro1</td>\n",
       "      <td>125</td>\n",
       "    </tr>\n",
       "    <tr>\n",
       "      <td>Birla1</td>\n",
       "      <td>100</td>\n",
       "    </tr>\n",
       "    <tr>\n",
       "      <td>Adani1</td>\n",
       "      <td>133</td>\n",
       "    </tr>\n",
       "    <tr>\n",
       "      <td>Brittania1</td>\n",
       "      <td>166</td>\n",
       "    </tr>\n",
       "    <tr>\n",
       "      <td>Unilever1</td>\n",
       "      <td>192</td>\n",
       "    </tr>\n",
       "    <tr>\n",
       "      <td>Mahindra1</td>\n",
       "      <td>158</td>\n",
       "    </tr>\n",
       "    <tr>\n",
       "      <td>Marico1</td>\n",
       "      <td>174</td>\n",
       "    </tr>\n",
       "  </tbody>\n",
       "</table>\n",
       "</div>"
      ],
      "text/plain": [
       "            Tech1\n",
       "Tata1         131\n",
       "Reliance1     192\n",
       "Wipro1        125\n",
       "Birla1        100\n",
       "Adani1        133\n",
       "Brittania1    166\n",
       "Unilever1     192\n",
       "Mahindra1     158\n",
       "Marico1       174"
      ]
     },
     "execution_count": 101,
     "metadata": {},
     "output_type": "execute_result"
    }
   ],
   "source": [
    "# df4.Tech1 \n",
    "df4[[\"Tech1\"]]"
   ]
  },
  {
   "cell_type": "code",
   "execution_count": 104,
   "metadata": {},
   "outputs": [
    {
     "data": {
      "text/html": [
       "<div>\n",
       "<style scoped>\n",
       "    .dataframe tbody tr th:only-of-type {\n",
       "        vertical-align: middle;\n",
       "    }\n",
       "\n",
       "    .dataframe tbody tr th {\n",
       "        vertical-align: top;\n",
       "    }\n",
       "\n",
       "    .dataframe thead th {\n",
       "        text-align: right;\n",
       "    }\n",
       "</style>\n",
       "<table border=\"1\" class=\"dataframe\">\n",
       "  <thead>\n",
       "    <tr style=\"text-align: right;\">\n",
       "      <th></th>\n",
       "      <th>Tech1</th>\n",
       "      <th>Infra1</th>\n",
       "      <th>Energy1</th>\n",
       "      <th>Group</th>\n",
       "      <th>Defense1</th>\n",
       "    </tr>\n",
       "  </thead>\n",
       "  <tbody>\n",
       "    <tr>\n",
       "      <td>Tata1</td>\n",
       "      <td>131</td>\n",
       "      <td>163</td>\n",
       "      <td>105</td>\n",
       "      <td>G5</td>\n",
       "      <td>193</td>\n",
       "    </tr>\n",
       "  </tbody>\n",
       "</table>\n",
       "</div>"
      ],
      "text/plain": [
       "       Tech1  Infra1  Energy1 Group  Defense1\n",
       "Tata1    131     163      105    G5       193"
      ]
     },
     "execution_count": 104,
     "metadata": {},
     "output_type": "execute_result"
    }
   ],
   "source": [
    "df4.loc[['Tata1']]"
   ]
  },
  {
   "cell_type": "code",
   "execution_count": 105,
   "metadata": {
    "scrolled": true
   },
   "outputs": [
    {
     "data": {
      "text/html": [
       "<div>\n",
       "<style scoped>\n",
       "    .dataframe tbody tr th:only-of-type {\n",
       "        vertical-align: middle;\n",
       "    }\n",
       "\n",
       "    .dataframe tbody tr th {\n",
       "        vertical-align: top;\n",
       "    }\n",
       "\n",
       "    .dataframe thead th {\n",
       "        text-align: right;\n",
       "    }\n",
       "</style>\n",
       "<table border=\"1\" class=\"dataframe\">\n",
       "  <thead>\n",
       "    <tr style=\"text-align: right;\">\n",
       "      <th></th>\n",
       "      <th>Tech1</th>\n",
       "      <th>Infra1</th>\n",
       "      <th>Energy1</th>\n",
       "      <th>Group</th>\n",
       "      <th>Defense1</th>\n",
       "    </tr>\n",
       "  </thead>\n",
       "  <tbody>\n",
       "    <tr>\n",
       "      <td>Reliance1</td>\n",
       "      <td>192</td>\n",
       "      <td>117</td>\n",
       "      <td>174</td>\n",
       "      <td>G5</td>\n",
       "      <td>144</td>\n",
       "    </tr>\n",
       "    <tr>\n",
       "      <td>Wipro1</td>\n",
       "      <td>125</td>\n",
       "      <td>139</td>\n",
       "      <td>115</td>\n",
       "      <td>G10</td>\n",
       "      <td>154</td>\n",
       "    </tr>\n",
       "  </tbody>\n",
       "</table>\n",
       "</div>"
      ],
      "text/plain": [
       "           Tech1  Infra1  Energy1 Group  Defense1\n",
       "Reliance1    192     117      174    G5       144\n",
       "Wipro1       125     139      115   G10       154"
      ]
     },
     "execution_count": 105,
     "metadata": {},
     "output_type": "execute_result"
    }
   ],
   "source": [
    "df4.loc[['Reliance1', 'Wipro1']]"
   ]
  },
  {
   "cell_type": "code",
   "execution_count": 110,
   "metadata": {},
   "outputs": [
    {
     "data": {
      "text/plain": [
       "Index(['Tata1', 'Reliance1', 'Wipro1', 'Birla1', 'Adani1', 'Brittania1',\n",
       "       'Unilever1', 'Mahindra1', 'Marico1'],\n",
       "      dtype='object')"
      ]
     },
     "execution_count": 110,
     "metadata": {},
     "output_type": "execute_result"
    }
   ],
   "source": [
    "df4.index"
   ]
  },
  {
   "cell_type": "code",
   "execution_count": 116,
   "metadata": {
    "scrolled": true
   },
   "outputs": [
    {
     "data": {
      "text/html": [
       "<div>\n",
       "<style scoped>\n",
       "    .dataframe tbody tr th:only-of-type {\n",
       "        vertical-align: middle;\n",
       "    }\n",
       "\n",
       "    .dataframe tbody tr th {\n",
       "        vertical-align: top;\n",
       "    }\n",
       "\n",
       "    .dataframe thead th {\n",
       "        text-align: right;\n",
       "    }\n",
       "</style>\n",
       "<table border=\"1\" class=\"dataframe\">\n",
       "  <thead>\n",
       "    <tr style=\"text-align: right;\">\n",
       "      <th></th>\n",
       "      <th>Group</th>\n",
       "    </tr>\n",
       "  </thead>\n",
       "  <tbody>\n",
       "    <tr>\n",
       "      <td>Wipro1</td>\n",
       "      <td>G10</td>\n",
       "    </tr>\n",
       "    <tr>\n",
       "      <td>Birla1</td>\n",
       "      <td>G5</td>\n",
       "    </tr>\n",
       "    <tr>\n",
       "      <td>Adani1</td>\n",
       "      <td>G20</td>\n",
       "    </tr>\n",
       "    <tr>\n",
       "      <td>Brittania1</td>\n",
       "      <td>G5</td>\n",
       "    </tr>\n",
       "  </tbody>\n",
       "</table>\n",
       "</div>"
      ],
      "text/plain": [
       "           Group\n",
       "Wipro1       G10\n",
       "Birla1        G5\n",
       "Adani1       G20\n",
       "Brittania1    G5"
      ]
     },
     "execution_count": 116,
     "metadata": {},
     "output_type": "execute_result"
    }
   ],
   "source": [
    "df4.loc['Wipro1':'Brittania1', ['Group']]"
   ]
  },
  {
   "cell_type": "code",
   "execution_count": 118,
   "metadata": {
    "scrolled": true
   },
   "outputs": [
    {
     "data": {
      "text/html": [
       "<div>\n",
       "<style scoped>\n",
       "    .dataframe tbody tr th:only-of-type {\n",
       "        vertical-align: middle;\n",
       "    }\n",
       "\n",
       "    .dataframe tbody tr th {\n",
       "        vertical-align: top;\n",
       "    }\n",
       "\n",
       "    .dataframe thead th {\n",
       "        text-align: right;\n",
       "    }\n",
       "</style>\n",
       "<table border=\"1\" class=\"dataframe\">\n",
       "  <thead>\n",
       "    <tr style=\"text-align: right;\">\n",
       "      <th></th>\n",
       "      <th>Group</th>\n",
       "    </tr>\n",
       "  </thead>\n",
       "  <tbody>\n",
       "    <tr>\n",
       "      <td>Tata1</td>\n",
       "      <td>G5</td>\n",
       "    </tr>\n",
       "    <tr>\n",
       "      <td>Wipro1</td>\n",
       "      <td>G10</td>\n",
       "    </tr>\n",
       "    <tr>\n",
       "      <td>Adani1</td>\n",
       "      <td>G20</td>\n",
       "    </tr>\n",
       "    <tr>\n",
       "      <td>Unilever1</td>\n",
       "      <td>G5</td>\n",
       "    </tr>\n",
       "    <tr>\n",
       "      <td>Marico1</td>\n",
       "      <td>G20</td>\n",
       "    </tr>\n",
       "  </tbody>\n",
       "</table>\n",
       "</div>"
      ],
      "text/plain": [
       "          Group\n",
       "Tata1        G5\n",
       "Wipro1      G10\n",
       "Adani1      G20\n",
       "Unilever1    G5\n",
       "Marico1     G20"
      ]
     },
     "execution_count": 118,
     "metadata": {},
     "output_type": "execute_result"
    }
   ],
   "source": [
    "df4.loc[::2, ['Group']]"
   ]
  },
  {
   "cell_type": "markdown",
   "metadata": {},
   "source": [
    "### Conditional access"
   ]
  },
  {
   "cell_type": "code",
   "execution_count": 134,
   "metadata": {
    "scrolled": false
   },
   "outputs": [],
   "source": [
    "df5 = df4[df4.iloc[:,:3] > 150]"
   ]
  },
  {
   "cell_type": "code",
   "execution_count": 138,
   "metadata": {
    "scrolled": true
   },
   "outputs": [
    {
     "data": {
      "text/plain": [
       "Tata1         163.0\n",
       "Reliance1     183.0\n",
       "Wipro1          NaN\n",
       "Birla1        175.0\n",
       "Adani1        181.0\n",
       "Brittania1    180.5\n",
       "Unilever1     178.5\n",
       "Mahindra1     160.5\n",
       "Marico1       174.0\n",
       "dtype: float64"
      ]
     },
     "execution_count": 138,
     "metadata": {},
     "output_type": "execute_result"
    }
   ],
   "source": [
    "# df5\n",
    "# df5.fillna(df5.mean())\n",
    "df5.mean(axis=1)"
   ]
  },
  {
   "cell_type": "markdown",
   "metadata": {},
   "source": [
    "### Sorting"
   ]
  },
  {
   "cell_type": "code",
   "execution_count": 140,
   "metadata": {},
   "outputs": [],
   "source": [
    "df6 = df4.copy()"
   ]
  },
  {
   "cell_type": "code",
   "execution_count": 145,
   "metadata": {},
   "outputs": [
    {
     "data": {
      "text/html": [
       "<div>\n",
       "<style scoped>\n",
       "    .dataframe tbody tr th:only-of-type {\n",
       "        vertical-align: middle;\n",
       "    }\n",
       "\n",
       "    .dataframe tbody tr th {\n",
       "        vertical-align: top;\n",
       "    }\n",
       "\n",
       "    .dataframe thead th {\n",
       "        text-align: right;\n",
       "    }\n",
       "</style>\n",
       "<table border=\"1\" class=\"dataframe\">\n",
       "  <thead>\n",
       "    <tr style=\"text-align: right;\">\n",
       "      <th></th>\n",
       "      <th>Tech1</th>\n",
       "      <th>Infra1</th>\n",
       "      <th>Energy1</th>\n",
       "      <th>Group</th>\n",
       "      <th>Defense1</th>\n",
       "    </tr>\n",
       "  </thead>\n",
       "  <tbody>\n",
       "    <tr>\n",
       "      <td>Tata1</td>\n",
       "      <td>131</td>\n",
       "      <td>163</td>\n",
       "      <td>105</td>\n",
       "      <td>G5</td>\n",
       "      <td>193</td>\n",
       "    </tr>\n",
       "    <tr>\n",
       "      <td>Reliance1</td>\n",
       "      <td>192</td>\n",
       "      <td>117</td>\n",
       "      <td>174</td>\n",
       "      <td>G5</td>\n",
       "      <td>144</td>\n",
       "    </tr>\n",
       "    <tr>\n",
       "      <td>Wipro1</td>\n",
       "      <td>125</td>\n",
       "      <td>139</td>\n",
       "      <td>115</td>\n",
       "      <td>G10</td>\n",
       "      <td>154</td>\n",
       "    </tr>\n",
       "    <tr>\n",
       "      <td>Birla1</td>\n",
       "      <td>100</td>\n",
       "      <td>174</td>\n",
       "      <td>176</td>\n",
       "      <td>G5</td>\n",
       "      <td>137</td>\n",
       "    </tr>\n",
       "    <tr>\n",
       "      <td>Adani1</td>\n",
       "      <td>133</td>\n",
       "      <td>181</td>\n",
       "      <td>150</td>\n",
       "      <td>G20</td>\n",
       "      <td>136</td>\n",
       "    </tr>\n",
       "  </tbody>\n",
       "</table>\n",
       "</div>"
      ],
      "text/plain": [
       "           Tech1  Infra1  Energy1 Group  Defense1\n",
       "Tata1        131     163      105    G5       193\n",
       "Reliance1    192     117      174    G5       144\n",
       "Wipro1       125     139      115   G10       154\n",
       "Birla1       100     174      176    G5       137\n",
       "Adani1       133     181      150   G20       136"
      ]
     },
     "execution_count": 145,
     "metadata": {},
     "output_type": "execute_result"
    }
   ],
   "source": [
    "df6.head()"
   ]
  },
  {
   "cell_type": "code",
   "execution_count": 147,
   "metadata": {},
   "outputs": [
    {
     "data": {
      "text/plain": [
       "Index(['Tech1', 'Infra1', 'Energy1', 'Group', 'Defense1'], dtype='object')"
      ]
     },
     "execution_count": 147,
     "metadata": {},
     "output_type": "execute_result"
    }
   ],
   "source": [
    "# df6.values\n",
    "# df6.index\n",
    "df6.columns"
   ]
  },
  {
   "cell_type": "code",
   "execution_count": 158,
   "metadata": {
    "scrolled": true
   },
   "outputs": [
    {
     "name": "stdout",
     "output_type": "stream",
     "text": [
      "            Tech1  Infra1  Energy1 Group  Defense1\n",
      "Adani1        133     181      150   G20       136\n",
      "Birla1        100     174      176    G5       137\n",
      "Brittania1    166     105      195    G5       119\n",
      "Mahindra1     158     163      108   G10       165\n",
      "Marico1       174     133      109   G20       130\n",
      "Reliance1     192     117      174    G5       144\n",
      "Tata1         131     163      105    G5       193\n",
      "Unilever1     192     121      165    G5       115\n",
      "Wipro1        125     139      115   G10       154\n"
     ]
    }
   ],
   "source": [
    "print(df6.sort_index())"
   ]
  },
  {
   "cell_type": "code",
   "execution_count": 160,
   "metadata": {},
   "outputs": [
    {
     "name": "stdout",
     "output_type": "stream",
     "text": [
      "            Defense1  Energy1 Group  Infra1  Tech1\n",
      "Tata1            193      105    G5     163    131\n",
      "Reliance1        144      174    G5     117    192\n",
      "Wipro1           154      115   G10     139    125\n",
      "Birla1           137      176    G5     174    100\n",
      "Adani1           136      150   G20     181    133\n",
      "Brittania1       119      195    G5     105    166\n",
      "Unilever1        115      165    G5     121    192\n",
      "Mahindra1        165      108   G10     163    158\n",
      "Marico1          130      109   G20     133    174\n"
     ]
    }
   ],
   "source": [
    "print(df6.sort_index(axis=1))"
   ]
  },
  {
   "cell_type": "code",
   "execution_count": 162,
   "metadata": {
    "collapsed": true
   },
   "outputs": [
    {
     "data": {
      "text/html": [
       "<div>\n",
       "<style scoped>\n",
       "    .dataframe tbody tr th:only-of-type {\n",
       "        vertical-align: middle;\n",
       "    }\n",
       "\n",
       "    .dataframe tbody tr th {\n",
       "        vertical-align: top;\n",
       "    }\n",
       "\n",
       "    .dataframe thead th {\n",
       "        text-align: right;\n",
       "    }\n",
       "</style>\n",
       "<table border=\"1\" class=\"dataframe\">\n",
       "  <thead>\n",
       "    <tr style=\"text-align: right;\">\n",
       "      <th></th>\n",
       "      <th>Tech1</th>\n",
       "      <th>Infra1</th>\n",
       "      <th>Energy1</th>\n",
       "      <th>Group</th>\n",
       "      <th>Defense1</th>\n",
       "    </tr>\n",
       "  </thead>\n",
       "  <tbody>\n",
       "    <tr>\n",
       "      <td>Tata1</td>\n",
       "      <td>131</td>\n",
       "      <td>163</td>\n",
       "      <td>105</td>\n",
       "      <td>G5</td>\n",
       "      <td>193</td>\n",
       "    </tr>\n",
       "    <tr>\n",
       "      <td>Reliance1</td>\n",
       "      <td>192</td>\n",
       "      <td>117</td>\n",
       "      <td>174</td>\n",
       "      <td>G5</td>\n",
       "      <td>144</td>\n",
       "    </tr>\n",
       "    <tr>\n",
       "      <td>Wipro1</td>\n",
       "      <td>125</td>\n",
       "      <td>139</td>\n",
       "      <td>115</td>\n",
       "      <td>G10</td>\n",
       "      <td>154</td>\n",
       "    </tr>\n",
       "    <tr>\n",
       "      <td>Birla1</td>\n",
       "      <td>100</td>\n",
       "      <td>174</td>\n",
       "      <td>176</td>\n",
       "      <td>G5</td>\n",
       "      <td>137</td>\n",
       "    </tr>\n",
       "    <tr>\n",
       "      <td>Adani1</td>\n",
       "      <td>133</td>\n",
       "      <td>181</td>\n",
       "      <td>150</td>\n",
       "      <td>G20</td>\n",
       "      <td>136</td>\n",
       "    </tr>\n",
       "    <tr>\n",
       "      <td>Brittania1</td>\n",
       "      <td>166</td>\n",
       "      <td>105</td>\n",
       "      <td>195</td>\n",
       "      <td>G5</td>\n",
       "      <td>119</td>\n",
       "    </tr>\n",
       "    <tr>\n",
       "      <td>Unilever1</td>\n",
       "      <td>192</td>\n",
       "      <td>121</td>\n",
       "      <td>165</td>\n",
       "      <td>G5</td>\n",
       "      <td>115</td>\n",
       "    </tr>\n",
       "    <tr>\n",
       "      <td>Mahindra1</td>\n",
       "      <td>158</td>\n",
       "      <td>163</td>\n",
       "      <td>108</td>\n",
       "      <td>G10</td>\n",
       "      <td>165</td>\n",
       "    </tr>\n",
       "    <tr>\n",
       "      <td>Marico1</td>\n",
       "      <td>174</td>\n",
       "      <td>133</td>\n",
       "      <td>109</td>\n",
       "      <td>G20</td>\n",
       "      <td>130</td>\n",
       "    </tr>\n",
       "  </tbody>\n",
       "</table>\n",
       "</div>"
      ],
      "text/plain": [
       "            Tech1  Infra1  Energy1 Group  Defense1\n",
       "Tata1         131     163      105    G5       193\n",
       "Reliance1     192     117      174    G5       144\n",
       "Wipro1        125     139      115   G10       154\n",
       "Birla1        100     174      176    G5       137\n",
       "Adani1        133     181      150   G20       136\n",
       "Brittania1    166     105      195    G5       119\n",
       "Unilever1     192     121      165    G5       115\n",
       "Mahindra1     158     163      108   G10       165\n",
       "Marico1       174     133      109   G20       130"
      ]
     },
     "execution_count": 162,
     "metadata": {},
     "output_type": "execute_result"
    }
   ],
   "source": [
    "df6= df6.append([125,139,115,\"G04\",154])\n",
    "df6"
   ]
  },
  {
   "cell_type": "code",
   "execution_count": 161,
   "metadata": {},
   "outputs": [
    {
     "data": {
      "text/html": [
       "<div>\n",
       "<style scoped>\n",
       "    .dataframe tbody tr th:only-of-type {\n",
       "        vertical-align: middle;\n",
       "    }\n",
       "\n",
       "    .dataframe tbody tr th {\n",
       "        vertical-align: top;\n",
       "    }\n",
       "\n",
       "    .dataframe thead th {\n",
       "        text-align: right;\n",
       "    }\n",
       "</style>\n",
       "<table border=\"1\" class=\"dataframe\">\n",
       "  <thead>\n",
       "    <tr style=\"text-align: right;\">\n",
       "      <th></th>\n",
       "      <th>Tech1</th>\n",
       "      <th>Infra1</th>\n",
       "      <th>Energy1</th>\n",
       "      <th>Group</th>\n",
       "      <th>Defense1</th>\n",
       "    </tr>\n",
       "  </thead>\n",
       "  <tbody>\n",
       "    <tr>\n",
       "      <td>Wipro1</td>\n",
       "      <td>125</td>\n",
       "      <td>139</td>\n",
       "      <td>115</td>\n",
       "      <td>G10</td>\n",
       "      <td>154</td>\n",
       "    </tr>\n",
       "    <tr>\n",
       "      <td>Mahindra1</td>\n",
       "      <td>158</td>\n",
       "      <td>163</td>\n",
       "      <td>108</td>\n",
       "      <td>G10</td>\n",
       "      <td>165</td>\n",
       "    </tr>\n",
       "    <tr>\n",
       "      <td>Adani1</td>\n",
       "      <td>133</td>\n",
       "      <td>181</td>\n",
       "      <td>150</td>\n",
       "      <td>G20</td>\n",
       "      <td>136</td>\n",
       "    </tr>\n",
       "    <tr>\n",
       "      <td>Marico1</td>\n",
       "      <td>174</td>\n",
       "      <td>133</td>\n",
       "      <td>109</td>\n",
       "      <td>G20</td>\n",
       "      <td>130</td>\n",
       "    </tr>\n",
       "    <tr>\n",
       "      <td>Tata1</td>\n",
       "      <td>131</td>\n",
       "      <td>163</td>\n",
       "      <td>105</td>\n",
       "      <td>G5</td>\n",
       "      <td>193</td>\n",
       "    </tr>\n",
       "    <tr>\n",
       "      <td>Reliance1</td>\n",
       "      <td>192</td>\n",
       "      <td>117</td>\n",
       "      <td>174</td>\n",
       "      <td>G5</td>\n",
       "      <td>144</td>\n",
       "    </tr>\n",
       "    <tr>\n",
       "      <td>Birla1</td>\n",
       "      <td>100</td>\n",
       "      <td>174</td>\n",
       "      <td>176</td>\n",
       "      <td>G5</td>\n",
       "      <td>137</td>\n",
       "    </tr>\n",
       "    <tr>\n",
       "      <td>Brittania1</td>\n",
       "      <td>166</td>\n",
       "      <td>105</td>\n",
       "      <td>195</td>\n",
       "      <td>G5</td>\n",
       "      <td>119</td>\n",
       "    </tr>\n",
       "    <tr>\n",
       "      <td>Unilever1</td>\n",
       "      <td>192</td>\n",
       "      <td>121</td>\n",
       "      <td>165</td>\n",
       "      <td>G5</td>\n",
       "      <td>115</td>\n",
       "    </tr>\n",
       "  </tbody>\n",
       "</table>\n",
       "</div>"
      ],
      "text/plain": [
       "            Tech1  Infra1  Energy1 Group  Defense1\n",
       "Wipro1        125     139      115   G10       154\n",
       "Mahindra1     158     163      108   G10       165\n",
       "Adani1        133     181      150   G20       136\n",
       "Marico1       174     133      109   G20       130\n",
       "Tata1         131     163      105    G5       193\n",
       "Reliance1     192     117      174    G5       144\n",
       "Birla1        100     174      176    G5       137\n",
       "Brittania1    166     105      195    G5       119\n",
       "Unilever1     192     121      165    G5       115"
      ]
     },
     "execution_count": 161,
     "metadata": {},
     "output_type": "execute_result"
    }
   ],
   "source": [
    "df6.sort_values(by='Group')"
   ]
  },
  {
   "cell_type": "code",
   "execution_count": 172,
   "metadata": {},
   "outputs": [
    {
     "data": {
      "text/html": [
       "<div>\n",
       "<style scoped>\n",
       "    .dataframe tbody tr th:only-of-type {\n",
       "        vertical-align: middle;\n",
       "    }\n",
       "\n",
       "    .dataframe tbody tr th {\n",
       "        vertical-align: top;\n",
       "    }\n",
       "\n",
       "    .dataframe thead th {\n",
       "        text-align: right;\n",
       "    }\n",
       "</style>\n",
       "<table border=\"1\" class=\"dataframe\">\n",
       "  <thead>\n",
       "    <tr style=\"text-align: right;\">\n",
       "      <th></th>\n",
       "      <th>Tech1</th>\n",
       "      <th>Infra1</th>\n",
       "      <th>Energy1</th>\n",
       "      <th>Group</th>\n",
       "      <th>Defense1</th>\n",
       "    </tr>\n",
       "  </thead>\n",
       "  <tbody>\n",
       "    <tr>\n",
       "      <td>Wipro1</td>\n",
       "      <td>125</td>\n",
       "      <td>139</td>\n",
       "      <td>115</td>\n",
       "      <td>G10</td>\n",
       "      <td>154</td>\n",
       "    </tr>\n",
       "    <tr>\n",
       "      <td>Mahindra1</td>\n",
       "      <td>158</td>\n",
       "      <td>163</td>\n",
       "      <td>108</td>\n",
       "      <td>G10</td>\n",
       "      <td>165</td>\n",
       "    </tr>\n",
       "    <tr>\n",
       "      <td>Adani1</td>\n",
       "      <td>133</td>\n",
       "      <td>181</td>\n",
       "      <td>150</td>\n",
       "      <td>G20</td>\n",
       "      <td>136</td>\n",
       "    </tr>\n",
       "    <tr>\n",
       "      <td>Marico1</td>\n",
       "      <td>174</td>\n",
       "      <td>133</td>\n",
       "      <td>109</td>\n",
       "      <td>G20</td>\n",
       "      <td>130</td>\n",
       "    </tr>\n",
       "    <tr>\n",
       "      <td>Tata1</td>\n",
       "      <td>131</td>\n",
       "      <td>163</td>\n",
       "      <td>105</td>\n",
       "      <td>G5</td>\n",
       "      <td>193</td>\n",
       "    </tr>\n",
       "    <tr>\n",
       "      <td>Reliance1</td>\n",
       "      <td>192</td>\n",
       "      <td>117</td>\n",
       "      <td>174</td>\n",
       "      <td>G5</td>\n",
       "      <td>144</td>\n",
       "    </tr>\n",
       "    <tr>\n",
       "      <td>Birla1</td>\n",
       "      <td>100</td>\n",
       "      <td>174</td>\n",
       "      <td>176</td>\n",
       "      <td>G5</td>\n",
       "      <td>137</td>\n",
       "    </tr>\n",
       "    <tr>\n",
       "      <td>Brittania1</td>\n",
       "      <td>166</td>\n",
       "      <td>105</td>\n",
       "      <td>195</td>\n",
       "      <td>G5</td>\n",
       "      <td>119</td>\n",
       "    </tr>\n",
       "    <tr>\n",
       "      <td>Unilever1</td>\n",
       "      <td>192</td>\n",
       "      <td>121</td>\n",
       "      <td>165</td>\n",
       "      <td>G5</td>\n",
       "      <td>115</td>\n",
       "    </tr>\n",
       "  </tbody>\n",
       "</table>\n",
       "</div>"
      ],
      "text/plain": [
       "            Tech1  Infra1  Energy1 Group  Defense1\n",
       "Wipro1        125     139      115   G10       154\n",
       "Mahindra1     158     163      108   G10       165\n",
       "Adani1        133     181      150   G20       136\n",
       "Marico1       174     133      109   G20       130\n",
       "Tata1         131     163      105    G5       193\n",
       "Reliance1     192     117      174    G5       144\n",
       "Birla1        100     174      176    G5       137\n",
       "Brittania1    166     105      195    G5       119\n",
       "Unilever1     192     121      165    G5       115"
      ]
     },
     "execution_count": 172,
     "metadata": {},
     "output_type": "execute_result"
    }
   ],
   "source": [
    "# Sort based on ASCII values\n",
    "df6.sort_values(by='Group')"
   ]
  },
  {
   "cell_type": "markdown",
   "metadata": {},
   "source": [
    "### Ranking"
   ]
  },
  {
   "cell_type": "code",
   "execution_count": 175,
   "metadata": {},
   "outputs": [
    {
     "data": {
      "text/html": [
       "<div>\n",
       "<style scoped>\n",
       "    .dataframe tbody tr th:only-of-type {\n",
       "        vertical-align: middle;\n",
       "    }\n",
       "\n",
       "    .dataframe tbody tr th {\n",
       "        vertical-align: top;\n",
       "    }\n",
       "\n",
       "    .dataframe thead th {\n",
       "        text-align: right;\n",
       "    }\n",
       "</style>\n",
       "<table border=\"1\" class=\"dataframe\">\n",
       "  <thead>\n",
       "    <tr style=\"text-align: right;\">\n",
       "      <th></th>\n",
       "      <th>Tech1</th>\n",
       "      <th>Infra1</th>\n",
       "      <th>Energy1</th>\n",
       "      <th>Group</th>\n",
       "      <th>Defense1</th>\n",
       "    </tr>\n",
       "  </thead>\n",
       "  <tbody>\n",
       "    <tr>\n",
       "      <td>Tata1</td>\n",
       "      <td>131</td>\n",
       "      <td>163</td>\n",
       "      <td>105</td>\n",
       "      <td>G5</td>\n",
       "      <td>193</td>\n",
       "    </tr>\n",
       "    <tr>\n",
       "      <td>Reliance1</td>\n",
       "      <td>192</td>\n",
       "      <td>117</td>\n",
       "      <td>174</td>\n",
       "      <td>G5</td>\n",
       "      <td>144</td>\n",
       "    </tr>\n",
       "    <tr>\n",
       "      <td>Wipro1</td>\n",
       "      <td>125</td>\n",
       "      <td>139</td>\n",
       "      <td>115</td>\n",
       "      <td>G10</td>\n",
       "      <td>144</td>\n",
       "    </tr>\n",
       "    <tr>\n",
       "      <td>Birla1</td>\n",
       "      <td>100</td>\n",
       "      <td>174</td>\n",
       "      <td>176</td>\n",
       "      <td>G5</td>\n",
       "      <td>137</td>\n",
       "    </tr>\n",
       "    <tr>\n",
       "      <td>Adani1</td>\n",
       "      <td>133</td>\n",
       "      <td>181</td>\n",
       "      <td>150</td>\n",
       "      <td>G20</td>\n",
       "      <td>136</td>\n",
       "    </tr>\n",
       "    <tr>\n",
       "      <td>Brittania1</td>\n",
       "      <td>166</td>\n",
       "      <td>105</td>\n",
       "      <td>195</td>\n",
       "      <td>G5</td>\n",
       "      <td>119</td>\n",
       "    </tr>\n",
       "    <tr>\n",
       "      <td>Unilever1</td>\n",
       "      <td>192</td>\n",
       "      <td>121</td>\n",
       "      <td>165</td>\n",
       "      <td>G5</td>\n",
       "      <td>115</td>\n",
       "    </tr>\n",
       "    <tr>\n",
       "      <td>Mahindra1</td>\n",
       "      <td>158</td>\n",
       "      <td>163</td>\n",
       "      <td>108</td>\n",
       "      <td>G10</td>\n",
       "      <td>115</td>\n",
       "    </tr>\n",
       "    <tr>\n",
       "      <td>Marico1</td>\n",
       "      <td>174</td>\n",
       "      <td>133</td>\n",
       "      <td>109</td>\n",
       "      <td>G20</td>\n",
       "      <td>130</td>\n",
       "    </tr>\n",
       "  </tbody>\n",
       "</table>\n",
       "</div>"
      ],
      "text/plain": [
       "            Tech1  Infra1  Energy1 Group  Defense1\n",
       "Tata1         131     163      105    G5       193\n",
       "Reliance1     192     117      174    G5       144\n",
       "Wipro1        125     139      115   G10       144\n",
       "Birla1        100     174      176    G5       137\n",
       "Adani1        133     181      150   G20       136\n",
       "Brittania1    166     105      195    G5       119\n",
       "Unilever1     192     121      165    G5       115\n",
       "Mahindra1     158     163      108   G10       115\n",
       "Marico1       174     133      109   G20       130"
      ]
     },
     "execution_count": 175,
     "metadata": {},
     "output_type": "execute_result"
    }
   ],
   "source": [
    "df7= pd.read_csv('profit.csv')\n",
    "df7"
   ]
  },
  {
   "cell_type": "code",
   "execution_count": 187,
   "metadata": {},
   "outputs": [],
   "source": [
    "df7['def_rank'] = df7['Defense1'].rank()\n",
    "df7['def_rank_des'] = df7['Defense1'].rank(ascending=False) \n",
    "df7['def_rank_min'] = df7['Defense1'].rank(method=\"min\")\n",
    "df7['def_rank_first'] = df7['Defense1'].rank(method=\"first\")\n",
    "df7['def_rank_dense'] = df7['Defense1'].rank(method=\"dense\")\n",
    "df7['def_rank_max'] = df7['Defense1'].rank(method=\"max\")"
   ]
  },
  {
   "cell_type": "code",
   "execution_count": 189,
   "metadata": {
    "scrolled": true
   },
   "outputs": [
    {
     "name": "stdout",
     "output_type": "stream",
     "text": [
      "            Tech1  Infra1  Energy1 Group  Defense1  def_rank_des  def_rank  \\\n",
      "Tata1         131     163      105    G5       193           1.0       9.0   \n",
      "Reliance1     192     117      174    G5       144           2.5       7.5   \n",
      "Wipro1        125     139      115   G10       144           2.5       7.5   \n",
      "Birla1        100     174      176    G5       137           4.0       6.0   \n",
      "Adani1        133     181      150   G20       136           5.0       5.0   \n",
      "Brittania1    166     105      195    G5       119           7.0       3.0   \n",
      "Unilever1     192     121      165    G5       115           8.5       1.5   \n",
      "Mahindra1     158     163      108   G10       115           8.5       1.5   \n",
      "Marico1       174     133      109   G20       130           6.0       4.0   \n",
      "\n",
      "            def_rank_min  def_rank_first  def_rank_dense  def_rank_max  \n",
      "Tata1                9.0             9.0             7.0           9.0  \n",
      "Reliance1            7.0             7.0             6.0           8.0  \n",
      "Wipro1               7.0             8.0             6.0           8.0  \n",
      "Birla1               6.0             6.0             5.0           6.0  \n",
      "Adani1               5.0             5.0             4.0           5.0  \n",
      "Brittania1           3.0             3.0             2.0           3.0  \n",
      "Unilever1            1.0             1.0             1.0           2.0  \n",
      "Mahindra1            1.0             2.0             1.0           2.0  \n",
      "Marico1              4.0             4.0             3.0           4.0  \n"
     ]
    }
   ],
   "source": [
    "print(df7)"
   ]
  },
  {
   "cell_type": "code",
   "execution_count": 202,
   "metadata": {},
   "outputs": [
    {
     "name": "stdout",
     "output_type": "stream",
     "text": [
      "            Tech1  Infra1  Energy1 Group  Defense1  gdefense\n",
      "Wipro1        125     139      115   G10       154       1.0\n",
      "Mahindra1     158     163      108   G10       165       2.0\n",
      "Marico1       174     133      109   G20       130       1.0\n",
      "Adani1        133     181      150   G20       136       2.0\n",
      "Unilever1     192     121      165    G5       115       1.0\n",
      "Brittania1    166     105      195    G5       119       2.0\n",
      "Birla1        100     174      176    G5       137       3.0\n",
      "Reliance1     192     117      174    G5       144       4.0\n",
      "Tata1         131     163      105    G5       193       5.0\n"
     ]
    }
   ],
   "source": [
    "df6['gdefense'] = df6.groupby('Group')['Defense1'].rank()\n",
    "df6.sort_values(by='Group', inplace=True)\n",
    "print(df6)"
   ]
  },
  {
   "cell_type": "code",
   "execution_count": 205,
   "metadata": {
    "scrolled": true
   },
   "outputs": [
    {
     "name": "stdout",
     "output_type": "stream",
     "text": [
      "            Tech1  Infra1  Energy1 Group  Defense1  gdefense  ggroup\n",
      "Wipro1        125     139      115   G10       154       1.0     1.0\n",
      "Mahindra1     158     163      108   G10       165       2.0     2.0\n",
      "Marico1       174     133      109   G20       130       1.0     1.0\n",
      "Adani1        133     181      150   G20       136       2.0     2.0\n",
      "Unilever1     192     121      165    G5       115       1.0     1.0\n",
      "Brittania1    166     105      195    G5       119       2.0     2.0\n",
      "Birla1        100     174      176    G5       137       3.0     3.0\n",
      "Reliance1     192     117      174    G5       144       4.0     4.0\n",
      "Tata1         131     163      105    G5       193       5.0     5.0\n"
     ]
    }
   ],
   "source": [
    "df6['ggroup'] = df6.groupby('Group')['gdefense'].rank()\n",
    "# df6.sort_values(by='Group', inplace=True)\n",
    "print(df6)"
   ]
  },
  {
   "cell_type": "markdown",
   "metadata": {},
   "source": [
    "### Stats intro"
   ]
  },
  {
   "cell_type": "code",
   "execution_count": 206,
   "metadata": {},
   "outputs": [
    {
     "data": {
      "text/plain": [
       "['.ipynb_checkpoints', 'Day6.ipynb', 'mtcars.csv', 'profit.csv']"
      ]
     },
     "execution_count": 206,
     "metadata": {},
     "output_type": "execute_result"
    }
   ],
   "source": [
    "listdir()"
   ]
  },
  {
   "cell_type": "code",
   "execution_count": 207,
   "metadata": {},
   "outputs": [
    {
     "data": {
      "text/html": [
       "<div>\n",
       "<style scoped>\n",
       "    .dataframe tbody tr th:only-of-type {\n",
       "        vertical-align: middle;\n",
       "    }\n",
       "\n",
       "    .dataframe tbody tr th {\n",
       "        vertical-align: top;\n",
       "    }\n",
       "\n",
       "    .dataframe thead th {\n",
       "        text-align: right;\n",
       "    }\n",
       "</style>\n",
       "<table border=\"1\" class=\"dataframe\">\n",
       "  <thead>\n",
       "    <tr style=\"text-align: right;\">\n",
       "      <th></th>\n",
       "      <th>model</th>\n",
       "      <th>mpg</th>\n",
       "      <th>cyl</th>\n",
       "      <th>disp</th>\n",
       "      <th>hp</th>\n",
       "      <th>drat</th>\n",
       "      <th>wt</th>\n",
       "      <th>qsec</th>\n",
       "      <th>vs</th>\n",
       "      <th>am</th>\n",
       "      <th>gear</th>\n",
       "      <th>carb</th>\n",
       "    </tr>\n",
       "  </thead>\n",
       "  <tbody>\n",
       "    <tr>\n",
       "      <td>0</td>\n",
       "      <td>Mazda RX4</td>\n",
       "      <td>21.0</td>\n",
       "      <td>6</td>\n",
       "      <td>160.0</td>\n",
       "      <td>110</td>\n",
       "      <td>3.90</td>\n",
       "      <td>2.620</td>\n",
       "      <td>16.46</td>\n",
       "      <td>0</td>\n",
       "      <td>1</td>\n",
       "      <td>4</td>\n",
       "      <td>4</td>\n",
       "    </tr>\n",
       "    <tr>\n",
       "      <td>1</td>\n",
       "      <td>Mazda RX4 Wag</td>\n",
       "      <td>21.0</td>\n",
       "      <td>6</td>\n",
       "      <td>160.0</td>\n",
       "      <td>110</td>\n",
       "      <td>3.90</td>\n",
       "      <td>2.875</td>\n",
       "      <td>17.02</td>\n",
       "      <td>0</td>\n",
       "      <td>1</td>\n",
       "      <td>4</td>\n",
       "      <td>4</td>\n",
       "    </tr>\n",
       "    <tr>\n",
       "      <td>2</td>\n",
       "      <td>Datsun 710</td>\n",
       "      <td>22.8</td>\n",
       "      <td>4</td>\n",
       "      <td>108.0</td>\n",
       "      <td>93</td>\n",
       "      <td>3.85</td>\n",
       "      <td>2.320</td>\n",
       "      <td>18.61</td>\n",
       "      <td>1</td>\n",
       "      <td>1</td>\n",
       "      <td>4</td>\n",
       "      <td>1</td>\n",
       "    </tr>\n",
       "    <tr>\n",
       "      <td>3</td>\n",
       "      <td>Hornet 4 Drive</td>\n",
       "      <td>21.4</td>\n",
       "      <td>6</td>\n",
       "      <td>258.0</td>\n",
       "      <td>110</td>\n",
       "      <td>3.08</td>\n",
       "      <td>3.215</td>\n",
       "      <td>19.44</td>\n",
       "      <td>1</td>\n",
       "      <td>0</td>\n",
       "      <td>3</td>\n",
       "      <td>1</td>\n",
       "    </tr>\n",
       "    <tr>\n",
       "      <td>4</td>\n",
       "      <td>Hornet Sportabout</td>\n",
       "      <td>18.7</td>\n",
       "      <td>8</td>\n",
       "      <td>360.0</td>\n",
       "      <td>175</td>\n",
       "      <td>3.15</td>\n",
       "      <td>3.440</td>\n",
       "      <td>17.02</td>\n",
       "      <td>0</td>\n",
       "      <td>0</td>\n",
       "      <td>3</td>\n",
       "      <td>2</td>\n",
       "    </tr>\n",
       "  </tbody>\n",
       "</table>\n",
       "</div>"
      ],
      "text/plain": [
       "               model   mpg  cyl   disp   hp  drat     wt   qsec  vs  am  gear  \\\n",
       "0          Mazda RX4  21.0    6  160.0  110  3.90  2.620  16.46   0   1     4   \n",
       "1      Mazda RX4 Wag  21.0    6  160.0  110  3.90  2.875  17.02   0   1     4   \n",
       "2         Datsun 710  22.8    4  108.0   93  3.85  2.320  18.61   1   1     4   \n",
       "3     Hornet 4 Drive  21.4    6  258.0  110  3.08  3.215  19.44   1   0     3   \n",
       "4  Hornet Sportabout  18.7    8  360.0  175  3.15  3.440  17.02   0   0     3   \n",
       "\n",
       "   carb  \n",
       "0     4  \n",
       "1     4  \n",
       "2     1  \n",
       "3     1  \n",
       "4     2  "
      ]
     },
     "execution_count": 207,
     "metadata": {},
     "output_type": "execute_result"
    }
   ],
   "source": [
    "df = pd.read_csv('mtcars.csv')\n",
    "df.head()"
   ]
  },
  {
   "cell_type": "code",
   "execution_count": 209,
   "metadata": {
    "collapsed": true
   },
   "outputs": [
    {
     "name": "stdout",
     "output_type": "stream",
     "text": [
      "<class 'pandas.core.frame.DataFrame'>\n",
      "RangeIndex: 32 entries, 0 to 31\n",
      "Data columns (total 12 columns):\n",
      "model    32 non-null object\n",
      "mpg      32 non-null float64\n",
      "cyl      32 non-null int64\n",
      "disp     32 non-null float64\n",
      "hp       32 non-null int64\n",
      "drat     32 non-null float64\n",
      "wt       32 non-null float64\n",
      "qsec     32 non-null float64\n",
      "vs       32 non-null int64\n",
      "am       32 non-null int64\n",
      "gear     32 non-null int64\n",
      "carb     32 non-null int64\n",
      "dtypes: float64(5), int64(6), object(1)\n",
      "memory usage: 2.9+ KB\n",
      "None\n"
     ]
    }
   ],
   "source": [
    "print(df.info())"
   ]
  },
  {
   "cell_type": "code",
   "execution_count": 211,
   "metadata": {},
   "outputs": [
    {
     "data": {
      "text/plain": [
       "335"
      ]
     },
     "execution_count": 211,
     "metadata": {},
     "output_type": "execute_result"
    }
   ],
   "source": [
    "df['hp'].max()"
   ]
  },
  {
   "cell_type": "code",
   "execution_count": 224,
   "metadata": {},
   "outputs": [
    {
     "name": "stderr",
     "output_type": "stream",
     "text": [
      "c:\\users\\p s v\\appdata\\local\\programs\\python\\python37-32\\lib\\site-packages\\ipykernel_launcher.py:1: FutureWarning: \n",
      "The current behaviour of 'Series.argmax' is deprecated, use 'idxmax'\n",
      "instead.\n",
      "The behavior of 'argmax' will be corrected to return the positional\n",
      "maximum in the future. For now, use 'series.values.argmax' or\n",
      "'np.argmax(np.array(values))' to get the position of the maximum\n",
      "row.\n",
      "  \"\"\"Entry point for launching an IPython kernel.\n"
     ]
    },
    {
     "data": {
      "text/plain": [
       "30"
      ]
     },
     "execution_count": 224,
     "metadata": {},
     "output_type": "execute_result"
    }
   ],
   "source": [
    "df['hp'].argmax()"
   ]
  },
  {
   "cell_type": "code",
   "execution_count": 215,
   "metadata": {},
   "outputs": [
    {
     "data": {
      "text/html": [
       "<div>\n",
       "<style scoped>\n",
       "    .dataframe tbody tr th:only-of-type {\n",
       "        vertical-align: middle;\n",
       "    }\n",
       "\n",
       "    .dataframe tbody tr th {\n",
       "        vertical-align: top;\n",
       "    }\n",
       "\n",
       "    .dataframe thead th {\n",
       "        text-align: right;\n",
       "    }\n",
       "</style>\n",
       "<table border=\"1\" class=\"dataframe\">\n",
       "  <thead>\n",
       "    <tr style=\"text-align: right;\">\n",
       "      <th></th>\n",
       "      <th>model</th>\n",
       "      <th>mpg</th>\n",
       "      <th>cyl</th>\n",
       "      <th>disp</th>\n",
       "      <th>hp</th>\n",
       "      <th>drat</th>\n",
       "      <th>wt</th>\n",
       "      <th>qsec</th>\n",
       "      <th>vs</th>\n",
       "      <th>am</th>\n",
       "      <th>gear</th>\n",
       "      <th>carb</th>\n",
       "    </tr>\n",
       "  </thead>\n",
       "  <tbody>\n",
       "    <tr>\n",
       "      <td>30</td>\n",
       "      <td>Maserati Bora</td>\n",
       "      <td>15.0</td>\n",
       "      <td>8</td>\n",
       "      <td>301.0</td>\n",
       "      <td>335</td>\n",
       "      <td>3.54</td>\n",
       "      <td>3.57</td>\n",
       "      <td>14.6</td>\n",
       "      <td>0</td>\n",
       "      <td>1</td>\n",
       "      <td>5</td>\n",
       "      <td>8</td>\n",
       "    </tr>\n",
       "  </tbody>\n",
       "</table>\n",
       "</div>"
      ],
      "text/plain": [
       "            model   mpg  cyl   disp   hp  drat    wt  qsec  vs  am  gear  carb\n",
       "30  Maserati Bora  15.0    8  301.0  335  3.54  3.57  14.6   0   1     5     8"
      ]
     },
     "execution_count": 215,
     "metadata": {},
     "output_type": "execute_result"
    }
   ],
   "source": [
    "df[df['hp'] == df['hp'].max()]"
   ]
  },
  {
   "cell_type": "code",
   "execution_count": 230,
   "metadata": {},
   "outputs": [
    {
     "name": "stdout",
     "output_type": "stream",
     "text": [
      "             model   mpg  cyl\n",
      "19  Toyota Corolla  33.9    4 \n",
      "\n",
      "\n",
      "                  model   mpg  cyl\n",
      "14   Cadillac Fleetwood  10.4    8\n",
      "15  Lincoln Continental  10.4    8\n"
     ]
    }
   ],
   "source": [
    "print(df[df['mpg'] == df['mpg'].max()].iloc[:,:3],'\\n\\n')\n",
    "print(df[df['mpg'] == df['mpg'].min()].iloc[:,:3])"
   ]
  },
  {
   "cell_type": "code",
   "execution_count": 253,
   "metadata": {},
   "outputs": [
    {
     "data": {
      "text/html": [
       "<div>\n",
       "<style scoped>\n",
       "    .dataframe tbody tr th:only-of-type {\n",
       "        vertical-align: middle;\n",
       "    }\n",
       "\n",
       "    .dataframe tbody tr th {\n",
       "        vertical-align: top;\n",
       "    }\n",
       "\n",
       "    .dataframe thead th {\n",
       "        text-align: right;\n",
       "    }\n",
       "</style>\n",
       "<table border=\"1\" class=\"dataframe\">\n",
       "  <thead>\n",
       "    <tr style=\"text-align: right;\">\n",
       "      <th></th>\n",
       "      <th>model</th>\n",
       "      <th>mpg</th>\n",
       "      <th>cyl</th>\n",
       "      <th>disp</th>\n",
       "      <th>hp</th>\n",
       "      <th>drat</th>\n",
       "      <th>wt</th>\n",
       "      <th>qsec</th>\n",
       "      <th>vs</th>\n",
       "      <th>am</th>\n",
       "      <th>gear</th>\n",
       "      <th>carb</th>\n",
       "    </tr>\n",
       "  </thead>\n",
       "  <tbody>\n",
       "    <tr>\n",
       "      <td>14</td>\n",
       "      <td>Cadillac Fleetwood</td>\n",
       "      <td>10.4</td>\n",
       "      <td>8</td>\n",
       "      <td>472.0</td>\n",
       "      <td>205</td>\n",
       "      <td>2.93</td>\n",
       "      <td>5.250</td>\n",
       "      <td>17.98</td>\n",
       "      <td>0</td>\n",
       "      <td>0</td>\n",
       "      <td>3</td>\n",
       "      <td>4</td>\n",
       "    </tr>\n",
       "    <tr>\n",
       "      <td>15</td>\n",
       "      <td>Lincoln Continental</td>\n",
       "      <td>10.4</td>\n",
       "      <td>8</td>\n",
       "      <td>460.0</td>\n",
       "      <td>215</td>\n",
       "      <td>3.00</td>\n",
       "      <td>5.424</td>\n",
       "      <td>17.82</td>\n",
       "      <td>0</td>\n",
       "      <td>0</td>\n",
       "      <td>3</td>\n",
       "      <td>4</td>\n",
       "    </tr>\n",
       "  </tbody>\n",
       "</table>\n",
       "</div>"
      ],
      "text/plain": [
       "                  model   mpg  cyl   disp   hp  drat     wt   qsec  vs  am  \\\n",
       "14   Cadillac Fleetwood  10.4    8  472.0  205  2.93  5.250  17.98   0   0   \n",
       "15  Lincoln Continental  10.4    8  460.0  215  3.00  5.424  17.82   0   0   \n",
       "\n",
       "    gear  carb  \n",
       "14     3     4  \n",
       "15     3     4  "
      ]
     },
     "execution_count": 253,
     "metadata": {},
     "output_type": "execute_result"
    }
   ],
   "source": [
    "df[df['mpg'] == df['mpg'].min()]"
   ]
  },
  {
   "cell_type": "code",
   "execution_count": 265,
   "metadata": {},
   "outputs": [
    {
     "name": "stdout",
     "output_type": "stream",
     "text": [
      "                  model   mpg  cyl   disp   hp  drat     wt   qsec  vs  am  \\\n",
      "14   Cadillac Fleetwood  10.4    8  472.0  205  2.93  5.250  17.98   0   0   \n",
      "15  Lincoln Continental  10.4    8  460.0  215  3.00  5.424  17.82   0   0   \n",
      "\n",
      "    gear  carb  \n",
      "14     3     4  \n",
      "15     3     4  \n"
     ]
    },
    {
     "data": {
      "text/plain": [
       "model    Cadillac Fleetwood\n",
       "mpg                    10.4\n",
       "cyl                       8\n",
       "disp                    472\n",
       "hp                      205\n",
       "drat                   2.93\n",
       "wt                     5.25\n",
       "qsec                  17.98\n",
       "vs                        0\n",
       "am                        0\n",
       "gear                      3\n",
       "carb                      4\n",
       "Name: 14, dtype: object"
      ]
     },
     "execution_count": 265,
     "metadata": {},
     "output_type": "execute_result"
    }
   ],
   "source": [
    "df1 = df[df['mpg'] == df['mpg'].min()]\n",
    "print(df1)\n",
    "df1.loc[14]"
   ]
  },
  {
   "cell_type": "code",
   "execution_count": 235,
   "metadata": {
    "scrolled": true
   },
   "outputs": [
    {
     "data": {
      "text/plain": [
       "8    14\n",
       "4    11\n",
       "6     7\n",
       "Name: cyl, dtype: int64"
      ]
     },
     "execution_count": 235,
     "metadata": {},
     "output_type": "execute_result"
    }
   ],
   "source": [
    "df['cyl'].value_counts()"
   ]
  },
  {
   "cell_type": "code",
   "execution_count": 243,
   "metadata": {},
   "outputs": [
    {
     "name": "stdout",
     "output_type": "stream",
     "text": [
      "11\n"
     ]
    }
   ],
   "source": [
    "print(df[df['cyl'] == 4]['model'].count())"
   ]
  },
  {
   "cell_type": "code",
   "execution_count": 246,
   "metadata": {},
   "outputs": [
    {
     "data": {
      "text/plain": [
       "Index(['model', 'mpg', 'cyl', 'disp', 'hp', 'drat', 'wt', 'qsec', 'vs', 'am',\n",
       "       'gear', 'carb'],\n",
       "      dtype='object')"
      ]
     },
     "execution_count": 246,
     "metadata": {},
     "output_type": "execute_result"
    }
   ],
   "source": [
    "df.columns"
   ]
  },
  {
   "cell_type": "code",
   "execution_count": 250,
   "metadata": {},
   "outputs": [
    {
     "data": {
      "text/html": [
       "<div>\n",
       "<style scoped>\n",
       "    .dataframe tbody tr th:only-of-type {\n",
       "        vertical-align: middle;\n",
       "    }\n",
       "\n",
       "    .dataframe tbody tr th {\n",
       "        vertical-align: top;\n",
       "    }\n",
       "\n",
       "    .dataframe thead th {\n",
       "        text-align: right;\n",
       "    }\n",
       "</style>\n",
       "<table border=\"1\" class=\"dataframe\">\n",
       "  <thead>\n",
       "    <tr style=\"text-align: right;\">\n",
       "      <th></th>\n",
       "      <th>model</th>\n",
       "      <th>mpg</th>\n",
       "      <th>cyl</th>\n",
       "      <th>disp</th>\n",
       "      <th>hp</th>\n",
       "      <th>drat</th>\n",
       "      <th>wt</th>\n",
       "      <th>qsec</th>\n",
       "      <th>vs</th>\n",
       "      <th>am</th>\n",
       "      <th>gear</th>\n",
       "      <th>carb</th>\n",
       "    </tr>\n",
       "  </thead>\n",
       "  <tbody>\n",
       "    <tr>\n",
       "      <td>26</td>\n",
       "      <td>Porsche 914-2</td>\n",
       "      <td>26.0</td>\n",
       "      <td>4</td>\n",
       "      <td>120.3</td>\n",
       "      <td>91</td>\n",
       "      <td>4.43</td>\n",
       "      <td>2.140</td>\n",
       "      <td>16.7</td>\n",
       "      <td>0</td>\n",
       "      <td>1</td>\n",
       "      <td>5</td>\n",
       "      <td>2</td>\n",
       "    </tr>\n",
       "    <tr>\n",
       "      <td>27</td>\n",
       "      <td>Lotus Europa</td>\n",
       "      <td>30.4</td>\n",
       "      <td>4</td>\n",
       "      <td>95.1</td>\n",
       "      <td>113</td>\n",
       "      <td>3.77</td>\n",
       "      <td>1.513</td>\n",
       "      <td>16.9</td>\n",
       "      <td>1</td>\n",
       "      <td>1</td>\n",
       "      <td>5</td>\n",
       "      <td>2</td>\n",
       "    </tr>\n",
       "    <tr>\n",
       "      <td>28</td>\n",
       "      <td>Ford Pantera L</td>\n",
       "      <td>15.8</td>\n",
       "      <td>8</td>\n",
       "      <td>351.0</td>\n",
       "      <td>264</td>\n",
       "      <td>4.22</td>\n",
       "      <td>3.170</td>\n",
       "      <td>14.5</td>\n",
       "      <td>0</td>\n",
       "      <td>1</td>\n",
       "      <td>5</td>\n",
       "      <td>4</td>\n",
       "    </tr>\n",
       "    <tr>\n",
       "      <td>29</td>\n",
       "      <td>Ferrari Dino</td>\n",
       "      <td>19.7</td>\n",
       "      <td>6</td>\n",
       "      <td>145.0</td>\n",
       "      <td>175</td>\n",
       "      <td>3.62</td>\n",
       "      <td>2.770</td>\n",
       "      <td>15.5</td>\n",
       "      <td>0</td>\n",
       "      <td>1</td>\n",
       "      <td>5</td>\n",
       "      <td>6</td>\n",
       "    </tr>\n",
       "  </tbody>\n",
       "</table>\n",
       "</div>"
      ],
      "text/plain": [
       "             model   mpg  cyl   disp   hp  drat     wt  qsec  vs  am  gear  \\\n",
       "26   Porsche 914-2  26.0    4  120.3   91  4.43  2.140  16.7   0   1     5   \n",
       "27    Lotus Europa  30.4    4   95.1  113  3.77  1.513  16.9   1   1     5   \n",
       "28  Ford Pantera L  15.8    8  351.0  264  4.22  3.170  14.5   0   1     5   \n",
       "29    Ferrari Dino  19.7    6  145.0  175  3.62  2.770  15.5   0   1     5   \n",
       "\n",
       "    carb  \n",
       "26     2  \n",
       "27     2  \n",
       "28     4  \n",
       "29     6  "
      ]
     },
     "execution_count": 250,
     "metadata": {},
     "output_type": "execute_result"
    }
   ],
   "source": [
    "# 5 gears and mil > 15\n",
    "\n",
    "print(df[(df['gear'] == 5) & (df['mpg'] > 15)])"
   ]
  }
 ],
 "metadata": {
  "kernelspec": {
   "display_name": "Python 3",
   "language": "python",
   "name": "python3"
  },
  "language_info": {
   "codemirror_mode": {
    "name": "ipython",
    "version": 3
   },
   "file_extension": ".py",
   "mimetype": "text/x-python",
   "name": "python",
   "nbconvert_exporter": "python",
   "pygments_lexer": "ipython3",
   "version": "3.7.0"
  }
 },
 "nbformat": 4,
 "nbformat_minor": 2
}
