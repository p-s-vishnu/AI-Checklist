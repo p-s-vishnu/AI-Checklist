{
 "cells": [
  {
   "cell_type": "markdown",
   "metadata": {},
   "source": [
    "# TAKE HOME LAB EXERCISE - 01"
   ]
  },
  {
   "cell_type": "markdown",
   "metadata": {},
   "source": [
    "-----------"
   ]
  },
  {
   "cell_type": "code",
   "execution_count": 1,
   "metadata": {},
   "outputs": [],
   "source": [
    "import numpy as np"
   ]
  },
  {
   "cell_type": "markdown",
   "metadata": {},
   "source": [
    "**(1). The value Range(0,10) ,  convert the list to `2D array`.**"
   ]
  },
  {
   "cell_type": "code",
   "execution_count": 2,
   "metadata": {},
   "outputs": [
    {
     "data": {
      "text/plain": [
       "array([[0, 1, 2, 3, 4],\n",
       "       [5, 6, 7, 8, 9]])"
      ]
     },
     "execution_count": 2,
     "metadata": {},
     "output_type": "execute_result"
    }
   ],
   "source": [
    "lst = list(range(10))\n",
    "lst = np.array(lst)\n",
    "lst.reshape(2,5)"
   ]
  },
  {
   "cell_type": "markdown",
   "metadata": {},
   "source": [
    "-------------------------------------------------------------"
   ]
  },
  {
   "cell_type": "markdown",
   "metadata": {},
   "source": [
    "**(2).Print or show only 3 decimal places of the numpy array `random_arr`**"
   ]
  },
  {
   "cell_type": "code",
   "execution_count": 3,
   "metadata": {},
   "outputs": [
    {
     "data": {
      "text/plain": [
       "array([[0.541, 0.328, 0.828],\n",
       "       [0.231, 0.658, 0.868]])"
      ]
     },
     "execution_count": 3,
     "metadata": {},
     "output_type": "execute_result"
    }
   ],
   "source": [
    "random_arr = np.random.rand(2,3)\n",
    "\n",
    "np.round(random_arr, 3)"
   ]
  },
  {
   "cell_type": "markdown",
   "metadata": {},
   "source": [
    "----------------------------------"
   ]
  },
  {
   "cell_type": "markdown",
   "metadata": {},
   "source": [
    "**(3).The number of items printed to be limit in python numpy array a to a maximum of 6 elements.**\n",
    "\n",
    "   \n",
    "     Intake : x = np.arange(15)\n",
    "               array([ 0,  1,  2,  3,  4,  5,  6,  7,  8,  9, 10, 11, 12, 13, 14])\n",
    "               \n",
    "     Result : ([ 0,  1,  2, ..., 12, 13, 14])"
   ]
  },
  {
   "cell_type": "code",
   "execution_count": 4,
   "metadata": {},
   "outputs": [
    {
     "name": "stdout",
     "output_type": "stream",
     "text": [
      "[ 0  1  2 ... 12 13 14]\n",
      "[ 0  1  2  3  4  5  6  7  8  9 10 11 12 13 14]\n"
     ]
    }
   ],
   "source": [
    "x = np.arange(15)\n",
    "np.set_printoptions(threshold=6)\n",
    "print(x)\n",
    "np.set_printoptions(threshold=1000)\n",
    "print(x)"
   ]
  },
  {
   "cell_type": "markdown",
   "metadata": {},
   "source": [
    "---------------------"
   ]
  },
  {
   "cell_type": "markdown",
   "metadata": {},
   "source": [
    "**(4). An arrays of `x` and `y` , Stack the `x` and `y` arrays Horizontal.**\n",
    "\n",
    "\n",
    "    Intake:\n",
    "                x = np.arange(10).reshape(2,-1)\n",
    "\n",
    "                y = np.repeat(1, 10).reshape(2,-1)\n",
    "\n",
    " \n",
    "    \n",
    "    Result:       ([[0, 1, 2, 3, 4, 1, 1, 1, 1, 1],\n",
    "                   [5, 6, 7, 8, 9, 1, 1, 1, 1, 1]])"
   ]
  },
  {
   "cell_type": "code",
   "execution_count": 5,
   "metadata": {},
   "outputs": [
    {
     "name": "stdout",
     "output_type": "stream",
     "text": [
      "[[ 0  1  2  3  4  5]\n",
      " [ 6  7  8  9 10 11]]\n",
      "\n",
      "[[ 0  1  2  3  4  5  6  7]\n",
      " [ 8  9 10 11 12 13 14 15]]\n"
     ]
    },
    {
     "data": {
      "text/plain": [
       "array([[ 0,  1,  2,  3,  4,  5,  0,  1,  2,  3,  4,  5,  6,  7],\n",
       "       [ 6,  7,  8,  9, 10, 11,  8,  9, 10, 11, 12, 13, 14, 15]])"
      ]
     },
     "execution_count": 5,
     "metadata": {},
     "output_type": "execute_result"
    }
   ],
   "source": [
    "x = np.arange(12).reshape(2,6)\n",
    "y = np.arange(16).reshape(2,8)\n",
    "print(x,y, sep=\"\\n\\n\")\n",
    "\n",
    "# axis = 1\n",
    "print(np.hstack((x,y)))"
   ]
  },
  {
   "cell_type": "markdown",
   "metadata": {},
   "source": [
    "----------------------"
   ]
  },
  {
   "cell_type": "markdown",
   "metadata": {},
   "source": [
    "**(5). There are two array `x` and `y` ,output to be the matching items in both the array.**\n",
    "    \n",
    "    \n",
    "    Intake: \n",
    "   \n",
    "        x = np.array([1,2,3,2,3,4,3,4,5,6])\n",
    "        y = np.array([7,2,10,2,7,4,9,4,9,8])\n",
    " \n",
    "    Results:\n",
    "        \n",
    "         ([2, 4])\n",
    "            \n",
    "    "
   ]
  },
  {
   "cell_type": "code",
   "execution_count": 6,
   "metadata": {},
   "outputs": [
    {
     "data": {
      "text/plain": [
       "array([2, 4])"
      ]
     },
     "execution_count": 6,
     "metadata": {},
     "output_type": "execute_result"
    }
   ],
   "source": [
    "x = np.array([1,2,3,2,3,4,3,4,5,6])\n",
    "y = np.array([7,2,10,2,7,4,9,4,9,8])\n",
    "# print(len(x), len(y))\n",
    "\n",
    "np.unique(x[np.in1d(x,y)])"
   ]
  },
  {
   "cell_type": "markdown",
   "metadata": {},
   "source": [
    "---------------------"
   ]
  },
  {
   "cell_type": "markdown",
   "metadata": {},
   "source": [
    "**(6). There are two array x and y ,drop the items in `X` which already exist in `Y`.**\n",
    "\n",
    "   \n",
    "    INTAKE:\n",
    "     x = np.array([1,2,3,4,5])\n",
    "     y = np.array([5,6,7,8,9])\n",
    "    \n",
    "    \n",
    "    RESULT:\n",
    "     ([1,2,3,4])\n",
    "        \n",
    "    "
   ]
  },
  {
   "cell_type": "code",
   "execution_count": 7,
   "metadata": {},
   "outputs": [],
   "source": [
    "x = np.array([1,2,3,4,5])\n",
    "y = np.array([5,6,7,8,9])"
   ]
  },
  {
   "cell_type": "code",
   "execution_count": 8,
   "metadata": {},
   "outputs": [
    {
     "data": {
      "text/plain": [
       "array([False, False, False, False,  True])"
      ]
     },
     "execution_count": 8,
     "metadata": {},
     "output_type": "execute_result"
    }
   ],
   "source": [
    "mask = np.in1d(x,y)\n",
    "mask"
   ]
  },
  {
   "cell_type": "code",
   "execution_count": 9,
   "metadata": {},
   "outputs": [
    {
     "data": {
      "text/plain": [
       "array([1, 2, 3, 4])"
      ]
     },
     "execution_count": 9,
     "metadata": {},
     "output_type": "execute_result"
    }
   ],
   "source": [
    "np.delete(x, np.where(mask))"
   ]
  },
  {
   "cell_type": "markdown",
   "metadata": {},
   "source": [
    "--------------------------"
   ]
  },
  {
   "cell_type": "markdown",
   "metadata": {},
   "source": [
    "**(7). Reverse the rows of a 2D array.**\n",
    "\n",
    "\n",
    "    Intake : X = np.arange(9).reshape(3,3)\n",
    "    \n",
    "    Result :      ([[6, 7, 8],\n",
    "                    [3, 4, 5],\n",
    "                    [0, 1, 2]])"
   ]
  },
  {
   "cell_type": "code",
   "execution_count": 23,
   "metadata": {
    "scrolled": true
   },
   "outputs": [
    {
     "data": {
      "text/plain": [
       "array([[0, 1, 2],\n",
       "       [3, 4, 5],\n",
       "       [6, 7, 8]])"
      ]
     },
     "execution_count": 23,
     "metadata": {},
     "output_type": "execute_result"
    }
   ],
   "source": [
    "X = np.arange(9).reshape(3,3)\n",
    "x = X.copy()\n",
    "X"
   ]
  },
  {
   "cell_type": "code",
   "execution_count": 25,
   "metadata": {
    "scrolled": true
   },
   "outputs": [
    {
     "data": {
      "text/plain": [
       "array([[6, 7, 8],\n",
       "       [3, 4, 5],\n",
       "       [0, 1, 6]])"
      ]
     },
     "execution_count": 25,
     "metadata": {},
     "output_type": "execute_result"
    }
   ],
   "source": [
    "# X[ [row_list], [col_list] ]\n",
    "X[[0, 2]] = X[[2, 0]]\n",
    "X"
   ]
  },
  {
   "cell_type": "markdown",
   "metadata": {},
   "source": [
    "----------------------"
   ]
  },
  {
   "cell_type": "markdown",
   "metadata": {},
   "source": [
    "**(8). Reverse the columns of a 2D array.**\n",
    "\n",
    "    Intake : X = np.arange(9).reshape(3,3)\n",
    "    \n",
    "    Result :     ([[2, 1, 0],\n",
    "                   [5, 4, 3],\n",
    "                   [8, 7, 6]])\n"
   ]
  },
  {
   "cell_type": "code",
   "execution_count": 26,
   "metadata": {},
   "outputs": [
    {
     "data": {
      "text/plain": [
       "array([[0, 1, 2],\n",
       "       [3, 4, 5],\n",
       "       [6, 7, 8]])"
      ]
     },
     "execution_count": 26,
     "metadata": {},
     "output_type": "execute_result"
    }
   ],
   "source": [
    "x"
   ]
  },
  {
   "cell_type": "code",
   "execution_count": 27,
   "metadata": {},
   "outputs": [
    {
     "data": {
      "text/plain": [
       "array([[0, 3, 6],\n",
       "       [1, 4, 7],\n",
       "       [2, 5, 8]])"
      ]
     },
     "execution_count": 27,
     "metadata": {},
     "output_type": "execute_result"
    }
   ],
   "source": [
    "x.T"
   ]
  },
  {
   "cell_type": "code",
   "execution_count": 13,
   "metadata": {},
   "outputs": [
    {
     "data": {
      "text/plain": [
       "array([[2, 1, 0],\n",
       "       [5, 4, 3],\n",
       "       [8, 7, 6]])"
      ]
     },
     "execution_count": 13,
     "metadata": {},
     "output_type": "execute_result"
    }
   ],
   "source": [
    "x.T[[0,2]] = x.T[[2,0]]\n",
    "x"
   ]
  },
  {
   "cell_type": "markdown",
   "metadata": {},
   "source": [
    "---------------------"
   ]
  },
  {
   "cell_type": "markdown",
   "metadata": {},
   "source": [
    "**(9). Print the ranks for the given numeric array `x`.**\n",
    " \n",
    "   \n",
    "    Intake:\n",
    "    np.random.seed(10)\n",
    "    x = np.random.randint(20, size=10)\n",
    "    print(x)\n",
    "    [ 9  4 15  0 17 16 17  8  9  0]\n",
    "    \n",
    "    \n",
    "    Result:\n",
    "    [4 2 6 0 8 7 9 3 5 1]\n",
    "    "
   ]
  },
  {
   "cell_type": "code",
   "execution_count": 14,
   "metadata": {
    "scrolled": true
   },
   "outputs": [
    {
     "name": "stdout",
     "output_type": "stream",
     "text": [
      "[ 9  4 15  0 17 16 17  8  9  0]\n"
     ]
    }
   ],
   "source": [
    "np.random.seed(10)\n",
    "x = np.random.randint(20, size=10)\n",
    "print(x)"
   ]
  },
  {
   "cell_type": "code",
   "execution_count": 15,
   "metadata": {},
   "outputs": [
    {
     "name": "stdout",
     "output_type": "stream",
     "text": [
      "Order of the matrix [3 9 1 7 0 8 2 5 4 6]\n",
      "Ranks of the matrix [4 2 6 0 8 7 9 3 5 1]\n"
     ]
    }
   ],
   "source": [
    "# When dealing with 2D, pass an axis argument\n",
    "order = x.argsort()\n",
    "ranks = order.argsort()\n",
    "print('Order of the matrix', order)\n",
    "print('Ranks of the matrix',ranks)"
   ]
  },
  {
   "cell_type": "code",
   "execution_count": 16,
   "metadata": {},
   "outputs": [
    {
     "name": "stdout",
     "output_type": "stream",
     "text": [
      "Number of singular values in a matrix 1\n"
     ]
    }
   ],
   "source": [
    "from numpy.linalg import matrix_rank\n",
    "print('Number of singular values in a matrix', matrix_rank(x))"
   ]
  },
  {
   "cell_type": "markdown",
   "metadata": {},
   "source": [
    "--------------------"
   ]
  },
  {
   "cell_type": "markdown",
   "metadata": {},
   "source": [
    "**(10). Print a rank array of the same shape as a given numeric array `x`.**\n",
    "\n",
    "\n",
    "    Intake:\n",
    "    np.random.seed(10)\n",
    "    x = np.random.randint(20, size=[2,5])\n",
    "    print(a)\n",
    "    [[ 9  4 15  0 17]\n",
    "    [16 17  8  9  0]]\n",
    "    \n",
    "    Result:\n",
    "    [[4 2 6 0 8]\n",
    "    [7 9 3 5 1]]"
   ]
  },
  {
   "cell_type": "code",
   "execution_count": 17,
   "metadata": {
    "scrolled": true
   },
   "outputs": [
    {
     "name": "stdout",
     "output_type": "stream",
     "text": [
      "[[ 9  4 15  0 17]\n",
      " [16 17  8  9  0]] (2, 5)\n"
     ]
    }
   ],
   "source": [
    "np.random.seed(10)\n",
    "x = np.random.randint(20, size=[2,5])\n",
    "print(x,x.shape)"
   ]
  },
  {
   "cell_type": "code",
   "execution_count": 18,
   "metadata": {},
   "outputs": [
    {
     "name": "stdout",
     "output_type": "stream",
     "text": [
      "[[4 2 6 0 8]\n",
      " [7 9 3 5 1]]\n"
     ]
    }
   ],
   "source": [
    "r, c = x.shape\n",
    "# print(r,c)\n",
    "order = np.argsort(x.ravel())\n",
    "rank = np.argsort(order)\n",
    "print(rank.reshape(r,c))"
   ]
  },
  {
   "cell_type": "code",
   "execution_count": 19,
   "metadata": {},
   "outputs": [
    {
     "name": "stdout",
     "output_type": "stream",
     "text": [
      "[[3 1 0 2 4]\n",
      " [4 2 3 0 1]]\n"
     ]
    },
    {
     "data": {
      "text/plain": [
       "array([[2, 1, 3, 0, 4],\n",
       "       [3, 4, 1, 2, 0]], dtype=int32)"
      ]
     },
     "execution_count": 19,
     "metadata": {},
     "output_type": "execute_result"
    }
   ],
   "source": [
    "order = np.argsort(x)\n",
    "print(order)\n",
    "np.argsort(order)\n",
    "# order = np.argsort(x,axis=1)\n",
    "# np.argsort(order,axis=1)"
   ]
  },
  {
   "cell_type": "markdown",
   "metadata": {},
   "source": [
    "--------------------------------"
   ]
  },
  {
   "cell_type": "markdown",
   "metadata": {},
   "source": [
    "**(11). Subtract the 1d array y_1d from the 2d array x_2d, such that each item of y_1d subtracts from respective row of x_2d.**\n",
    "    \n",
    "    Intake:\n",
    "    x_2d = np.array([[3,3,3],[4,4,4],[5,5,5]])\n",
    "    y_1d = np.array([1,2,3])\n",
    "    \n",
    "    Result:\n",
    "     [[2 2 2]\n",
    "     [2 2 2]\n",
    "     [2 2 2]]"
   ]
  },
  {
   "cell_type": "code",
   "execution_count": 20,
   "metadata": {},
   "outputs": [
    {
     "name": "stdout",
     "output_type": "stream",
     "text": [
      "(3, 3)\n",
      "(3,)\n"
     ]
    },
    {
     "data": {
      "text/plain": [
       "array([[2, 2, 2],\n",
       "       [2, 2, 2],\n",
       "       [2, 2, 2]])"
      ]
     },
     "execution_count": 20,
     "metadata": {},
     "output_type": "execute_result"
    }
   ],
   "source": [
    "x_2d = np.array([[3,3,3],[4,4,4],[5,5,5]])\n",
    "y_1d = np.array([1,2,3])\n",
    "\n",
    "print(x_2d.shape)\n",
    "print(y_1d.shape)\n",
    "\n",
    "# convert sequence to matrix\n",
    "x_2d - y_1d.reshape(-1,1)"
   ]
  },
  {
   "cell_type": "markdown",
   "metadata": {},
   "source": [
    "----------------"
   ]
  },
  {
   "cell_type": "markdown",
   "metadata": {},
   "source": [
    "# ----------------------------------HAPPY LEARNING--------------------------------------------------"
   ]
  },
  {
   "cell_type": "markdown",
   "metadata": {},
   "source": [
    "-------------------"
   ]
  }
 ],
 "metadata": {
  "kernelspec": {
   "display_name": "Python 3",
   "language": "python",
   "name": "python3"
  },
  "language_info": {
   "codemirror_mode": {
    "name": "ipython",
    "version": 3
   },
   "file_extension": ".py",
   "mimetype": "text/x-python",
   "name": "python",
   "nbconvert_exporter": "python",
   "pygments_lexer": "ipython3",
   "version": "3.7.0"
  }
 },
 "nbformat": 4,
 "nbformat_minor": 2
}
